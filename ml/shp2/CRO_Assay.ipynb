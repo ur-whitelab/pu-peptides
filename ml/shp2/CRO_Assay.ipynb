{
 "cells": [
  {
   "cell_type": "code",
   "execution_count": 1,
   "id": "1fd7d96c",
   "metadata": {},
   "outputs": [
    {
     "name": "stderr",
     "output_type": "stream",
     "text": [
      "2023-02-14 12:50:31.717206: I tensorflow/core/platform/cpu_feature_guard.cc:193] This TensorFlow binary is optimized with oneAPI Deep Neural Network Library (oneDNN) to use the following CPU instructions in performance-critical operations:  AVX2 AVX512F FMA\n",
      "To enable them in other operations, rebuild TensorFlow with the appropriate compiler flags.\n",
      "2023-02-14 12:50:33.332235: E tensorflow/stream_executor/cuda/cuda_blas.cc:2981] Unable to register cuBLAS factory: Attempting to register factory for plugin cuBLAS when one has already been registered\n",
      "2023-02-14 12:50:45.896844: W tensorflow/stream_executor/platform/default/dso_loader.cc:64] Could not load dynamic library 'libnvinfer.so.7'; dlerror: libnvinfer.so.7: cannot open shared object file: No such file or directory; LD_LIBRARY_PATH: /software/gmp/6.2.1/b1/lib:/software/glpk/4.65/lib:/software/zmq/4.2.3/b1/lib:/software/git/2.30.1/lib64:/software/gcc/7.3.0/lib64:/software/gcc/7.3.0/lib:/software/openmpi/4.0.4/b1/lib:/software/cuda/11.4/usr/local/cuda-11.4/lib64:/software/cuda/11.4/usr/local/cuda-11.4/targets/x86_64-linux/lib:/software/cudnn/11.4-8.2.4.15/lib64:/software/slurm/current/lib64:/software/slurm/current/lib\n",
      "2023-02-14 12:50:45.897131: W tensorflow/stream_executor/platform/default/dso_loader.cc:64] Could not load dynamic library 'libnvinfer_plugin.so.7'; dlerror: libnvinfer_plugin.so.7: cannot open shared object file: No such file or directory; LD_LIBRARY_PATH: /software/gmp/6.2.1/b1/lib:/software/glpk/4.65/lib:/software/zmq/4.2.3/b1/lib:/software/git/2.30.1/lib64:/software/gcc/7.3.0/lib64:/software/gcc/7.3.0/lib:/software/openmpi/4.0.4/b1/lib:/software/cuda/11.4/usr/local/cuda-11.4/lib64:/software/cuda/11.4/usr/local/cuda-11.4/targets/x86_64-linux/lib:/software/cudnn/11.4-8.2.4.15/lib64:/software/slurm/current/lib64:/software/slurm/current/lib\n",
      "2023-02-14 12:50:45.897141: W tensorflow/compiler/tf2tensorrt/utils/py_utils.cc:38] TF-TRT Warning: Cannot dlopen some TensorRT libraries. If you would like to use Nvidia GPU with TensorRT, please make sure the missing libraries mentioned above are installed properly.\n"
     ]
    }
   ],
   "source": [
    "import numpy as np\n",
    "import tensorflow as tf"
   ]
  },
  {
   "cell_type": "code",
   "execution_count": 33,
   "id": "2b876cf3",
   "metadata": {},
   "outputs": [],
   "source": [
    "RNs_found = np.load('../saved_models/shp2-rnn/spy_RNs_sampling.npy')"
   ]
  },
  {
   "cell_type": "code",
   "execution_count": 34,
   "id": "77530ce6",
   "metadata": {},
   "outputs": [
    {
     "name": "stdout",
     "output_type": "stream",
     "text": [
      "Loaded model from disk\n"
     ]
    }
   ],
   "source": [
    "json_file = open('../saved_models/shp2-rnn/spy_model.json', 'r')\n",
    "\n",
    "loaded_model_json = json_file.read()\n",
    "json_file.close()\n",
    "loaded_model = tf.keras.models.model_from_json(loaded_model_json)\n",
    "# load weights into new model\n",
    "loaded_model.load_weights('../saved_models/shp2-rnn/spy_model_weights.h5') \n",
    "print(\"Loaded model from disk\")"
   ]
  },
  {
   "cell_type": "code",
   "execution_count": 35,
   "id": "f82fb4e4",
   "metadata": {},
   "outputs": [
    {
     "data": {
      "text/plain": [
       "(427, 190)"
      ]
     },
     "execution_count": 35,
     "metadata": {},
     "output_type": "execute_result"
    }
   ],
   "source": [
    "np.unique(RNs_found, axis=0).shape"
   ]
  },
  {
   "cell_type": "code",
   "execution_count": 36,
   "id": "2b751b9d",
   "metadata": {},
   "outputs": [
    {
     "name": "stdout",
     "output_type": "stream",
     "text": [
      "WARNING:tensorflow:5 out of the last 23 calls to <function Model.make_predict_function.<locals>.predict_function at 0x7f023c3e6af0> triggered tf.function retracing. Tracing is expensive and the excessive number of tracings could be due to (1) creating @tf.function repeatedly in a loop, (2) passing tensors with different shapes, (3) passing Python objects instead of tensors. For (1), please define your @tf.function outside of the loop. For (2), @tf.function has reduce_retracing=True option that can avoid unnecessary retracing. For (3), please refer to https://www.tensorflow.org/guide/function#controlling_retracing and https://www.tensorflow.org/api_docs/python/tf/function for  more details.\n",
      "14/14 [==============================] - 3s 3ms/step\n"
     ]
    }
   ],
   "source": [
    "def counts_aa(vec):\n",
    "    counts =  tf.histogram_fixed_width(vec, [0, 20], nbins=21)[1:]\n",
    "    return counts /tf.reduce_sum(counts)\n",
    "\n",
    "y_hat_RN = loaded_model.predict([RNs_found, np.array([counts_aa(xi) for xi in RNs_found])])"
   ]
  },
  {
   "cell_type": "code",
   "execution_count": 37,
   "id": "ab4b65dc",
   "metadata": {},
   "outputs": [
    {
     "data": {
      "text/plain": [
       "(array([ 16.,  22.,  15.,  11.,  14.,  21.,  21.,  31.,  46., 230.]),\n",
       " array([0.04418208, 0.13851126, 0.23284042, 0.32716957, 0.42149875,\n",
       "        0.5158279 , 0.6101571 , 0.70448625, 0.79881537, 0.89314455,\n",
       "        0.9874737 ], dtype=float32),\n",
       " <BarContainer object of 10 artists>)"
      ]
     },
     "execution_count": 37,
     "metadata": {},
     "output_type": "execute_result"
    },
    {
     "data": {
      "image/png": "[encoded data removed]",
      "text/plain": [
       "<Figure size 432x288 with 1 Axes>"
      ]
     },
     "metadata": {
      "needs_background": "light"
     },
     "output_type": "display_data"
    }
   ],
   "source": [
    "import matplotlib.pyplot as plt\n",
    "plt.hist(y_hat_RN)"
   ]
  },
  {
   "cell_type": "code",
   "execution_count": 38,
   "id": "2800eed0",
   "metadata": {},
   "outputs": [],
   "source": [
    "def decoder(seq_vector):\n",
    "  alphabet = ['A','R','N','D','C','Q','E','G','H','I', 'L','K','M','F','P','S','T','W','Y','V']\n",
    "  seq = []\n",
    "  for i, index in enumerate(seq_vector.astype('int')):\n",
    "    if index == 0:\n",
    "      break\n",
    "    seq.append(alphabet[index-1])\n",
    "  seq = ''.join(seq)\n",
    "  return seq"
   ]
  },
  {
   "cell_type": "code",
   "execution_count": 39,
   "id": "0019d52a",
   "metadata": {},
   "outputs": [],
   "source": [
    "indices_sorted = np.argsort(y_hat_RN,axis=0)\n",
    "# 5 most probable RN\n",
    "most_likely_RN =  RNs_found[indices_sorted][:5]\n",
    "# 5 least probable RN\n",
    "least_likely_RN =  RNs_found[indices_sorted][-5:]"
   ]
  },
  {
   "cell_type": "code",
   "execution_count": 40,
   "id": "33b96b04",
   "metadata": {},
   "outputs": [
    {
     "name": "stdout",
     "output_type": "stream",
     "text": [
      "1/1 [==============================] - 0s 23ms/step\n"
     ]
    },
    {
     "data": {
      "text/plain": [
       "array([[0.04418209],\n",
       "       [0.05160468],\n",
       "       [0.06486294],\n",
       "       [0.07112415],\n",
       "       [0.07542731]], dtype=float32)"
      ]
     },
     "execution_count": 40,
     "metadata": {},
     "output_type": "execute_result"
    }
   ],
   "source": [
    "loaded_model.predict([most_likely_RN.squeeze(), np.array([counts_aa(xi) for xi in most_likely_RN.squeeze()])])"
   ]
  },
  {
   "cell_type": "code",
   "execution_count": 41,
   "id": "5c7d4b6a",
   "metadata": {},
   "outputs": [
    {
     "name": "stdout",
     "output_type": "stream",
     "text": [
      "GYTENV\n",
      "YNTLQF\n",
      "VETYSYA\n",
      "LYYQNV\n",
      "ETLNYTQV\n"
     ]
    }
   ],
   "source": [
    "for vec in most_likely_RN:\n",
    "    print(decoder(vec[0,:]))"
   ]
  },
  {
   "cell_type": "code",
   "execution_count": 42,
   "id": "d179bd79",
   "metadata": {},
   "outputs": [
    {
     "name": "stdout",
     "output_type": "stream",
     "text": [
      "YWTWMAV\n",
      "KILQWT\n",
      "WMWMY\n",
      "IYWVAL\n",
      "WIRAI\n"
     ]
    }
   ],
   "source": [
    "for vec in least_likely_RN:\n",
    "    print(decoder(vec[0,:]))"
   ]
  },
  {
   "cell_type": "markdown",
   "id": "2bf64827",
   "metadata": {},
   "source": [
    "## Test against PN classifier trained on SHP2"
   ]
  },
  {
   "cell_type": "code",
   "execution_count": 43,
   "id": "5c5bbee6",
   "metadata": {},
   "outputs": [
    {
     "name": "stdout",
     "output_type": "stream",
     "text": [
      "Loaded model from disk\n"
     ]
    }
   ],
   "source": [
    "json_file = open('../saved_models/shp2-rnn/PN_model.json', 'r')\n",
    "PN_loaded_model_json = json_file.read()\n",
    "json_file.close()\n",
    "PN_loaded_model = tf.keras.models.model_from_json(PN_loaded_model_json)\n",
    "# load weights into new model\n",
    "PN_loaded_model.load_weights('../saved_models/shp2-rnn/PN_model_weights.h5') \n",
    "print(\"Loaded model from disk\")"
   ]
  },
  {
   "cell_type": "code",
   "execution_count": 44,
   "id": "a656d217",
   "metadata": {},
   "outputs": [
    {
     "name": "stdout",
     "output_type": "stream",
     "text": [
      "1/1 [==============================] - 3s 3s/step\n"
     ]
    },
    {
     "data": {
      "text/plain": [
       "array([[-5.6624713 ],\n",
       "       [-2.6087217 ],\n",
       "       [-4.373397  ],\n",
       "       [ 0.87531906],\n",
       "       [-5.268867  ]], dtype=float32)"
      ]
     },
     "execution_count": 44,
     "metadata": {},
     "output_type": "execute_result"
    }
   ],
   "source": [
    "PN_loaded_model.predict([most_likely_RN.squeeze(), np.array([counts_aa(xi) for xi in most_likely_RN.squeeze()])])"
   ]
  },
  {
   "cell_type": "code",
   "execution_count": 45,
   "id": "83128e3c",
   "metadata": {},
   "outputs": [
    {
     "name": "stdout",
     "output_type": "stream",
     "text": [
      "1/1 [==============================] - 0s 23ms/step\n"
     ]
    },
    {
     "data": {
      "text/plain": [
       "array([[ 2.8970127],\n",
       "       [-3.7263243],\n",
       "       [ 3.0878177],\n",
       "       [ 2.6473737],\n",
       "       [ 1.2609706]], dtype=float32)"
      ]
     },
     "execution_count": 45,
     "metadata": {},
     "output_type": "execute_result"
    }
   ],
   "source": [
    "PN_loaded_model.predict([least_likely_RN.squeeze(), np.array([counts_aa(xi) for xi in least_likely_RN.squeeze()])])"
   ]
  },
  {
   "cell_type": "code",
   "execution_count": null,
   "id": "ad0309b9",
   "metadata": {},
   "outputs": [],
   "source": []
  }
 ],
 "metadata": {
  "kernelspec": {
   "display_name": "Python 3",
   "language": "python",
   "name": "serverless"
  },
  "language_info": {
   "codemirror_mode": {
    "name": "ipython",
    "version": 3
   },
   "file_extension": ".py",
   "mimetype": "text/x-python",
   "name": "python",
   "nbconvert_exporter": "python",
   "pygments_lexer": "ipython3",
   "version": "3.8.13"
  }
 },
 "nbformat": 4,
 "nbformat_minor": 5
}
