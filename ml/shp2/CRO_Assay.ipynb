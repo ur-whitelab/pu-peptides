{
 "cells": [
  {
   "cell_type": "code",
   "execution_count": 1,
   "id": "1fd7d96c",
   "metadata": {},
   "outputs": [
    {
     "name": "stderr",
     "output_type": "stream",
     "text": [
      "2023-03-09 08:45:55.341414: I tensorflow/core/platform/cpu_feature_guard.cc:193] This TensorFlow binary is optimized with oneAPI Deep Neural Network Library (oneDNN) to use the following CPU instructions in performance-critical operations:  AVX2 FMA\n",
      "To enable them in other operations, rebuild TensorFlow with the appropriate compiler flags.\n",
      "2023-03-09 08:45:57.245301: E tensorflow/stream_executor/cuda/cuda_blas.cc:2981] Unable to register cuBLAS factory: Attempting to register factory for plugin cuBLAS when one has already been registered\n",
      "2023-03-09 08:46:16.506901: W tensorflow/stream_executor/platform/default/dso_loader.cc:64] Could not load dynamic library 'libnvinfer.so.7'; dlerror: libnvinfer.so.7: cannot open shared object file: No such file or directory; LD_LIBRARY_PATH: /software/gmp/6.2.1/b1/lib:/software/glpk/4.65/lib:/software/zmq/4.2.3/b1/lib:/software/git/2.30.1/lib64:/software/gcc/7.3.0/lib64:/software/gcc/7.3.0/lib:/software/openmpi/4.0.4/b1/lib:/software/cuda/11.4/usr/local/cuda-11.4/lib64:/software/cuda/11.4/usr/local/cuda-11.4/targets/x86_64-linux/lib:/software/cudnn/11.4-8.2.4.15/lib64:/software/slurm/current/lib64:/software/slurm/current/lib\n",
      "2023-03-09 08:46:16.507940: W tensorflow/stream_executor/platform/default/dso_loader.cc:64] Could not load dynamic library 'libnvinfer_plugin.so.7'; dlerror: libnvinfer_plugin.so.7: cannot open shared object file: No such file or directory; LD_LIBRARY_PATH: /software/gmp/6.2.1/b1/lib:/software/glpk/4.65/lib:/software/zmq/4.2.3/b1/lib:/software/git/2.30.1/lib64:/software/gcc/7.3.0/lib64:/software/gcc/7.3.0/lib:/software/openmpi/4.0.4/b1/lib:/software/cuda/11.4/usr/local/cuda-11.4/lib64:/software/cuda/11.4/usr/local/cuda-11.4/targets/x86_64-linux/lib:/software/cudnn/11.4-8.2.4.15/lib64:/software/slurm/current/lib64:/software/slurm/current/lib\n",
      "2023-03-09 08:46:16.507958: W tensorflow/compiler/tf2tensorrt/utils/py_utils.cc:38] TF-TRT Warning: Cannot dlopen some TensorRT libraries. If you would like to use Nvidia GPU with TensorRT, please make sure the missing libraries mentioned above are installed properly.\n"
     ]
    }
   ],
   "source": [
    "import numpy as np\n",
    "import tensorflow as tf"
   ]
  },
  {
   "cell_type": "code",
   "execution_count": 32,
   "id": "59de2289",
   "metadata": {},
   "outputs": [
    {
     "name": "stdout",
     "output_type": "stream",
     "text": [
      "IVADI\n",
      "LRIQV\n",
      "WIFIR\n",
      "ITLIG\n",
      "LVMGP\n",
      "LFAEI\n",
      "IFTAV\n",
      "VQFIR\n",
      "YTLVA\n",
      "LHMGP\n",
      "VMAEI\n",
      "ILTEV\n",
      "WMKIY\n",
      "IHLYA\n",
      "ALMIP\n",
      "LHAII\n",
      "ITTEV\n",
      "WSKIY\n",
      "TLLYA\n",
      "ILMIP\n",
      "VVAII\n",
      "LVTEV\n",
      "WMNIG\n",
      "LNLYM\n",
      "WMMMP\n",
      "VTALI\n",
      "IYTPV\n",
      "WTQIL\n",
      "VLLYP\n",
      "VLMQP\n",
      "LYANI\n",
      "YITTV\n",
      "WTQIT\n",
      "IFLYS\n",
      "VMMQP\n",
      "IRAQI\n",
      "IRTYV\n",
      "WVRID\n",
      "VMLYS\n",
      "TEMVP\n",
      "MYARI\n",
      "MNVIV\n",
      "WMRII\n",
      "IVLYT\n",
      "ILFIP\n",
      "SYASI\n",
      "WSVLV\n",
      "WITIG\n",
      "PMMIA\n",
      "IVFVP\n",
      "LVATI\n",
      "MHVQV\n",
      "WVTIN\n",
      "VVMYS\n",
      "VIFVP\n",
      "LYATI\n",
      "LRVRV\n",
      "WTVIT\n",
      "VTMYT\n",
      "IIFYP\n",
      "MYATI\n",
      "LHVSV\n",
      "WVYIG\n",
      "VVMYT\n",
      "MYATI\n",
      "LRVSV\n",
      "WMYIQ\n",
      "IITIG\n",
      "YAATI\n",
      "WMYQV\n",
      "WVYIR\n",
      "IKTYP\n",
      "LNAVI\n",
      "LRAKL\n",
      "WMQLS\n",
      "IMTYP\n",
      "LRAVI\n",
      "IVAML\n",
      "WVRLE\n",
      "ITTYP\n",
      "ISIEI\n",
      "VIAQL\n",
      "WMRLI\n",
      "YVTYT\n",
      "LNIVI\n",
      "LRMQL\n",
      "ITRLV\n",
      "LYLQI\n",
      "IQMVL\n",
      "WMRLY\n",
      "LNMTI\n",
      "IVTLL\n",
      "WTSLA\n",
      "IFTAI\n",
      "VNTTL\n",
      "WTSLQ\n",
      "YVTAI\n",
      "IAVEL\n",
      "WTSLY\n",
      "IMTDI\n",
      "IRVEL\n",
      "WMTLN\n",
      "IYTDI\n",
      "VAVEL\n",
      "WTVLY\n",
      "VYTEI\n",
      "IQVML\n",
      "WTYLF\n",
      "IMTII\n",
      "IQVML\n",
      "WTYLI\n",
      "VTTII\n",
      "INVQL\n",
      "WMYLT\n",
      "VTTLI\n",
      "VTVQL\n",
      "WMYLY\n",
      "VYTQI\n",
      "MNVTL\n",
      "WMRMN\n",
      "ISTYI\n",
      "RAIVM\n",
      "WTVTS\n",
      "ITTYI\n",
      "LYATF\n",
      "WIYTR\n",
      "INVEI\n",
      "LNMTF\n",
      "WVYTY\n",
      "IHVMI\n",
      "MSMVF\n",
      "WTQYV\n",
      "INVQI\n",
      "YNMVF\n",
      "WMRYQ\n",
      "IWVSI\n",
      "LYTSF\n",
      "WTSYT\n",
      "LRVSI\n",
      "LNVIF\n",
      "LTVTI\n",
      "LNVLF\n",
      "IIVVI\n",
      "ITLVY\n",
      "LYAQV\n",
      "LRLVY\n",
      "INIEV\n",
      "QMYLY\n",
      "ISIEV\n",
      "LYYQY\n"
     ]
    }
   ],
   "source": [
    "pos_ohe_data = np.load(\"positive.npy\",  allow_pickle=True)\n",
    "neg_ohe_data = np.load(\"negative.npy\",  allow_pickle=True)\n",
    "\n",
    "def ohe_to_seq(ohe_pep):\n",
    "    alphabet = ['A','R','N','D','C','Q','E','G','H','I', 'L','K','M','F','P','S','T','W','Y','V']\n",
    "    seq = ''\n",
    "    # expect a 2D numpy array (pep_length x 20), give the string it represents\n",
    "    for letter in ohe_pep[:int(np.sum(ohe_pep))]:\n",
    "        idx = np.argmax(letter)\n",
    "        if letter[idx] == 0:\n",
    "            break\n",
    "        seq += alphabet[idx]\n",
    "    return(seq)\n",
    "\n",
    "def encoder(seq, max_length=190):\n",
    "    alphabet = ['A','R','N','D','C','Q','E','G','H','I', 'L','K','M','F','P','S','T','W','Y','V']\n",
    "    vec = np.zeros(max_length)\n",
    "    for i,l in enumerate(seq):\n",
    "        vec[i] = alphabet.index(l) + 1\n",
    "    return vec\n",
    "\n",
    "pos_data = []\n",
    "for vec in (pos_ohe_data):\n",
    "    seq = ohe_to_seq(vec)\n",
    "    pos_data.append(encoder(seq))\n",
    "    print(ohe_to_seq(vec))\n",
    "pos_data = np.array(pos_data)"
   ]
  },
  {
   "cell_type": "code",
   "execution_count": 3,
   "id": "2b876cf3",
   "metadata": {},
   "outputs": [],
   "source": [
    "RNs_found = np.load('../saved_models/shp2-rnn/spy_RNs_sampling.npy')"
   ]
  },
  {
   "cell_type": "code",
   "execution_count": 4,
   "id": "77530ce6",
   "metadata": {},
   "outputs": [
    {
     "name": "stderr",
     "output_type": "stream",
     "text": [
      "2023-03-09 08:47:05.572811: I tensorflow/core/platform/cpu_feature_guard.cc:193] This TensorFlow binary is optimized with oneAPI Deep Neural Network Library (oneDNN) to use the following CPU instructions in performance-critical operations:  AVX2 FMA\n",
      "To enable them in other operations, rebuild TensorFlow with the appropriate compiler flags.\n",
      "2023-03-09 08:47:10.067643: I tensorflow/core/common_runtime/gpu/gpu_device.cc:1616] Created device /job:localhost/replica:0/task:0/device:GPU:0 with 38403 MB memory:  -> device: 0, name: A100-SXM4-40GB, pci bus id: 0000:01:00.0, compute capability: 8.0\n",
      "2023-03-09 08:47:10.088353: I tensorflow/core/common_runtime/gpu/gpu_device.cc:1616] Created device /job:localhost/replica:0/task:0/device:GPU:1 with 38403 MB memory:  -> device: 1, name: A100-SXM4-40GB, pci bus id: 0000:41:00.0, compute capability: 8.0\n",
      "2023-03-09 08:47:10.089704: I tensorflow/core/common_runtime/gpu/gpu_device.cc:1616] Created device /job:localhost/replica:0/task:0/device:GPU:2 with 38403 MB memory:  -> device: 2, name: A100-SXM4-40GB, pci bus id: 0000:81:00.0, compute capability: 8.0\n",
      "2023-03-09 08:47:10.091081: I tensorflow/core/common_runtime/gpu/gpu_device.cc:1616] Created device /job:localhost/replica:0/task:0/device:GPU:3 with 38403 MB memory:  -> device: 3, name: A100-SXM4-40GB, pci bus id: 0000:c1:00.0, compute capability: 8.0\n"
     ]
    },
    {
     "name": "stdout",
     "output_type": "stream",
     "text": [
      "Loaded model from disk\n"
     ]
    }
   ],
   "source": [
    "json_file = open('../saved_models/shp2-rnn/spy_model.json', 'r')\n",
    "\n",
    "loaded_model_json = json_file.read()\n",
    "json_file.close()\n",
    "loaded_model = tf.keras.models.model_from_json(loaded_model_json)\n",
    "# load weights into new model\n",
    "loaded_model.load_weights('../saved_models/shp2-rnn/spy_model_weights.h5') \n",
    "print(\"Loaded model from disk\")"
   ]
  },
  {
   "cell_type": "code",
   "execution_count": 5,
   "id": "f82fb4e4",
   "metadata": {},
   "outputs": [
    {
     "data": {
      "text/plain": [
       "(162, 190)"
      ]
     },
     "execution_count": 5,
     "metadata": {},
     "output_type": "execute_result"
    }
   ],
   "source": [
    "np.unique(RNs_found, axis=0).shape"
   ]
  },
  {
   "cell_type": "code",
   "execution_count": 6,
   "id": "2b751b9d",
   "metadata": {},
   "outputs": [
    {
     "name": "stderr",
     "output_type": "stream",
     "text": [
      "2023-03-09 08:47:31.177084: I tensorflow/stream_executor/cuda/cuda_dnn.cc:384] Loaded cuDNN version 8204\n",
      "2023-03-09 08:47:38.849781: I tensorflow/stream_executor/cuda/cuda_blas.cc:1614] TensorFloat-32 will be used for the matrix multiplication. This will only be logged once.\n"
     ]
    },
    {
     "name": "stdout",
     "output_type": "stream",
     "text": [
      "6/6 [==============================] - 22s 6ms/step\n"
     ]
    }
   ],
   "source": [
    "def counts_aa(vec):\n",
    "    counts =  tf.histogram_fixed_width(vec, [0, 20], nbins=21)[1:]\n",
    "    return counts /tf.reduce_sum(counts)\n",
    "\n",
    "y_hat_RN = loaded_model.predict([RNs_found, np.array([counts_aa(xi) for xi in RNs_found])])"
   ]
  },
  {
   "cell_type": "code",
   "execution_count": 7,
   "id": "ab4b65dc",
   "metadata": {},
   "outputs": [
    {
     "data": {
      "text/plain": [
       "(array([ 8.,  8.,  3.,  4.,  7.,  7., 15., 14., 19., 77.]),\n",
       " array([0.07072526, 0.16188726, 0.25304925, 0.34421128, 0.43537328,\n",
       "        0.5265353 , 0.6176973 , 0.70885926, 0.8000213 , 0.89118326,\n",
       "        0.9823453 ], dtype=float32),\n",
       " <BarContainer object of 10 artists>)"
      ]
     },
     "execution_count": 7,
     "metadata": {},
     "output_type": "execute_result"
    },
    {
     "data": {
      "image/png": "[encoded data removed]",
      "text/plain": [
       "<Figure size 432x288 with 1 Axes>"
      ]
     },
     "metadata": {
      "needs_background": "light"
     },
     "output_type": "display_data"
    }
   ],
   "source": [
    "import matplotlib.pyplot as plt\n",
    "plt.hist(y_hat_RN)"
   ]
  },
  {
   "cell_type": "code",
   "execution_count": 8,
   "id": "2800eed0",
   "metadata": {},
   "outputs": [],
   "source": [
    "def decoder(seq_vector):\n",
    "  alphabet = ['A','R','N','D','C','Q','E','G','H','I', 'L','K','M','F','P','S','T','W','Y','V']\n",
    "  seq = []\n",
    "  for i, index in enumerate(seq_vector.astype('int')):\n",
    "    if index == 0:\n",
    "      break\n",
    "    seq.append(alphabet[index-1])\n",
    "  seq = ''.join(seq)\n",
    "  return seq"
   ]
  },
  {
   "cell_type": "code",
   "execution_count": 9,
   "id": "0019d52a",
   "metadata": {},
   "outputs": [],
   "source": [
    "indices_sorted = np.argsort(y_hat_RN,axis=0)\n",
    "# 5 most probable RN\n",
    "most_likely_RN =  RNs_found[indices_sorted][:5]\n",
    "# 5 least probable RN\n",
    "least_likely_RN =  RNs_found[indices_sorted][-5:]"
   ]
  },
  {
   "cell_type": "code",
   "execution_count": 42,
   "id": "5c7d4b6a",
   "metadata": {},
   "outputs": [
    {
     "name": "stdout",
     "output_type": "stream",
     "text": [
      "1/1 [==============================] - 0s 25ms/step\n",
      "[[0.0707215 ]\n",
      " [0.08515194]\n",
      " [0.09033306]\n",
      " [0.09328519]\n",
      " [0.09549117]]\n",
      "YYpYASE\n",
      "QVpYRAK\n",
      "VApYNAT\n",
      "NVpYAAT\n",
      "TFpYGRM\n"
     ]
    }
   ],
   "source": [
    "most_likely_RN_probs = loaded_model.predict([most_likely_RN.squeeze(), np.array([counts_aa(xi) for xi in most_likely_RN.squeeze()])])\n",
    "print(most_likely_RN_probs)\n",
    "for vec in most_likely_RN:\n",
    "    seq = decoder(vec[0,:])\n",
    "    print(seq[:2] + 'pY' + seq[2:])"
   ]
  },
  {
   "cell_type": "code",
   "execution_count": 43,
   "id": "d179bd79",
   "metadata": {},
   "outputs": [
    {
     "name": "stdout",
     "output_type": "stream",
     "text": [
      "1/1 [==============================] - 0s 25ms/step\n",
      "[[0.98061085]\n",
      " [0.98067504]\n",
      " [0.98177   ]\n",
      " [0.9818859 ]\n",
      " [0.9823449 ]]\n",
      "WVpYLYA\n",
      "AVpYITW\n",
      "TWpYIYT\n",
      "WIpYTAV\n",
      "IFpYLYW\n"
     ]
    }
   ],
   "source": [
    "least_likely_RN_probs = loaded_model.predict([least_likely_RN.squeeze(), np.array([counts_aa(xi) for xi in least_likely_RN.squeeze()])])\n",
    "print(least_likely_RN_probs)\n",
    "for vec in least_likely_RN:\n",
    "    seq = decoder(vec[0,:])\n",
    "    print(seq[:2] + 'pY' + seq[2:])"
   ]
  },
  {
   "cell_type": "markdown",
   "id": "5493cf3e",
   "metadata": {},
   "source": [
    "## Finding positive control"
   ]
  },
  {
   "cell_type": "code",
   "execution_count": 47,
   "id": "35370799",
   "metadata": {},
   "outputs": [
    {
     "name": "stdout",
     "output_type": "stream",
     "text": [
      "5/5 [==============================] - 0s 4ms/step\n",
      "1/1 [==============================] - 0s 65ms/step\n",
      "[[0.98061085]\n",
      " [0.98067504]\n",
      " [0.98177   ]\n",
      " [0.9818859 ]\n",
      " [0.9823449 ]]\n",
      "WIpYFIR\n",
      "LYpYATI\n",
      "WMpYKIY\n",
      "WIpYYTR\n",
      "WMpYYIQ\n"
     ]
    }
   ],
   "source": [
    "y_hat_pos = loaded_model.predict([pos_data, np.array([counts_aa(xi) for xi in pos_data])])\n",
    "indices_sorted = np.argsort(y_hat_pos,axis=0)[::-1]\n",
    "# 5 most probable pos\n",
    "most_likely_pos =  pos_data[indices_sorted][:5]\n",
    "most_likely_pos_probs = loaded_model.predict([most_likely_pos.squeeze(), np.array([counts_aa(xi) for xi in most_likely_pos.squeeze()])])\n",
    "print(least_likely_RN_probs)\n",
    "for vec in most_likely_pos:\n",
    "    seq = decoder(vec[0,:])\n",
    "    print(seq[:2] + 'pY' + seq[2:])"
   ]
  },
  {
   "cell_type": "markdown",
   "id": "2bf64827",
   "metadata": {},
   "source": [
    "## Test against PN classifier trained on SHP2"
   ]
  },
  {
   "cell_type": "code",
   "execution_count": 49,
   "id": "5c5bbee6",
   "metadata": {},
   "outputs": [
    {
     "name": "stdout",
     "output_type": "stream",
     "text": [
      "Loaded model from disk\n"
     ]
    }
   ],
   "source": [
    "json_file = open('../saved_models/shp2-rnn/PN_model.json', 'r')\n",
    "PN_loaded_model_json = json_file.read()\n",
    "json_file.close()\n",
    "PN_loaded_model = tf.keras.models.model_from_json(PN_loaded_model_json)\n",
    "# load weights into new model\n",
    "PN_loaded_model.load_weights('../saved_models/shp2-rnn/PN_model_weights.h5') \n",
    "print(\"Loaded model from disk\")"
   ]
  },
  {
   "cell_type": "code",
   "execution_count": 50,
   "id": "a656d217",
   "metadata": {},
   "outputs": [
    {
     "name": "stdout",
     "output_type": "stream",
     "text": [
      "1/1 [==============================] - 3s 3s/step\n"
     ]
    },
    {
     "data": {
      "text/plain": [
       "array([[-2.8908055],\n",
       "       [-4.457416 ],\n",
       "       [-4.6339006],\n",
       "       [-4.9624224],\n",
       "       [-3.6902256]], dtype=float32)"
      ]
     },
     "execution_count": 50,
     "metadata": {},
     "output_type": "execute_result"
    }
   ],
   "source": [
    "PN_loaded_model.predict([most_likely_RN.squeeze(), np.array([counts_aa(xi) for xi in most_likely_RN.squeeze()])])"
   ]
  },
  {
   "cell_type": "code",
   "execution_count": 51,
   "id": "83128e3c",
   "metadata": {},
   "outputs": [
    {
     "name": "stdout",
     "output_type": "stream",
     "text": [
      "1/1 [==============================] - 0s 24ms/step\n"
     ]
    },
    {
     "data": {
      "text/plain": [
       "array([[2.7693696],\n",
       "       [2.7280474],\n",
       "       [2.8132837],\n",
       "       [3.050894 ],\n",
       "       [1.8668313]], dtype=float32)"
      ]
     },
     "execution_count": 51,
     "metadata": {},
     "output_type": "execute_result"
    }
   ],
   "source": [
    "PN_loaded_model.predict([least_likely_RN.squeeze(), np.array([counts_aa(xi) for xi in least_likely_RN.squeeze()])])"
   ]
  },
  {
   "cell_type": "code",
   "execution_count": 52,
   "id": "ad0309b9",
   "metadata": {},
   "outputs": [
    {
     "name": "stdout",
     "output_type": "stream",
     "text": [
      "1/1 [==============================] - 0s 21ms/step\n"
     ]
    },
    {
     "data": {
      "text/plain": [
       "array([[1.1352701],\n",
       "       [2.6872835],\n",
       "       [2.4549963],\n",
       "       [1.6468859],\n",
       "       [2.9147954]], dtype=float32)"
      ]
     },
     "execution_count": 52,
     "metadata": {},
     "output_type": "execute_result"
    }
   ],
   "source": [
    "PN_loaded_model.predict([most_likely_pos.squeeze(), np.array([counts_aa(xi) for xi in most_likely_pos.squeeze()])])"
   ]
  },
  {
   "cell_type": "code",
   "execution_count": null,
   "id": "355d2518",
   "metadata": {},
   "outputs": [],
   "source": []
  }
 ],
 "metadata": {
  "kernelspec": {
   "display_name": "Python 3",
   "language": "python",
   "name": "serverless"
  },
  "language_info": {
   "codemirror_mode": {
    "name": "ipython",
    "version": 3
   },
   "file_extension": ".py",
   "mimetype": "text/x-python",
   "name": "python",
   "nbconvert_exporter": "python",
   "pygments_lexer": "ipython3",
   "version": "3.8.13"
  }
 },
 "nbformat": 4,
 "nbformat_minor": 5
}
