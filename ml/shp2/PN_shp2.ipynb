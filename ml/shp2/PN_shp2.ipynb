{
 "cells": [
  {
   "cell_type": "code",
   "execution_count": 1,
   "id": "8ac6f858",
   "metadata": {},
   "outputs": [],
   "source": [
    "import matplotlib.pyplot as plt\n",
    "import matplotlib.font_manager as font_manager\n",
    "import urllib.request\n",
    "import matplotlib as mpl\n",
    "import numpy as np\n",
    "import os\n",
    "os.environ['TF_CPP_MIN_LOG_LEVEL'] = '3' \n",
    "import tensorflow as tf\n",
    "tf.get_logger().setLevel('INFO')\n",
    "gpus = tf.config.experimental.list_physical_devices(device_type='GPU')\n",
    "tf.config.experimental.set_visible_devices(devices=gpus[1], device_type='GPU')\n",
    "tf.config.experimental.set_memory_growth(device=gpus[1], enable=True)\n",
    "import urllib\n",
    "from dataclasses import dataclass\n",
    "# import tensorflowjs as tfjs\n",
    "# import tensorflow_decision_forests as tfdf\n",
    "import json\n",
    "from tqdm import tqdm\n",
    "import seaborn as sns\n",
    "import sys\n",
    "np.random.seed(0)\n",
    "urllib.request.urlretrieve('https://github.com/google/fonts/raw/main/ofl/ibmplexmono/IBMPlexMono-Regular.ttf', 'IBMPlexMono-Regular.ttf')\n",
    "fe = font_manager.FontEntry(\n",
    "    fname='IBMPlexMono-Regular.ttf',\n",
    "    name='plexmono')\n",
    "font_manager.fontManager.ttflist.append(fe)\n",
    "plt.rcParams.update({'axes.facecolor':'#f5f4e9', \n",
    "            'grid.color' : '#AAAAAA', \n",
    "            'axes.edgecolor':'#333333', \n",
    "            'figure.facecolor':'#FFFFFF', \n",
    "            'axes.grid': False,\n",
    "            'axes.prop_cycle':   plt.cycler('color', plt.cm.Dark2.colors),\n",
    "            'font.family': fe.name,\n",
    "            'figure.figsize': (3.5,3.5 / 1.2),\n",
    "            'ytick.left': True,\n",
    "            'xtick.bottom': True   \n",
    "           })"
   ]
  },
  {
   "cell_type": "code",
   "execution_count": 2,
   "id": "ba66fdc9",
   "metadata": {},
   "outputs": [
    {
     "name": "stdout",
     "output_type": "stream",
     "text": [
      "Num GPUs Available:  2\n"
     ]
    }
   ],
   "source": [
    "print(\"Num GPUs Available: \", len(tf.config.list_physical_devices('GPU')))"
   ]
  },
  {
   "cell_type": "code",
   "execution_count": 10,
   "id": "f33af40f",
   "metadata": {},
   "outputs": [],
   "source": [
    "urllib.request.urlretrieve(\n",
    "    \"https://github.com/ur-whitelab/peptide-ai/raw/master/scripts/active_learning_data/shp2-sequence-vectors.npy\",\n",
    "    \"positive.npy\",\n",
    ")\n",
    "urllib.request.urlretrieve(\n",
    "    \"https://github.com/ur-whitelab/peptide-ai/raw/master/scripts/active_learning_data/shp2-fake-sequence-vectors.npy\",\n",
    "    \"negative.npy\",\n",
    ")\n",
    "\n",
    "pos_ohe_data = np.load(\"positive.npy\",  allow_pickle=True)\n",
    "neg_ohe_data = np.load(\"negative.npy\",  allow_pickle=True)\n",
    "\n",
    "def ohe_to_seq(ohe_pep):\n",
    "    alphabet = ['A','R','N','D','C','Q','E','G','H','I', 'L','K','M','F','P','S','T','W','Y','V']\n",
    "    seq = ''\n",
    "    # expect a 2D numpy array (pep_length x 20), give the string it represents\n",
    "    for letter in ohe_pep[:int(np.sum(ohe_pep))]:\n",
    "        idx = np.argmax(letter)\n",
    "        if letter[idx] == 0:\n",
    "            break\n",
    "        seq += alphabet[idx]\n",
    "    return(seq)\n",
    "\n",
    "def encoder(seq, max_length=190):\n",
    "    alphabet = ['A','R','N','D','C','Q','E','G','H','I', 'L','K','M','F','P','S','T','W','Y','V']\n",
    "    vec = np.zeros(max_length)\n",
    "    for i,l in enumerate(seq):\n",
    "        vec[i] = alphabet.index(l) + 1\n",
    "    return vec\n",
    "pos_seqs = [ohe_to_seq(d) for d in pos_ohe_data]\n",
    "pos_data = np.array([encoder(s) for s in pos_seqs])\n",
    "neg_seqs = [ohe_to_seq(d) for d in neg_ohe_data]\n",
    "neg_data = np.array([encoder(s) for s in neg_seqs])\n",
    "\n",
    "labels = np.concatenate(\n",
    "    (\n",
    "        np.ones((pos_data.shape[0], 1), dtype=pos_data.dtype),\n",
    "        np.zeros((neg_data.shape[0], 1), dtype=pos_data.dtype),\n",
    "    ),\n",
    "    axis=0,\n",
    ")\n",
    "\n",
    "features = np.concatenate((pos_data, neg_data), axis=0)\n",
    "pos_data_lengths = np.count_nonzero(pos_data, axis=1)\n",
    "neg_data_lengths = np.count_nonzero(neg_data, axis=1)"
   ]
  },
  {
   "cell_type": "code",
   "execution_count": 11,
   "id": "abc6fa0e",
   "metadata": {},
   "outputs": [],
   "source": [
    "def decoder(seq_vector):\n",
    "  alphabet = ['A','R','N','D','C','Q','E','G','H','I', 'L','K','M','F','P','S','T','W','Y','V']\n",
    "  seq = []\n",
    "  for i, index in enumerate(seq_vector.astype('int')):\n",
    "    if index == 0:\n",
    "      break\n",
    "    seq.append(alphabet[index-1])\n",
    "  seq = ''.join(seq)\n",
    "  return seq"
   ]
  },
  {
   "cell_type": "code",
   "execution_count": 12,
   "id": "b5d46340",
   "metadata": {},
   "outputs": [],
   "source": [
    "def counts_aa(vec):\n",
    "    counts =  tf.histogram_fixed_width(vec, [0, 20], nbins=21)[1:]\n",
    "    return counts /tf.reduce_sum(counts)\n"
   ]
  },
  {
   "cell_type": "code",
   "execution_count": 13,
   "id": "d327dafe",
   "metadata": {},
   "outputs": [
    {
     "name": "stdout",
     "output_type": "stream",
     "text": [
      "Positive data 150 50.0\n",
      "Negative data 150 50.0\n"
     ]
    }
   ],
   "source": [
    "print('Positive data', pos_data.shape[0], pos_data.shape[0]/(pos_data.shape[0]+ neg_data.shape[0])*100)\n",
    "print('Negative data', neg_data.shape[0], neg_data.shape[0]/(pos_data.shape[0]+ neg_data.shape[0])*100)"
   ]
  },
  {
   "cell_type": "code",
   "execution_count": 14,
   "id": "2f2210ca",
   "metadata": {},
   "outputs": [],
   "source": [
    "@dataclass\n",
    "class Config:\n",
    "    vocab_size: int\n",
    "    example_number: int\n",
    "    batch_size: int\n",
    "    buffer_size: int\n",
    "    rnn_units: int\n",
    "    hidden_dim: int\n",
    "    embedding_dim: int\n",
    "    reg_strength: float\n",
    "    lr: float\n",
    "    drop_rate: float\n",
    "        \n",
    "config = Config(vocab_size=21, # include gap\n",
    "                example_number=len(labels), \n",
    "                batch_size=16, \n",
    "                buffer_size=10000,\n",
    "                rnn_units=64,\n",
    "                hidden_dim=64,\n",
    "                embedding_dim=32,\n",
    "                reg_strength=0,\n",
    "                lr=1e-3,\n",
    "                drop_rate=0.1\n",
    "               )"
   ]
  },
  {
   "cell_type": "code",
   "execution_count": 15,
   "id": "54c40e42",
   "metadata": {},
   "outputs": [],
   "source": [
    "def counts_aa(vec):\n",
    "    counts =  tf.histogram_fixed_width(vec, [0, 20], nbins=21)[1:]\n",
    "    return counts /tf.reduce_sum(counts)\n",
    "\n",
    "def build_model(L):\n",
    "    inputs = tf.keras.Input(shape=(L,))\n",
    "    input_f = tf.keras.Input(shape=(20,))\n",
    "    # make embedding and indicate that 0 should be treated as padding mask\n",
    "    e = tf.keras.layers.Embedding(input_dim=config.vocab_size, \n",
    "                                        output_dim=config.embedding_dim,\n",
    "                                        mask_zero=True)(inputs)\n",
    "\n",
    "    # RNN layer\n",
    "    x = tf.keras.layers.Bidirectional(tf.keras.layers.LSTM(config.rnn_units, return_sequences=True))(e)\n",
    "    x = tf.keras.layers.Bidirectional(tf.keras.layers.LSTM(config.rnn_units))(x)\n",
    "    x = tf.keras.layers.Concatenate()([x, input_f])\n",
    "    x = tf.keras.layers.LayerNormalization()(x)\n",
    "    x = tf.keras.layers.Dropout(config.drop_rate)(x)\n",
    "    # a dense hidden layer\n",
    "    x = tf.keras.layers.Dense(\n",
    "        config.hidden_dim, \n",
    "        activation='relu', \n",
    "        kernel_regularizer=tf.keras.regularizers.l2(config.reg_strength))(x)\n",
    "    x = tf.keras.layers.LayerNormalization()(x)\n",
    "    x = tf.keras.layers.Dropout(config.drop_rate)(x)\n",
    "    x = tf.keras.layers.Dense(\n",
    "        config.hidden_dim // 4, \n",
    "        activation='relu', \n",
    "        kernel_regularizer=tf.keras.regularizers.l2(config.reg_strength))(x)\n",
    "    x = tf.keras.layers.LayerNormalization()(x)\n",
    "    x = tf.keras.layers.Dropout(config.drop_rate)(x)\n",
    "    # predicting prob, so no activation\n",
    "    yhat = tf.keras.layers.Dense(1)(x)\n",
    "\n",
    "    model = tf.keras.Model(inputs=[inputs, input_f], outputs=yhat, name='hemo-rnn')\n",
    "    return model\n",
    "\n"
   ]
  },
  {
   "cell_type": "code",
   "execution_count": 18,
   "id": "965d5f8c",
   "metadata": {},
   "outputs": [],
   "source": [
    "use_tpu = False\n",
    "if use_tpu:\n",
    "  tf.keras.backend.clear_session()\n",
    "\n",
    "  resolver = tf.distribute.cluster_resolver.TPUClusterResolver('grpc://' + os.environ['COLAB_TPU_ADDR'])\n",
    "  tf.config.experimental_connect_to_cluster(resolver)\n",
    "\n",
    "  # This is the TPU initialization code that has to be at the beginning.\n",
    "  tf.tpu.experimental.initialize_tpu_system(resolver)\n",
    "  print(\"All devices: \", tf.config.list_logical_devices('TPU'))\n",
    "\n",
    "  strategy = tf.distribute.experimental.TPUStrategy(resolver)"
   ]
  },
  {
   "cell_type": "code",
   "execution_count": 19,
   "id": "aa61d51c",
   "metadata": {},
   "outputs": [],
   "source": [
    "# we now need to shuffle before creating TF dataset\n",
    "# so that our train/test/val splits are random\n",
    "seed = 0\n",
    "i = np.arange(len(labels))\n",
    "np.random.shuffle(i)\n",
    "shuffled_labels = labels[i]\n",
    "shuffled_features = features[i]\n",
    "data = tf.data.Dataset.from_tensor_slices((shuffled_features, shuffled_labels)).map(lambda x,y: ((x, counts_aa(x)), y))\n",
    "# data = data.shuffle(config.buffer_size)\n",
    "\n",
    "# now split into val, test, train and batch\n",
    "N = len(data)  \n",
    "L = None#features[0].shape[-1]\n",
    "split = int(0.1 * N)\n",
    "test_data = data.take(split).batch(config.batch_size)\n",
    "nontest = data.skip(split)\n",
    "val_data, train_data = nontest.take(split).batch(config.batch_size), \\\n",
    "    nontest.skip(split).shuffle(config.buffer_size).batch(config.batch_size).prefetch(tf.data.experimental.AUTOTUNE)"
   ]
  },
  {
   "cell_type": "code",
   "execution_count": 20,
   "id": "6b17ef06",
   "metadata": {},
   "outputs": [],
   "source": [
    "tf.keras.backend.clear_session()\n",
    "if use_tpu:\n",
    "  with strategy.scope():\n",
    "    model = build_model(L)\n",
    "else:\n",
    "  model = build_model(L)\n",
    "#   L = 190\n",
    "#   model = build_CNN_model(L, reg=0, add_dropout=True)\n",
    "  decay_epochs = 50\n",
    "  decay_steps = N  // config.batch_size * decay_epochs\n",
    "  lr_decayed_fn = tf.keras.optimizers.schedules.CosineDecay(\n",
    "      config.lr, decay_steps, alpha=1e-3)\n",
    "  opt = tf.optimizers.Adam(lr_decayed_fn)\n",
    "  model.compile(\n",
    "      opt,\n",
    "      loss=tf.keras.losses.BinaryCrossentropy(from_logits=True),\n",
    "      steps_per_execution = 60 if use_tpu else None,\n",
    "      metrics=[tf.keras.metrics.AUC(from_logits=True), tf.keras.metrics.BinaryAccuracy(threshold=0)])"
   ]
  },
  {
   "cell_type": "code",
   "execution_count": 21,
   "id": "64278146",
   "metadata": {},
   "outputs": [
    {
     "name": "stdout",
     "output_type": "stream",
     "text": [
      "lr = 0.001\n",
      "Epoch 1/150\n",
      "15/15 [==============================] - 36s 279ms/step - loss: 0.7228 - auc: 0.6774 - binary_accuracy: 0.6542 - val_loss: 0.3670 - val_auc: 0.9196 - val_binary_accuracy: 0.8667\n",
      "lr = 0.0009993155\n",
      "Epoch 2/150\n",
      "15/15 [==============================] - 0s 14ms/step - loss: 0.4181 - auc: 0.8899 - binary_accuracy: 0.8250 - val_loss: 0.2659 - val_auc: 0.9353 - val_binary_accuracy: 0.9333\n",
      "lr = 0.0009972637\n",
      "Epoch 3/150\n",
      "15/15 [==============================] - 0s 14ms/step - loss: 0.3509 - auc: 0.9254 - binary_accuracy: 0.8500 - val_loss: 0.2240 - val_auc: 0.9464 - val_binary_accuracy: 0.9333\n",
      "lr = 0.0009938503\n",
      "Epoch 4/150\n",
      "15/15 [==============================] - 0s 14ms/step - loss: 0.3201 - auc: 0.9324 - binary_accuracy: 0.8542 - val_loss: 0.2506 - val_auc: 0.9196 - val_binary_accuracy: 0.9333\n",
      "lr = 0.0009890847\n",
      "Epoch 5/150\n",
      "15/15 [==============================] - 0s 14ms/step - loss: 0.2965 - auc: 0.9507 - binary_accuracy: 0.8667 - val_loss: 0.3215 - val_auc: 0.9219 - val_binary_accuracy: 0.9000\n",
      "lr = 0.00098298\n",
      "Epoch 6/150\n",
      "15/15 [==============================] - 0s 14ms/step - loss: 0.2504 - auc: 0.9593 - binary_accuracy: 0.9250 - val_loss: 0.2033 - val_auc: 0.9643 - val_binary_accuracy: 0.9333\n",
      "lr = 0.0009755528\n",
      "Epoch 7/150\n",
      "15/15 [==============================] - 0s 14ms/step - loss: 0.2128 - auc: 0.9706 - binary_accuracy: 0.9208 - val_loss: 0.2346 - val_auc: 0.9665 - val_binary_accuracy: 0.9333\n",
      "lr = 0.0009668234\n",
      "Epoch 8/150\n",
      "15/15 [==============================] - 0s 14ms/step - loss: 0.2124 - auc: 0.9693 - binary_accuracy: 0.9208 - val_loss: 0.1912 - val_auc: 0.9754 - val_binary_accuracy: 0.9333\n",
      "lr = 0.00095681596\n",
      "Epoch 9/150\n",
      "15/15 [==============================] - 0s 14ms/step - loss: 0.1853 - auc: 0.9740 - binary_accuracy: 0.9250 - val_loss: 0.2594 - val_auc: 0.9732 - val_binary_accuracy: 0.9000\n",
      "lr = 0.0009455578\n",
      "Epoch 10/150\n",
      "15/15 [==============================] - 0s 14ms/step - loss: 0.1782 - auc: 0.9790 - binary_accuracy: 0.9208 - val_loss: 0.1679 - val_auc: 0.9777 - val_binary_accuracy: 0.9333\n",
      "lr = 0.00093307975\n",
      "Epoch 11/150\n",
      "15/15 [==============================] - 0s 14ms/step - loss: 0.1999 - auc: 0.9757 - binary_accuracy: 0.9167 - val_loss: 0.2144 - val_auc: 0.9464 - val_binary_accuracy: 0.9333\n",
      "lr = 0.0009194159\n",
      "Epoch 12/150\n",
      "15/15 [==============================] - 0s 14ms/step - loss: 0.1693 - auc: 0.9812 - binary_accuracy: 0.9292 - val_loss: 0.2085 - val_auc: 0.9621 - val_binary_accuracy: 0.9333\n",
      "lr = 0.000904604\n",
      "Epoch 13/150\n",
      "15/15 [==============================] - 0s 14ms/step - loss: 0.1309 - auc: 0.9891 - binary_accuracy: 0.9500 - val_loss: 0.2340 - val_auc: 0.9554 - val_binary_accuracy: 0.9333\n",
      "lr = 0.0008886844\n",
      "Epoch 14/150\n",
      "15/15 [==============================] - 0s 14ms/step - loss: 0.1360 - auc: 0.9876 - binary_accuracy: 0.9542 - val_loss: 0.2317 - val_auc: 0.9420 - val_binary_accuracy: 0.9333\n",
      "lr = 0.0008717009\n",
      "Epoch 15/150\n",
      "15/15 [==============================] - 0s 15ms/step - loss: 0.1647 - auc: 0.9821 - binary_accuracy: 0.9417 - val_loss: 0.2224 - val_auc: 0.9598 - val_binary_accuracy: 0.9333\n"
     ]
    }
   ],
   "source": [
    "result = model.fit(\n",
    "    train_data, \n",
    "    validation_data=val_data, \n",
    "    callbacks=[tf.keras.callbacks.LambdaCallback(\n",
    "        on_epoch_begin=lambda epochs,logs: print('lr =',lr_decayed_fn(opt.iterations).numpy())\n",
    "        ),\n",
    "        tf.keras.callbacks.EarlyStopping(monitor='val_auc', mode='max', restore_best_weights=True, patience=5)],\n",
    "    epochs=150)"
   ]
  },
  {
   "cell_type": "code",
   "execution_count": 22,
   "id": "cb04c441",
   "metadata": {},
   "outputs": [
    {
     "name": "stdout",
     "output_type": "stream",
     "text": [
      "2/2 [==============================] - 0s 5ms/step - loss: 0.5376 - auc: 0.8281 - binary_accuracy: 0.8333\n"
     ]
    },
    {
     "data": {
      "image/png": "[encoded data removed]",
      "text/plain": [
       "<Figure size 252x210 with 1 Axes>"
      ]
     },
     "metadata": {},
     "output_type": "display_data"
    }
   ],
   "source": [
    "plt.plot(result.history['val_binary_accuracy'])\n",
    "test_result = model.evaluate(test_data)\n",
    "plt.show()"
   ]
  },
  {
   "cell_type": "code",
   "execution_count": 25,
   "id": "f95568b9",
   "metadata": {},
   "outputs": [],
   "source": [
    "# # serialize model to JSON\n",
    "# model_json = model.to_json()\n",
    "# with open(\"../saved_models/shp2-rnn/PN_model.json\", \"w\") as json_file:\n",
    "#     json_file.write(model_json)\n",
    "# # serialize weights to HDF5\n",
    "# model.save_weights(\"../saved_models/shp2-rnn/PN_model_weights.h5\")"
   ]
  }
 ],
 "metadata": {
  "kernelspec": {
   "display_name": "Python 3",
   "language": "python",
   "name": "serverless"
  },
  "language_info": {
   "codemirror_mode": {
    "name": "ipython",
    "version": 3
   },
   "file_extension": ".py",
   "mimetype": "text/x-python",
   "name": "python",
   "nbconvert_exporter": "python",
   "pygments_lexer": "ipython3",
   "version": "3.8.13"
  }
 },
 "nbformat": 4,
 "nbformat_minor": 5
}
