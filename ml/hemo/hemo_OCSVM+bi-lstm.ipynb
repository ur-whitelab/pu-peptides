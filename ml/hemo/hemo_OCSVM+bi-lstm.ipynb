{
 "cells": [
  {
   "cell_type": "code",
   "execution_count": 4,
   "id": "a95c079e",
   "metadata": {
    "execution": {
     "iopub.execute_input": "2022-05-10T03:11:18.364372Z",
     "iopub.status.busy": "2022-05-10T03:11:18.364128Z",
     "iopub.status.idle": "2022-05-10T03:11:18.367640Z",
     "shell.execute_reply": "2022-05-10T03:11:18.367194Z"
    },
    "papermill": {
     "duration": 0.013071,
     "end_time": "2022-05-10T03:11:18.368912",
     "exception": false,
     "start_time": "2022-05-10T03:11:18.355841",
     "status": "completed"
    },
    "tags": []
   },
   "outputs": [],
   "source": [
    "#@title Runtime\n",
    "use_tpu = False #@param"
   ]
  },
  {
   "cell_type": "code",
   "execution_count": 5,
   "id": "67dd2e6d",
   "metadata": {},
   "outputs": [],
   "source": [
    "import matplotlib.pyplot as plt\n",
    "import matplotlib.font_manager as font_manager\n",
    "import urllib.request\n",
    "\n",
    "urllib.request.urlretrieve('https://github.com/google/fonts/raw/main/ofl/ibmplexmono/IBMPlexMono-Regular.ttf', 'IBMPlexMono-Regular.ttf')\n",
    "fe = font_manager.FontEntry(\n",
    "    fname='IBMPlexMono-Regular.ttf',\n",
    "    name='plexmono')\n",
    "font_manager.fontManager.ttflist.append(fe)\n",
    "plt.rcParams.update({'axes.facecolor':'#f5f4e9', \n",
    "            'grid.color' : '#AAAAAA', \n",
    "            'axes.edgecolor':'#333333', \n",
    "            'figure.facecolor':'#FFFFFF', \n",
    "            'axes.grid': False,\n",
    "            'axes.prop_cycle':   plt.cycler('color', plt.cm.Dark2.colors),\n",
    "            'font.family': fe.name,\n",
    "            'figure.figsize': (3.5,3.5 / 1.2),\n",
    "            'ytick.left': True,\n",
    "            'xtick.bottom': True   \n",
    "           })"
   ]
  },
  {
   "cell_type": "code",
   "execution_count": 6,
   "id": "1ba9cf49",
   "metadata": {
    "execution": {
     "iopub.execute_input": "2022-05-10T03:11:18.376282Z",
     "iopub.status.busy": "2022-05-10T03:11:18.376137Z",
     "iopub.status.idle": "2022-05-10T03:11:24.328167Z",
     "shell.execute_reply": "2022-05-10T03:11:24.327744Z"
    },
    "papermill": {
     "duration": 5.957326,
     "end_time": "2022-05-10T03:11:24.329608",
     "exception": false,
     "start_time": "2022-05-10T03:11:18.372282",
     "status": "completed"
    },
    "tags": []
   },
   "outputs": [],
   "source": [
    "import matplotlib.pyplot as plt\n",
    "import matplotlib as mpl\n",
    "import numpy as np\n",
    "import os\n",
    "import tensorflow as tf\n",
    "import urllib\n",
    "from dataclasses import dataclass\n",
    "# import tensorflowjs as tfjs\n",
    "# import tensorflow_decision_forests as tfdf\n",
    "import json\n",
    "from tqdm import tqdm\n",
    "import seaborn as sns\n",
    "np.random.seed(0)"
   ]
  },
  {
   "cell_type": "code",
   "execution_count": 7,
   "id": "7d0c69c6",
   "metadata": {
    "execution": {
     "iopub.execute_input": "2022-05-10T03:11:24.338685Z",
     "iopub.status.busy": "2022-05-10T03:11:24.338519Z",
     "iopub.status.idle": "2022-05-10T03:11:24.731930Z",
     "shell.execute_reply": "2022-05-10T03:11:24.731501Z"
    },
    "papermill": {
     "duration": 0.39885,
     "end_time": "2022-05-10T03:11:24.733370",
     "exception": false,
     "start_time": "2022-05-10T03:11:24.334520",
     "status": "completed"
    },
    "tags": []
   },
   "outputs": [],
   "source": [
    "urllib.request.urlretrieve(\n",
    "    \"https://github.com/ur-whitelab/peptide-dashboard/raw/master/ml/data/hemo-positive.npz\",\n",
    "    \"positive.npz\",\n",
    ")\n",
    "urllib.request.urlretrieve(\n",
    "    \"https://github.com/ur-whitelab/peptide-dashboard/raw/master/ml/data/hemo-negative.npz\",\n",
    "    \"negative.npz\",\n",
    ")\n",
    "with np.load(\"positive.npz\") as r:\n",
    "    pos_data = r[list(r.keys())[0]]\n",
    "with np.load(\"negative.npz\") as r:\n",
    "    neg_data = r[list(r.keys())[0]]\n",
    "\n",
    "# create labels and stich it all into one\n",
    "# tensor\n",
    "# labels = np.concatenate(\n",
    "#     (\n",
    "#         np.ones((pos_data.shape[0], 1), dtype=pos_data.dtype),\n",
    "#         np.zeros((neg_data.shape[0], 1), dtype=pos_data.dtype),\n",
    "#     ),\n",
    "#     axis=0,\n",
    "# )\n",
    "# weights = np.concatenate(\n",
    "#     (np.ones((pos_data.shape[0]), dtype=pos_data.dtype), \n",
    "#      weights)\n",
    "# )\n",
    "# features = np.concatenate((pos_data, neg_data), axis=0)\n",
    "# pos_data_lengths = np.count_nonzero(pos_data, axis=1)\n",
    "# neg_data_lengths = np.count_nonzero(neg_data, axis=1)"
   ]
  },
  {
   "cell_type": "code",
   "execution_count": 4,
   "id": "f0882d3d",
   "metadata": {
    "execution": {
     "iopub.execute_input": "2022-05-10T03:11:24.740987Z",
     "iopub.status.busy": "2022-05-10T03:11:24.740823Z",
     "iopub.status.idle": "2022-05-10T03:11:25.706707Z",
     "shell.execute_reply": "2022-05-10T03:11:25.706254Z"
    },
    "papermill": {
     "duration": 0.971123,
     "end_time": "2022-05-10T03:11:25.707942",
     "exception": false,
     "start_time": "2022-05-10T03:11:24.736819",
     "status": "completed"
    },
    "tags": []
   },
   "outputs": [
    {
     "name": "stderr",
     "output_type": "stream",
     "text": [
      "100%|██████████| 9130/9130 [00:00<00:00, 9809.93it/s]\n"
     ]
    }
   ],
   "source": [
    "# max_length = pos_data.shape[1]\n",
    "# def encoder(seq, max_length=200):\n",
    "#     alphabet = ['A','R','N','D','C','Q','E','G','H','I', 'L','K','M','F','P','S','T','W','Y','V']\n",
    "#     vec = np.zeros(max_length)\n",
    "#     for i,l in enumerate(seq):\n",
    "#         vec[i] = alphabet.index(l) + 1\n",
    "#     return vec\n",
    "# # sample unlabeled data\n",
    "# def sample_permutations_from_vec(data_lengths, labeled_unlabeled_ratio=0.2, max_sequence_length=200):\n",
    "#     alphabet = ['A','R','N','D','C','Q','E','G','H','I', 'L','K','M','F','P','S','T','W','Y','V']\n",
    "#     with open(\"../pdb_dist.txt\", 'r') as f:\n",
    "#         # the probabilities in this file are sorted based on the alphabet list above\n",
    "#         pdb_dist = f.read().split()\n",
    "#         pdb_dist = [float(item) for item in pdb_dist]\n",
    "# #     unlabeled_seq_lengths = vec_pep_length(positive_data, ohe_vec=False)\n",
    "# #     print(unlabeled_seq_lengths)\n",
    "#     sampled_lengths = []\n",
    "#     for length in data_lengths:\n",
    "#         length_sample_batch = np.ones(int(1/labeled_unlabeled_ratio), dtype=int) * length\n",
    "#         sampled_lengths.append(length_sample_batch)\n",
    "#     sampled_lengths = np.array(sampled_lengths).flatten()\n",
    "#     sampled_sequences = []\n",
    "#     sampled_vecs = []\n",
    "#     for length in tqdm(sampled_lengths):\n",
    "# #         print(length)\n",
    "#     #         random_alphabet_index = np.random.randint(len(alphabet), size=length)\n",
    "#         # sample alphabet index based on weighted amino acid frequencies in pdb\n",
    "#         random_alphabet_index = np.random.choice(len(alphabet), size=length, p=pdb_dist)\n",
    "#         for _ in range(length):\n",
    "#             pep = ''.join([alphabet[m] for m in random_alphabet_index])\n",
    "#         vec_pep = encoder(pep, max_length=max_length)\n",
    "#         # pad zeros\n",
    "#     #     print(ohe_pep.shape)\n",
    "# #         ohe_pep = np.concatenate([ohe_pep, np.zeros((max_sequence_length-ohe_pep.shape[0],20))],axis=0)\n",
    "#         sampled_vecs.append(vec_pep)\n",
    "#         sampled_sequences.append(pep)\n",
    "# #     sampled_vecs = np.array(sampled_vecs)\n",
    "#     return sampled_sequences, sampled_vecs\n",
    "# # ohe_sequence_list = np.concatenate([ohe_sequence_list, np.zeros((190,10))],axis=1)\n",
    "# pos_data_lengths = np.count_nonzero(pos_data, axis=1) + 1\n",
    "# neg_data_lengths = np.count_nonzero(neg_data, axis=1) + 1\n",
    "# labeled_unlabeled_ratio = 0.2\n",
    "# sampled_sequences, sampled_vecs = sample_permutations_from_vec(pos_data_lengths,\n",
    "#                                                                labeled_unlabeled_ratio=0.2, max_sequence_length=max_length)\n",
    "# sampled_vecs = np.array(sampled_vecs)\n",
    "# # X_unlabeled = sampled_vecs\n",
    "# unlabeled_data_lengths = []\n",
    "# for seq in sampled_sequences:\n",
    "#     unlabeled_data_lengths.append(len(seq))"
   ]
  },
  {
   "cell_type": "code",
   "execution_count": 8,
   "id": "bbe063cf",
   "metadata": {},
   "outputs": [],
   "source": [
    "def build_fakes(n, data):\n",
    "    result = []\n",
    "    for _ in range(n):\n",
    "        # sample this many subsequences\n",
    "        k = np.clip(np.random.poisson(1), 0, len(data) - 2) + 2\n",
    "        idx = np.random.choice(range(len(data)), replace=False, size=k)                        \n",
    "        seq = []\n",
    "        lengths = []\n",
    "        # cut-up k into one new sequence\n",
    "        for i in range(k):\n",
    "            if np.argmin(data[idx[i]]) > 1:\n",
    "                lengths.append(np.ceil(2 * np.random.randint(1, np.argmin(data[idx[i]])) / k).astype(int))\n",
    "                j = np.random.randint(0, np.argmin(data[idx[i]]) - lengths[i])\n",
    "            else:\n",
    "                lengths.append(1)\n",
    "                j = 0\n",
    "            seq.append(data[idx[i]][j:j+lengths[i]])\n",
    "        # pad out    \n",
    "        seq.append([0] * (len(data[0]) - sum(lengths)))\n",
    "        # print(seq)\n",
    "        result.append(np.concatenate(seq))\n",
    "        # print(result)\n",
    "        # break\n",
    "    return np.array(result)\n",
    "sampled_vecs = build_fakes(9130*5, pos_data)"
   ]
  },
  {
   "cell_type": "code",
   "execution_count": 10,
   "id": "d24d98e0",
   "metadata": {
    "execution": {
     "iopub.execute_input": "2022-05-10T03:11:25.716057Z",
     "iopub.status.busy": "2022-05-10T03:11:25.715905Z",
     "iopub.status.idle": "2022-05-10T03:11:25.720561Z",
     "shell.execute_reply": "2022-05-10T03:11:25.720175Z"
    },
    "papermill": {
     "duration": 0.010015,
     "end_time": "2022-05-10T03:11:25.721709",
     "exception": false,
     "start_time": "2022-05-10T03:11:25.711694",
     "status": "completed"
    },
    "tags": []
   },
   "outputs": [
    {
     "name": "stdout",
     "output_type": "stream",
     "text": [
      "Positive data: 1826\n",
      "Negative data: 7490\n",
      "Sampled unlabeled data: 45650\n"
     ]
    }
   ],
   "source": [
    "X_positive = pos_data\n",
    "X_negative = neg_data\n",
    "X_unlabeled = sampled_vecs\n",
    "print('Positive data:', pos_data.shape[0])\n",
    "print('Negative data:', neg_data.shape[0])\n",
    "print('Sampled unlabeled data:', len(sampled_vecs))"
   ]
  },
  {
   "cell_type": "code",
   "execution_count": 11,
   "id": "f0c6c9ae",
   "metadata": {},
   "outputs": [
    {
     "data": {
      "text/plain": [
       "<matplotlib.legend.Legend at 0x7f61f9a50ee0>"
      ]
     },
     "execution_count": 11,
     "metadata": {},
     "output_type": "execute_result"
    },
    {
     "data": {
      "image/png": "[encoded data removed]",
      "text/plain": [
       "<Figure size 1050x875 with 1 Axes>"
      ]
     },
     "metadata": {},
     "output_type": "display_data"
    }
   ],
   "source": [
    "\n",
    "hist, bins = np.histogram(pos_data, bins=21)\n",
    "counts_aa = hist[1:]\n",
    "p_positive = counts_aa/np.sum(counts_aa)\n",
    "\n",
    "hist, bins = np.histogram(neg_data, bins=21)\n",
    "counts_aa = hist[1:]\n",
    "p_negative = counts_aa/np.sum(counts_aa)\n",
    "\n",
    "hist, bins = np.histogram(sampled_vecs, bins=21)\n",
    "counts_aa = hist[1:]\n",
    "p_unlabeled = counts_aa/np.sum(counts_aa)\n",
    "plt.figure(dpi=300)\n",
    "plt.plot(p_positive, label='pos hemo')\n",
    "plt.plot(p_negative, label='neg hemo')\n",
    "plt.plot(p_unlabeled, label='sampled_vecs dist')\n",
    "plt.xlim([1,20])\n",
    "plt.legend()"
   ]
  },
  {
   "cell_type": "code",
   "execution_count": 14,
   "id": "d66551aa",
   "metadata": {
    "execution": {
     "iopub.execute_input": "2022-05-10T03:11:25.729721Z",
     "iopub.status.busy": "2022-05-10T03:11:25.729576Z",
     "iopub.status.idle": "2022-05-10T03:11:25.955563Z",
     "shell.execute_reply": "2022-05-10T03:11:25.955182Z"
    },
    "papermill": {
     "duration": 0.231392,
     "end_time": "2022-05-10T03:11:25.956736",
     "exception": false,
     "start_time": "2022-05-10T03:11:25.725344",
     "status": "completed"
    },
    "tags": []
   },
   "outputs": [
    {
     "data": {
      "text/plain": [
       "<matplotlib.legend.Legend at 0x7f61efb4f370>"
      ]
     },
     "execution_count": 14,
     "metadata": {},
     "output_type": "execute_result"
    },
    {
     "data": {
      "image/png": "[encoded data removed]",
      "text/plain": [
       "<Figure size 525x437.5 with 1 Axes>"
      ]
     },
     "metadata": {},
     "output_type": "display_data"
    }
   ],
   "source": [
    "pos_data_lengths = np.count_nonzero(pos_data, axis=1) + 1\n",
    "neg_data_lengths = np.count_nonzero(neg_data, axis=1) + 1\n",
    "unlabeled_data_lengths = np.count_nonzero(sampled_vecs, axis=1) + 1\n",
    "fig, ax = plt.subplots(dpi=150)\n",
    "sns.kdeplot(pos_data_lengths, ax=ax, label='Positives', color='C0')\n",
    "ax.set_xlabel('Sequence Length')\n",
    "# ax.set_title(f'{peptide_label}')\n",
    "sns.kdeplot(unlabeled_data_lengths, ax=ax, label='Unlabeled', color='C2')\n",
    "sns.kdeplot(neg_data_lengths, ax=ax, label='Negatives', color='C1')\n",
    "plt.legend()"
   ]
  },
  {
   "cell_type": "code",
   "execution_count": 17,
   "id": "c4f243a3",
   "metadata": {
    "execution": {
     "iopub.execute_input": "2022-05-10T03:11:25.966295Z",
     "iopub.status.busy": "2022-05-10T03:11:25.966146Z",
     "iopub.status.idle": "2022-05-10T03:11:26.055092Z",
     "shell.execute_reply": "2022-05-10T03:11:26.054722Z"
    },
    "papermill": {
     "duration": 0.095032,
     "end_time": "2022-05-10T03:11:26.056218",
     "exception": false,
     "start_time": "2022-05-10T03:11:25.961186",
     "status": "completed"
    },
    "tags": []
   },
   "outputs": [],
   "source": [
    "def decoder(seq_vector):\n",
    "  alphabet = ['A','R','N','D','C','Q','E','G','H','I', 'L','K','M','F','P','S','T','W','Y','V']\n",
    "  seq = []\n",
    "  for i, index in enumerate(seq_vector):\n",
    "    if index == 0:\n",
    "      break\n",
    "    seq.append(alphabet[int(index)-1])\n",
    "  seq = ''.join(seq)\n",
    "  return seq\n",
    "# need to decode postive and negative data to get UniRep representations\n",
    "pos_sequences = []\n",
    "for f in pos_data:\n",
    "  pos_sequences.append(decoder(f))\n",
    "\n",
    "neg_sequences = []\n",
    "for f in neg_data:\n",
    "  neg_sequences.append(decoder(f))\n",
    "\n",
    "sampled_sequences = []\n",
    "for i, f in enumerate(sampled_vecs):\n",
    "    sampled_sequences.append(decoder(f))"
   ]
  },
  {
   "cell_type": "code",
   "execution_count": 18,
   "id": "4b47df3c",
   "metadata": {
    "execution": {
     "iopub.execute_input": "2022-05-10T03:11:26.065417Z",
     "iopub.status.busy": "2022-05-10T03:11:26.065265Z",
     "iopub.status.idle": "2022-05-10T03:15:37.457794Z",
     "shell.execute_reply": "2022-05-10T03:15:37.457073Z"
    },
    "papermill": {
     "duration": 251.398989,
     "end_time": "2022-05-10T03:15:37.459459",
     "exception": false,
     "start_time": "2022-05-10T03:11:26.060470",
     "status": "completed"
    },
    "tags": []
   },
   "outputs": [],
   "source": [
    "# Generating UniRep representations for postives, negatives and unlableled (This cell takes long to run)\n",
    "from jax_unirep import get_reps\n",
    "h_avg, h_final, c_final = get_reps(pos_sequences)\n",
    "pos_UniRep = h_avg\n",
    "\n",
    "h_avg, h_final, c_final = get_reps(neg_sequences)\n",
    "neg_UniRep = h_avg\n",
    "\n",
    "h_avg, h_final, c_final = get_reps(sampled_sequences)\n",
    "unlabeled_UniRep = h_avg"
   ]
  },
  {
   "cell_type": "code",
   "execution_count": 9,
   "id": "1ba57e45",
   "metadata": {
    "execution": {
     "iopub.execute_input": "2022-05-10T03:15:37.471585Z",
     "iopub.status.busy": "2022-05-10T03:15:37.471411Z",
     "iopub.status.idle": "2022-05-10T03:15:37.475117Z",
     "shell.execute_reply": "2022-05-10T03:15:37.474732Z"
    },
    "papermill": {
     "duration": 0.010426,
     "end_time": "2022-05-10T03:15:37.476248",
     "exception": false,
     "start_time": "2022-05-10T03:15:37.465822",
     "status": "completed"
    },
    "tags": []
   },
   "outputs": [],
   "source": [
    "# from sklearn.neighbors import LocalOutlierFactor\n",
    "# from sklearn.model_selection import KFold\n",
    "# from sklearn.metrics import f1_score\n",
    "# from sklearn.metrics import recall_score\n",
    "# kf = KFold(n_splits=5, random_state=None, shuffle=True)\n",
    "# f1_scores = []\n",
    "# recall_scores = []\n",
    "# i = 0\n",
    "\n",
    "# for train_index, test_index in kf.split(pos_UniRep):\n",
    "#     X_train_positive_lof, X_test_positive_lof = pos_UniRep[train_index], pos_UniRep[test_index]\n",
    "# #     s_train_positive_svm = np.ones(X_train_positive_svm.shape[0])\n",
    "# #     s_test_positive_svm = y[train_index], y[test_index]\n",
    "#     s_test_lof = np.ones(X_test_positive_lof.shape[0])\n",
    "#     lof = LocalOutlierFactor(n_neighbors=64, algorithm='auto',\n",
    "#                              metric='cosine', contamination=0.01,\n",
    "#                              novelty=True, n_jobs=20, leaf_size=40)\n",
    "#     lof.fit(X_train_positive_lof)\n",
    "# #     X_validation_svm = np.concatenate([X_positive_test, X_unlabeled_test])\n",
    "\n",
    "#     # Make prediction\n",
    "#     s_pred = lof.predict(X_test_positive_lof)\n",
    "#     f1 = f1_score(s_test_lof, s_pred, average='macro')\n",
    "#     r = recall_score(s_test_lof, s_pred, average='macro')\n",
    "#     print(f'Fold {i+1} - recall : {r:.3f}, f1 score : {f1:.3f}')\n",
    "#     f1_scores.append(f1)\n",
    "#     recall_scores.append(r)\n",
    "#     i += 1\n",
    "# #     break\n",
    "# # lof_f1_score\n",
    "# lof_f1_score = np.mean(f1_scores)\n",
    "# lof_recall_score = np.mean(recall_scores)\n",
    "# print(f'\\nMean 5-Fold\\n f1 score = {lof_f1_score:.3f}\\n recall = {lof_recall_score:.3f}')"
   ]
  },
  {
   "cell_type": "code",
   "execution_count": 19,
   "id": "1a5c2508",
   "metadata": {
    "execution": {
     "iopub.execute_input": "2022-05-10T03:15:37.486002Z",
     "iopub.status.busy": "2022-05-10T03:15:37.485848Z",
     "iopub.status.idle": "2022-05-10T03:15:37.495471Z",
     "shell.execute_reply": "2022-05-10T03:15:37.495056Z"
    },
    "papermill": {
     "duration": 0.016276,
     "end_time": "2022-05-10T03:15:37.496811",
     "exception": false,
     "start_time": "2022-05-10T03:15:37.480535",
     "status": "completed"
    },
    "tags": []
   },
   "outputs": [],
   "source": [
    "# Shuffling data\n",
    "shuffled_indices = np.random.permutation(len(pos_data))\n",
    "X_positive = pos_data[shuffled_indices]\n",
    "shuffled_indices = np.random.permutation(len(neg_data))\n",
    "X_negative = neg_data[shuffled_indices]\n",
    "# shuffled_indices = np.random.permutation(len(sampled_vecs))\n",
    "# X_unlabeled = sampled_vecs[shuffled_indices]"
   ]
  },
  {
   "cell_type": "code",
   "execution_count": 38,
   "id": "82b67f18",
   "metadata": {
    "execution": {
     "iopub.execute_input": "2022-05-10T03:15:37.506880Z",
     "iopub.status.busy": "2022-05-10T03:15:37.506724Z",
     "iopub.status.idle": "2022-05-10T03:15:37.928477Z",
     "shell.execute_reply": "2022-05-10T03:15:37.928069Z"
    },
    "papermill": {
     "duration": 0.428264,
     "end_time": "2022-05-10T03:15:37.929670",
     "exception": false,
     "start_time": "2022-05-10T03:15:37.501406",
     "status": "completed"
    },
    "tags": []
   },
   "outputs": [
    {
     "name": "stdout",
     "output_type": "stream",
     "text": [
      "Fold 1 - recall : 0.945, f1 score : 0.972\n",
      "Fold 2 - recall : 0.904, f1 score : 0.950\n",
      "Fold 3 - recall : 0.918, f1 score : 0.957\n",
      "Fold 4 - recall : 0.945, f1 score : 0.972\n",
      "Fold 5 - recall : 0.918, f1 score : 0.957\n",
      "\n",
      "Mean 5-Fold\n",
      " f1 score = 0.962\n",
      " recall = 0.926\n"
     ]
    }
   ],
   "source": [
    "# OneClassSVM\n",
    "from sklearn.svm import OneClassSVM\n",
    "from sklearn.metrics import f1_score\n",
    "from sklearn.metrics import recall_score\n",
    "from sklearn.model_selection import KFold\n",
    "kf = KFold(n_splits=5, random_state=None, shuffle=True)\n",
    "from sklearn.metrics.pairwise import cosine_similarity\n",
    "from sklearn.neighbors import KNeighborsClassifier\n",
    "f1_scores = []\n",
    "recall_scores = []\n",
    "i = 0\n",
    "for train_index, test_index in kf.split(X_positive): # \n",
    "    X_train_positive_svm, X_test_positive_svm = X_positive[train_index], X_positive[test_index]\n",
    "#     X_train_unlabeled_svm, X_test_unlabeled_svm = X_unlabeled[train_index], X_unlabeled[test_index]\n",
    "#     X_validation_svm = np.concatenate([X_test_positive_svm, X_negative])\n",
    "#     s_validation_svm = np.concatenate([np.ones(X_test_positive_svm.shape[0]), np.ones(X_negative.shape[0])*(-1)])\n",
    "    s_test_svm = np.ones(X_test_positive_svm.shape[0])\n",
    "#     s_train_positive_svm = np.ones(X_train_positive_svm.shape[0])\n",
    "#     s_test_positive_svm = y[train_index], y[test_index]\n",
    "#     neigh = KNeighborsClassifier(n_neighbors=1, metric='cosine', algorithm='auto', leaf_size=50)\n",
    "#     neigh.fit(X_train_positive_svm_pca, np.ones(X_train_positive_svm_pca.shape[0]))\n",
    "    one_class_svm = OneClassSVM(kernel='rbf', degree=3, gamma=0.001, nu=0.01, tol=1e-5) #  max_iter=50\n",
    "    one_class_svm.fit(X_train_positive_svm)\n",
    "    \n",
    "#     X_validation_svm = np.concatenate([X_positive_test, X_unlabeled_test])\n",
    "\n",
    "    # Make prediction\n",
    "#     s_pred = neigh.predict(X_validation_svm)\n",
    "    s_pred = one_class_svm.predict(X_test_positive_svm)\n",
    "    f1 = f1_score(s_test_svm, s_pred, average='binary')\n",
    "    r = recall_score(s_test_svm, s_pred, average='binary')\n",
    "    print(f'Fold {i+1} - recall : {r:.3f}, f1 score : {f1:.3f}')\n",
    "#     print(f'Fold {i+1} - f1 score : {f1:.3f}')\n",
    "    f1_scores.append(f1)\n",
    "    recall_scores.append(r)\n",
    "    i += 1\n",
    "#     break\n",
    "svm_f1_score = np.mean(f1_scores)\n",
    "svm_recall_score = np.mean(recall_scores)\n",
    "print(f'\\nMean 5-Fold\\n f1 score = {svm_f1_score:.3f}\\n recall = {svm_recall_score:.3f}')"
   ]
  },
  {
   "cell_type": "code",
   "execution_count": 39,
   "id": "08f111d5",
   "metadata": {
    "execution": {
     "iopub.execute_input": "2022-05-10T03:15:37.939454Z",
     "iopub.status.busy": "2022-05-10T03:15:37.939293Z",
     "iopub.status.idle": "2022-05-10T03:15:37.943689Z",
     "shell.execute_reply": "2022-05-10T03:15:37.943286Z"
    },
    "papermill": {
     "duration": 0.010571,
     "end_time": "2022-05-10T03:15:37.944888",
     "exception": false,
     "start_time": "2022-05-10T03:15:37.934317",
     "status": "completed"
    },
    "tags": []
   },
   "outputs": [
    {
     "name": "stdout",
     "output_type": "stream",
     "text": [
      "6671\n"
     ]
    }
   ],
   "source": [
    "s_pred = one_class_svm.predict(X_unlabeled)\n",
    "outlier_index = np.where(s_pred==-1)\n",
    "initial_RNs = X_unlabeled[outlier_index]\n",
    "print(initial_RNs.shape[0])"
   ]
  },
  {
   "cell_type": "code",
   "execution_count": 40,
   "id": "1e870295",
   "metadata": {
    "execution": {
     "iopub.execute_input": "2022-05-10T03:15:37.954476Z",
     "iopub.status.busy": "2022-05-10T03:15:37.954318Z",
     "iopub.status.idle": "2022-05-10T03:15:37.964824Z",
     "shell.execute_reply": "2022-05-10T03:15:37.964350Z"
    },
    "papermill": {
     "duration": 0.016807,
     "end_time": "2022-05-10T03:15:37.965980",
     "exception": false,
     "start_time": "2022-05-10T03:15:37.949173",
     "status": "completed"
    },
    "tags": []
   },
   "outputs": [],
   "source": [
    "@dataclass\n",
    "class Config:\n",
    "    vocab_size: int\n",
    "    example_number: int\n",
    "    batch_size: int\n",
    "    buffer_size: int\n",
    "    rnn_units: int\n",
    "    hidden_dim: int\n",
    "    embedding_dim: int\n",
    "    reg_strength: float\n",
    "    lr: float\n",
    "    drop_rate: float\n",
    "        \n",
    "config = Config(vocab_size=21, # include gap\n",
    "                example_number=len(X_positive), \n",
    "                batch_size=16, \n",
    "                buffer_size=10000,\n",
    "                rnn_units=64,\n",
    "                hidden_dim=64,\n",
    "                embedding_dim=32,\n",
    "                reg_strength=0,\n",
    "                lr=1e-3,\n",
    "                drop_rate=0.1\n",
    "               )\n",
    "\n",
    "def counts_aa(vec):\n",
    "    counts =  tf.histogram_fixed_width(vec, [0, 20], nbins=21)[1:]\n",
    "    return counts/tf.reduce_sum(counts)\n",
    "\n",
    "def build_model(L):\n",
    "    inputs = tf.keras.Input(shape=(L,))\n",
    "    input_f = tf.keras.Input(shape=(20,))\n",
    "    # make embedding and indicate that 0 should be treated as padding mask\n",
    "    e = tf.keras.layers.Embedding(input_dim=config.vocab_size, \n",
    "                                        output_dim=config.embedding_dim,\n",
    "                                        mask_zero=True)(inputs)\n",
    "\n",
    "    # RNN layer\n",
    "    x = tf.keras.layers.Bidirectional(tf.keras.layers.LSTM(config.rnn_units, return_sequences=True))(e)\n",
    "    x = tf.keras.layers.Bidirectional(tf.keras.layers.LSTM(config.rnn_units))(x)\n",
    "    x = tf.keras.layers.Concatenate()([x, input_f])\n",
    "    x = tf.keras.layers.LayerNormalization()(x)\n",
    "    x = tf.keras.layers.Dropout(config.drop_rate)(x)\n",
    "    # a dense hidden layer\n",
    "    x = tf.keras.layers.Dense(\n",
    "        config.hidden_dim, \n",
    "        activation='relu', \n",
    "        kernel_regularizer=tf.keras.regularizers.l2(config.reg_strength))(x)\n",
    "    x = tf.keras.layers.LayerNormalization()(x)\n",
    "    x = tf.keras.layers.Dropout(config.drop_rate)(x)\n",
    "    x = tf.keras.layers.Dense(\n",
    "        config.hidden_dim // 4, \n",
    "        activation='relu', \n",
    "        kernel_regularizer=tf.keras.regularizers.l2(config.reg_strength))(x)\n",
    "    x = tf.keras.layers.LayerNormalization()(x)\n",
    "    x = tf.keras.layers.Dropout(config.drop_rate)(x)\n",
    "    # predicting prob, so no activation\n",
    "    yhat = tf.keras.layers.Dense(1)(x)\n",
    "\n",
    "    model = tf.keras.Model(inputs=[inputs, input_f], outputs=yhat, name='hemo-rnn')\n",
    "    return model"
   ]
  },
  {
   "cell_type": "code",
   "execution_count": 41,
   "id": "aedcb0fc",
   "metadata": {
    "execution": {
     "iopub.execute_input": "2022-05-10T03:15:37.975722Z",
     "iopub.status.busy": "2022-05-10T03:15:37.975574Z",
     "iopub.status.idle": "2022-05-10T03:15:37.981671Z",
     "shell.execute_reply": "2022-05-10T03:15:37.981161Z"
    },
    "papermill": {
     "duration": 0.012421,
     "end_time": "2022-05-10T03:15:37.982843",
     "exception": false,
     "start_time": "2022-05-10T03:15:37.970422",
     "status": "completed"
    },
    "tags": []
   },
   "outputs": [],
   "source": [
    "from sklearn.model_selection import train_test_split\n",
    "X_train_positive, X_test_positive, y_train_positive, y_test_positive = train_test_split(X_positive, np.ones(X_positive.shape[0]),\n",
    "                                                                                        test_size=0.2, random_state=42)"
   ]
  },
  {
   "cell_type": "code",
   "execution_count": 50,
   "id": "8c2c11f9",
   "metadata": {
    "execution": {
     "iopub.execute_input": "2022-05-10T03:15:37.993037Z",
     "iopub.status.busy": "2022-05-10T03:15:37.992883Z",
     "iopub.status.idle": "2022-05-10T06:16:04.780906Z",
     "shell.execute_reply": "2022-05-10T06:16:04.780404Z"
    },
    "papermill": {
     "duration": 10827.377532,
     "end_time": "2022-05-10T06:16:05.365033",
     "exception": false,
     "start_time": "2022-05-10T03:15:37.987501",
     "status": "completed"
    },
    "tags": []
   },
   "outputs": [
    {
     "name": "stdout",
     "output_type": "stream",
     "text": [
      "Initial RN size already exceeds the positive size.\n"
     ]
    }
   ],
   "source": [
    "RNs = initial_RNs\n",
    "if RNs.shape[0] > X_train_positive.shape[0]:\n",
    "    print ('Initial RN size already exceeds the positive size.')\n",
    "else:\n",
    "    down_sampled_X_train = X_train_positive[np.random.choice(X_train_positive.shape[0], size=RNs.shape[0], replace=False)]\n",
    "    X_train_with_RN = np.concatenate([X_train_positive, RNs])\n",
    "    counts_X_train_with_RN= np.array([counts_aa(xi) for xi in X_train_with_RN])\n",
    "    y_train_with_RN = np.concatenate([np.ones(X_train_positive.shape[0]), np.zeros(RNs.shape[0])])\n",
    "    shuffler = np.random.permutation(len(X_train_with_RN))\n",
    "    X_train_with_RN = X_train_with_RN[shuffler]\n",
    "    # counts_X_train_with_RN = counts_X_train_with_RN[shuffler]\n",
    "    y_train_with_RN = y_train_with_RN[shuffler]\n",
    "    X_test = np.concatenate([X_test_positive, X_negative])\n",
    "    y_test = np.concatenate([np.ones(y_test_positive.shape[0]), np.zeros(X_negative.shape[0])])\n",
    "    # removing intial RN seeds from unlabeled\n",
    "    RU = np.delete(X_unlabeled, outlier_index[0],axis=0)\n",
    "    # RU = X_unlabeled\n",
    "    reduce_lr = tf.keras.callbacks.ReduceLROnPlateau(monitor='loss', factor=0.9,\n",
    "                                                            patience=5, min_lr=1e-7)\n",
    "    early_stopping = tf.keras.callbacks.EarlyStopping(monitor='val_auc', patience=10, min_delta=1e-2, restore_best_weights=True)\n",
    "    L = None\n",
    "    decay_epochs = 50\n",
    "    N = len(X_train_with_RN)\n",
    "    decay_steps = N  // config.batch_size * decay_epochs\n",
    "    lr_decayed_fn = tf.keras.optimizers.schedules.CosineDecay(\n",
    "      config.lr, decay_steps, alpha=1e-3)\n",
    "    for i in tqdm(range(50)):\n",
    "        tf.keras.backend.clear_session()\n",
    "        model = build_model(L)\n",
    "        model.compile(\n",
    "                optimizer=tf.optimizers.Adam(1e-3),\n",
    "                loss=tf.keras.losses.BinaryCrossentropy(from_logits=True),\n",
    "                metrics=[tf.keras.metrics.AUC(from_logits=True), tf.keras.metrics.BinaryAccuracy(threshold=0)],\n",
    "                )\n",
    "        history = model.fit(\n",
    "            [X_train_with_RN, np.array([counts_aa(xi) for xi in X_train_with_RN])] , y_train_with_RN,\n",
    "            validation_data=([X_test, np.array([counts_aa(xi) for xi in X_test])] , y_test), \n",
    "            epochs=50,\n",
    "            batch_size=16,\n",
    "        #     batch_size=64,\n",
    "        #     steps_per_epoch=100,\n",
    "            # early_stopping\n",
    "            callbacks=[reduce_lr, early_stopping],\n",
    "            verbose=1,\n",
    "        #         class_weight=class_weights\n",
    "        )\n",
    "        prob = model.predict([RU, np.array([counts_aa(xi) for xi in RU])])\n",
    "        V = RU[np.argsort(prob[:,0])] \n",
    "    #     break\n",
    "    #     print(f'Negatives found: {V.shape[0]}')\n",
    "    #     if V.shape[0] == 0:\n",
    "    #         print('All unlabeled were predicted as positive')\n",
    "    #         RNs = outlier_values\n",
    "    #         break\n",
    "        # print(V.shape)\n",
    "    #     else:\n",
    "            # print(RNs.shape)\n",
    "    #         n_downsample = V.shape[0] - X_train_positive_svm.shape[0]\n",
    "    #         print(RNs.shape) \n",
    "    #     if i == 0:\n",
    "    #         RNs = np.empty(shape=(0, 200))\n",
    "\n",
    "        RNs = np.concatenate([RNs, V[:40*(i+1)]])\n",
    "    #     RNs = V[:120*(i+1)]\n",
    "    #         RU = RU[:][np.squeeze(prob > 0.001)]\n",
    "        RU = np.delete(RU, np.argsort(prob[:,0])[:40*(i+1)], axis=0)\n",
    "        print(f'Reliable negative size: {RNs.shape[0]}   Unlabeled size: {RU.shape[0]}')\n",
    "        if RU.shape[0] == 0:\n",
    "            print('All unlabeled were predicted as negative')\n",
    "            break\n",
    "        if RNs.shape[0] > X_train_positive.shape[0]:\n",
    "            print('RNs size exceeded positives size')\n",
    "            break\n",
    "    #         RNs = equalizer(X_train_positive_lof, RNs)\n",
    "        down_sampled_X_train = X_train_positive[np.random.choice(X_train_positive.shape[0], size=RNs.shape[0], replace=False)]\n",
    "        print(f'pos size: {down_sampled_X_train.shape[0]} RN size: {RNs.shape[0]}')\n",
    "        X_train_with_RN = np.concatenate([X_train_positive, RNs])\n",
    "        counts_X_train_with_RN = np.array([counts_aa(xi) for xi in X_train_with_RN])\n",
    "        y_train_with_RN = np.concatenate([np.ones(X_train_positive.shape[0]), np.zeros(RNs.shape[0])])\n",
    "        shuffler = np.random.permutation(len(X_train_with_RN))\n",
    "        X_train_with_RN = X_train_with_RN[shuffler]\n",
    "        counts_X_train_with_RN = counts_X_train_with_RN[shuffler]\n",
    "        y_train_with_RN = y_train_with_RN[shuffler]"
   ]
  },
  {
   "cell_type": "markdown",
   "id": "7b5b4392",
   "metadata": {
    "papermill": {
     "duration": 0.604948,
     "end_time": "2022-05-10T06:16:06.523884",
     "exception": false,
     "start_time": "2022-05-10T06:16:05.918936",
     "status": "completed"
    },
    "tags": []
   },
   "source": [
    "Now train with found RNs and positives. We do testing and validation based on the known negative data and a small subset of unobserved postives"
   ]
  },
  {
   "cell_type": "code",
   "execution_count": 53,
   "id": "75ce100e",
   "metadata": {
    "execution": {
     "iopub.execute_input": "2022-05-10T06:16:07.691314Z",
     "iopub.status.busy": "2022-05-10T06:16:07.691100Z",
     "iopub.status.idle": "2022-05-10T06:16:08.887209Z",
     "shell.execute_reply": "2022-05-10T06:16:08.886757Z"
    },
    "papermill": {
     "duration": 1.753846,
     "end_time": "2022-05-10T06:16:08.888724",
     "exception": false,
     "start_time": "2022-05-10T06:16:07.134878",
     "status": "completed"
    },
    "tags": []
   },
   "outputs": [],
   "source": [
    "labels = np.concatenate(\n",
    "    (\n",
    "        np.ones(pos_data.shape[0], dtype=pos_data.dtype),\n",
    "        np.zeros(RNs.shape[0], dtype=pos_data.dtype),\n",
    "    ),\n",
    "    axis=0,\n",
    ")\n",
    "features = np.concatenate((pos_data, RNs), axis=0)\n",
    "counts_features = np.array([counts_aa(xi) for xi in features])\n",
    "shuffler = np.random.permutation(len(features))\n",
    "features = features[shuffler]\n",
    "counts_features = counts_features[shuffler]\n",
    "labels = labels[shuffler]\n",
    "from sklearn.model_selection import train_test_split\n",
    "X_train, X_test, y_train, y_test = train_test_split(features, labels, test_size=0.1, random_state=25)\n",
    "X_val, X_test, y_val, y_test = train_test_split(X_test, y_test, test_size=0.2, random_state=25)\n",
    "# add true known negatives to validation and test data\n",
    "split = X_negative.shape[0]//5 *4\n",
    "X_negative_val, X_negative_test = X_negative[:split], X_negative[split:]\n",
    "X_val = np.append(X_val, X_negative_val, axis=0)\n",
    "y_val = np.append(y_val, np.zeros(X_negative_val.shape[0]), axis=0)\n",
    "X_test = np.append(X_test, X_negative_test, axis=0)\n",
    "y_test = np.append(y_test, np.zeros(X_negative_test.shape[0]), axis=0)\n",
    "shuffler = np.random.permutation(len(X_val))\n",
    "X_val = X_val[shuffler]\n",
    "y_val = y_val[shuffler]\n",
    "shuffler = np.random.permutation(len(X_test))\n",
    "X_test = X_test[shuffler]\n",
    "y_test = y_test[shuffler]\n"
   ]
  },
  {
   "cell_type": "code",
   "execution_count": 54,
   "id": "1d53dd5a",
   "metadata": {
    "execution": {
     "iopub.execute_input": "2022-05-10T06:16:10.052584Z",
     "iopub.status.busy": "2022-05-10T06:16:10.052373Z",
     "iopub.status.idle": "2022-05-10T06:16:12.581840Z",
     "shell.execute_reply": "2022-05-10T06:16:12.581404Z"
    },
    "papermill": {
     "duration": 3.080733,
     "end_time": "2022-05-10T06:16:12.583349",
     "exception": false,
     "start_time": "2022-05-10T06:16:09.502616",
     "status": "completed"
    },
    "tags": []
   },
   "outputs": [],
   "source": [
    "tf.keras.backend.clear_session()\n",
    "model = build_model(L)\n",
    "#   L = 190\n",
    "#   model = build_CNN_model(L, reg=0, add_dropout=True)\n",
    "decay_epochs = 50\n",
    "N = len(features)\n",
    "decay_steps = N  // config.batch_size * decay_epochs\n",
    "lr_decayed_fn = tf.keras.optimizers.schedules.CosineDecay(\n",
    "  config.lr, decay_steps, alpha=1e-3)\n",
    "opt = tf.optimizers.Adam(lr_decayed_fn, clipnorm=1.0)\n",
    "model.compile(\n",
    "  opt,\n",
    "  loss=tf.keras.losses.BinaryCrossentropy(from_logits=True),\n",
    "  steps_per_execution = 60 if use_tpu else None,\n",
    "  metrics=[tf.keras.metrics.AUC(from_logits=True), tf.keras.metrics.BinaryAccuracy(threshold=0)])"
   ]
  },
  {
   "cell_type": "code",
   "execution_count": 55,
   "id": "9d512c5a",
   "metadata": {
    "execution": {
     "iopub.execute_input": "2022-05-10T06:16:13.785259Z",
     "iopub.status.busy": "2022-05-10T06:16:13.785050Z",
     "iopub.status.idle": "2022-05-10T06:33:47.193049Z",
     "shell.execute_reply": "2022-05-10T06:33:47.192510Z"
    },
    "papermill": {
     "duration": 1054.013514,
     "end_time": "2022-05-10T06:33:47.194705",
     "exception": false,
     "start_time": "2022-05-10T06:16:13.181191",
     "status": "completed"
    },
    "tags": []
   },
   "outputs": [
    {
     "name": "stdout",
     "output_type": "stream",
     "text": [
      "lr = 0.001\n",
      "Epoch 1/150\n",
      "478/478 [==============================] - 24s 31ms/step - loss: 0.2522 - auc: 0.8978 - binary_accuracy: 0.9180 - val_loss: 2.3017 - val_auc: 0.5992 - val_binary_accuracy: 0.3251\n",
      "lr = 0.0009992013\n",
      "Epoch 2/150\n",
      "478/478 [==============================] - 12s 26ms/step - loss: 0.1818 - auc: 0.9345 - binary_accuracy: 0.9473 - val_loss: 2.5629 - val_auc: 0.5646 - val_binary_accuracy: 0.3335\n",
      "lr = 0.0009968076\n",
      "Epoch 3/150\n",
      "478/478 [==============================] - 12s 26ms/step - loss: 0.1593 - auc: 0.9465 - binary_accuracy: 0.9534 - val_loss: 3.2406 - val_auc: 0.5798 - val_binary_accuracy: 0.3146\n",
      "lr = 0.0009928265\n",
      "Epoch 4/150\n",
      "478/478 [==============================] - 12s 25ms/step - loss: 0.1572 - auc: 0.9557 - binary_accuracy: 0.9507 - val_loss: 2.7751 - val_auc: 0.5834 - val_binary_accuracy: 0.3632\n",
      "lr = 0.000987271\n",
      "Epoch 5/150\n",
      "478/478 [==============================] - 12s 24ms/step - loss: 0.1487 - auc: 0.9567 - binary_accuracy: 0.9558 - val_loss: 2.9009 - val_auc: 0.5895 - val_binary_accuracy: 0.3389\n",
      "lr = 0.0009801585\n",
      "Epoch 6/150\n",
      "478/478 [==============================] - 11s 23ms/step - loss: 0.1461 - auc: 0.9592 - binary_accuracy: 0.9549 - val_loss: 3.4628 - val_auc: 0.5963 - val_binary_accuracy: 0.2876\n",
      "lr = 0.000971512\n",
      "Epoch 7/150\n",
      "478/478 [==============================] - 12s 24ms/step - loss: 0.1402 - auc: 0.9632 - binary_accuracy: 0.9568 - val_loss: 3.0854 - val_auc: 0.6060 - val_binary_accuracy: 0.3264\n",
      "lr = 0.0009613591\n",
      "Epoch 8/150\n",
      "478/478 [==============================] - 12s 25ms/step - loss: 0.1332 - auc: 0.9611 - binary_accuracy: 0.9589 - val_loss: 3.3501 - val_auc: 0.5931 - val_binary_accuracy: 0.3198\n",
      "lr = 0.00094973226\n",
      "Epoch 9/150\n",
      "478/478 [==============================] - 11s 23ms/step - loss: 0.1242 - auc: 0.9659 - binary_accuracy: 0.9631 - val_loss: 3.2893 - val_auc: 0.5833 - val_binary_accuracy: 0.3073\n",
      "lr = 0.0009366687\n",
      "Epoch 10/150\n",
      "478/478 [==============================] - 12s 25ms/step - loss: 0.1201 - auc: 0.9698 - binary_accuracy: 0.9642 - val_loss: 3.2493 - val_auc: 0.5963 - val_binary_accuracy: 0.3300\n",
      "lr = 0.00092221017\n",
      "Epoch 11/150\n",
      "478/478 [==============================] - 12s 25ms/step - loss: 0.1254 - auc: 0.9652 - binary_accuracy: 0.9638 - val_loss: 3.4313 - val_auc: 0.6061 - val_binary_accuracy: 0.3360\n",
      "lr = 0.0009064029\n",
      "Epoch 12/150\n",
      "478/478 [==============================] - 11s 24ms/step - loss: 0.1119 - auc: 0.9727 - binary_accuracy: 0.9676 - val_loss: 3.4978 - val_auc: 0.6108 - val_binary_accuracy: 0.3444\n",
      "lr = 0.00088929746\n",
      "Epoch 13/150\n",
      "478/478 [==============================] - 12s 25ms/step - loss: 0.1101 - auc: 0.9758 - binary_accuracy: 0.9681 - val_loss: 3.8585 - val_auc: 0.6006 - val_binary_accuracy: 0.2866\n",
      "lr = 0.00087094854\n",
      "Epoch 14/150\n",
      "478/478 [==============================] - 12s 25ms/step - loss: 0.1067 - auc: 0.9770 - binary_accuracy: 0.9672 - val_loss: 3.8922 - val_auc: 0.6060 - val_binary_accuracy: 0.3112\n",
      "lr = 0.0008514148\n",
      "Epoch 15/150\n",
      "478/478 [==============================] - 12s 24ms/step - loss: 0.0973 - auc: 0.9819 - binary_accuracy: 0.9712 - val_loss: 3.4344 - val_auc: 0.6076 - val_binary_accuracy: 0.3516\n",
      "lr = 0.00083075877\n",
      "Epoch 16/150\n",
      "478/478 [==============================] - 12s 25ms/step - loss: 0.0966 - auc: 0.9800 - binary_accuracy: 0.9719 - val_loss: 3.9079 - val_auc: 0.6053 - val_binary_accuracy: 0.3311\n",
      "lr = 0.00080904656\n",
      "Epoch 17/150\n",
      "478/478 [==============================] - 12s 24ms/step - loss: 0.0912 - auc: 0.9826 - binary_accuracy: 0.9729 - val_loss: 4.2749 - val_auc: 0.6005 - val_binary_accuracy: 0.2692\n",
      "lr = 0.00078634743\n",
      "Epoch 18/150\n",
      "478/478 [==============================] - 11s 24ms/step - loss: 0.0820 - auc: 0.9863 - binary_accuracy: 0.9748 - val_loss: 4.1158 - val_auc: 0.6097 - val_binary_accuracy: 0.3368\n",
      "lr = 0.0007627342\n",
      "Epoch 19/150\n",
      "478/478 [==============================] - 11s 24ms/step - loss: 0.0789 - auc: 0.9871 - binary_accuracy: 0.9763 - val_loss: 4.0894 - val_auc: 0.6169 - val_binary_accuracy: 0.3240\n",
      "lr = 0.0007382822\n",
      "Epoch 20/150\n",
      "478/478 [==============================] - 11s 24ms/step - loss: 0.0753 - auc: 0.9883 - binary_accuracy: 0.9761 - val_loss: 4.5227 - val_auc: 0.6069 - val_binary_accuracy: 0.2878\n",
      "lr = 0.00071306987\n",
      "Epoch 21/150\n",
      "478/478 [==============================] - 12s 24ms/step - loss: 0.0716 - auc: 0.9896 - binary_accuracy: 0.9782 - val_loss: 4.4516 - val_auc: 0.6101 - val_binary_accuracy: 0.3011\n",
      "lr = 0.0006871775\n",
      "Epoch 22/150\n",
      "478/478 [==============================] - 12s 25ms/step - loss: 0.0648 - auc: 0.9904 - binary_accuracy: 0.9812 - val_loss: 4.6190 - val_auc: 0.6111 - val_binary_accuracy: 0.2926\n",
      "lr = 0.0006606882\n",
      "Epoch 23/150\n",
      "478/478 [==============================] - 11s 24ms/step - loss: 0.0650 - auc: 0.9905 - binary_accuracy: 0.9801 - val_loss: 4.5948 - val_auc: 0.6073 - val_binary_accuracy: 0.3059\n",
      "lr = 0.0006336865\n",
      "Epoch 24/150\n",
      "478/478 [==============================] - 12s 24ms/step - loss: 0.0597 - auc: 0.9918 - binary_accuracy: 0.9812 - val_loss: 4.4975 - val_auc: 0.6146 - val_binary_accuracy: 0.3267\n",
      "lr = 0.0006062589\n",
      "Epoch 25/150\n",
      "478/478 [==============================] - 11s 24ms/step - loss: 0.0585 - auc: 0.9925 - binary_accuracy: 0.9808 - val_loss: 4.7767 - val_auc: 0.6127 - val_binary_accuracy: 0.2815\n",
      "lr = 0.0005784931\n",
      "Epoch 26/150\n",
      "478/478 [==============================] - 11s 23ms/step - loss: 0.0548 - auc: 0.9924 - binary_accuracy: 0.9846 - val_loss: 4.8008 - val_auc: 0.6130 - val_binary_accuracy: 0.2930\n",
      "lr = 0.00055047777\n",
      "Epoch 27/150\n",
      "478/478 [==============================] - 11s 24ms/step - loss: 0.0477 - auc: 0.9927 - binary_accuracy: 0.9860 - val_loss: 5.0189 - val_auc: 0.6097 - val_binary_accuracy: 0.2873\n",
      "lr = 0.0005223026\n",
      "Epoch 28/150\n",
      "478/478 [==============================] - 10s 22ms/step - loss: 0.0436 - auc: 0.9945 - binary_accuracy: 0.9857 - val_loss: 5.1902 - val_auc: 0.6084 - val_binary_accuracy: 0.2803\n",
      "lr = 0.0004940578\n",
      "Epoch 29/150\n",
      "478/478 [==============================] - 11s 24ms/step - loss: 0.0443 - auc: 0.9949 - binary_accuracy: 0.9852 - val_loss: 5.2982 - val_auc: 0.6023 - val_binary_accuracy: 0.2737\n"
     ]
    }
   ],
   "source": [
    "result = model.fit(\n",
    "    [X_train, np.array([counts_aa(xi) for xi in X_train])], y_train, \n",
    "    validation_data=([X_val, np.array([counts_aa(xi) for xi in X_val])] , y_val),\n",
    "    callbacks=[tf.keras.callbacks.LambdaCallback(\n",
    "        on_epoch_begin=lambda epochs,logs: print('lr =',lr_decayed_fn(opt.iterations).numpy())\n",
    "        ),\n",
    "        tf.keras.callbacks.EarlyStopping(monitor='val_auc', mode='max', restore_best_weights=True, patience=10)],\n",
    "    epochs=150, batch_size=16)"
   ]
  },
  {
   "cell_type": "code",
   "execution_count": 56,
   "id": "af0e482d",
   "metadata": {
    "execution": {
     "iopub.execute_input": "2022-05-10T06:33:48.527783Z",
     "iopub.status.busy": "2022-05-10T06:33:48.527561Z",
     "iopub.status.idle": "2022-05-10T06:33:53.249666Z",
     "shell.execute_reply": "2022-05-10T06:33:53.249152Z"
    },
    "papermill": {
     "duration": 5.359894,
     "end_time": "2022-05-10T06:33:53.251047",
     "exception": false,
     "start_time": "2022-05-10T06:33:47.891153",
     "status": "completed"
    },
    "tags": []
   },
   "outputs": [
    {
     "name": "stdout",
     "output_type": "stream",
     "text": [
      "53/53 [==============================] - 3s 8ms/step - loss: 4.2012 - auc: 0.6208 - binary_accuracy: 0.3106\n"
     ]
    },
    {
     "data": {
      "image/png": "[encoded data removed]",
      "text/plain": [
       "<Figure size 252x210 with 1 Axes>"
      ]
     },
     "metadata": {},
     "output_type": "display_data"
    }
   ],
   "source": [
    "plt.plot(result.history['val_binary_accuracy'])\n",
    "test_result = model.evaluate([X_test, np.array([counts_aa(xi) for xi in X_test])], y_test)\n",
    "plt.show()"
   ]
  },
  {
   "cell_type": "code",
   "execution_count": 57,
   "id": "5a3290e1",
   "metadata": {},
   "outputs": [],
   "source": [
    "# tuning threshold for accuracy\n",
    "y_hat_test = model.predict([X_test, np.array([counts_aa(xi) for xi in X_test])])"
   ]
  },
  {
   "cell_type": "code",
   "execution_count": 58,
   "id": "ff8cb1b6",
   "metadata": {},
   "outputs": [
    {
     "name": "stdout",
     "output_type": "stream",
     "text": [
      "Best Threshold=6.797734, G-Mean=0.625\n",
      "Adjusted Accuracy with new threshold: 0.624\n"
     ]
    }
   ],
   "source": [
    "from sklearn.metrics import roc_curve\n",
    "from sklearn.metrics import accuracy_score\n",
    "fpr, tpr, thresholds = roc_curve(y_test, y_hat_test, drop_intermediate=False)\n",
    "# calculate the g-mean for each threshold\n",
    "gmeans = np.sqrt(tpr * (1-fpr))\n",
    "# locate the index of the largest g-mean\n",
    "ix = np.argmax(gmeans)\n",
    "best_accuracy_threshold = thresholds[ix]\n",
    "print('Best Threshold=%f, G-Mean=%.3f' % (thresholds[ix], gmeans[ix]))\n",
    "adjusted_y_hat_test = [1 if m>best_accuracy_threshold else 0 for m in y_hat_test]\n",
    "acc = accuracy_score(y_test, adjusted_y_hat_test, normalize=True)\n",
    "print(f'Adjusted Accuracy with new threshold: {acc:.3f}')"
   ]
  },
  {
   "cell_type": "markdown",
   "id": "4366837c",
   "metadata": {
    "papermill": {
     "duration": 0.6899,
     "end_time": "2022-05-10T06:33:54.626319",
     "exception": false,
     "start_time": "2022-05-10T06:33:53.936419",
     "status": "completed"
    },
    "tags": []
   },
   "source": [
    "Let's see how the model works with classical positive-negative classification"
   ]
  },
  {
   "cell_type": "code",
   "execution_count": 20,
   "id": "ce3a9131",
   "metadata": {
    "execution": {
     "iopub.execute_input": "2022-05-10T06:33:55.954479Z",
     "iopub.status.busy": "2022-05-10T06:33:55.954243Z",
     "iopub.status.idle": "2022-05-10T06:33:59.270475Z",
     "shell.execute_reply": "2022-05-10T06:33:59.270018Z"
    },
    "papermill": {
     "duration": 4.011732,
     "end_time": "2022-05-10T06:33:59.271955",
     "exception": false,
     "start_time": "2022-05-10T06:33:55.260223",
     "status": "completed"
    },
    "tags": []
   },
   "outputs": [],
   "source": [
    "labels = np.concatenate(\n",
    "    (\n",
    "        np.ones(pos_data.shape[0], dtype=pos_data.dtype),\n",
    "        np.zeros(neg_data.shape[0], dtype=neg_data.dtype),\n",
    "    ),\n",
    "    axis=0,\n",
    ")\n",
    "features = np.concatenate((pos_data, neg_data), axis=0)\n",
    "counts_features = np.array([counts_aa(xi) for xi in features])\n",
    "shuffler = np.random.permutation(len(features))\n",
    "features = features[shuffler]\n",
    "counts_features = counts_features[shuffler]\n",
    "labels = labels[shuffler]\n",
    "from sklearn.model_selection import train_test_split\n",
    "X_train, X_test, y_train, y_test = train_test_split(features, labels, test_size=0.1, random_state=25)\n",
    "X_val, X_test, y_val, y_test = train_test_split(X_test, y_test, test_size=0.2, random_state=25)"
   ]
  },
  {
   "cell_type": "code",
   "execution_count": 21,
   "id": "c8936450",
   "metadata": {
    "execution": {
     "iopub.execute_input": "2022-05-10T06:34:00.658826Z",
     "iopub.status.busy": "2022-05-10T06:34:00.658616Z",
     "iopub.status.idle": "2022-05-10T06:34:03.199577Z",
     "shell.execute_reply": "2022-05-10T06:34:03.199123Z"
    },
    "papermill": {
     "duration": 3.235337,
     "end_time": "2022-05-10T06:34:03.201061",
     "exception": false,
     "start_time": "2022-05-10T06:33:59.965724",
     "status": "completed"
    },
    "tags": []
   },
   "outputs": [],
   "source": [
    "tf.keras.backend.clear_session()\n",
    "model = build_model(L)\n",
    "opt = tf.optimizers.Adam(lr_decayed_fn)\n",
    "model.compile(\n",
    "      opt,\n",
    "      loss=tf.keras.losses.BinaryCrossentropy(from_logits=True),\n",
    "      steps_per_execution = 60 if use_tpu else None,\n",
    "      metrics=[tf.keras.metrics.AUC(from_logits=True), tf.keras.metrics.BinaryAccuracy(threshold=0)])"
   ]
  },
  {
   "cell_type": "code",
   "execution_count": 22,
   "id": "513d6ecf",
   "metadata": {
    "execution": {
     "iopub.execute_input": "2022-05-10T06:34:04.529073Z",
     "iopub.status.busy": "2022-05-10T06:34:04.528866Z",
     "iopub.status.idle": "2022-05-10T07:15:53.402327Z",
     "shell.execute_reply": "2022-05-10T07:15:53.401789Z"
    },
    "papermill": {
     "duration": 2509.563671,
     "end_time": "2022-05-10T07:15:53.403985",
     "exception": false,
     "start_time": "2022-05-10T06:34:03.840314",
     "status": "completed"
    },
    "tags": []
   },
   "outputs": [
    {
     "name": "stdout",
     "output_type": "stream",
     "text": [
      "Epoch 1/150\n",
      "lr = 0.001\n",
      "262/262 [==============================] - 105s 371ms/step - loss: 0.4908 - auc: 0.6104 - binary_accuracy: 0.7978 - val_loss: 0.4474 - val_auc: 0.7447 - val_binary_accuracy: 0.8040\n",
      "Epoch 2/150\n",
      "lr = 0.0009984514\n",
      "262/262 [==============================] - 96s 366ms/step - loss: 0.4570 - auc: 0.6979 - binary_accuracy: 0.8037 - val_loss: 0.4434 - val_auc: 0.7368 - val_binary_accuracy: 0.8027\n",
      "Epoch 3/150\n",
      "lr = 0.0009938151\n",
      "262/262 [==============================] - 96s 366ms/step - loss: 0.4439 - auc: 0.7283 - binary_accuracy: 0.8031 - val_loss: 0.4286 - val_auc: 0.7667 - val_binary_accuracy: 0.8054\n",
      "Epoch 4/150\n",
      "lr = 0.0009861198\n",
      "262/262 [==============================] - 96s 366ms/step - loss: 0.4333 - auc: 0.7489 - binary_accuracy: 0.8027 - val_loss: 0.4308 - val_auc: 0.7639 - val_binary_accuracy: 0.8081\n",
      "Epoch 5/150\n",
      "lr = 0.00097541336\n",
      "262/262 [==============================] - 96s 368ms/step - loss: 0.4278 - auc: 0.7579 - binary_accuracy: 0.8038 - val_loss: 0.4191 - val_auc: 0.7801 - val_binary_accuracy: 0.8107\n",
      "Epoch 6/150\n",
      "lr = 0.00096176204\n",
      "262/262 [==============================] - 94s 360ms/step - loss: 0.4221 - auc: 0.7673 - binary_accuracy: 0.8078 - val_loss: 0.4133 - val_auc: 0.7813 - val_binary_accuracy: 0.8161\n",
      "Epoch 7/150\n",
      "lr = 0.0009452506\n",
      "262/262 [==============================] - 95s 362ms/step - loss: 0.4124 - auc: 0.7830 - binary_accuracy: 0.8106 - val_loss: 0.4233 - val_auc: 0.7664 - val_binary_accuracy: 0.8134\n",
      "Epoch 8/150\n",
      "lr = 0.0009259814\n",
      "262/262 [==============================] - 96s 366ms/step - loss: 0.4061 - auc: 0.7917 - binary_accuracy: 0.8092 - val_loss: 0.4108 - val_auc: 0.7893 - val_binary_accuracy: 0.8201\n",
      "Epoch 9/150\n",
      "lr = 0.0009040738\n",
      "262/262 [==============================] - 97s 369ms/step - loss: 0.4072 - auc: 0.7896 - binary_accuracy: 0.8127 - val_loss: 0.4111 - val_auc: 0.7845 - val_binary_accuracy: 0.8295\n",
      "Epoch 10/150\n",
      "lr = 0.00087966374\n",
      "262/262 [==============================] - 97s 371ms/step - loss: 0.3953 - auc: 0.8071 - binary_accuracy: 0.8157 - val_loss: 0.4105 - val_auc: 0.7875 - val_binary_accuracy: 0.8161\n",
      "Epoch 11/150\n",
      "lr = 0.0008529026\n",
      "262/262 [==============================] - 95s 362ms/step - loss: 0.3940 - auc: 0.8083 - binary_accuracy: 0.8182 - val_loss: 0.4068 - val_auc: 0.7908 - val_binary_accuracy: 0.8174\n",
      "Epoch 12/150\n",
      "lr = 0.0008239563\n",
      "262/262 [==============================] - 95s 363ms/step - loss: 0.3877 - auc: 0.8162 - binary_accuracy: 0.8242 - val_loss: 0.4030 - val_auc: 0.8010 - val_binary_accuracy: 0.8188\n",
      "Epoch 13/150\n",
      "lr = 0.0007930043\n",
      "262/262 [==============================] - 95s 364ms/step - loss: 0.3779 - auc: 0.8281 - binary_accuracy: 0.8286 - val_loss: 0.3993 - val_auc: 0.8057 - val_binary_accuracy: 0.8295\n",
      "Epoch 14/150\n",
      "lr = 0.0007602386\n",
      "262/262 [==============================] - 98s 374ms/step - loss: 0.3786 - auc: 0.8268 - binary_accuracy: 0.8263 - val_loss: 0.4015 - val_auc: 0.8024 - val_binary_accuracy: 0.8255\n",
      "Epoch 15/150\n",
      "lr = 0.0007258623\n",
      "262/262 [==============================] - 96s 367ms/step - loss: 0.3668 - auc: 0.8415 - binary_accuracy: 0.8313 - val_loss: 0.4039 - val_auc: 0.8037 - val_binary_accuracy: 0.8188\n",
      "Epoch 16/150\n",
      "lr = 0.0006900886\n",
      "262/262 [==============================] - 96s 367ms/step - loss: 0.3646 - auc: 0.8435 - binary_accuracy: 0.8333 - val_loss: 0.3944 - val_auc: 0.8073 - val_binary_accuracy: 0.8376\n",
      "Epoch 17/150\n",
      "lr = 0.0006531392\n",
      "262/262 [==============================] - 98s 374ms/step - loss: 0.3587 - auc: 0.8490 - binary_accuracy: 0.8354 - val_loss: 0.4037 - val_auc: 0.8110 - val_binary_accuracy: 0.8309\n",
      "Epoch 18/150\n",
      "lr = 0.00061524345\n",
      "262/262 [==============================] - 97s 372ms/step - loss: 0.3532 - auc: 0.8536 - binary_accuracy: 0.8386 - val_loss: 0.3994 - val_auc: 0.8037 - val_binary_accuracy: 0.8309\n",
      "Epoch 19/150\n",
      "lr = 0.0005766361\n",
      "262/262 [==============================] - 97s 370ms/step - loss: 0.3452 - auc: 0.8622 - binary_accuracy: 0.8452 - val_loss: 0.4065 - val_auc: 0.7997 - val_binary_accuracy: 0.8349\n",
      "Epoch 20/150\n",
      "lr = 0.00053755665\n",
      "262/262 [==============================] - 99s 376ms/step - loss: 0.3409 - auc: 0.8666 - binary_accuracy: 0.8451 - val_loss: 0.4035 - val_auc: 0.8024 - val_binary_accuracy: 0.8309\n",
      "Epoch 21/150\n",
      "lr = 0.00049824757\n",
      "262/262 [==============================] - 99s 376ms/step - loss: 0.3326 - auc: 0.8742 - binary_accuracy: 0.8490 - val_loss: 0.3982 - val_auc: 0.8180 - val_binary_accuracy: 0.8510\n",
      "Epoch 22/150\n",
      "lr = 0.00045895227\n",
      "262/262 [==============================] - 98s 373ms/step - loss: 0.3316 - auc: 0.8756 - binary_accuracy: 0.8501 - val_loss: 0.3998 - val_auc: 0.8152 - val_binary_accuracy: 0.8268\n",
      "Epoch 23/150\n",
      "lr = 0.00041991475\n",
      "262/262 [==============================] - 95s 364ms/step - loss: 0.3209 - auc: 0.8853 - binary_accuracy: 0.8557 - val_loss: 0.4119 - val_auc: 0.8034 - val_binary_accuracy: 0.8322\n",
      "Epoch 24/150\n",
      "lr = 0.00038137683\n",
      "262/262 [==============================] - 95s 362ms/step - loss: 0.3191 - auc: 0.8852 - binary_accuracy: 0.8526 - val_loss: 0.4047 - val_auc: 0.8099 - val_binary_accuracy: 0.8430\n",
      "Epoch 25/150\n",
      "lr = 0.0003435776\n",
      "262/262 [==============================] - 91s 348ms/step - loss: 0.3147 - auc: 0.8894 - binary_accuracy: 0.8544 - val_loss: 0.4105 - val_auc: 0.8059 - val_binary_accuracy: 0.8376\n",
      "Epoch 26/150\n",
      "lr = 0.0003067514\n",
      "262/262 [==============================] - 94s 358ms/step - loss: 0.3065 - auc: 0.8961 - binary_accuracy: 0.8600 - val_loss: 0.4065 - val_auc: 0.8100 - val_binary_accuracy: 0.8336\n"
     ]
    }
   ],
   "source": [
    "result = model.fit(\n",
    "    [X_train, np.array([counts_aa(xi) for xi in X_train])], y_train, \n",
    "    validation_data=([X_val, np.array([counts_aa(xi) for xi in X_val])] , y_val),\n",
    "    callbacks=[tf.keras.callbacks.LambdaCallback(\n",
    "        on_epoch_begin=lambda epochs,logs: print('lr =',lr_decayed_fn(opt.iterations).numpy())\n",
    "        ),\n",
    "        tf.keras.callbacks.EarlyStopping(monitor='val_auc', mode='max', restore_best_weights=True, patience=5)],\n",
    "    epochs=150)"
   ]
  },
  {
   "cell_type": "code",
   "execution_count": 23,
   "id": "896dd4a5",
   "metadata": {
    "execution": {
     "iopub.execute_input": "2022-05-10T07:15:55.202837Z",
     "iopub.status.busy": "2022-05-10T07:15:55.202612Z",
     "iopub.status.idle": "2022-05-10T07:15:55.938299Z",
     "shell.execute_reply": "2022-05-10T07:15:55.937877Z"
    },
    "papermill": {
     "duration": 1.668406,
     "end_time": "2022-05-10T07:15:55.939593",
     "exception": false,
     "start_time": "2022-05-10T07:15:54.271187",
     "status": "completed"
    },
    "tags": []
   },
   "outputs": [
    {
     "name": "stdout",
     "output_type": "stream",
     "text": [
      "6/6 [==============================] - 1s 88ms/step - loss: 0.3855 - auc: 0.7702 - binary_accuracy: 0.8342\n"
     ]
    },
    {
     "data": {
      "image/png": "[encoded data removed]",
      "text/plain": [
       "<Figure size 432x288 with 1 Axes>"
      ]
     },
     "metadata": {
      "needs_background": "light"
     },
     "output_type": "display_data"
    }
   ],
   "source": [
    "plt.plot(result.history['val_binary_accuracy'])\n",
    "test_result = model.evaluate([X_test, np.array([counts_aa(xi) for xi in X_test])], y_test)\n",
    "plt.show()"
   ]
  },
  {
   "cell_type": "code",
   "execution_count": null,
   "id": "0441ca24",
   "metadata": {
    "papermill": {
     "duration": 0.923525,
     "end_time": "2022-05-10T07:15:57.786745",
     "exception": false,
     "start_time": "2022-05-10T07:15:56.863220",
     "status": "completed"
    },
    "tags": []
   },
   "outputs": [],
   "source": []
  }
 ],
 "metadata": {
  "kernelspec": {
   "display_name": "Python 3",
   "language": "python",
   "name": "serverless"
  },
  "language_info": {
   "codemirror_mode": {
    "name": "ipython",
    "version": 3
   },
   "file_extension": ".py",
   "mimetype": "text/x-python",
   "name": "python",
   "nbconvert_exporter": "python",
   "pygments_lexer": "ipython3",
   "version": "3.8.13"
  },
  "papermill": {
   "default_parameters": {},
   "duration": 14687.817752,
   "end_time": "2022-05-10T07:16:01.349830",
   "environment_variables": {},
   "exception": null,
   "input_path": "hemo_OCSVM+bi-lstm.ipynb",
   "output_path": "hemo_OCSVM+bi-lstm.ipynb",
   "parameters": {},
   "start_time": "2022-05-10T03:11:13.532078",
   "version": "2.3.4"
  }
 },
 "nbformat": 4,
 "nbformat_minor": 5
}
