{
 "cells": [
  {
   "cell_type": "code",
   "execution_count": 1,
   "id": "00b6cdd2",
   "metadata": {},
   "outputs": [],
   "source": [
    "import matplotlib.pyplot as plt\n",
    "import matplotlib.font_manager as font_manager\n",
    "import urllib.request\n",
    "import matplotlib as mpl\n",
    "import numpy as np\n",
    "import os\n",
    "os.environ['TF_CPP_MIN_LOG_LEVEL'] = '3' \n",
    "import tensorflow as tf\n",
    "tf.get_logger().setLevel('INFO')\n",
    "gpus = tf.config.experimental.list_physical_devices(device_type='GPU')\n",
    "tf.config.experimental.set_visible_devices(devices=gpus[1], device_type='GPU')\n",
    "tf.config.experimental.set_memory_growth(device=gpus[1], enable=True)\n",
    "import urllib\n",
    "from dataclasses import dataclass\n",
    "# import tensorflowjs as tfjs\n",
    "# import tensorflow_decision_forests as tfdf\n",
    "import json\n",
    "from tqdm import tqdm\n",
    "import seaborn as sns\n",
    "import sys\n",
    "np.random.seed(0)\n",
    "urllib.request.urlretrieve('https://github.com/google/fonts/raw/main/ofl/ibmplexmono/IBMPlexMono-Regular.ttf', 'IBMPlexMono-Regular.ttf')\n",
    "fe = font_manager.FontEntry(\n",
    "    fname='IBMPlexMono-Regular.ttf',\n",
    "    name='plexmono')\n",
    "font_manager.fontManager.ttflist.append(fe)\n",
    "plt.rcParams.update({'axes.facecolor':'#f5f4e9', \n",
    "            'grid.color' : '#AAAAAA', \n",
    "            'axes.edgecolor':'#333333', \n",
    "            'figure.facecolor':'#FFFFFF', \n",
    "            'axes.grid': False,\n",
    "            'axes.prop_cycle':   plt.cycler('color', plt.cm.Dark2.colors),\n",
    "            'font.family': fe.name,\n",
    "            'figure.figsize': (3.5,3.5 / 1.2),\n",
    "            'ytick.left': True,\n",
    "            'xtick.bottom': True   \n",
    "           })"
   ]
  },
  {
   "cell_type": "code",
   "execution_count": 2,
   "id": "8236e84e",
   "metadata": {},
   "outputs": [
    {
     "name": "stdout",
     "output_type": "stream",
     "text": [
      "Num GPUs Available:  4\n"
     ]
    }
   ],
   "source": [
    "print(\"Num GPUs Available: \", len(tf.config.list_physical_devices('GPU')))"
   ]
  },
  {
   "cell_type": "code",
   "execution_count": 3,
   "id": "a68cbcd4",
   "metadata": {},
   "outputs": [],
   "source": [
    "urllib.request.urlretrieve(\n",
    "    \"https://github.com/ur-whitelab/peptide-dashboard/raw/master/ml/data/hemo-positive.npz\",\n",
    "    \"positive.npz\",\n",
    ")\n",
    "urllib.request.urlretrieve(\n",
    "    \"https://github.com/ur-whitelab/peptide-dashboard/raw/master/ml/data/hemo-negative.npz\",\n",
    "    \"negative.npz\",\n",
    ")\n",
    "with np.load(\"positive.npz\") as r:\n",
    "    pos_data = r[list(r.keys())[0]]\n",
    "with np.load(\"negative.npz\") as r:\n",
    "    neg_data = r[list(r.keys())[0]]\n",
    "    \n"
   ]
  },
  {
   "cell_type": "code",
   "execution_count": 4,
   "id": "7d60345b",
   "metadata": {},
   "outputs": [
    {
     "name": "stdout",
     "output_type": "stream",
     "text": [
      "(1182, 190) (132, 190) (146, 190) (5992, 190) (1864, 190)\n",
      "Positive data: 1826\n",
      "Negative data: 7490\n",
      "Unlabeled data: 1864\n"
     ]
    }
   ],
   "source": [
    "def split_train_test_data(pos, neg, test_size_pos=0.1, val_size=0.1, unlabeled_size=0.2, seed=None):\n",
    "    np.random.seed(seed)\n",
    "    np.random.shuffle(pos)\n",
    "    np.random.shuffle(neg)\n",
    "    from sklearn.model_selection import train_test_split\n",
    "    pos, unlabeled_p, _, _ = train_test_split(pos, np.ones(pos.shape[0]),\n",
    "                                                                        test_size=unlabeled_size, random_state=seed)\n",
    "    X_test_negative, unlabeled_n, _, _ = train_test_split(neg, np.zeros(neg.shape[0]),\n",
    "                                                                    test_size=unlabeled_size, random_state=seed)\n",
    "    X_train_positive, X_test_positive, _, _ = train_test_split(pos, np.ones(pos.shape[0]),\n",
    "                                                                                        test_size=test_size_pos, random_state=seed)\n",
    "    X_train_positive, X_val_positive, _, _ = train_test_split(X_train_positive, np.ones(X_train_positive.shape[0]),\n",
    "                                                                                    test_size=val_size, random_state=seed)\n",
    "    X_unlabeled = np.concatenate([unlabeled_p, unlabeled_n])\n",
    "    np.random.shuffle(X_unlabeled)\n",
    "    \n",
    "    print(X_train_positive.shape, X_val_positive.shape, X_test_positive.shape, X_test_negative.shape,  X_unlabeled.shape)\n",
    "    return X_train_positive, X_val_positive, X_test_positive, X_test_negative, X_unlabeled\n",
    "\n",
    "seed = 0\n",
    "X_train_positive, X_val_positive, X_test_positive, X_test_negative, X_unlabeled = split_train_test_data(pos_data, neg_data, seed=seed)\n",
    "\n",
    "print('Positive data:', pos_data.shape[0])\n",
    "print('Negative data:', neg_data.shape[0])\n",
    "print('Unlabeled data:', len(X_unlabeled))"
   ]
  },
  {
   "cell_type": "code",
   "execution_count": 5,
   "id": "21c51694",
   "metadata": {},
   "outputs": [],
   "source": [
    "\n",
    "# def build_fakes(n, data):\n",
    "#     result = []\n",
    "#     for _ in range(n):\n",
    "#         # sample this many subsequences\n",
    "#         k = np.clip(np.random.poisson(1), 0, len(data) - 2) + 2\n",
    "#         idx = np.random.choice(range(len(data)), replace=False, size=k)                        \n",
    "#         seq = []\n",
    "#         lengths = []\n",
    "#         # cut-up k into one new sequence\n",
    "#         for i in range(k):\n",
    "#             if np.argmin(data[idx[i]]) > 1:\n",
    "#                 lengths.append(np.ceil(2 * np.random.randint(1, np.argmin(data[idx[i]])) / k).astype(int))\n",
    "#                 j = np.random.randint(0, np.argmin(data[idx[i]]) - lengths[i])\n",
    "#             else:\n",
    "#                 lengths.append(1)\n",
    "#                 j = 0\n",
    "#             seq.append(data[idx[i]][j:j+lengths[i]])\n",
    "#         # pad out    \n",
    "#         seq.append([0] * (len(data[0]) - sum(lengths)))\n",
    "#         # print(seq)\n",
    "#         result.append(np.concatenate(seq))\n",
    "#         # print(result)\n",
    "#         # break\n",
    "#     return np.array(result)\n",
    "# sampled_vecs = build_fakes(pos_data.shape[0]*20, pos_data)\n",
    "\n",
    "\n",
    "def spy(X_p, X_u, spied_rate=0.2, seed=None):\n",
    "    np.random.seed(seed)\n",
    "    X = np.vstack([X_p, X_u])\n",
    "    y = np.concatenate([np.ones(X_p.shape[0]), np.zeros(X_u.shape[0])])\n",
    "    # Step 1. Infuse spies\n",
    "    spie_mask = np.random.random(X_p.shape[0]) < spied_rate\n",
    "    # Unknown mix + spies\n",
    "    MS = np.vstack([X[y == 0], X[y == 1][spie_mask]]) # this is actual features for mix+spies\n",
    "    MS_spies = np.hstack([np.zeros((y == 0).sum()), np.ones(spie_mask.sum())]) # this is actual labels for mix+spies\n",
    "    # Positive with spies removed\n",
    "    P = X[y == 1][~spie_mask]\n",
    "    # Combo\n",
    "    MSP = np.vstack([MS, P]) # this is mix+spies added to positives\n",
    "    # Labels\n",
    "    MSP_y = np.hstack([np.zeros(MS.shape[0]), np.ones(P.shape[0])]) # this label for is mix+spies added to positives\n",
    "    shuffler = np.random.permutation(len(MSP))\n",
    "    MSP = MSP[shuffler]\n",
    "    MSP_y = MSP_y[shuffler]\n",
    "    return MSP, MSP_y, MS, MS_spies\n",
    "\n",
    "def find_RN_threshold(y_hat, y, initial_t=0.00001, spied_tolerance= 0.025):\n",
    "    # Find optimal t\n",
    "    t = initial_t\n",
    "    while  y[np.squeeze(y_hat <= t)].sum()/y.sum()  <= spied_tolerance:\n",
    "        t += 0.0001\n",
    "    print('Optimal t is {0:.06}'.format(t))\n",
    "    print('Positive group size {1}, captured spies {0:.02%}'.format(\n",
    "        y[np.squeeze(y_hat > t)].sum()/y.sum(), (y_hat > t).sum()))\n",
    "    print('Likely negative group size {1}, captured spies {0:.02%}'.format(\n",
    "        y[np.squeeze(y_hat <= t)].sum()/y.sum(), (y_hat <= t).sum()))\n",
    "    return t"
   ]
  },
  {
   "cell_type": "code",
   "execution_count": 6,
   "id": "1e2f9c00",
   "metadata": {},
   "outputs": [],
   "source": [
    "\n",
    "@dataclass\n",
    "class Config:\n",
    "    vocab_size: int\n",
    "    example_number: int\n",
    "    batch_size: int\n",
    "    buffer_size: int\n",
    "    rnn_units: int\n",
    "    hidden_dim: int\n",
    "    embedding_dim: int\n",
    "    reg_strength: float\n",
    "    lr: float\n",
    "    drop_rate: float\n",
    "        \n",
    "config = Config(vocab_size=21, # include gap\n",
    "                example_number=len(pos_data), \n",
    "                batch_size=256, \n",
    "                buffer_size=10000,\n",
    "                rnn_units=64,\n",
    "                hidden_dim=64,\n",
    "                embedding_dim=32,\n",
    "                reg_strength=0,\n",
    "                lr=1e-3,\n",
    "                drop_rate=0.1\n",
    "               )\n",
    "\n",
    "def counts_aa(vec):\n",
    "    counts =  tf.histogram_fixed_width(vec, [0, 20], nbins=21)[1:]\n",
    "    return counts/tf.reduce_sum(counts)\n",
    "\n",
    "def build_model(L):\n",
    "    inputs = tf.keras.Input(shape=(L,))\n",
    "    input_f = tf.keras.Input(shape=(20,))\n",
    "    # make embedding and indicate that 0 should be treated as padding mask\n",
    "    e = tf.keras.layers.Embedding(input_dim=config.vocab_size, \n",
    "                                        output_dim=config.embedding_dim,\n",
    "                                        mask_zero=True)(inputs)\n",
    "\n",
    "    # RNN layer\n",
    "    x = tf.keras.layers.Bidirectional(tf.keras.layers.LSTM(config.rnn_units, return_sequences=True))(e)\n",
    "    x = tf.keras.layers.Bidirectional(tf.keras.layers.LSTM(config.rnn_units))(x)\n",
    "    x = tf.keras.layers.Concatenate()([x, input_f])\n",
    "    x = tf.keras.layers.LayerNormalization()(x)\n",
    "    x = tf.keras.layers.Dropout(config.drop_rate)(x)\n",
    "    # a dense hidden layer\n",
    "    x = tf.keras.layers.Dense(\n",
    "        config.hidden_dim, \n",
    "        activation='relu', \n",
    "        kernel_regularizer=tf.keras.regularizers.l2(config.reg_strength))(x)\n",
    "    x = tf.keras.layers.LayerNormalization()(x)\n",
    "    x = tf.keras.layers.Dropout(config.drop_rate)(x)\n",
    "    x = tf.keras.layers.Dense(\n",
    "        config.hidden_dim // 4, \n",
    "        activation='relu', \n",
    "        kernel_regularizer=tf.keras.regularizers.l2(config.reg_strength))(x)\n",
    "    x = tf.keras.layers.LayerNormalization()(x)\n",
    "    x = tf.keras.layers.Dropout(config.drop_rate)(x)\n",
    "    # predicting prob, so no activation\n",
    "    yhat = tf.keras.layers.Dense(1, activation='sigmoid')(x)\n",
    "\n",
    "    model = tf.keras.Model(inputs=[inputs, input_f], outputs=yhat, name='hemo-rnn')\n",
    "    return model\n",
    "\n",
    "class F1Score(tf.keras.metrics.Metric):\n",
    "  def __init__(self, name='F1Score', **kwargs):\n",
    "    super(F1Score, self).__init__(name=name, **kwargs)\n",
    "    self.f1score = self.add_weight(name='F1Score', initializer='zeros')\n",
    "    self.count = self.add_weight(name='F1ScoreCount', initializer='zeros')\n",
    "\n",
    "  def update_state(self, y_true, y_pred, sample_weight=None):\n",
    "    import keras.backend as K\n",
    "    y_true = tf.cast(y_true, tf.bool)\n",
    "    y_pred = tf.cast(y_pred, tf.bool)\n",
    "\n",
    "    true_positives = tf.logical_and(tf.equal(y_true, True), tf.equal(y_pred, True))\n",
    "    true_positives = tf.cast(true_positives, self.dtype)\n",
    "    count_true_positives = tf.reduce_sum(true_positives)\n",
    "\n",
    "    possible_positives = tf.cast(y_true, self.dtype)\n",
    "    count_possible_positives = tf.reduce_sum(possible_positives)\n",
    "\n",
    "    predicted_positives = tf.cast(y_pred, self.dtype)\n",
    "    count_predicted_positives = tf.reduce_sum(predicted_positives)\n",
    "\n",
    "    precision = count_true_positives / (count_predicted_positives + K.epsilon())\n",
    "    recall = count_true_positives / (count_possible_positives + K.epsilon())\n",
    "    f1_cal = 2*(precision*recall)/(precision + recall + K.epsilon())\n",
    "\n",
    "    self.count.assign_add(1)\n",
    "    a = 1.0 / self.count\n",
    "    b = 1.0 - a\n",
    "    self.f1score.assign(a*f1_cal+b*self.f1score)\n",
    "\n",
    "  def result(self):\n",
    "    return self.f1score"
   ]
  },
  {
   "cell_type": "code",
   "execution_count": 7,
   "id": "62a4f5f0",
   "metadata": {},
   "outputs": [],
   "source": [
    "# from sklearn.model_selection import train_test_split\n",
    "# X_train_positive, X_test_positive, y_train_positive, y_test_positive = train_test_split(X_positive, np.ones(X_positive.shape[0]),\n",
    "#                                                                                         test_size=0.1, random_state=42)\n",
    "# X_train_unlabeled, X_test_unlabeled, y_train_unlabeled, y_test_unlabeled = train_test_split(X_unlabeled, np.zeros(X_unlabeled.shape[0]),\n",
    "#                                                                                         test_size=0.5, random_state=42)\n",
    "# X_test_L = np.concatenate([X_test_positive, X_test_unlabeled])\n",
    "# y_test_L = np.concatenate([np.ones(y_test_positive.shape[0]), np.zeros(X_test_unlabeled.shape[0])])\n"
   ]
  },
  {
   "cell_type": "code",
   "execution_count": 8,
   "id": "1aa30798",
   "metadata": {},
   "outputs": [],
   "source": [
    "# X_test = np.concatenate([X_test_positive, X_negative])\n",
    "# y_test = np.concatenate([np.ones(y_test_positive.shape[0]), np.zeros(X_negative.shape[0])])"
   ]
  },
  {
   "cell_type": "code",
   "execution_count": 9,
   "id": "b47fa042",
   "metadata": {},
   "outputs": [
    {
     "data": {
      "text/plain": [
       "(array([1864.,    0.,    0.,    0.,    0.,    0.,    0.,    0.,    0.,\n",
       "        1182.]),\n",
       " array([0. , 0.1, 0.2, 0.3, 0.4, 0.5, 0.6, 0.7, 0.8, 0.9, 1. ]),\n",
       " <BarContainer object of 10 artists>)"
      ]
     },
     "execution_count": 9,
     "metadata": {},
     "output_type": "execute_result"
    },
    {
     "data": {
      "image/png": "[encoded data removed]",
      "text/plain": [
       "<Figure size 252x210 with 1 Axes>"
      ]
     },
     "metadata": {},
     "output_type": "display_data"
    }
   ],
   "source": [
    "# np.random.seed(seed)\n",
    "X = np.vstack([X_train_positive, X_unlabeled])\n",
    "y = np.concatenate([np.ones(X_train_positive.shape[0]), np.zeros(X_unlabeled.shape[0])])\n",
    "shuffler = np.random.permutation(len(X))\n",
    "X = X[shuffler]\n",
    "y = y[shuffler]\n",
    "model = build_model(None)\n",
    "plt.hist(y)"
   ]
  },
  {
   "cell_type": "code",
   "execution_count": 10,
   "id": "35b25c9d",
   "metadata": {
    "scrolled": false
   },
   "outputs": [
    {
     "name": "stdout",
     "output_type": "stream",
     "text": [
      "Epoch 1/200\n",
      "48/48 [==============================] - 11s 17ms/step - loss: 0.7020 - auc: 0.5369 - binary_accuracy: 0.5955 - F1Score: 0.5564\n",
      "Epoch 2/200\n",
      "48/48 [==============================] - 1s 16ms/step - loss: 0.6653 - auc: 0.5670 - binary_accuracy: 0.6097 - F1Score: 0.5568\n",
      "Epoch 3/200\n",
      "48/48 [==============================] - 1s 17ms/step - loss: 0.6513 - auc: 0.6183 - binary_accuracy: 0.6070 - F1Score: 0.5586\n",
      "Epoch 4/200\n",
      "48/48 [==============================] - 1s 17ms/step - loss: 0.6370 - auc: 0.6494 - binary_accuracy: 0.6267 - F1Score: 0.5570\n",
      "Epoch 5/200\n",
      "48/48 [==============================] - 1s 17ms/step - loss: 0.6230 - auc: 0.6694 - binary_accuracy: 0.6343 - F1Score: 0.5551\n",
      "Epoch 6/200\n",
      "48/48 [==============================] - 1s 17ms/step - loss: 0.6248 - auc: 0.6717 - binary_accuracy: 0.6445 - F1Score: 0.5553\n",
      "Epoch 7/200\n",
      "48/48 [==============================] - 1s 17ms/step - loss: 0.6086 - auc: 0.6972 - binary_accuracy: 0.6569 - F1Score: 0.5575\n",
      "Epoch 8/200\n",
      "48/48 [==============================] - 1s 17ms/step - loss: 0.6155 - auc: 0.6879 - binary_accuracy: 0.6451 - F1Score: 0.5581\n",
      "Epoch 9/200\n",
      "48/48 [==============================] - 1s 17ms/step - loss: 0.6082 - auc: 0.6964 - binary_accuracy: 0.6546 - F1Score: 0.5569\n",
      "Epoch 10/200\n",
      "48/48 [==============================] - 1s 17ms/step - loss: 0.5960 - auc: 0.7121 - binary_accuracy: 0.6586 - F1Score: 0.5571\n",
      "Epoch 11/200\n",
      "48/48 [==============================] - 1s 17ms/step - loss: 0.5969 - auc: 0.7110 - binary_accuracy: 0.6609 - F1Score: 0.5555\n",
      "Epoch 12/200\n",
      "48/48 [==============================] - 1s 17ms/step - loss: 0.5990 - auc: 0.7095 - binary_accuracy: 0.6592 - F1Score: 0.5563\n",
      "Epoch 13/200\n",
      "48/48 [==============================] - 1s 18ms/step - loss: 0.5957 - auc: 0.7096 - binary_accuracy: 0.6540 - F1Score: 0.5565\n",
      "Epoch 14/200\n",
      "48/48 [==============================] - 1s 18ms/step - loss: 0.5903 - auc: 0.7186 - binary_accuracy: 0.6609 - F1Score: 0.5561\n",
      "Epoch 15/200\n",
      "48/48 [==============================] - 1s 18ms/step - loss: 0.5835 - auc: 0.7255 - binary_accuracy: 0.6661 - F1Score: 0.5552\n",
      "Epoch 16/200\n",
      "48/48 [==============================] - 1s 17ms/step - loss: 0.5784 - auc: 0.7332 - binary_accuracy: 0.6793 - F1Score: 0.5554\n",
      "Epoch 17/200\n",
      "48/48 [==============================] - 1s 17ms/step - loss: 0.5763 - auc: 0.7360 - binary_accuracy: 0.6753 - F1Score: 0.5551\n",
      "Epoch 18/200\n",
      "48/48 [==============================] - 1s 17ms/step - loss: 0.5710 - auc: 0.7421 - binary_accuracy: 0.6838 - F1Score: 0.5579\n",
      "Epoch 19/200\n",
      "48/48 [==============================] - 1s 17ms/step - loss: 0.5740 - auc: 0.7460 - binary_accuracy: 0.6901 - F1Score: 0.5554\n",
      "Epoch 20/200\n",
      "48/48 [==============================] - 1s 17ms/step - loss: 0.5652 - auc: 0.7501 - binary_accuracy: 0.6835 - F1Score: 0.5575\n",
      "Epoch 21/200\n",
      "48/48 [==============================] - 1s 18ms/step - loss: 0.5686 - auc: 0.7476 - binary_accuracy: 0.6819 - F1Score: 0.5550\n",
      "Epoch 22/200\n",
      "48/48 [==============================] - 1s 18ms/step - loss: 0.5673 - auc: 0.7487 - binary_accuracy: 0.6773 - F1Score: 0.5566\n",
      "Epoch 23/200\n",
      "48/48 [==============================] - 1s 18ms/step - loss: 0.5604 - auc: 0.7547 - binary_accuracy: 0.6907 - F1Score: 0.5563\n",
      "Epoch 24/200\n",
      "48/48 [==============================] - 1s 17ms/step - loss: 0.5577 - auc: 0.7607 - binary_accuracy: 0.6852 - F1Score: 0.5569\n",
      "Epoch 25/200\n",
      "48/48 [==============================] - 1s 18ms/step - loss: 0.5558 - auc: 0.7608 - binary_accuracy: 0.6838 - F1Score: 0.5559\n",
      "Epoch 26/200\n",
      "48/48 [==============================] - 1s 17ms/step - loss: 0.5489 - auc: 0.7660 - binary_accuracy: 0.6904 - F1Score: 0.5565\n",
      "Epoch 27/200\n",
      "48/48 [==============================] - 1s 18ms/step - loss: 0.5446 - auc: 0.7732 - binary_accuracy: 0.7012 - F1Score: 0.5554\n",
      "Epoch 28/200\n",
      "48/48 [==============================] - 1s 17ms/step - loss: 0.5433 - auc: 0.7728 - binary_accuracy: 0.6960 - F1Score: 0.5563\n",
      "Epoch 29/200\n",
      "48/48 [==============================] - 1s 17ms/step - loss: 0.5391 - auc: 0.7748 - binary_accuracy: 0.7006 - F1Score: 0.5557\n",
      "Epoch 30/200\n",
      "48/48 [==============================] - 1s 18ms/step - loss: 0.5348 - auc: 0.7813 - binary_accuracy: 0.7029 - F1Score: 0.5571\n",
      "Epoch 31/200\n",
      "48/48 [==============================] - 1s 18ms/step - loss: 0.5307 - auc: 0.7836 - binary_accuracy: 0.7052 - F1Score: 0.5566\n",
      "Epoch 32/200\n",
      "48/48 [==============================] - 1s 18ms/step - loss: 0.5227 - auc: 0.7946 - binary_accuracy: 0.7173 - F1Score: 0.5559\n",
      "Epoch 33/200\n",
      "48/48 [==============================] - 1s 18ms/step - loss: 0.5211 - auc: 0.7970 - binary_accuracy: 0.7213 - F1Score: 0.5565\n",
      "Epoch 34/200\n",
      "48/48 [==============================] - 1s 18ms/step - loss: 0.5295 - auc: 0.7910 - binary_accuracy: 0.7141 - F1Score: 0.5567\n",
      "Epoch 35/200\n",
      "48/48 [==============================] - 1s 17ms/step - loss: 0.5179 - auc: 0.7966 - binary_accuracy: 0.7127 - F1Score: 0.5560\n",
      "Epoch 36/200\n",
      "48/48 [==============================] - 1s 18ms/step - loss: 0.5110 - auc: 0.8035 - binary_accuracy: 0.7242 - F1Score: 0.5567\n",
      "Epoch 37/200\n",
      "48/48 [==============================] - 1s 18ms/step - loss: 0.5157 - auc: 0.7998 - binary_accuracy: 0.7252 - F1Score: 0.5569\n",
      "Epoch 38/200\n",
      "48/48 [==============================] - 1s 18ms/step - loss: 0.5080 - auc: 0.8069 - binary_accuracy: 0.7295 - F1Score: 0.5564\n",
      "Epoch 39/200\n",
      "48/48 [==============================] - 1s 18ms/step - loss: 0.5071 - auc: 0.8070 - binary_accuracy: 0.7196 - F1Score: 0.5564\n",
      "Epoch 40/200\n",
      "48/48 [==============================] - 1s 18ms/step - loss: 0.5008 - auc: 0.8149 - binary_accuracy: 0.7298 - F1Score: 0.5566\n",
      "Epoch 41/200\n",
      "48/48 [==============================] - 1s 18ms/step - loss: 0.4936 - auc: 0.8201 - binary_accuracy: 0.7364 - F1Score: 0.5564\n",
      "Epoch 42/200\n",
      "48/48 [==============================] - 1s 17ms/step - loss: 0.5005 - auc: 0.8158 - binary_accuracy: 0.7360 - F1Score: 0.5562\n",
      "Epoch 43/200\n",
      "48/48 [==============================] - 1s 18ms/step - loss: 0.4951 - auc: 0.8204 - binary_accuracy: 0.7351 - F1Score: 0.5578\n",
      "Epoch 44/200\n",
      "48/48 [==============================] - 1s 17ms/step - loss: 0.4782 - auc: 0.8321 - binary_accuracy: 0.7459 - F1Score: 0.5559\n",
      "Epoch 45/200\n",
      "48/48 [==============================] - 1s 18ms/step - loss: 0.4774 - auc: 0.8316 - binary_accuracy: 0.7449 - F1Score: 0.5549\n",
      "Epoch 46/200\n",
      "48/48 [==============================] - 1s 18ms/step - loss: 0.4773 - auc: 0.8305 - binary_accuracy: 0.7308 - F1Score: 0.5563\n",
      "Epoch 47/200\n",
      "48/48 [==============================] - 1s 18ms/step - loss: 0.4727 - auc: 0.8374 - binary_accuracy: 0.7557 - F1Score: 0.5562\n",
      "Epoch 48/200\n",
      "48/48 [==============================] - 1s 19ms/step - loss: 0.4785 - auc: 0.8332 - binary_accuracy: 0.7489 - F1Score: 0.5564\n",
      "Epoch 49/200\n",
      "48/48 [==============================] - 1s 19ms/step - loss: 0.4708 - auc: 0.8363 - binary_accuracy: 0.7452 - F1Score: 0.5561\n",
      "Epoch 50/200\n",
      "48/48 [==============================] - 1s 18ms/step - loss: 0.4730 - auc: 0.8374 - binary_accuracy: 0.7518 - F1Score: 0.5547\n",
      "Epoch 51/200\n",
      "48/48 [==============================] - 1s 18ms/step - loss: 0.4600 - auc: 0.8448 - binary_accuracy: 0.7531 - F1Score: 0.5577\n",
      "Epoch 52/200\n",
      "48/48 [==============================] - 1s 18ms/step - loss: 0.4614 - auc: 0.8447 - binary_accuracy: 0.7525 - F1Score: 0.5557\n",
      "Epoch 53/200\n",
      "48/48 [==============================] - 1s 18ms/step - loss: 0.4446 - auc: 0.8574 - binary_accuracy: 0.7692 - F1Score: 0.5568\n",
      "Epoch 54/200\n",
      "48/48 [==============================] - 1s 18ms/step - loss: 0.4543 - auc: 0.8493 - binary_accuracy: 0.7580 - F1Score: 0.5569\n",
      "Epoch 55/200\n",
      "48/48 [==============================] - 1s 18ms/step - loss: 0.4389 - auc: 0.8593 - binary_accuracy: 0.7633 - F1Score: 0.5545\n",
      "Epoch 56/200\n",
      "48/48 [==============================] - 1s 19ms/step - loss: 0.4440 - auc: 0.8563 - binary_accuracy: 0.7620 - F1Score: 0.5569\n",
      "Epoch 57/200\n",
      "48/48 [==============================] - 1s 18ms/step - loss: 0.4413 - auc: 0.8609 - binary_accuracy: 0.7702 - F1Score: 0.5562\n",
      "Epoch 58/200\n",
      "48/48 [==============================] - 1s 17ms/step - loss: 0.4381 - auc: 0.8613 - binary_accuracy: 0.7699 - F1Score: 0.5570\n",
      "Epoch 59/200\n"
     ]
    },
    {
     "name": "stdout",
     "output_type": "stream",
     "text": [
      "48/48 [==============================] - 1s 18ms/step - loss: 0.4236 - auc: 0.8725 - binary_accuracy: 0.7771 - F1Score: 0.5568\n",
      "Epoch 60/200\n",
      "48/48 [==============================] - 1s 19ms/step - loss: 0.4214 - auc: 0.8718 - binary_accuracy: 0.7797 - F1Score: 0.5561\n",
      "Epoch 61/200\n",
      "48/48 [==============================] - 1s 18ms/step - loss: 0.4166 - auc: 0.8773 - binary_accuracy: 0.7938 - F1Score: 0.5566\n",
      "Epoch 62/200\n",
      "48/48 [==============================] - 1s 18ms/step - loss: 0.4231 - auc: 0.8723 - binary_accuracy: 0.7863 - F1Score: 0.5572\n",
      "Epoch 63/200\n",
      "48/48 [==============================] - 1s 19ms/step - loss: 0.4136 - auc: 0.8796 - binary_accuracy: 0.7905 - F1Score: 0.5566\n",
      "Epoch 64/200\n",
      "48/48 [==============================] - 1s 19ms/step - loss: 0.4159 - auc: 0.8771 - binary_accuracy: 0.7817 - F1Score: 0.5571\n",
      "Epoch 65/200\n",
      "48/48 [==============================] - 1s 19ms/step - loss: 0.4052 - auc: 0.8829 - binary_accuracy: 0.7892 - F1Score: 0.5544\n",
      "Epoch 66/200\n",
      "48/48 [==============================] - 1s 19ms/step - loss: 0.3995 - auc: 0.8860 - binary_accuracy: 0.7886 - F1Score: 0.5572\n",
      "Epoch 67/200\n",
      "48/48 [==============================] - 1s 18ms/step - loss: 0.3982 - auc: 0.8864 - binary_accuracy: 0.7889 - F1Score: 0.5561\n",
      "Epoch 68/200\n",
      "48/48 [==============================] - 1s 18ms/step - loss: 0.3925 - auc: 0.8896 - binary_accuracy: 0.7932 - F1Score: 0.5567\n",
      "Epoch 69/200\n",
      "48/48 [==============================] - 1s 19ms/step - loss: 0.3943 - auc: 0.8869 - binary_accuracy: 0.7882 - F1Score: 0.5569\n",
      "Epoch 70/200\n",
      "48/48 [==============================] - 1s 19ms/step - loss: 0.3815 - auc: 0.8957 - binary_accuracy: 0.7978 - F1Score: 0.5554\n",
      "Epoch 71/200\n",
      "48/48 [==============================] - 1s 19ms/step - loss: 0.3981 - auc: 0.8859 - binary_accuracy: 0.7879 - F1Score: 0.5563\n",
      "Epoch 72/200\n",
      "48/48 [==============================] - 1s 18ms/step - loss: 0.3921 - auc: 0.8912 - binary_accuracy: 0.8017 - F1Score: 0.5571\n",
      "Epoch 73/200\n",
      "48/48 [==============================] - 1s 19ms/step - loss: 0.3780 - auc: 0.8983 - binary_accuracy: 0.8011 - F1Score: 0.5557\n",
      "Epoch 74/200\n",
      "48/48 [==============================] - 1s 18ms/step - loss: 0.3843 - auc: 0.8947 - binary_accuracy: 0.8033 - F1Score: 0.5567\n",
      "Epoch 75/200\n",
      "48/48 [==============================] - 1s 19ms/step - loss: 0.3687 - auc: 0.9052 - binary_accuracy: 0.8132 - F1Score: 0.5560\n",
      "Epoch 76/200\n",
      "48/48 [==============================] - 1s 19ms/step - loss: 0.3642 - auc: 0.9067 - binary_accuracy: 0.8125 - F1Score: 0.5577\n",
      "Epoch 77/200\n",
      "48/48 [==============================] - 1s 19ms/step - loss: 0.3655 - auc: 0.9042 - binary_accuracy: 0.8089 - F1Score: 0.5557\n",
      "Epoch 78/200\n",
      "48/48 [==============================] - 1s 19ms/step - loss: 0.3606 - auc: 0.9073 - binary_accuracy: 0.8158 - F1Score: 0.5544\n",
      "Epoch 79/200\n",
      "48/48 [==============================] - 1s 18ms/step - loss: 0.3648 - auc: 0.9053 - binary_accuracy: 0.8132 - F1Score: 0.5580\n",
      "Epoch 80/200\n",
      "48/48 [==============================] - 1s 18ms/step - loss: 0.3572 - auc: 0.9097 - binary_accuracy: 0.8155 - F1Score: 0.5555\n",
      "Epoch 81/200\n",
      "48/48 [==============================] - 1s 19ms/step - loss: 0.3578 - auc: 0.9097 - binary_accuracy: 0.8181 - F1Score: 0.5557\n",
      "Epoch 82/200\n",
      "48/48 [==============================] - 1s 19ms/step - loss: 0.3602 - auc: 0.9087 - binary_accuracy: 0.8148 - F1Score: 0.5563\n",
      "Epoch 83/200\n",
      "48/48 [==============================] - 1s 19ms/step - loss: 0.3517 - auc: 0.9119 - binary_accuracy: 0.8152 - F1Score: 0.5565\n",
      "Epoch 84/200\n",
      "48/48 [==============================] - 1s 19ms/step - loss: 0.3525 - auc: 0.9131 - binary_accuracy: 0.8178 - F1Score: 0.5563\n",
      "Epoch 85/200\n",
      "48/48 [==============================] - 1s 19ms/step - loss: 0.3468 - auc: 0.9142 - binary_accuracy: 0.8162 - F1Score: 0.5563\n",
      "Epoch 86/200\n",
      "48/48 [==============================] - 1s 19ms/step - loss: 0.3402 - auc: 0.9182 - binary_accuracy: 0.8237 - F1Score: 0.5572\n",
      "Epoch 87/200\n",
      "48/48 [==============================] - 1s 19ms/step - loss: 0.3384 - auc: 0.9185 - binary_accuracy: 0.8227 - F1Score: 0.5571\n",
      "Epoch 88/200\n",
      "48/48 [==============================] - 1s 19ms/step - loss: 0.3354 - auc: 0.9201 - binary_accuracy: 0.8253 - F1Score: 0.5564\n",
      "Epoch 89/200\n",
      "48/48 [==============================] - 1s 19ms/step - loss: 0.3431 - auc: 0.9164 - binary_accuracy: 0.8201 - F1Score: 0.5559\n",
      "Epoch 90/200\n",
      "48/48 [==============================] - 1s 18ms/step - loss: 0.3310 - auc: 0.9236 - binary_accuracy: 0.8296 - F1Score: 0.5562\n",
      "Epoch 91/200\n",
      "48/48 [==============================] - 1s 18ms/step - loss: 0.3281 - auc: 0.9246 - binary_accuracy: 0.8313 - F1Score: 0.5575\n",
      "Epoch 92/200\n",
      "48/48 [==============================] - 1s 18ms/step - loss: 0.3247 - auc: 0.9264 - binary_accuracy: 0.8336 - F1Score: 0.5564\n",
      "Epoch 93/200\n",
      "48/48 [==============================] - 1s 18ms/step - loss: 0.3301 - auc: 0.9240 - binary_accuracy: 0.8329 - F1Score: 0.5574\n",
      "Epoch 94/200\n",
      "48/48 [==============================] - 1s 19ms/step - loss: 0.3115 - auc: 0.9321 - binary_accuracy: 0.8431 - F1Score: 0.5571\n",
      "Epoch 95/200\n",
      "48/48 [==============================] - 1s 18ms/step - loss: 0.3203 - auc: 0.9276 - binary_accuracy: 0.8418 - F1Score: 0.5575\n",
      "Epoch 96/200\n",
      "48/48 [==============================] - 1s 19ms/step - loss: 0.3188 - auc: 0.9297 - binary_accuracy: 0.8372 - F1Score: 0.5566\n",
      "Epoch 97/200\n",
      "48/48 [==============================] - 1s 19ms/step - loss: 0.3046 - auc: 0.9343 - binary_accuracy: 0.8431 - F1Score: 0.5565\n",
      "Epoch 98/200\n",
      "48/48 [==============================] - 1s 19ms/step - loss: 0.3054 - auc: 0.9340 - binary_accuracy: 0.8444 - F1Score: 0.5543\n",
      "Epoch 99/200\n",
      "48/48 [==============================] - 1s 19ms/step - loss: 0.3197 - auc: 0.9278 - binary_accuracy: 0.8322 - F1Score: 0.5570\n",
      "Epoch 100/200\n",
      "48/48 [==============================] - 1s 19ms/step - loss: 0.3038 - auc: 0.9360 - binary_accuracy: 0.8490 - F1Score: 0.5562\n",
      "Epoch 101/200\n",
      "48/48 [==============================] - 1s 18ms/step - loss: 0.3150 - auc: 0.9296 - binary_accuracy: 0.8365 - F1Score: 0.5550\n",
      "Epoch 102/200\n",
      "48/48 [==============================] - 1s 18ms/step - loss: 0.3075 - auc: 0.9332 - binary_accuracy: 0.8434 - F1Score: 0.5563\n",
      "Epoch 103/200\n",
      "48/48 [==============================] - 1s 18ms/step - loss: 0.2985 - auc: 0.9378 - binary_accuracy: 0.8473 - F1Score: 0.5560\n",
      "Epoch 104/200\n",
      "48/48 [==============================] - 1s 19ms/step - loss: 0.3073 - auc: 0.9340 - binary_accuracy: 0.8398 - F1Score: 0.5566\n"
     ]
    }
   ],
   "source": [
    "train_model = False\n",
    "decay_epochs = 50\n",
    "decay_steps = len(X)  // 16 * decay_epochs\n",
    "lr_decayed_fn = tf.keras.optimizers.schedules.CosineDecay(\n",
    "      config.lr, decay_steps, alpha=1e-3)\n",
    "opt = tf.optimizers.Adam(lr_decayed_fn)\n",
    "\n",
    "if train_model:\n",
    "    model = build_model(None)\n",
    "    tf.keras.backend.clear_session()\n",
    "    early_stopping = tf.keras.callbacks.EarlyStopping(monitor='auc', patience=10, min_delta=1e-2, restore_best_weights=True)\n",
    "    focal_loss  = tf.keras.losses.BinaryFocalCrossentropy(\n",
    "                gamma=5, from_logits=False,  apply_class_balancing=True\n",
    "                )\n",
    "    model.compile(\n",
    "        optimizer=opt,\n",
    "        loss=tf.keras.losses.BinaryCrossentropy(from_logits=False),\n",
    "    #     loss = focal_loss,\n",
    "        metrics=[tf.keras.metrics.AUC(from_logits=False), tf.keras.metrics.BinaryAccuracy(threshold=0.5), F1Score()],\n",
    "        )\n",
    "    history = model.fit(\n",
    "        [X, np.array([counts_aa(xi) for xi in X])] , y,\n",
    "    #         validation_data=([X_test_L, np.array([counts_aa(xi) for xi in X_test_L])] , y_test_L),\n",
    "        epochs=200,\n",
    "        batch_size=64,\n",
    "        callbacks=[early_stopping],\n",
    "        verbose=1,\n",
    "    )\n",
    "#     # serialize model to JSON\n",
    "#     inference_model_json = model.to_json()\n",
    "#     with open(\"../saved_models/hemo-rnn/elkan_noto_model.json\", \"w\") as json_file:\n",
    "#         json_file.write(inference_model_json)\n",
    "#     # serialize weights to HDF5\n",
    "#     model.save_weights(\"../saved_models/hemo-rnn/elkan_noto_model_weights.h5\")\n",
    "    \n",
    "else:\n",
    "    # Inference model\n",
    "    import keras\n",
    "    # load json and create model\n",
    "    json_file = open('../saved_models/hemo-rnn/elkan_noto_model.json', 'r')\n",
    "    loaded_model_json = json_file.read()\n",
    "    json_file.close()\n",
    "    model = keras.models.model_from_json(loaded_model_json)\n",
    "    best_accuracy_threshold = 0.73\n",
    "    model.compile(\n",
    "        optimizer=opt,\n",
    "        loss=tf.keras.losses.BinaryCrossentropy(from_logits=False),\n",
    "    #     loss = focal_loss,\n",
    "        metrics=[tf.keras.metrics.AUC(from_logits=False), tf.keras.metrics.BinaryAccuracy(threshold=best_accuracy_threshold), F1Score()],\n",
    "        )\n",
    "\n",
    "    # load weights into new model\n",
    "    model.load_weights(\"../saved_models/hemo-rnn/elkan_noto_model_weights.h5\")"
   ]
  },
  {
   "cell_type": "code",
   "execution_count": 11,
   "id": "2cc75be2",
   "metadata": {},
   "outputs": [
    {
     "name": "stdout",
     "output_type": "stream",
     "text": [
      "5/5 [==============================] - 3s 6ms/step\n",
      "0.58521175\n"
     ]
    }
   ],
   "source": [
    "# 0.9572 \n",
    "c = np.mean(model.predict([X_val_positive, np.array([counts_aa(xi) for xi in X_val_positive])]))\n",
    "print(c)"
   ]
  },
  {
   "cell_type": "code",
   "execution_count": 12,
   "id": "56499629",
   "metadata": {},
   "outputs": [
    {
     "name": "stdout",
     "output_type": "stream",
     "text": [
      "192/192 [==============================] - 1s 5ms/step\n"
     ]
    }
   ],
   "source": [
    "X_test = np.concatenate([X_test_positive, X_test_negative])\n",
    "y_test = np.concatenate([np.ones(X_test_positive.shape[0]), np.zeros(X_test_negative.shape[0])])\n",
    "yhat_test =  model.predict([X_test, np.array([counts_aa(xi) for xi in X_test])])#/c\n",
    "# yhat_test = [0 if y < 0.5 else 1 for y in yhat_test ]"
   ]
  },
  {
   "cell_type": "code",
   "execution_count": 13,
   "id": "e12a0a12",
   "metadata": {},
   "outputs": [
    {
     "data": {
      "text/plain": [
       "<matplotlib.legend.Legend at 0x7fc4e85389a0>"
      ]
     },
     "execution_count": 13,
     "metadata": {},
     "output_type": "execute_result"
    },
    {
     "data": {
      "image/png": "[encoded data removed]",
      "text/plain": [
       "<Figure size 252x210 with 1 Axes>"
      ]
     },
     "metadata": {},
     "output_type": "display_data"
    }
   ],
   "source": [
    "plt.hist(yhat_test, label='predicted', alpha=0.5, bins=10)\n",
    "plt.hist(y_test, label='true', alpha=0.5, bins=10)\n",
    "plt.legend()"
   ]
  },
  {
   "cell_type": "code",
   "execution_count": 14,
   "id": "8bf6fff1",
   "metadata": {},
   "outputs": [
    {
     "name": "stdout",
     "output_type": "stream",
     "text": [
      "Best Threshold=0.417289, G-Mean=0.747\n",
      "Accuracy: 0.727\n",
      "F1 Score: 0.478\n",
      "AUC: 0.784\n"
     ]
    },
    {
     "data": {
      "text/plain": [
       "<matplotlib.legend.Legend at 0x7fc4e847df70>"
      ]
     },
     "execution_count": 14,
     "metadata": {},
     "output_type": "execute_result"
    },
    {
     "data": {
      "image/png": "[encoded data removed]",
      "text/plain": [
       "<Figure size 700x583.333 with 1 Axes>"
      ]
     },
     "metadata": {},
     "output_type": "display_data"
    }
   ],
   "source": [
    "from sklearn.metrics import roc_auc_score\n",
    "from sklearn.metrics import roc_curve\n",
    "from sklearn.metrics import accuracy_score\n",
    "from sklearn.metrics import f1_score\n",
    "\n",
    "fpr, tpr, thresholds = roc_curve(y_test, yhat_test, drop_intermediate=False)\n",
    "# calculate the g-mean for each threshold\n",
    "gmeans = np.sqrt(tpr * (1-fpr))\n",
    "# locate the index of the largest g-mean\n",
    "ix = np.argmax(gmeans)\n",
    "best_accuracy_threshold = thresholds[ix]\n",
    "print('Best Threshold=%f, G-Mean=%.3f' % (thresholds[ix], gmeans[ix]))\n",
    "adjusted_y_hat_test = [1 if m>best_accuracy_threshold else 0 for m in yhat_test]\n",
    "acc = accuracy_score(y_test, adjusted_y_hat_test, normalize=True)\n",
    "print(f'Accuracy: {acc:.3f}')\n",
    "f1 = f1_score(y_test, adjusted_y_hat_test, average='macro')\n",
    "print(f'F1 Score: {f1:.3f}')\n",
    "auc = roc_auc_score(y_test, yhat_test, average='macro')\n",
    "print(f'AUC: {auc:.3f}')\n",
    "plt.figure(dpi=200)\n",
    "plt.hist(adjusted_y_hat_test, label='predicted', alpha=0.5, bins=10)\n",
    "plt.hist(y_test, label='true', alpha=0.5, bins=10)\n",
    "plt.legend()"
   ]
  },
  {
   "cell_type": "code",
   "execution_count": 15,
   "id": "594bfb69",
   "metadata": {},
   "outputs": [
    {
     "name": "stdout",
     "output_type": "stream",
     "text": [
      "\n",
      "Best ghostml Threshold=%f, 0.59\n",
      "Accuracy: 0.818\n",
      "F1 Score: 0.517\n",
      "AUC: 0.784\n"
     ]
    },
    {
     "data": {
      "text/plain": [
       "<matplotlib.legend.Legend at 0x7fc4e8411bb0>"
      ]
     },
     "execution_count": 15,
     "metadata": {},
     "output_type": "execute_result"
    },
    {
     "data": {
      "image/png": "[encoded data removed]",
      "text/plain": [
       "<Figure size 700x583.333 with 1 Axes>"
      ]
     },
     "metadata": {},
     "output_type": "display_data"
    }
   ],
   "source": [
    "import ghostml\n",
    "from sklearn.metrics import roc_auc_score\n",
    "from sklearn.metrics import roc_curve\n",
    "from sklearn.metrics import accuracy_score\n",
    "from sklearn.metrics import f1_score\n",
    "\n",
    "# train_probs = model_2.predict([NP, np.array([counts_aa(xi) for xi in NP])])\n",
    "thresholds = np.round(np.arange(0.1,0.95,0.005),2)\n",
    "threshold1 = ghostml.optimize_threshold_from_predictions(y_test, yhat_test[:,0], thresholds, ThOpt_metrics = 'Kappa')\n",
    "print(f'\\nBest ghostml Threshold=%f, {threshold1}')\n",
    "best_accuracy_threshold = threshold1\n",
    "adjusted_y_hat_test = [1 if m>best_accuracy_threshold else 0 for m in yhat_test]\n",
    "acc = accuracy_score(y_test, adjusted_y_hat_test, normalize=True)\n",
    "print(f'Accuracy: {acc:.3f}')\n",
    "f1 = f1_score(y_test, adjusted_y_hat_test, average='macro')\n",
    "print(f'F1 Score: {f1:.3f}')\n",
    "auc = roc_auc_score(y_test, yhat_test, average='macro')\n",
    "print(f'AUC: {auc:.3f}')\n",
    "\n",
    "plt.figure(dpi=200)\n",
    "plt.hist(adjusted_y_hat_test, label='predicted', alpha=0.5, bins=10)\n",
    "plt.hist(y_test, label='true', alpha=0.5, bins=10)\n",
    "plt.legend()"
   ]
  },
  {
   "cell_type": "code",
   "execution_count": 16,
   "id": "9df73cce",
   "metadata": {},
   "outputs": [
    {
     "data": {
      "image/png": "[encoded data removed]",
      "text/plain": [
       "<Figure size 700x583.333 with 2 Axes>"
      ]
     },
     "metadata": {},
     "output_type": "display_data"
    }
   ],
   "source": [
    "from sklearn.metrics import confusion_matrix\n",
    "cm = confusion_matrix(y_test, adjusted_y_hat_test, normalize='true')\n",
    "# fig = plt.figure(dpi= 200)\n",
    "plt.figure(dpi=200)\n",
    "sns.heatmap(np.round(cm, 2), annot=True, fmt='g', ax=plt.gca(), cmap=\"crest\");  #annot=True to annotate cells, ftm='g' to disable scientific notation\n",
    "\n",
    "# labels, title and ticks\n",
    "ax=plt.gca()\n",
    "ax.set_xlabel('Predicted labels');ax.set_ylabel('True labels'); \n",
    "ax.set_title('Confusion Matrix'); \n"
   ]
  },
  {
   "cell_type": "code",
   "execution_count": null,
   "id": "2ce5f08c",
   "metadata": {},
   "outputs": [],
   "source": []
  }
 ],
 "metadata": {
  "kernelspec": {
   "display_name": "Python 3",
   "language": "python",
   "name": "python3"
  },
  "language_info": {
   "codemirror_mode": {
    "name": "ipython",
    "version": 3
   },
   "file_extension": ".py",
   "mimetype": "text/x-python",
   "name": "python",
   "nbconvert_exporter": "python",
   "pygments_lexer": "ipython3",
   "version": "3.8.13"
  }
 },
 "nbformat": 4,
 "nbformat_minor": 5
}
