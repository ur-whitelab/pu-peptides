{
 "cells": [
  {
   "cell_type": "code",
   "execution_count": 1,
   "id": "00b6cdd2",
   "metadata": {},
   "outputs": [],
   "source": [
    "import matplotlib.pyplot as plt\n",
    "import matplotlib.font_manager as font_manager\n",
    "import urllib.request\n",
    "import matplotlib as mpl\n",
    "import numpy as np\n",
    "import os\n",
    "os.environ['TF_CPP_MIN_LOG_LEVEL'] = '3' \n",
    "import tensorflow as tf\n",
    "tf.get_logger().setLevel('INFO')\n",
    "gpus = tf.config.experimental.list_physical_devices(device_type='GPU')\n",
    "tf.config.experimental.set_visible_devices(devices=gpus[1], device_type='GPU')\n",
    "tf.config.experimental.set_memory_growth(device=gpus[1], enable=True)\n",
    "import urllib\n",
    "from dataclasses import dataclass\n",
    "# import tensorflowjs as tfjs\n",
    "# import tensorflow_decision_forests as tfdf\n",
    "import json\n",
    "from tqdm import tqdm\n",
    "import seaborn as sns\n",
    "import sys\n",
    "np.random.seed(0)\n",
    "urllib.request.urlretrieve('https://github.com/google/fonts/raw/main/ofl/ibmplexmono/IBMPlexMono-Regular.ttf', 'IBMPlexMono-Regular.ttf')\n",
    "fe = font_manager.FontEntry(\n",
    "    fname='IBMPlexMono-Regular.ttf',\n",
    "    name='plexmono')\n",
    "font_manager.fontManager.ttflist.append(fe)\n",
    "plt.rcParams.update({'axes.facecolor':'#f5f4e9', \n",
    "            'grid.color' : '#AAAAAA', \n",
    "            'axes.edgecolor':'#333333', \n",
    "            'figure.facecolor':'#FFFFFF', \n",
    "            'axes.grid': False,\n",
    "            'axes.prop_cycle':   plt.cycler('color', plt.cm.Dark2.colors),\n",
    "            'font.family': fe.name,\n",
    "            'figure.figsize': (3.5,3.5 / 1.2),\n",
    "            'ytick.left': True,\n",
    "            'xtick.bottom': True   \n",
    "           })"
   ]
  },
  {
   "cell_type": "code",
   "execution_count": 2,
   "id": "8236e84e",
   "metadata": {},
   "outputs": [
    {
     "name": "stdout",
     "output_type": "stream",
     "text": [
      "Num GPUs Available:  2\n"
     ]
    }
   ],
   "source": [
    "print(\"Num GPUs Available: \", len(tf.config.list_physical_devices('GPU')))"
   ]
  },
  {
   "cell_type": "code",
   "execution_count": 3,
   "id": "a68cbcd4",
   "metadata": {},
   "outputs": [],
   "source": [
    "urllib.request.urlretrieve(\n",
    "    \"https://github.com/ur-whitelab/peptide-dashboard/raw/master/ml/data/hemo-positive.npz\",\n",
    "    \"positive.npz\",\n",
    ")\n",
    "urllib.request.urlretrieve(\n",
    "    \"https://github.com/ur-whitelab/peptide-dashboard/raw/master/ml/data/hemo-negative.npz\",\n",
    "    \"negative.npz\",\n",
    ")\n",
    "with np.load(\"positive.npz\") as r:\n",
    "    pos_data = r[list(r.keys())[0]]\n",
    "with np.load(\"negative.npz\") as r:\n",
    "    neg_data = r[list(r.keys())[0]]\n",
    "    \n"
   ]
  },
  {
   "cell_type": "code",
   "execution_count": 4,
   "id": "7d60345b",
   "metadata": {},
   "outputs": [
    {
     "name": "stdout",
     "output_type": "stream",
     "text": [
      "(1182, 190) (132, 190) (146, 190) (5992, 190) (1864, 190)\n",
      "Positive data: 1826\n",
      "Negative data: 7490\n",
      "Unlabeled data: 1864\n"
     ]
    }
   ],
   "source": [
    "def split_train_test_data(pos, neg, test_size_pos=0.1, val_size=0.1, unlabeled_size=0.2, seed=None):\n",
    "    np.random.seed(seed)\n",
    "    np.random.shuffle(pos)\n",
    "    np.random.shuffle(neg)\n",
    "    from sklearn.model_selection import train_test_split\n",
    "    pos, unlabeled_p, _, _ = train_test_split(pos, np.ones(pos.shape[0]),\n",
    "                                                                        test_size=unlabeled_size, random_state=seed)\n",
    "    X_test_negative, unlabeled_n, _, _ = train_test_split(neg, np.zeros(neg.shape[0]),\n",
    "                                                                    test_size=unlabeled_size, random_state=seed)\n",
    "    X_train_positive, X_test_positive, _, _ = train_test_split(pos, np.ones(pos.shape[0]),\n",
    "                                                                                        test_size=test_size_pos, random_state=seed)\n",
    "    X_train_positive, X_val_positive, _, _ = train_test_split(X_train_positive, np.ones(X_train_positive.shape[0]),\n",
    "                                                                                    test_size=val_size, random_state=seed)\n",
    "    X_unlabeled = np.concatenate([unlabeled_p, unlabeled_n])\n",
    "    np.random.shuffle(X_unlabeled)\n",
    "    \n",
    "    print(X_train_positive.shape, X_val_positive.shape, X_test_positive.shape, X_test_negative.shape,  X_unlabeled.shape)\n",
    "    return X_train_positive, X_val_positive, X_test_positive, X_test_negative, X_unlabeled\n",
    "\n",
    "seed = 0\n",
    "X_train_positive, X_val_positive, X_test_positive, X_test_negative, X_unlabeled = split_train_test_data(pos_data, neg_data, seed=seed)\n",
    "\n",
    "print('Positive data:', pos_data.shape[0])\n",
    "print('Negative data:', neg_data.shape[0])\n",
    "print('Unlabeled data:', len(X_unlabeled))"
   ]
  },
  {
   "cell_type": "code",
   "execution_count": 5,
   "id": "21c51694",
   "metadata": {},
   "outputs": [],
   "source": [
    "\n",
    "# def build_fakes(n, data):\n",
    "#     result = []\n",
    "#     for _ in range(n):\n",
    "#         # sample this many subsequences\n",
    "#         k = np.clip(np.random.poisson(1), 0, len(data) - 2) + 2\n",
    "#         idx = np.random.choice(range(len(data)), replace=False, size=k)                        \n",
    "#         seq = []\n",
    "#         lengths = []\n",
    "#         # cut-up k into one new sequence\n",
    "#         for i in range(k):\n",
    "#             if np.argmin(data[idx[i]]) > 1:\n",
    "#                 lengths.append(np.ceil(2 * np.random.randint(1, np.argmin(data[idx[i]])) / k).astype(int))\n",
    "#                 j = np.random.randint(0, np.argmin(data[idx[i]]) - lengths[i])\n",
    "#             else:\n",
    "#                 lengths.append(1)\n",
    "#                 j = 0\n",
    "#             seq.append(data[idx[i]][j:j+lengths[i]])\n",
    "#         # pad out    \n",
    "#         seq.append([0] * (len(data[0]) - sum(lengths)))\n",
    "#         # print(seq)\n",
    "#         result.append(np.concatenate(seq))\n",
    "#         # print(result)\n",
    "#         # break\n",
    "#     return np.array(result)\n",
    "# sampled_vecs = build_fakes(pos_data.shape[0]*20, pos_data)\n",
    "\n",
    "\n"
   ]
  },
  {
   "cell_type": "code",
   "execution_count": 6,
   "id": "1e2f9c00",
   "metadata": {},
   "outputs": [],
   "source": [
    "\n",
    "@dataclass\n",
    "class Config:\n",
    "    vocab_size: int\n",
    "    example_number: int\n",
    "    batch_size: int\n",
    "    buffer_size: int\n",
    "    rnn_units: int\n",
    "    hidden_dim: int\n",
    "    embedding_dim: int\n",
    "    reg_strength: float\n",
    "    lr: float\n",
    "    drop_rate: float\n",
    "        \n",
    "config = Config(vocab_size=21, # include gap\n",
    "                example_number=len(pos_data), \n",
    "                batch_size=256, \n",
    "                buffer_size=10000,\n",
    "                rnn_units=64,\n",
    "                hidden_dim=64,\n",
    "                embedding_dim=32,\n",
    "                reg_strength=0,\n",
    "                lr=1e-3,\n",
    "                drop_rate=0.1\n",
    "               )\n",
    "\n",
    "def counts_aa(vec):\n",
    "    counts =  tf.histogram_fixed_width(vec, [0, 20], nbins=21)[1:]\n",
    "    return counts/tf.reduce_sum(counts)\n",
    "\n",
    "def build_model(L):\n",
    "    inputs = tf.keras.Input(shape=(L,))\n",
    "    input_f = tf.keras.Input(shape=(20,))\n",
    "    # make embedding and indicate that 0 should be treated as padding mask\n",
    "    e = tf.keras.layers.Embedding(input_dim=config.vocab_size, \n",
    "                                        output_dim=config.embedding_dim,\n",
    "                                        mask_zero=True)(inputs)\n",
    "\n",
    "    # RNN layer\n",
    "    x = tf.keras.layers.Bidirectional(tf.keras.layers.LSTM(config.rnn_units, return_sequences=True))(e)\n",
    "    x = tf.keras.layers.Bidirectional(tf.keras.layers.LSTM(config.rnn_units))(x)\n",
    "    x = tf.keras.layers.Concatenate()([x, input_f])\n",
    "    x = tf.keras.layers.LayerNormalization()(x)\n",
    "    x = tf.keras.layers.Dropout(config.drop_rate)(x)\n",
    "    # a dense hidden layer\n",
    "    x = tf.keras.layers.Dense(\n",
    "        config.hidden_dim, \n",
    "        activation='relu', \n",
    "        kernel_regularizer=tf.keras.regularizers.l2(config.reg_strength))(x)\n",
    "    x = tf.keras.layers.LayerNormalization()(x)\n",
    "    x = tf.keras.layers.Dropout(config.drop_rate)(x)\n",
    "    x = tf.keras.layers.Dense(\n",
    "        config.hidden_dim // 4, \n",
    "        activation='relu', \n",
    "        kernel_regularizer=tf.keras.regularizers.l2(config.reg_strength))(x)\n",
    "    x = tf.keras.layers.LayerNormalization()(x)\n",
    "    x = tf.keras.layers.Dropout(config.drop_rate)(x)\n",
    "    # predicting prob, so no activation\n",
    "    yhat = tf.keras.layers.Dense(1, activation='sigmoid')(x)\n",
    "\n",
    "    model = tf.keras.Model(inputs=[inputs, input_f], outputs=yhat, name='hemo-rnn')\n",
    "    return model\n",
    "\n",
    "class F1Score(tf.keras.metrics.Metric):\n",
    "  def __init__(self, name='F1Score', **kwargs):\n",
    "    super(F1Score, self).__init__(name=name, **kwargs)\n",
    "    self.f1score = self.add_weight(name='F1Score', initializer='zeros')\n",
    "    self.count = self.add_weight(name='F1ScoreCount', initializer='zeros')\n",
    "\n",
    "  def update_state(self, y_true, y_pred, sample_weight=None):\n",
    "    import keras.backend as K\n",
    "    y_true = tf.cast(y_true, tf.bool)\n",
    "    y_pred = tf.cast(y_pred, tf.bool)\n",
    "\n",
    "    true_positives = tf.logical_and(tf.equal(y_true, True), tf.equal(y_pred, True))\n",
    "    true_positives = tf.cast(true_positives, self.dtype)\n",
    "    count_true_positives = tf.reduce_sum(true_positives)\n",
    "\n",
    "    possible_positives = tf.cast(y_true, self.dtype)\n",
    "    count_possible_positives = tf.reduce_sum(possible_positives)\n",
    "\n",
    "    predicted_positives = tf.cast(y_pred, self.dtype)\n",
    "    count_predicted_positives = tf.reduce_sum(predicted_positives)\n",
    "\n",
    "    precision = count_true_positives / (count_predicted_positives + K.epsilon())\n",
    "    recall = count_true_positives / (count_possible_positives + K.epsilon())\n",
    "    f1_cal = 2*(precision*recall)/(precision + recall + K.epsilon())\n",
    "\n",
    "    self.count.assign_add(1)\n",
    "    a = 1.0 / self.count\n",
    "    b = 1.0 - a\n",
    "    self.f1score.assign(a*f1_cal+b*self.f1score)\n",
    "\n",
    "  def result(self):\n",
    "    return self.f1score"
   ]
  },
  {
   "cell_type": "code",
   "execution_count": 7,
   "id": "62a4f5f0",
   "metadata": {},
   "outputs": [],
   "source": [
    "# from sklearn.model_selection import train_test_split\n",
    "# X_train_positive, X_test_positive, y_train_positive, y_test_positive = train_test_split(X_positive, np.ones(X_positive.shape[0]),\n",
    "#                                                                                         test_size=0.1, random_state=42)\n",
    "# X_train_unlabeled, X_test_unlabeled, y_train_unlabeled, y_test_unlabeled = train_test_split(X_unlabeled, np.zeros(X_unlabeled.shape[0]),\n",
    "#                                                                                         test_size=0.5, random_state=42)\n",
    "# X_test_L = np.concatenate([X_test_positive, X_test_unlabeled])\n",
    "# y_test_L = np.concatenate([np.ones(y_test_positive.shape[0]), np.zeros(X_test_unlabeled.shape[0])])\n"
   ]
  },
  {
   "cell_type": "code",
   "execution_count": 8,
   "id": "1aa30798",
   "metadata": {},
   "outputs": [],
   "source": [
    "# X_test = np.concatenate([X_test_positive, X_negative])\n",
    "# y_test = np.concatenate([np.ones(y_test_positive.shape[0]), np.zeros(X_negative.shape[0])])"
   ]
  },
  {
   "cell_type": "code",
   "execution_count": 9,
   "id": "d9e77bdb",
   "metadata": {},
   "outputs": [],
   "source": [
    "def spy(X_p, X_u, spied_rate=0.2, seed=None):\n",
    "    np.random.seed(seed)\n",
    "    X = np.vstack([X_p, X_u])\n",
    "    y = np.concatenate([np.ones(X_p.shape[0]), np.zeros(X_u.shape[0])])\n",
    "    # Step 1. Infuse spies\n",
    "    spie_mask = np.random.random(X_p.shape[0]) < spied_rate\n",
    "    # Unknown mix + spies\n",
    "    MS = np.vstack([X[y == 0], X[y == 1][spie_mask]]) # this is actual features for mix+spies\n",
    "    MS_spies = np.hstack([np.zeros((y == 0).sum()), np.ones(spie_mask.sum())]) # this is actual labels for mix+spies\n",
    "    # Positive with spies removed\n",
    "    P = X[y == 1][~spie_mask]\n",
    "    # Combo\n",
    "    MSP = np.vstack([MS, P]) # this is mix+spies added to positives\n",
    "    # Labels\n",
    "    MSP_y = np.hstack([np.zeros(MS.shape[0]), np.ones(P.shape[0])]) # this label for is mix+spies added to positives\n",
    "    shuffler = np.random.permutation(len(MSP))\n",
    "    MSP = MSP[shuffler]\n",
    "    MSP_y = MSP_y[shuffler]\n",
    "    return MSP, MSP_y, MS, MS_spies\n",
    "\n",
    "def find_RN_threshold(y_hat, y, initial_t=0.00001, spied_tolerance= 0.025):\n",
    "    # Find optimal t\n",
    "    t = initial_t\n",
    "    while  y[np.squeeze(y_hat <= t)].sum()/y.sum()  <= spied_tolerance:\n",
    "        t += 0.0001\n",
    "    print('Optimal t is {0:.06}'.format(t))\n",
    "    print('Positive group size {1}, captured spies {0:.02%}'.format(\n",
    "        y[np.squeeze(y_hat > t)].sum()/y.sum(), (y_hat > t).sum()))\n",
    "    print('Likely negative group size {1}, captured spies {0:.02%}'.format(\n",
    "        y[np.squeeze(y_hat <= t)].sum()/y.sum(), (y_hat <= t).sum()))\n",
    "    return t"
   ]
  },
  {
   "cell_type": "code",
   "execution_count": 10,
   "id": "8bece270",
   "metadata": {},
   "outputs": [
    {
     "data": {
      "text/plain": [
       "(array([1864.,    0.,    0.,    0.,    0.,    0.,    0.,    0.,    0.,\n",
       "        1182.]),\n",
       " array([0. , 0.1, 0.2, 0.3, 0.4, 0.5, 0.6, 0.7, 0.8, 0.9, 1. ]),\n",
       " <BarContainer object of 10 artists>)"
      ]
     },
     "execution_count": 10,
     "metadata": {},
     "output_type": "execute_result"
    },
    {
     "data": {
      "image/png": "[encoded data removed]",
      "text/plain": [
       "<Figure size 252x210 with 1 Axes>"
      ]
     },
     "metadata": {},
     "output_type": "display_data"
    }
   ],
   "source": [
    "X = np.vstack([X_train_positive, X_unlabeled])\n",
    "y = np.concatenate([np.ones(X_train_positive.shape[0]), np.zeros(X_unlabeled.shape[0])])\n",
    "plt.hist(y)"
   ]
  },
  {
   "cell_type": "code",
   "execution_count": 11,
   "id": "b47fa042",
   "metadata": {},
   "outputs": [
    {
     "data": {
      "text/plain": [
       "(array([2104.,    0.,    0.,    0.,    0.,    0.,    0.,    0.,    0.,\n",
       "         942.]),\n",
       " array([0. , 0.1, 0.2, 0.3, 0.4, 0.5, 0.6, 0.7, 0.8, 0.9, 1. ]),\n",
       " <BarContainer object of 10 artists>)"
      ]
     },
     "execution_count": 11,
     "metadata": {},
     "output_type": "execute_result"
    },
    {
     "data": {
      "image/png": "[encoded data removed]",
      "text/plain": [
       "<Figure size 252x210 with 1 Axes>"
      ]
     },
     "metadata": {},
     "output_type": "display_data"
    }
   ],
   "source": [
    "# np.random.seed(seed)\n",
    "spied_rate = 0.2\n",
    "X_train_with_spies, y_train_with_spies, true_X_train, true_y_train = spy(X_train_positive, X_unlabeled,\n",
    "                                                                     seed=seed, spied_rate=spied_rate)\n",
    "model = build_model(None)\n",
    "plt.hist(y_train_with_spies)"
   ]
  },
  {
   "cell_type": "code",
   "execution_count": 12,
   "id": "edaf25c0",
   "metadata": {},
   "outputs": [],
   "source": [
    "def train_model(X_train_with_spies, y_train_with_spies, batch_size=64, L=None):\n",
    "    model = build_model(L)\n",
    "    decay_epochs = 50\n",
    "    decay_steps = len(X_train_with_spies)  // 16 * decay_epochs\n",
    "    lr_decayed_fn = tf.keras.optimizers.schedules.CosineDecay(\n",
    "          config.lr, decay_steps, alpha=1e-3)\n",
    "    opt = tf.optimizers.Adam(lr_decayed_fn)\n",
    "    tf.keras.backend.clear_session()\n",
    "    early_stopping = tf.keras.callbacks.EarlyStopping(monitor='auc', patience=10, min_delta=1e-2, restore_best_weights=True)\n",
    "    focal_loss  = tf.keras.losses.BinaryFocalCrossentropy(\n",
    "                gamma=5, from_logits=False,  apply_class_balancing=True\n",
    "                )\n",
    "    model.compile(\n",
    "            optimizer=opt,\n",
    "            loss=tf.keras.losses.BinaryCrossentropy(from_logits=False),\n",
    "            # loss = focal_loss,\n",
    "            metrics=[tf.keras.metrics.AUC(from_logits=False), tf.keras.metrics.BinaryAccuracy(threshold=0.5)],\n",
    "            )\n",
    "    print(f'\\n\\nModel l inputs with spies: Negative:{plt.hist(y_train_with_spies)[0][0]}, Positive:{plt.hist(y_train_with_spies)[0][-1]}\\n\\n')\n",
    "    history = model.fit(\n",
    "        [X_train_with_spies, np.array([counts_aa(xi) for xi in X_train_with_spies])] , y_train_with_spies,\n",
    "#         validation_data=([X_test_L, np.array([counts_aa(xi) for xi in X_test_L])] , y_test_L),\n",
    "        epochs=200,\n",
    "        batch_size=batch_size,\n",
    "        callbacks=[early_stopping],\n",
    "        verbose=1,\n",
    "    )\n",
    "    return model"
   ]
  },
  {
   "cell_type": "code",
   "execution_count": 23,
   "id": "5ef026f3",
   "metadata": {},
   "outputs": [
    {
     "name": "stdout",
     "output_type": "stream",
     "text": [
      "Optimal t is 0.2858\n",
      "Positive group size 503, captured spies 49.17%\n",
      "Likely negative group size 1601, captured spies 50.83%\n",
      "(1479, 190)\n"
     ]
    }
   ],
   "source": [
    "def get_rn_unlabeled(y_prob, y_actual, rn_thresh, X):\n",
    "    \"\"\"For each negative instance, check if the predicted probability\n",
    "    is lower than the rn threshold. If so, add to the rn set, otherwise,\n",
    "    add to the unlabelled set.\n",
    "    Parameters\n",
    "    ----------\n",
    "    y_prob: array-like {n_samples}\n",
    "        Class probability predictions.\n",
    "    y_actual: array-like {n_samples}\n",
    "        Actual labelled class values.\n",
    "    rn_thresh: float\n",
    "        The threshold under which an instance is\n",
    "        considered reliably negative.\n",
    "    X: array-like {n_samples, n_features}\n",
    "        Feature matrix.\n",
    "    Returns\n",
    "    -------\n",
    "    rn_set: array-like {n_samples, n_features}\n",
    "        The identified reliable negative instance set.\n",
    "    new_unlabelled: array-like {n_samples, n_features}\n",
    "        The remaining unlabelled instances.\n",
    "    \"\"\"\n",
    "\n",
    "    rn_set = [X[i] for i in range(len(X)) if y_actual[i] == 0 and y_prob[i] < rn_thresh]\n",
    "    new_unlabelled = [X[i] for i in range(len(X)) if y_actual[i] == 0 and y_prob[i] >= rn_thresh]\n",
    "\n",
    "    return np.array(rn_set), np.array(new_unlabelled)\n",
    "\n",
    "\n"
   ]
  },
  {
   "cell_type": "code",
   "execution_count": 25,
   "id": "d82b4e91",
   "metadata": {},
   "outputs": [
    {
     "name": "stdout",
     "output_type": "stream",
     "text": [
      "\n",
      "\n",
      "Model l inputs with spies: Negative:1479.0, Positive:1182.0\n",
      "\n",
      "\n",
      "Epoch 1/200\n",
      "42/42 [==============================] - 13s 18ms/step - loss: 0.7345 - auc: 0.5586 - binary_accuracy: 0.5566\n",
      "Epoch 2/200\n",
      "42/42 [==============================] - 1s 17ms/step - loss: 0.6620 - auc: 0.6339 - binary_accuracy: 0.5971\n",
      "Epoch 3/200\n",
      "42/42 [==============================] - 1s 17ms/step - loss: 0.6381 - auc: 0.6820 - binary_accuracy: 0.6276\n",
      "Epoch 4/200\n",
      "42/42 [==============================] - 1s 17ms/step - loss: 0.6090 - auc: 0.7188 - binary_accuracy: 0.6599\n",
      "Epoch 5/200\n",
      "42/42 [==============================] - 1s 17ms/step - loss: 0.5995 - auc: 0.7377 - binary_accuracy: 0.6813\n",
      "Epoch 6/200\n",
      "42/42 [==============================] - 1s 17ms/step - loss: 0.5817 - auc: 0.7561 - binary_accuracy: 0.6933\n",
      "Epoch 7/200\n",
      "42/42 [==============================] - 1s 17ms/step - loss: 0.5841 - auc: 0.7516 - binary_accuracy: 0.6825\n",
      "Epoch 8/200\n",
      "42/42 [==============================] - 1s 17ms/step - loss: 0.5675 - auc: 0.7711 - binary_accuracy: 0.7020\n",
      "Epoch 9/200\n",
      "42/42 [==============================] - 1s 17ms/step - loss: 0.5575 - auc: 0.7807 - binary_accuracy: 0.7069\n",
      "Epoch 10/200\n",
      "42/42 [==============================] - 1s 17ms/step - loss: 0.5515 - auc: 0.7876 - binary_accuracy: 0.7159\n",
      "Epoch 11/200\n",
      "42/42 [==============================] - 1s 17ms/step - loss: 0.5395 - auc: 0.7970 - binary_accuracy: 0.7242\n",
      "Epoch 12/200\n",
      "42/42 [==============================] - 1s 17ms/step - loss: 0.5373 - auc: 0.7977 - binary_accuracy: 0.7249\n",
      "Epoch 13/200\n",
      "42/42 [==============================] - 1s 17ms/step - loss: 0.5226 - auc: 0.8110 - binary_accuracy: 0.7272\n",
      "Epoch 14/200\n",
      "42/42 [==============================] - 1s 17ms/step - loss: 0.5187 - auc: 0.8176 - binary_accuracy: 0.7437\n",
      "Epoch 15/200\n",
      "42/42 [==============================] - 1s 17ms/step - loss: 0.5028 - auc: 0.8286 - binary_accuracy: 0.7505\n",
      "Epoch 16/200\n",
      "42/42 [==============================] - 1s 17ms/step - loss: 0.5077 - auc: 0.8252 - binary_accuracy: 0.7539\n",
      "Epoch 17/200\n",
      "42/42 [==============================] - 1s 17ms/step - loss: 0.5001 - auc: 0.8306 - binary_accuracy: 0.7599\n",
      "Epoch 18/200\n",
      "42/42 [==============================] - 1s 17ms/step - loss: 0.4921 - auc: 0.8379 - binary_accuracy: 0.7614\n",
      "Epoch 19/200\n",
      "42/42 [==============================] - 1s 17ms/step - loss: 0.4841 - auc: 0.8441 - binary_accuracy: 0.7685\n",
      "Epoch 20/200\n",
      "42/42 [==============================] - 1s 17ms/step - loss: 0.4705 - auc: 0.8527 - binary_accuracy: 0.7700\n",
      "Epoch 21/200\n",
      "42/42 [==============================] - 1s 17ms/step - loss: 0.4767 - auc: 0.8482 - binary_accuracy: 0.7666\n",
      "Epoch 22/200\n",
      "42/42 [==============================] - 1s 17ms/step - loss: 0.4669 - auc: 0.8550 - binary_accuracy: 0.7768\n",
      "Epoch 23/200\n",
      "42/42 [==============================] - 1s 17ms/step - loss: 0.4475 - auc: 0.8693 - binary_accuracy: 0.7989\n",
      "Epoch 24/200\n",
      "42/42 [==============================] - 1s 17ms/step - loss: 0.4440 - auc: 0.8708 - binary_accuracy: 0.7926\n",
      "Epoch 25/200\n",
      "42/42 [==============================] - 1s 17ms/step - loss: 0.4484 - auc: 0.8674 - binary_accuracy: 0.7813\n",
      "Epoch 26/200\n",
      "42/42 [==============================] - 1s 17ms/step - loss: 0.4318 - auc: 0.8782 - binary_accuracy: 0.7982\n",
      "Epoch 27/200\n",
      "42/42 [==============================] - 1s 17ms/step - loss: 0.4189 - auc: 0.8863 - binary_accuracy: 0.8076\n",
      "Epoch 28/200\n",
      "42/42 [==============================] - 1s 17ms/step - loss: 0.4325 - auc: 0.8779 - binary_accuracy: 0.7926\n",
      "Epoch 29/200\n",
      "42/42 [==============================] - 1s 17ms/step - loss: 0.4140 - auc: 0.8883 - binary_accuracy: 0.8027\n",
      "Epoch 30/200\n",
      "42/42 [==============================] - 1s 17ms/step - loss: 0.3958 - auc: 0.8985 - binary_accuracy: 0.8200\n",
      "Epoch 31/200\n",
      "42/42 [==============================] - 1s 17ms/step - loss: 0.3934 - auc: 0.8997 - binary_accuracy: 0.8181\n",
      "Epoch 32/200\n",
      "42/42 [==============================] - 1s 17ms/step - loss: 0.3934 - auc: 0.9002 - binary_accuracy: 0.8200\n",
      "Epoch 33/200\n",
      "42/42 [==============================] - 1s 17ms/step - loss: 0.3845 - auc: 0.9062 - binary_accuracy: 0.8241\n",
      "Epoch 34/200\n",
      "42/42 [==============================] - 1s 17ms/step - loss: 0.3817 - auc: 0.9063 - binary_accuracy: 0.8230\n",
      "Epoch 35/200\n",
      "42/42 [==============================] - 1s 17ms/step - loss: 0.3777 - auc: 0.9083 - binary_accuracy: 0.8377\n",
      "Epoch 36/200\n",
      "42/42 [==============================] - 1s 17ms/step - loss: 0.3704 - auc: 0.9137 - binary_accuracy: 0.8362\n",
      "Epoch 37/200\n",
      "42/42 [==============================] - 1s 17ms/step - loss: 0.3607 - auc: 0.9182 - binary_accuracy: 0.8452\n",
      "Epoch 38/200\n",
      "42/42 [==============================] - 1s 17ms/step - loss: 0.3580 - auc: 0.9182 - binary_accuracy: 0.8384\n",
      "Epoch 39/200\n",
      "42/42 [==============================] - 1s 17ms/step - loss: 0.3398 - auc: 0.9266 - binary_accuracy: 0.8516\n",
      "Epoch 40/200\n",
      "42/42 [==============================] - 1s 17ms/step - loss: 0.3402 - auc: 0.9265 - binary_accuracy: 0.8542\n",
      "Epoch 41/200\n",
      "42/42 [==============================] - 1s 17ms/step - loss: 0.3448 - auc: 0.9252 - binary_accuracy: 0.8470\n",
      "Epoch 42/200\n",
      "42/42 [==============================] - 1s 17ms/step - loss: 0.3386 - auc: 0.9267 - binary_accuracy: 0.8493\n",
      "Epoch 43/200\n",
      "42/42 [==============================] - 1s 17ms/step - loss: 0.3108 - auc: 0.9398 - binary_accuracy: 0.8662\n",
      "Epoch 44/200\n",
      "42/42 [==============================] - 1s 17ms/step - loss: 0.3033 - auc: 0.9427 - binary_accuracy: 0.8688\n",
      "Epoch 45/200\n",
      "42/42 [==============================] - 1s 17ms/step - loss: 0.2991 - auc: 0.9444 - binary_accuracy: 0.8632\n",
      "Epoch 46/200\n",
      "42/42 [==============================] - 1s 17ms/step - loss: 0.3031 - auc: 0.9423 - binary_accuracy: 0.8647\n",
      "Epoch 47/200\n",
      "42/42 [==============================] - 1s 17ms/step - loss: 0.3002 - auc: 0.9446 - binary_accuracy: 0.8658\n",
      "Epoch 48/200\n",
      "42/42 [==============================] - 1s 17ms/step - loss: 0.2936 - auc: 0.9465 - binary_accuracy: 0.8711\n",
      "Epoch 49/200\n",
      "42/42 [==============================] - 1s 17ms/step - loss: 0.2942 - auc: 0.9456 - binary_accuracy: 0.8734\n",
      "Epoch 50/200\n",
      "42/42 [==============================] - 1s 17ms/step - loss: 0.2763 - auc: 0.9526 - binary_accuracy: 0.8854\n",
      "Epoch 51/200\n",
      "42/42 [==============================] - 1s 17ms/step - loss: 0.2724 - auc: 0.9540 - binary_accuracy: 0.8794\n",
      "Epoch 52/200\n",
      "42/42 [==============================] - 1s 17ms/step - loss: 0.2566 - auc: 0.9599 - binary_accuracy: 0.8839\n",
      "Epoch 53/200\n",
      "42/42 [==============================] - 1s 17ms/step - loss: 0.2563 - auc: 0.9592 - binary_accuracy: 0.8861\n",
      "Epoch 54/200\n",
      "42/42 [==============================] - 1s 17ms/step - loss: 0.2622 - auc: 0.9569 - binary_accuracy: 0.8824\n",
      "Epoch 55/200\n",
      "42/42 [==============================] - 1s 17ms/step - loss: 0.2534 - auc: 0.9599 - binary_accuracy: 0.8918\n",
      "Epoch 56/200\n",
      "42/42 [==============================] - 1s 17ms/step - loss: 0.2566 - auc: 0.9594 - binary_accuracy: 0.8903\n",
      "Epoch 57/200\n",
      "42/42 [==============================] - 1s 17ms/step - loss: 0.2324 - auc: 0.9669 - binary_accuracy: 0.9034\n",
      "Epoch 58/200\n",
      "42/42 [==============================] - 1s 17ms/step - loss: 0.2329 - auc: 0.9662 - binary_accuracy: 0.9061\n",
      "Epoch 59/200\n",
      "42/42 [==============================] - 1s 17ms/step - loss: 0.2405 - auc: 0.9642 - binary_accuracy: 0.8974\n",
      "Epoch 60/200\n",
      "42/42 [==============================] - 1s 17ms/step - loss: 0.2120 - auc: 0.9727 - binary_accuracy: 0.9098\n",
      "Epoch 61/200\n",
      "42/42 [==============================] - 1s 17ms/step - loss: 0.2161 - auc: 0.9714 - binary_accuracy: 0.9079\n",
      "Epoch 62/200\n",
      "42/42 [==============================] - 1s 17ms/step - loss: 0.2191 - auc: 0.9701 - binary_accuracy: 0.9045\n",
      "Epoch 63/200\n",
      "42/42 [==============================] - 1s 17ms/step - loss: 0.2049 - auc: 0.9741 - binary_accuracy: 0.9139\n",
      "Epoch 64/200\n",
      "42/42 [==============================] - 1s 17ms/step - loss: 0.2056 - auc: 0.9735 - binary_accuracy: 0.9117\n",
      "Epoch 65/200\n",
      "42/42 [==============================] - 1s 17ms/step - loss: 0.1912 - auc: 0.9777 - binary_accuracy: 0.9241\n",
      "Epoch 66/200\n",
      "42/42 [==============================] - 1s 17ms/step - loss: 0.1996 - auc: 0.9755 - binary_accuracy: 0.9169\n",
      "Epoch 67/200\n"
     ]
    },
    {
     "name": "stdout",
     "output_type": "stream",
     "text": [
      "42/42 [==============================] - 1s 17ms/step - loss: 0.1988 - auc: 0.9754 - binary_accuracy: 0.9169\n",
      "Epoch 68/200\n",
      "42/42 [==============================] - 1s 17ms/step - loss: 0.1991 - auc: 0.9754 - binary_accuracy: 0.9162\n",
      "Epoch 69/200\n",
      "42/42 [==============================] - 1s 17ms/step - loss: 0.1950 - auc: 0.9762 - binary_accuracy: 0.9200\n",
      "Epoch 70/200\n",
      "42/42 [==============================] - 1s 17ms/step - loss: 0.1885 - auc: 0.9782 - binary_accuracy: 0.9248\n",
      "Epoch 71/200\n",
      "42/42 [==============================] - 1s 17ms/step - loss: 0.1784 - auc: 0.9809 - binary_accuracy: 0.9256\n",
      "Epoch 72/200\n",
      "42/42 [==============================] - 1s 17ms/step - loss: 0.1714 - auc: 0.9818 - binary_accuracy: 0.9286\n",
      "Epoch 73/200\n",
      "42/42 [==============================] - 1s 17ms/step - loss: 0.1677 - auc: 0.9826 - binary_accuracy: 0.9278\n",
      "Epoch 74/200\n",
      "42/42 [==============================] - 1s 17ms/step - loss: 0.1727 - auc: 0.9810 - binary_accuracy: 0.9260\n",
      "Epoch 75/200\n",
      "42/42 [==============================] - 1s 17ms/step - loss: 0.1694 - auc: 0.9823 - binary_accuracy: 0.9275\n"
     ]
    },
    {
     "data": {
      "image/png": "[encoded data removed]",
      "text/plain": [
       "<Figure size 252x210 with 1 Axes>"
      ]
     },
     "metadata": {},
     "output_type": "display_data"
    }
   ],
   "source": [
    "training = False\n",
    "if training:\n",
    "    model = train_model(X_train_with_spies, y_train_with_spies)\n",
    "    y_hat = model.predict([true_X_train, np.array([counts_aa(xi) for xi in true_X_train])])\n",
    "    spied_tolerance = 0.5\n",
    "    RN_t = find_RN_threshold(y_hat, true_y_train, spied_tolerance=spied_tolerance, initial_t=0.001)\n",
    "    RN , new_X_unlabeled = get_rn_unlabeled(y_hat, true_y_train, RN_t, true_X_train)\n",
    "    print(RN.shape)\n",
    "    NP = np.concatenate([RN, X_train_positive])\n",
    "    Labels = np.concatenate([np.zeros(RN.shape[0]), np.ones(X_train_positive.shape[0])])\n",
    "    train_shuffled_indices = np.random.permutation(len(NP))\n",
    "    NP = NP[train_shuffled_indices]\n",
    "    Labels = Labels[train_shuffled_indices]\n",
    "    inference_model = train_model(NP, Labels)\n",
    "    # serialize model to JSON\n",
    "    inference_model_json = inference_model.to_json()\n",
    "    with open(\"../saved_models/hemo-rnn/spy_model.json\", \"w\") as json_file:\n",
    "        json_file.write(inference_model_json)\n",
    "    # serialize weights to HDF5\n",
    "    inference_model.save_weights(\"../saved_models/hemo-rnn/spy_model_weights.h5\")\n",
    "    # saving RNs\n",
    "    np.save('../saved_models/hemo-rnn/spy_RNs.npy', RN)\n",
    "else:\n",
    "    # Inference model\n",
    "    import keras\n",
    "    # load json and create model\n",
    "    json_file = open('../saved_models/hemo-rnn/spy_model.json', 'r')\n",
    "    loaded_model_json = json_file.read()\n",
    "    json_file.close()\n",
    "    inference_model = keras.models.model_from_json(loaded_model_json)\n",
    "    best_accuracy_threshold = 0.95\n",
    "    inference_model.compile(\n",
    "        optimizer=opt,\n",
    "        loss=tf.keras.losses.BinaryCrossentropy(from_logits=False),\n",
    "    #     loss = focal_loss,\n",
    "        metrics=[tf.keras.metrics.AUC(from_logits=False), tf.keras.metrics.BinaryAccuracy(threshold=best_accuracy_threshold), F1Score()],\n",
    "        )\n",
    "\n",
    "    # load weights into new model\n",
    "    inference_model.load_weights(\"../saved_models/hemo-rnn/spy_model_weights.h5\")\n",
    "    RN = np.load('../saved_models/hemo-rnn/spy_RNs.npy')"
   ]
  },
  {
   "cell_type": "code",
   "execution_count": 31,
   "id": "434ad040",
   "metadata": {},
   "outputs": [],
   "source": [
    "inference_model_json = inference_model.to_json()\n",
    "with open(\"../saved_models/hemo-rnn/spy_model.json\", \"w\") as json_file:\n",
    "    json_file.write(inference_model_json)\n",
    "# serialize weights to HDF5\n",
    "inference_model.save_weights(\"../saved_models/hemo-rnn/spy_model_weights.h5\")"
   ]
  },
  {
   "cell_type": "code",
   "execution_count": 26,
   "id": "eb3e68e8",
   "metadata": {},
   "outputs": [
    {
     "name": "stdout",
     "output_type": "stream",
     "text": [
      "192/192 [==============================] - 4s 5ms/step\n"
     ]
    }
   ],
   "source": [
    "X_test = np.concatenate([X_test_positive, X_test_negative])\n",
    "y_test = np.concatenate([np.ones(X_test_positive.shape[0]), np.zeros(X_test_negative.shape[0])])\n",
    "yhat_test =  inference_model.predict([X_test, np.array([counts_aa(xi) for xi in X_test])])"
   ]
  },
  {
   "cell_type": "code",
   "execution_count": 27,
   "id": "372fff4b",
   "metadata": {},
   "outputs": [
    {
     "data": {
      "text/plain": [
       "<matplotlib.legend.Legend at 0x7f84a2417220>"
      ]
     },
     "execution_count": 27,
     "metadata": {},
     "output_type": "execute_result"
    },
    {
     "data": {
      "image/png": "[encoded data removed]",
      "text/plain": [
       "<Figure size 252x210 with 1 Axes>"
      ]
     },
     "metadata": {},
     "output_type": "display_data"
    }
   ],
   "source": [
    "plt.hist(yhat_test, label='predicted', alpha=0.5, bins=10)\n",
    "plt.hist(y_test, label='true', alpha=0.5, bins=10)\n",
    "plt.legend()"
   ]
  },
  {
   "cell_type": "code",
   "execution_count": 28,
   "id": "421bd286",
   "metadata": {},
   "outputs": [
    {
     "name": "stdout",
     "output_type": "stream",
     "text": [
      "Best Threshold=0.635211, G-Mean=0.748\n",
      "Accuracy: 0.744\n",
      "F1 Score: 0.486\n",
      "AUC: 0.800\n"
     ]
    },
    {
     "data": {
      "text/plain": [
       "<matplotlib.legend.Legend at 0x7f84a23a5af0>"
      ]
     },
     "execution_count": 28,
     "metadata": {},
     "output_type": "execute_result"
    },
    {
     "data": {
      "image/png": "[encoded data removed]",
      "text/plain": [
       "<Figure size 700x583.333 with 1 Axes>"
      ]
     },
     "metadata": {},
     "output_type": "display_data"
    }
   ],
   "source": [
    "from sklearn.metrics import roc_auc_score\n",
    "from sklearn.metrics import roc_curve\n",
    "from sklearn.metrics import accuracy_score\n",
    "from sklearn.metrics import f1_score\n",
    "\n",
    "fpr, tpr, thresholds = roc_curve(y_test, yhat_test, drop_intermediate=False)\n",
    "# calculate the g-mean for each threshold\n",
    "gmeans = np.sqrt(tpr * (1-fpr))\n",
    "# locate the index of the largest g-mean\n",
    "ix = np.argmax(gmeans)\n",
    "best_accuracy_threshold = thresholds[ix]\n",
    "print('Best Threshold=%f, G-Mean=%.3f' % (thresholds[ix], gmeans[ix]))\n",
    "adjusted_y_hat_test = [1 if m>best_accuracy_threshold else 0 for m in yhat_test]\n",
    "acc = accuracy_score(y_test, adjusted_y_hat_test, normalize=True)\n",
    "print(f'Accuracy: {acc:.3f}')\n",
    "f1 = f1_score(y_test, adjusted_y_hat_test, average='macro')\n",
    "print(f'F1 Score: {f1:.3f}')\n",
    "auc = roc_auc_score(y_test, yhat_test, average='macro')\n",
    "print(f'AUC: {auc:.3f}')\n",
    "plt.figure(dpi=200)\n",
    "plt.hist(adjusted_y_hat_test, label='predicted', alpha=0.5, bins=10)\n",
    "plt.hist(y_test, label='true', alpha=0.5, bins=10)\n",
    "plt.legend()"
   ]
  },
  {
   "cell_type": "code",
   "execution_count": 29,
   "id": "08feffa5",
   "metadata": {},
   "outputs": [
    {
     "name": "stdout",
     "output_type": "stream",
     "text": [
      "\n",
      "Best ghostml Threshold=%f, 0.95\n",
      "Accuracy: 0.841\n",
      "F1 Score: 0.532\n",
      "AUC: 0.800\n"
     ]
    },
    {
     "data": {
      "text/plain": [
       "<matplotlib.legend.Legend at 0x7f84a22bfa60>"
      ]
     },
     "execution_count": 29,
     "metadata": {},
     "output_type": "execute_result"
    },
    {
     "data": {
      "image/png": "[encoded data removed]",
      "text/plain": [
       "<Figure size 700x583.333 with 1 Axes>"
      ]
     },
     "metadata": {},
     "output_type": "display_data"
    }
   ],
   "source": [
    "import ghostml\n",
    "from sklearn.metrics import roc_auc_score\n",
    "from sklearn.metrics import roc_curve\n",
    "from sklearn.metrics import accuracy_score\n",
    "from sklearn.metrics import f1_score\n",
    "\n",
    "# train_probs = model_2.predict([NP, np.array([counts_aa(xi) for xi in NP])])\n",
    "thresholds = np.round(np.arange(0.1,0.95,0.005),2)\n",
    "threshold1 = ghostml.optimize_threshold_from_predictions(y_test, yhat_test[:,0], thresholds, ThOpt_metrics = 'Kappa')\n",
    "print(f'\\nBest ghostml Threshold=%f, {threshold1}')\n",
    "best_accuracy_threshold = threshold1\n",
    "adjusted_y_hat_test = [1 if m>best_accuracy_threshold else 0 for m in yhat_test]\n",
    "acc = accuracy_score(y_test, adjusted_y_hat_test, normalize=True)\n",
    "print(f'Accuracy: {acc:.3f}')\n",
    "f1 = f1_score(y_test, adjusted_y_hat_test, average='macro')\n",
    "print(f'F1 Score: {f1:.3f}')\n",
    "auc = roc_auc_score(y_test, yhat_test, average='macro')\n",
    "print(f'AUC: {auc:.3f}')\n",
    "\n",
    "plt.figure(dpi=200)\n",
    "plt.hist(adjusted_y_hat_test, label='predicted', alpha=0.5, bins=10)\n",
    "plt.hist(y_test, label='true', alpha=0.5, bins=10)\n",
    "plt.legend()"
   ]
  },
  {
   "cell_type": "code",
   "execution_count": 30,
   "id": "4f1ab27e",
   "metadata": {},
   "outputs": [
    {
     "data": {
      "image/png": "[encoded data removed]",
      "text/plain": [
       "<Figure size 700x583.333 with 2 Axes>"
      ]
     },
     "metadata": {},
     "output_type": "display_data"
    }
   ],
   "source": [
    "from sklearn.metrics import confusion_matrix\n",
    "cm = confusion_matrix(y_test, adjusted_y_hat_test, normalize='true')\n",
    "# fig = plt.figure(dpi= 200)\n",
    "plt.figure(dpi=200)\n",
    "sns.heatmap(np.round(cm, 2), annot=True, fmt='g', ax=plt.gca(), cmap=\"crest\");  #annot=True to annotate cells, ftm='g' to disable scientific notation\n",
    "\n",
    "# labels, title and ticks\n",
    "ax=plt.gca()\n",
    "ax.set_xlabel('Predicted labels');ax.set_ylabel('True labels'); \n",
    "ax.set_title('Confusion Matrix'); "
   ]
  },
  {
   "cell_type": "code",
   "execution_count": null,
   "id": "2ce5f08c",
   "metadata": {},
   "outputs": [],
   "source": []
  }
 ],
 "metadata": {
  "kernelspec": {
   "display_name": "Python 3",
   "language": "python",
   "name": "python3"
  },
  "language_info": {
   "codemirror_mode": {
    "name": "ipython",
    "version": 3
   },
   "file_extension": ".py",
   "mimetype": "text/x-python",
   "name": "python",
   "nbconvert_exporter": "python",
   "pygments_lexer": "ipython3",
   "version": "3.8.13"
  }
 },
 "nbformat": 4,
 "nbformat_minor": 5
}
