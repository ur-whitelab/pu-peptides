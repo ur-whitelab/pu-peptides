{
 "cells": [
  {
   "cell_type": "code",
   "execution_count": 1,
   "id": "a95c079e",
   "metadata": {
    "execution": {
     "iopub.execute_input": "2022-05-10T17:34:35.489532Z",
     "iopub.status.busy": "2022-05-10T17:34:35.489373Z",
     "iopub.status.idle": "2022-05-10T17:34:35.492184Z",
     "shell.execute_reply": "2022-05-10T17:34:35.491828Z"
    },
    "papermill": {
     "duration": 0.010349,
     "end_time": "2022-05-10T17:34:35.493343",
     "exception": false,
     "start_time": "2022-05-10T17:34:35.482994",
     "status": "completed"
    },
    "tags": []
   },
   "outputs": [],
   "source": [
    "#@title Runtime\n",
    "use_tpu = False #@param"
   ]
  },
  {
   "cell_type": "code",
   "execution_count": 2,
   "id": "7764de16",
   "metadata": {},
   "outputs": [],
   "source": [
    "import matplotlib.pyplot as plt\n",
    "import matplotlib.font_manager as font_manager\n",
    "import urllib.request\n",
    "\n",
    "urllib.request.urlretrieve('https://github.com/google/fonts/raw/main/ofl/ibmplexmono/IBMPlexMono-Regular.ttf', 'IBMPlexMono-Regular.ttf')\n",
    "fe = font_manager.FontEntry(\n",
    "    fname='IBMPlexMono-Regular.ttf',\n",
    "    name='plexmono')\n",
    "font_manager.fontManager.ttflist.append(fe)\n",
    "plt.rcParams.update({'axes.facecolor':'#f5f4e9', \n",
    "            'grid.color' : '#AAAAAA', \n",
    "            'axes.edgecolor':'#333333', \n",
    "            'figure.facecolor':'#FFFFFF', \n",
    "            'axes.grid': False,\n",
    "            'axes.prop_cycle':   plt.cycler('color', plt.cm.Dark2.colors),\n",
    "            'font.family': fe.name,\n",
    "            'figure.figsize': (3.5,3.5 / 1.2),\n",
    "            'ytick.left': True,\n",
    "            'xtick.bottom': True   \n",
    "           })"
   ]
  },
  {
   "cell_type": "code",
   "execution_count": 3,
   "id": "1ba9cf49",
   "metadata": {
    "execution": {
     "iopub.execute_input": "2022-05-10T17:34:35.500709Z",
     "iopub.status.busy": "2022-05-10T17:34:35.500574Z",
     "iopub.status.idle": "2022-05-10T17:34:58.524777Z",
     "shell.execute_reply": "2022-05-10T17:34:58.524184Z"
    },
    "papermill": {
     "duration": 23.029594,
     "end_time": "2022-05-10T17:34:58.526394",
     "exception": false,
     "start_time": "2022-05-10T17:34:35.496800",
     "status": "completed"
    },
    "tags": []
   },
   "outputs": [],
   "source": [
    "import matplotlib.pyplot as plt\n",
    "import matplotlib as mpl\n",
    "import numpy as np\n",
    "import os\n",
    "import tensorflow as tf\n",
    "import urllib\n",
    "from dataclasses import dataclass\n",
    "import tensorflowjs as tfjs\n",
    "# import tensorflow_decision_forests as tfdf\n",
    "import json\n",
    "from tqdm import tqdm\n",
    "import seaborn as sns\n",
    "np.random.seed(0)"
   ]
  },
  {
   "cell_type": "code",
   "execution_count": 4,
   "id": "7d0c69c6",
   "metadata": {
    "execution": {
     "iopub.execute_input": "2022-05-10T17:34:58.536097Z",
     "iopub.status.busy": "2022-05-10T17:34:58.535929Z",
     "iopub.status.idle": "2022-05-10T17:34:59.092569Z",
     "shell.execute_reply": "2022-05-10T17:34:59.092171Z"
    },
    "papermill": {
     "duration": 0.562409,
     "end_time": "2022-05-10T17:34:59.093881",
     "exception": false,
     "start_time": "2022-05-10T17:34:58.531472",
     "status": "completed"
    },
    "tags": []
   },
   "outputs": [],
   "source": [
    "urllib.request.urlretrieve(\n",
    "    \"https://github.com/ur-whitelab/peptide-dashboard/raw/master/ml/data/hemo-positive.npz\",\n",
    "    \"positive.npz\",\n",
    ")\n",
    "urllib.request.urlretrieve(\n",
    "    \"https://github.com/ur-whitelab/peptide-dashboard/raw/master/ml/data/hemo-negative.npz\",\n",
    "    \"negative.npz\",\n",
    ")\n",
    "with np.load(\"positive.npz\") as r:\n",
    "    pos_data = r[list(r.keys())[0]]\n",
    "with np.load(\"negative.npz\") as r:\n",
    "    neg_data = r[list(r.keys())[0]]\n",
    "\n",
    "# create labels and stich it all into one\n",
    "# tensor\n",
    "# labels = np.concatenate(\n",
    "#     (\n",
    "#         np.ones((pos_data.shape[0], 1), dtype=pos_data.dtype),\n",
    "#         np.zeros((neg_data.shape[0], 1), dtype=pos_data.dtype),\n",
    "#     ),\n",
    "#     axis=0,\n",
    "# )\n",
    "# weights = np.concatenate(\n",
    "#     (np.ones((pos_data.shape[0]), dtype=pos_data.dtype), \n",
    "#      weights)\n",
    "# )\n",
    "# features = np.concatenate((pos_data, neg_data), axis=0)\n",
    "# pos_data_lengths = np.count_nonzero(pos_data, axis=1)\n",
    "# neg_data_lengths = np.count_nonzero(neg_data, axis=1)"
   ]
  },
  {
   "cell_type": "code",
   "execution_count": 5,
   "id": "b5ca71c4",
   "metadata": {
    "execution": {
     "iopub.execute_input": "2022-05-10T17:34:59.103221Z",
     "iopub.status.busy": "2022-05-10T17:34:59.103063Z",
     "iopub.status.idle": "2022-05-10T17:34:59.110063Z",
     "shell.execute_reply": "2022-05-10T17:34:59.109697Z"
    },
    "papermill": {
     "duration": 0.012269,
     "end_time": "2022-05-10T17:34:59.111199",
     "exception": false,
     "start_time": "2022-05-10T17:34:59.098930",
     "status": "completed"
    },
    "tags": []
   },
   "outputs": [
    {
     "data": {
      "text/plain": [
       "(1826, 190)"
      ]
     },
     "execution_count": 5,
     "metadata": {},
     "output_type": "execute_result"
    }
   ],
   "source": [
    "pos_data.shape"
   ]
  },
  {
   "cell_type": "code",
   "execution_count": 6,
   "id": "f0882d3d",
   "metadata": {
    "execution": {
     "iopub.execute_input": "2022-05-10T17:34:59.119107Z",
     "iopub.status.busy": "2022-05-10T17:34:59.118961Z",
     "iopub.status.idle": "2022-05-10T17:35:00.167550Z",
     "shell.execute_reply": "2022-05-10T17:35:00.167078Z"
    },
    "papermill": {
     "duration": 1.054039,
     "end_time": "2022-05-10T17:35:00.168746",
     "exception": false,
     "start_time": "2022-05-10T17:34:59.114707",
     "status": "completed"
    },
    "tags": []
   },
   "outputs": [
    {
     "name": "stderr",
     "output_type": "stream",
     "text": [
      "100%|██████████| 9130/9130 [00:00<00:00, 11021.94it/s]\n"
     ]
    }
   ],
   "source": [
    "max_length = pos_data.shape[1]\n",
    "def encoder(seq, max_length=200):\n",
    "    alphabet = ['A','R','N','D','C','Q','E','G','H','I', 'L','K','M','F','P','S','T','W','Y','V']\n",
    "    vec = np.zeros(max_length)\n",
    "    for i,l in enumerate(seq):\n",
    "        vec[i] = alphabet.index(l) + 1\n",
    "    return vec\n",
    "# sample unlabeled data\n",
    "def sample_permutations_from_vec(data_lengths, labeled_unlabeled_ratio=0.2, max_sequence_length=200):\n",
    "    alphabet = ['A','R','N','D','C','Q','E','G','H','I', 'L','K','M','F','P','S','T','W','Y','V']\n",
    "    with open(\"../pdb_dist.txt\", 'r') as f:\n",
    "        # the probabilities in this file are sorted based on the alphabet list above\n",
    "        pdb_dist = f.read().split()\n",
    "        pdb_dist = [float(item) for item in pdb_dist]\n",
    "#     unlabeled_seq_lengths = vec_pep_length(positive_data, ohe_vec=False)\n",
    "#     print(unlabeled_seq_lengths)\n",
    "    sampled_lengths = []\n",
    "    for length in data_lengths:\n",
    "        length_sample_batch = np.ones(int(1/labeled_unlabeled_ratio), dtype=int) * length\n",
    "        sampled_lengths.append(length_sample_batch)\n",
    "    sampled_lengths = np.array(sampled_lengths).flatten()\n",
    "    sampled_sequences = []\n",
    "    sampled_vecs = []\n",
    "    for length in tqdm(sampled_lengths):\n",
    "#         print(length)\n",
    "    #         random_alphabet_index = np.random.randint(len(alphabet), size=length)\n",
    "        # sample alphabet index based on weighted amino acid frequencies in pdb\n",
    "        random_alphabet_index = np.random.choice(len(alphabet), size=length, p=pdb_dist)\n",
    "        for _ in range(length):\n",
    "            pep = ''.join([alphabet[m] for m in random_alphabet_index])\n",
    "        vec_pep = encoder(pep, max_length=max_length)\n",
    "        # pad zeros\n",
    "    #     print(ohe_pep.shape)\n",
    "#         ohe_pep = np.concatenate([ohe_pep, np.zeros((max_sequence_length-ohe_pep.shape[0],20))],axis=0)\n",
    "        sampled_vecs.append(vec_pep)\n",
    "        sampled_sequences.append(pep)\n",
    "#     sampled_vecs = np.array(sampled_vecs)\n",
    "    return sampled_sequences, sampled_vecs\n",
    "# ohe_sequence_list = np.concatenate([ohe_sequence_list, np.zeros((190,10))],axis=1)\n",
    "pos_data_lengths = np.count_nonzero(pos_data, axis=1) + 1\n",
    "neg_data_lengths = np.count_nonzero(neg_data, axis=1) + 1\n",
    "labeled_unlabeled_ratio = 0.2\n",
    "sampled_sequences, sampled_vecs = sample_permutations_from_vec(pos_data_lengths,\n",
    "                                                               labeled_unlabeled_ratio=0.2, max_sequence_length=max_length)\n",
    "sampled_vecs = np.array(sampled_vecs)\n",
    "# X_unlabeled = sampled_vecs\n",
    "unlabeled_data_lengths = []\n",
    "for seq in sampled_sequences:\n",
    "    unlabeled_data_lengths.append(len(seq))"
   ]
  },
  {
   "cell_type": "code",
   "execution_count": 7,
   "id": "d24d98e0",
   "metadata": {
    "execution": {
     "iopub.execute_input": "2022-05-10T17:35:00.177607Z",
     "iopub.status.busy": "2022-05-10T17:35:00.177453Z",
     "iopub.status.idle": "2022-05-10T17:35:00.182145Z",
     "shell.execute_reply": "2022-05-10T17:35:00.181759Z"
    },
    "papermill": {
     "duration": 0.010476,
     "end_time": "2022-05-10T17:35:00.183318",
     "exception": false,
     "start_time": "2022-05-10T17:35:00.172842",
     "status": "completed"
    },
    "tags": []
   },
   "outputs": [
    {
     "name": "stdout",
     "output_type": "stream",
     "text": [
      "Positive data: 1826\n",
      "Negative data: 7490\n",
      "Sampled unlabeled data: 9130\n"
     ]
    }
   ],
   "source": [
    "X_positive = pos_data\n",
    "X_negative = neg_data\n",
    "X_unlabeled = sampled_vecs\n",
    "print('Positive data:', pos_data.shape[0])\n",
    "print('Negative data:', neg_data.shape[0])\n",
    "print('Sampled unlabeled data:', len(sampled_sequences))"
   ]
  },
  {
   "cell_type": "code",
   "execution_count": 8,
   "id": "d66551aa",
   "metadata": {
    "execution": {
     "iopub.execute_input": "2022-05-10T17:35:00.192179Z",
     "iopub.status.busy": "2022-05-10T17:35:00.192031Z",
     "iopub.status.idle": "2022-05-10T17:35:00.511885Z",
     "shell.execute_reply": "2022-05-10T17:35:00.511527Z"
    },
    "papermill": {
     "duration": 0.325853,
     "end_time": "2022-05-10T17:35:00.513003",
     "exception": false,
     "start_time": "2022-05-10T17:35:00.187150",
     "status": "completed"
    },
    "tags": []
   },
   "outputs": [
    {
     "data": {
      "image/png": "[encoded data removed]",
      "text/plain": [
       "<Figure size 525x437.5 with 1 Axes>"
      ]
     },
     "metadata": {},
     "output_type": "display_data"
    }
   ],
   "source": [
    "fig, ax = plt.subplots(dpi=150)\n",
    "sns.kdeplot(pos_data_lengths, ax=ax, label='Positives', color='C0')\n",
    "ax.set_xlabel('Sequence Length')\n",
    "# ax.set_title(f'{peptide_label}')\n",
    "sns.kdeplot(unlabeled_data_lengths, ax=ax, label='Unlabeled', color='C2')\n",
    "sns.kdeplot(neg_data_lengths, ax=ax, label='Negatives', color='C1')\n",
    "plt.legend()\n",
    "plt.savefig(f'length_dist_hemolytic.png', dpi=600, transparent=False, bbox_inches='tight')"
   ]
  },
  {
   "cell_type": "code",
   "execution_count": 11,
   "id": "bb348891",
   "metadata": {},
   "outputs": [],
   "source": [
    "labels = np.concatenate(\n",
    "    (\n",
    "        np.ones((pos_data.shape[0], 1), dtype=pos_data.dtype),\n",
    "        np.zeros((X_unlabeled.shape[0], 1), dtype=X_unlabeled.dtype),\n",
    "    ),\n",
    "    axis=0,\n",
    ")\n",
    "\n",
    "features = np.concatenate((pos_data, X_unlabeled), axis=0)"
   ]
  },
  {
   "cell_type": "code",
   "execution_count": 16,
   "id": "1e870295",
   "metadata": {
    "execution": {
     "iopub.execute_input": "2022-05-10T17:39:17.864650Z",
     "iopub.status.busy": "2022-05-10T17:39:17.864498Z",
     "iopub.status.idle": "2022-05-10T17:39:17.916256Z",
     "shell.execute_reply": "2022-05-10T17:39:17.915877Z"
    },
    "papermill": {
     "duration": 0.058505,
     "end_time": "2022-05-10T17:39:17.917567",
     "exception": false,
     "start_time": "2022-05-10T17:39:17.859062",
     "status": "completed"
    },
    "tags": []
   },
   "outputs": [],
   "source": [
    "@dataclass\n",
    "class Config:\n",
    "    vocab_size: int\n",
    "    example_number: int\n",
    "    batch_size: int\n",
    "    buffer_size: int\n",
    "    rnn_units: int\n",
    "    hidden_dim: int\n",
    "    embedding_dim: int\n",
    "    reg_strength: float\n",
    "    lr: float\n",
    "    drop_rate: float\n",
    "        \n",
    "config = Config(vocab_size=21, # include gap\n",
    "                example_number=len(X_positive), \n",
    "                batch_size=16, \n",
    "                buffer_size=10000,\n",
    "                rnn_units=64,\n",
    "                hidden_dim=64,\n",
    "                embedding_dim=32,\n",
    "                reg_strength=0,\n",
    "                lr=1e-4,\n",
    "                drop_rate=0.1\n",
    "               )\n",
    "\n",
    "def counts_aa(vec):\n",
    "    counts =  tf.histogram_fixed_width(vec, [0, 20], nbins=21)[1:]\n",
    "    return counts/tf.reduce_sum(counts)\n",
    "\n",
    "def build_model(L):\n",
    "    inputs = tf.keras.Input(shape=(L,))\n",
    "    input_f = tf.keras.Input(shape=(20,))\n",
    "    # make embedding and indicate that 0 should be treated as padding mask\n",
    "    e = tf.keras.layers.Embedding(input_dim=config.vocab_size, \n",
    "                                        output_dim=config.embedding_dim,\n",
    "                                        mask_zero=True)(inputs)\n",
    "\n",
    "    # RNN layer\n",
    "    x = tf.keras.layers.Bidirectional(tf.keras.layers.LSTM(config.rnn_units, return_sequences=True))(e)\n",
    "    x = tf.keras.layers.Bidirectional(tf.keras.layers.LSTM(config.rnn_units))(x)\n",
    "    x = tf.keras.layers.Concatenate()([x, input_f])\n",
    "    x = tf.keras.layers.LayerNormalization()(x)\n",
    "    x = tf.keras.layers.Dropout(config.drop_rate)(x)\n",
    "    # a dense hidden layer\n",
    "    x = tf.keras.layers.Dense(\n",
    "        config.hidden_dim, \n",
    "        activation='relu', \n",
    "        kernel_regularizer=tf.keras.regularizers.l2(config.reg_strength))(x)\n",
    "    x = tf.keras.layers.LayerNormalization()(x)\n",
    "    x = tf.keras.layers.Dropout(config.drop_rate)(x)\n",
    "    x = tf.keras.layers.Dense(\n",
    "        config.hidden_dim // 4, \n",
    "        activation='relu', \n",
    "        kernel_regularizer=tf.keras.regularizers.l2(config.reg_strength))(x)\n",
    "    x = tf.keras.layers.LayerNormalization()(x)\n",
    "    x = tf.keras.layers.Dropout(config.drop_rate)(x)\n",
    "    # predicting prob, so no activation\n",
    "    yhat = tf.keras.layers.Dense(1)(x)\n",
    "\n",
    "    model = tf.keras.Model(inputs=[inputs, input_f], outputs=yhat, name='hemo-rnn')\n",
    "    return model"
   ]
  },
  {
   "cell_type": "code",
   "execution_count": 17,
   "id": "81fbd9ec",
   "metadata": {},
   "outputs": [],
   "source": [
    "if use_tpu:\n",
    "  tf.keras.backend.clear_session()\n",
    "\n",
    "  resolver = tf.distribute.cluster_resolver.TPUClusterResolver('grpc://' + os.environ['COLAB_TPU_ADDR'])\n",
    "  tf.config.experimental_connect_to_cluster(resolver)\n",
    "\n",
    "  # This is the TPU initialization code that has to be at the beginning.\n",
    "  tf.tpu.experimental.initialize_tpu_system(resolver)\n",
    "  print(\"All devices: \", tf.config.list_logical_devices('TPU'))\n",
    "\n",
    "  strategy = tf.distribute.experimental.TPUStrategy(resolver)"
   ]
  },
  {
   "cell_type": "code",
   "execution_count": 18,
   "id": "32c1a2a1",
   "metadata": {},
   "outputs": [],
   "source": [
    "# we now need to shuffle before creating TF dataset\n",
    "# so that our train/test/val splits are random\n",
    "i = np.arange(len(labels))\n",
    "np.random.shuffle(i)\n",
    "np.random.shuffle(i)\n",
    "np.random.shuffle(i)\n",
    "shuffled_labels = labels[i]\n",
    "shuffled_features = features[i]\n",
    "data = tf.data.Dataset.from_tensor_slices((shuffled_features, shuffled_labels)).map(lambda x,y: ((x, counts_aa(x)), y))\n",
    "# data = data.shuffle(config.buffer_size)\n",
    "\n",
    "# now split into val, test, train and batch\n",
    "N = len(data)  \n",
    "L = None#features[0].shape[-1]\n",
    "split = int(0.1 * N)\n",
    "test_data = data.take(split).batch(config.batch_size)\n",
    "nontest = data.skip(split)\n",
    "val_data, train_data = nontest.take(split).batch(config.batch_size), \\\n",
    "    nontest.skip(split).shuffle(config.buffer_size).batch(config.batch_size).prefetch(tf.data.experimental.AUTOTUNE)"
   ]
  },
  {
   "cell_type": "code",
   "execution_count": 19,
   "id": "7bed5012",
   "metadata": {},
   "outputs": [],
   "source": [
    "tf.keras.backend.clear_session()\n",
    "if use_tpu:\n",
    "  with strategy.scope():\n",
    "    model = build_model(L)\n",
    "else:\n",
    "  model = build_model(L)\n",
    "#   L = 190\n",
    "#   model = build_CNN_model(L, reg=0, add_dropout=True)\n",
    "  decay_epochs = 50\n",
    "  decay_steps = N  // config.batch_size * decay_epochs\n",
    "  lr_decayed_fn = tf.keras.optimizers.schedules.CosineDecay(\n",
    "      config.lr, decay_steps, alpha=1e-3)\n",
    "  opt = tf.optimizers.Adam(lr_decayed_fn)\n",
    "  model.compile(\n",
    "      opt,\n",
    "      loss=tf.keras.losses.BinaryCrossentropy(from_logits=True),\n",
    "      steps_per_execution = 60 if use_tpu else None,\n",
    "      metrics=[tf.keras.metrics.AUC(from_logits=True), tf.keras.metrics.BinaryAccuracy(threshold=0)])"
   ]
  },
  {
   "cell_type": "code",
   "execution_count": 20,
   "id": "7eb09271",
   "metadata": {},
   "outputs": [
    {
     "name": "stdout",
     "output_type": "stream",
     "text": [
      "Epoch 1/150\n",
      "lr = 1e-04\n",
      "548/548 [==============================] - 25s 23ms/step - loss: 0.1731 - auc: 0.9632 - binary_accuracy: 0.9397 - val_loss: 0.0601 - val_auc: 0.9923 - val_binary_accuracy: 0.9845\n",
      "Epoch 2/150\n",
      "lr = 9.9936726e-05\n",
      "548/548 [==============================] - 10s 17ms/step - loss: 0.0655 - auc: 0.9901 - binary_accuracy: 0.9838 - val_loss: 0.0577 - val_auc: 0.9930 - val_binary_accuracy: 0.9863\n",
      "Epoch 3/150\n",
      "lr = 9.9747056e-05\n",
      "548/548 [==============================] - 10s 17ms/step - loss: 0.0573 - auc: 0.9930 - binary_accuracy: 0.9852 - val_loss: 0.0489 - val_auc: 0.9934 - val_binary_accuracy: 0.9854\n",
      "Epoch 4/150\n",
      "lr = 9.94315e-05\n",
      "548/548 [==============================] - 10s 17ms/step - loss: 0.0545 - auc: 0.9928 - binary_accuracy: 0.9841 - val_loss: 0.0447 - val_auc: 0.9959 - val_binary_accuracy: 0.9845\n",
      "Epoch 5/150\n",
      "lr = 9.899082e-05\n",
      "548/548 [==============================] - 10s 17ms/step - loss: 0.0502 - auc: 0.9922 - binary_accuracy: 0.9854 - val_loss: 0.0415 - val_auc: 0.9975 - val_binary_accuracy: 0.9872\n",
      "Epoch 6/150\n",
      "lr = 9.8426164e-05\n",
      "548/548 [==============================] - 10s 17ms/step - loss: 0.0444 - auc: 0.9941 - binary_accuracy: 0.9872 - val_loss: 0.0375 - val_auc: 0.9963 - val_binary_accuracy: 0.9900\n",
      "Epoch 7/150\n",
      "lr = 9.7738935e-05\n",
      "548/548 [==============================] - 10s 18ms/step - loss: 0.0436 - auc: 0.9948 - binary_accuracy: 0.9880 - val_loss: 0.0364 - val_auc: 0.9966 - val_binary_accuracy: 0.9890\n",
      "Epoch 8/150\n",
      "lr = 9.693089e-05\n",
      "548/548 [==============================] - 10s 17ms/step - loss: 0.0398 - auc: 0.9942 - binary_accuracy: 0.9881 - val_loss: 0.0350 - val_auc: 0.9969 - val_binary_accuracy: 0.9900\n",
      "Epoch 9/150\n",
      "lr = 9.600408e-05\n",
      "548/548 [==============================] - 10s 17ms/step - loss: 0.0385 - auc: 0.9957 - binary_accuracy: 0.9873 - val_loss: 0.0368 - val_auc: 0.9966 - val_binary_accuracy: 0.9890\n",
      "Epoch 10/150\n",
      "lr = 9.4960844e-05\n",
      "548/548 [==============================] - 10s 17ms/step - loss: 0.0353 - auc: 0.9961 - binary_accuracy: 0.9897 - val_loss: 0.0351 - val_auc: 0.9967 - val_binary_accuracy: 0.9909\n"
     ]
    }
   ],
   "source": [
    "result = model.fit(\n",
    "    train_data, \n",
    "    validation_data=val_data, \n",
    "    callbacks=[tf.keras.callbacks.LambdaCallback(\n",
    "        on_epoch_begin=lambda epochs,logs: print('lr =',lr_decayed_fn(opt.iterations).numpy())\n",
    "        ),\n",
    "        tf.keras.callbacks.EarlyStopping(monitor='val_auc', mode='max', restore_best_weights=True, patience=5)],\n",
    "    epochs=150)"
   ]
  },
  {
   "cell_type": "code",
   "execution_count": 21,
   "id": "74b5ad83",
   "metadata": {},
   "outputs": [
    {
     "name": "stdout",
     "output_type": "stream",
     "text": [
      "69/69 [==============================] - 0s 7ms/step - loss: 0.0354 - auc: 0.9990 - binary_accuracy: 0.9900\n"
     ]
    },
    {
     "data": {
      "image/png": "[encoded data removed]",
      "text/plain": [
       "<Figure size 252x210 with 1 Axes>"
      ]
     },
     "metadata": {},
     "output_type": "display_data"
    }
   ],
   "source": [
    "plt.plot(result.history['val_binary_accuracy'])\n",
    "test_result = model.evaluate(test_data)\n",
    "plt.show()"
   ]
  },
  {
   "cell_type": "code",
   "execution_count": null,
   "id": "5bc0c30e",
   "metadata": {},
   "outputs": [],
   "source": []
  }
 ],
 "metadata": {
  "kernelspec": {
   "display_name": "covid-19",
   "language": "python",
   "name": "covid-19"
  },
  "language_info": {
   "codemirror_mode": {
    "name": "ipython",
    "version": 3
   },
   "file_extension": ".py",
   "mimetype": "text/x-python",
   "name": "python",
   "nbconvert_exporter": "python",
   "pygments_lexer": "ipython3",
   "version": "3.7.9"
  },
  "papermill": {
   "default_parameters": {},
   "duration": 13468.268048,
   "end_time": "2022-05-10T21:18:59.409888",
   "environment_variables": {},
   "exception": null,
   "input_path": "hemo_mahalanobis_distance+bi-lstm.ipynb",
   "output_path": "hemo_mahalanobis_distance+bi-lstm.ipynb",
   "parameters": {},
   "start_time": "2022-05-10T17:34:31.141840",
   "version": "2.3.4"
  }
 },
 "nbformat": 4,
 "nbformat_minor": 5
}
