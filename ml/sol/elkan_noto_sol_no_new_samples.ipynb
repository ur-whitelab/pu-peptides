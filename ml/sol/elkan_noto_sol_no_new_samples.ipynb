{
 "cells": [
  {
   "cell_type": "code",
   "execution_count": 1,
   "id": "00b6cdd2",
   "metadata": {},
   "outputs": [],
   "source": [
    "import matplotlib.pyplot as plt\n",
    "import matplotlib.font_manager as font_manager\n",
    "import urllib.request\n",
    "import matplotlib as mpl\n",
    "import numpy as np\n",
    "import os\n",
    "os.environ['TF_CPP_MIN_LOG_LEVEL'] = '3' \n",
    "import tensorflow as tf\n",
    "tf.get_logger().setLevel('INFO')\n",
    "gpus = tf.config.experimental.list_physical_devices(device_type='GPU')\n",
    "tf.config.experimental.set_visible_devices(devices=gpus[1], device_type='GPU')\n",
    "tf.config.experimental.set_memory_growth(device=gpus[1], enable=True)\n",
    "import urllib\n",
    "from dataclasses import dataclass\n",
    "# import tensorflowjs as tfjs\n",
    "# import tensorflow_decision_forests as tfdf\n",
    "import json\n",
    "from tqdm import tqdm\n",
    "import seaborn as sns\n",
    "import sys\n",
    "np.random.seed(0)\n",
    "urllib.request.urlretrieve('https://github.com/google/fonts/raw/main/ofl/ibmplexmono/IBMPlexMono-Regular.ttf', 'IBMPlexMono-Regular.ttf')\n",
    "fe = font_manager.FontEntry(\n",
    "    fname='IBMPlexMono-Regular.ttf',\n",
    "    name='plexmono')\n",
    "font_manager.fontManager.ttflist.append(fe)\n",
    "plt.rcParams.update({'axes.facecolor':'#f5f4e9', \n",
    "            'grid.color' : '#AAAAAA', \n",
    "            'axes.edgecolor':'#333333', \n",
    "            'figure.facecolor':'#FFFFFF', \n",
    "            'axes.grid': False,\n",
    "            'axes.prop_cycle':   plt.cycler('color', plt.cm.Dark2.colors),\n",
    "            'font.family': fe.name,\n",
    "            'figure.figsize': (3.5,3.5 / 1.2),\n",
    "            'ytick.left': True,\n",
    "            'xtick.bottom': True   \n",
    "           })"
   ]
  },
  {
   "cell_type": "code",
   "execution_count": 2,
   "id": "8236e84e",
   "metadata": {},
   "outputs": [
    {
     "name": "stdout",
     "output_type": "stream",
     "text": [
      "Num GPUs Available:  2\n"
     ]
    }
   ],
   "source": [
    "print(\"Num GPUs Available: \", len(tf.config.list_physical_devices('GPU')))"
   ]
  },
  {
   "cell_type": "code",
   "execution_count": 3,
   "id": "a68cbcd4",
   "metadata": {},
   "outputs": [],
   "source": [
    "urllib.request.urlretrieve(\n",
    "    \"https://github.com/ur-whitelab/peptide-dashboard/raw/master/ml/data/insoluble.npz\",\n",
    "    \"insoluble.npz\",\n",
    ")\n",
    "urllib.request.urlretrieve(\n",
    "    \"https://github.com/ur-whitelab/peptide-dashboard/raw/master/ml/data/soluble.npz\",\n",
    "    \"soluble.npz\",\n",
    ")\n",
    "with np.load(\"soluble.npz\") as r:\n",
    "    pos_data = r['arr_0']\n",
    "with np.load(\"insoluble.npz\") as r:\n",
    "    neg_data = r['arr_0']\n",
    "    \n"
   ]
  },
  {
   "cell_type": "code",
   "execution_count": 4,
   "id": "7d60345b",
   "metadata": {},
   "outputs": [
    {
     "name": "stdout",
     "output_type": "stream",
     "text": [
      "(5692, 200) (633, 200) (703, 200) (7734, 200) (3691, 200)\n",
      "Positive data: 8785\n",
      "Negative data: 9668\n",
      "Unlabeled data: 3691\n"
     ]
    }
   ],
   "source": [
    "def split_train_test_data(pos, neg, test_size_pos=0.1, val_size=0.1, unlabeled_size=0.2, seed=None):\n",
    "    np.random.seed(seed)\n",
    "    np.random.shuffle(pos)\n",
    "    np.random.shuffle(neg)\n",
    "    from sklearn.model_selection import train_test_split\n",
    "    pos, unlabeled_p, _, _ = train_test_split(pos, np.ones(pos.shape[0]),\n",
    "                                                                        test_size=unlabeled_size, random_state=seed)\n",
    "    X_test_negative, unlabeled_n, _, _ = train_test_split(neg, np.zeros(neg.shape[0]),\n",
    "                                                                    test_size=unlabeled_size, random_state=seed)\n",
    "    X_train_positive, X_test_positive, _, _ = train_test_split(pos, np.ones(pos.shape[0]),\n",
    "                                                                                        test_size=test_size_pos, random_state=seed)\n",
    "    X_train_positive, X_val_positive, _, _ = train_test_split(X_train_positive, np.ones(X_train_positive.shape[0]),\n",
    "                                                                                    test_size=val_size, random_state=seed)\n",
    "    X_unlabeled = np.concatenate([unlabeled_p, unlabeled_n])\n",
    "    np.random.shuffle(X_unlabeled)\n",
    "    \n",
    "    print(X_train_positive.shape, X_val_positive.shape, X_test_positive.shape, X_test_negative.shape,  X_unlabeled.shape)\n",
    "    return X_train_positive, X_val_positive, X_test_positive, X_test_negative, X_unlabeled\n",
    "\n",
    "seed = 0\n",
    "X_train_positive, X_val_positive, X_test_positive, X_test_negative, X_unlabeled = split_train_test_data(pos_data, neg_data, seed=seed)\n",
    "\n",
    "print('Positive data:', pos_data.shape[0])\n",
    "print('Negative data:', neg_data.shape[0])\n",
    "print('Unlabeled data:', len(X_unlabeled))"
   ]
  },
  {
   "cell_type": "code",
   "execution_count": 5,
   "id": "21c51694",
   "metadata": {},
   "outputs": [],
   "source": [
    "\n",
    "# def build_fakes(n, data):\n",
    "#     result = []\n",
    "#     for _ in range(n):\n",
    "#         # sample this many subsequences\n",
    "#         k = np.clip(np.random.poisson(1), 0, len(data) - 2) + 2\n",
    "#         idx = np.random.choice(range(len(data)), replace=False, size=k)                        \n",
    "#         seq = []\n",
    "#         lengths = []\n",
    "#         # cut-up k into one new sequence\n",
    "#         for i in range(k):\n",
    "#             if np.argmin(data[idx[i]]) > 1:\n",
    "#                 lengths.append(np.ceil(2 * np.random.randint(1, np.argmin(data[idx[i]])) / k).astype(int))\n",
    "#                 j = np.random.randint(0, np.argmin(data[idx[i]]) - lengths[i])\n",
    "#             else:\n",
    "#                 lengths.append(1)\n",
    "#                 j = 0\n",
    "#             seq.append(data[idx[i]][j:j+lengths[i]])\n",
    "#         # pad out    \n",
    "#         seq.append([0] * (len(data[0]) - sum(lengths)))\n",
    "#         # print(seq)\n",
    "#         result.append(np.concatenate(seq))\n",
    "#         # print(result)\n",
    "#         # break\n",
    "#     return np.array(result)\n",
    "# sampled_vecs = build_fakes(pos_data.shape[0]*20, pos_data)\n",
    "\n",
    "\n",
    "def spy(X_p, X_u, spied_rate=0.2, seed=None):\n",
    "    np.random.seed(seed)\n",
    "    X = np.vstack([X_p, X_u])\n",
    "    y = np.concatenate([np.ones(X_p.shape[0]), np.zeros(X_u.shape[0])])\n",
    "    # Step 1. Infuse spies\n",
    "    spie_mask = np.random.random(X_p.shape[0]) < spied_rate\n",
    "    # Unknown mix + spies\n",
    "    MS = np.vstack([X[y == 0], X[y == 1][spie_mask]]) # this is actual features for mix+spies\n",
    "    MS_spies = np.hstack([np.zeros((y == 0).sum()), np.ones(spie_mask.sum())]) # this is actual labels for mix+spies\n",
    "    # Positive with spies removed\n",
    "    P = X[y == 1][~spie_mask]\n",
    "    # Combo\n",
    "    MSP = np.vstack([MS, P]) # this is mix+spies added to positives\n",
    "    # Labels\n",
    "    MSP_y = np.hstack([np.zeros(MS.shape[0]), np.ones(P.shape[0])]) # this label for is mix+spies added to positives\n",
    "    shuffler = np.random.permutation(len(MSP))\n",
    "    MSP = MSP[shuffler]\n",
    "    MSP_y = MSP_y[shuffler]\n",
    "    return MSP, MSP_y, MS, MS_spies\n",
    "\n",
    "def find_RN_threshold(y_hat, y, initial_t=0.00001, spied_tolerance= 0.025):\n",
    "    # Find optimal t\n",
    "    t = initial_t\n",
    "    while  y[np.squeeze(y_hat <= t)].sum()/y.sum()  <= spied_tolerance:\n",
    "        t += 0.0001\n",
    "    print('Optimal t is {0:.06}'.format(t))\n",
    "    print('Positive group size {1}, captured spies {0:.02%}'.format(\n",
    "        y[np.squeeze(y_hat > t)].sum()/y.sum(), (y_hat > t).sum()))\n",
    "    print('Likely negative group size {1}, captured spies {0:.02%}'.format(\n",
    "        y[np.squeeze(y_hat <= t)].sum()/y.sum(), (y_hat <= t).sum()))\n",
    "    return t"
   ]
  },
  {
   "cell_type": "code",
   "execution_count": 6,
   "id": "1e2f9c00",
   "metadata": {},
   "outputs": [],
   "source": [
    "\n",
    "@dataclass\n",
    "class Config:\n",
    "    vocab_size: int\n",
    "    example_number: int\n",
    "    batch_size: int\n",
    "    buffer_size: int\n",
    "    rnn_units: int\n",
    "    hidden_dim: int\n",
    "    embedding_dim: int\n",
    "    reg_strength: float\n",
    "    lr: float\n",
    "    drop_rate: float\n",
    "        \n",
    "config = Config(vocab_size=21, # include gap\n",
    "                example_number=len(pos_data), \n",
    "                batch_size=256, \n",
    "                buffer_size=10000,\n",
    "                rnn_units=64,\n",
    "                hidden_dim=64,\n",
    "                embedding_dim=32,\n",
    "                reg_strength=0,\n",
    "                lr=1e-3,\n",
    "                drop_rate=0.1\n",
    "               )\n",
    "\n",
    "def counts_aa(vec):\n",
    "    counts =  tf.histogram_fixed_width(vec, [0, 20], nbins=21)[1:]\n",
    "    return counts/tf.reduce_sum(counts)\n",
    "\n",
    "def build_model(L):\n",
    "    inputs = tf.keras.Input(shape=(L,))\n",
    "    input_f = tf.keras.Input(shape=(20,))\n",
    "    # make embedding and indicate that 0 should be treated as padding mask\n",
    "    e = tf.keras.layers.Embedding(input_dim=config.vocab_size, \n",
    "                                        output_dim=config.embedding_dim,\n",
    "                                        mask_zero=True)(inputs)\n",
    "\n",
    "    # RNN layer\n",
    "    x = tf.keras.layers.Bidirectional(tf.keras.layers.LSTM(config.rnn_units, return_sequences=True))(e)\n",
    "    x = tf.keras.layers.Bidirectional(tf.keras.layers.LSTM(config.rnn_units))(x)\n",
    "    x = tf.keras.layers.Concatenate()([x, input_f])\n",
    "    x = tf.keras.layers.LayerNormalization()(x)\n",
    "    x = tf.keras.layers.Dropout(config.drop_rate)(x)\n",
    "    # a dense hidden layer\n",
    "    x = tf.keras.layers.Dense(\n",
    "        config.hidden_dim, \n",
    "        activation='relu', \n",
    "        kernel_regularizer=tf.keras.regularizers.l2(config.reg_strength))(x)\n",
    "    x = tf.keras.layers.LayerNormalization()(x)\n",
    "    x = tf.keras.layers.Dropout(config.drop_rate)(x)\n",
    "    x = tf.keras.layers.Dense(\n",
    "        config.hidden_dim // 4, \n",
    "        activation='relu', \n",
    "        kernel_regularizer=tf.keras.regularizers.l2(config.reg_strength))(x)\n",
    "    x = tf.keras.layers.LayerNormalization()(x)\n",
    "    x = tf.keras.layers.Dropout(config.drop_rate)(x)\n",
    "    # predicting prob, so no activation\n",
    "    yhat = tf.keras.layers.Dense(1, activation='sigmoid')(x)\n",
    "\n",
    "    model = tf.keras.Model(inputs=[inputs, input_f], outputs=yhat, name='sol-rnn')\n",
    "    return model\n",
    "\n",
    "class F1Score(tf.keras.metrics.Metric):\n",
    "  def __init__(self, name='F1Score', **kwargs):\n",
    "    super(F1Score, self).__init__(name=name, **kwargs)\n",
    "    self.f1score = self.add_weight(name='F1Score', initializer='zeros')\n",
    "    self.count = self.add_weight(name='F1ScoreCount', initializer='zeros')\n",
    "\n",
    "  def update_state(self, y_true, y_pred, sample_weight=None):\n",
    "    import keras.backend as K\n",
    "    y_true = tf.cast(y_true, tf.bool)\n",
    "    y_pred = tf.cast(y_pred, tf.bool)\n",
    "\n",
    "    true_positives = tf.logical_and(tf.equal(y_true, True), tf.equal(y_pred, True))\n",
    "    true_positives = tf.cast(true_positives, self.dtype)\n",
    "    count_true_positives = tf.reduce_sum(true_positives)\n",
    "\n",
    "    possible_positives = tf.cast(y_true, self.dtype)\n",
    "    count_possible_positives = tf.reduce_sum(possible_positives)\n",
    "\n",
    "    predicted_positives = tf.cast(y_pred, self.dtype)\n",
    "    count_predicted_positives = tf.reduce_sum(predicted_positives)\n",
    "\n",
    "    precision = count_true_positives / (count_predicted_positives + K.epsilon())\n",
    "    recall = count_true_positives / (count_possible_positives + K.epsilon())\n",
    "    f1_cal = 2*(precision*recall)/(precision + recall + K.epsilon())\n",
    "\n",
    "    self.count.assign_add(1)\n",
    "    a = 1.0 / self.count\n",
    "    b = 1.0 - a\n",
    "    self.f1score.assign(a*f1_cal+b*self.f1score)\n",
    "\n",
    "  def result(self):\n",
    "    return self.f1score"
   ]
  },
  {
   "cell_type": "code",
   "execution_count": 7,
   "id": "62a4f5f0",
   "metadata": {},
   "outputs": [],
   "source": [
    "# from sklearn.model_selection import train_test_split\n",
    "# X_train_positive, X_test_positive, y_train_positive, y_test_positive = train_test_split(X_positive, np.ones(X_positive.shape[0]),\n",
    "#                                                                                         test_size=0.1, random_state=42)\n",
    "# X_train_unlabeled, X_test_unlabeled, y_train_unlabeled, y_test_unlabeled = train_test_split(X_unlabeled, np.zeros(X_unlabeled.shape[0]),\n",
    "#                                                                                         test_size=0.5, random_state=42)\n",
    "# X_test_L = np.concatenate([X_test_positive, X_test_unlabeled])\n",
    "# y_test_L = np.concatenate([np.ones(y_test_positive.shape[0]), np.zeros(X_test_unlabeled.shape[0])])\n"
   ]
  },
  {
   "cell_type": "code",
   "execution_count": 8,
   "id": "1aa30798",
   "metadata": {},
   "outputs": [],
   "source": [
    "# X_test = np.concatenate([X_test_positive, X_negative])\n",
    "# y_test = np.concatenate([np.ones(y_test_positive.shape[0]), np.zeros(X_negative.shape[0])])"
   ]
  },
  {
   "cell_type": "code",
   "execution_count": 9,
   "id": "b47fa042",
   "metadata": {},
   "outputs": [
    {
     "data": {
      "text/plain": [
       "(array([3691.,    0.,    0.,    0.,    0.,    0.,    0.,    0.,    0.,\n",
       "        5692.]),\n",
       " array([0. , 0.1, 0.2, 0.3, 0.4, 0.5, 0.6, 0.7, 0.8, 0.9, 1. ]),\n",
       " <BarContainer object of 10 artists>)"
      ]
     },
     "execution_count": 9,
     "metadata": {},
     "output_type": "execute_result"
    },
    {
     "data": {
      "image/png": "[encoded data removed]",
      "text/plain": [
       "<Figure size 252x210 with 1 Axes>"
      ]
     },
     "metadata": {},
     "output_type": "display_data"
    }
   ],
   "source": [
    "# np.random.seed(seed)\n",
    "X = np.vstack([X_train_positive, X_unlabeled])\n",
    "y = np.concatenate([np.ones(X_train_positive.shape[0]), np.zeros(X_unlabeled.shape[0])])\n",
    "shuffler = np.random.permutation(len(X))\n",
    "X = X[shuffler]\n",
    "y = y[shuffler]\n",
    "model = build_model(None)\n",
    "plt.hist(y)"
   ]
  },
  {
   "cell_type": "code",
   "execution_count": 10,
   "id": "35b25c9d",
   "metadata": {
    "scrolled": false
   },
   "outputs": [
    {
     "name": "stdout",
     "output_type": "stream",
     "text": [
      "Epoch 1/200\n",
      "147/147 [==============================] - 30s 34ms/step - loss: 0.6958 - auc: 0.5092 - binary_accuracy: 0.5751 - F1Score: 0.7538\n",
      "Epoch 2/200\n",
      "147/147 [==============================] - 5s 34ms/step - loss: 0.6796 - auc: 0.4991 - binary_accuracy: 0.5912 - F1Score: 0.7529\n",
      "Epoch 3/200\n",
      "147/147 [==============================] - 5s 34ms/step - loss: 0.6686 - auc: 0.5519 - binary_accuracy: 0.6008 - F1Score: 0.7536\n",
      "Epoch 4/200\n",
      "147/147 [==============================] - 5s 34ms/step - loss: 0.6669 - auc: 0.5608 - binary_accuracy: 0.6014 - F1Score: 0.7534\n",
      "Epoch 5/200\n",
      "147/147 [==============================] - 5s 34ms/step - loss: 0.6649 - auc: 0.5678 - binary_accuracy: 0.6008 - F1Score: 0.7536\n",
      "Epoch 6/200\n",
      "147/147 [==============================] - 5s 34ms/step - loss: 0.6628 - auc: 0.5741 - binary_accuracy: 0.6024 - F1Score: 0.7533\n",
      "Epoch 7/200\n",
      "147/147 [==============================] - 5s 34ms/step - loss: 0.6603 - auc: 0.5826 - binary_accuracy: 0.6056 - F1Score: 0.7535\n",
      "Epoch 8/200\n",
      "147/147 [==============================] - 5s 34ms/step - loss: 0.6591 - auc: 0.5883 - binary_accuracy: 0.6054 - F1Score: 0.7530\n",
      "Epoch 9/200\n",
      "147/147 [==============================] - 5s 34ms/step - loss: 0.6586 - auc: 0.5870 - binary_accuracy: 0.6117 - F1Score: 0.7534\n",
      "Epoch 10/200\n",
      "147/147 [==============================] - 5s 34ms/step - loss: 0.6578 - auc: 0.5933 - binary_accuracy: 0.6108 - F1Score: 0.7531\n",
      "Epoch 11/200\n",
      "147/147 [==============================] - 5s 34ms/step - loss: 0.6560 - auc: 0.5970 - binary_accuracy: 0.6094 - F1Score: 0.7536\n",
      "Epoch 12/200\n",
      "147/147 [==============================] - 5s 34ms/step - loss: 0.6549 - auc: 0.5994 - binary_accuracy: 0.6103 - F1Score: 0.7535\n",
      "Epoch 13/200\n",
      "147/147 [==============================] - 5s 34ms/step - loss: 0.6517 - auc: 0.6026 - binary_accuracy: 0.6222 - F1Score: 0.7535\n",
      "Epoch 14/200\n",
      "147/147 [==============================] - 5s 34ms/step - loss: 0.6540 - auc: 0.6022 - binary_accuracy: 0.6166 - F1Score: 0.7535\n",
      "Epoch 15/200\n",
      "147/147 [==============================] - 5s 34ms/step - loss: 0.6508 - auc: 0.6098 - binary_accuracy: 0.6166 - F1Score: 0.7533\n",
      "Epoch 16/200\n",
      "147/147 [==============================] - 5s 34ms/step - loss: 0.6485 - auc: 0.6187 - binary_accuracy: 0.6181 - F1Score: 0.7535\n",
      "Epoch 17/200\n",
      "147/147 [==============================] - 5s 34ms/step - loss: 0.6475 - auc: 0.6173 - binary_accuracy: 0.6191 - F1Score: 0.7539\n",
      "Epoch 18/200\n",
      "147/147 [==============================] - 5s 34ms/step - loss: 0.6467 - auc: 0.6196 - binary_accuracy: 0.6226 - F1Score: 0.7532\n",
      "Epoch 19/200\n",
      "147/147 [==============================] - 5s 34ms/step - loss: 0.6451 - auc: 0.6261 - binary_accuracy: 0.6228 - F1Score: 0.7535\n",
      "Epoch 20/200\n",
      "147/147 [==============================] - 5s 34ms/step - loss: 0.6403 - auc: 0.6367 - binary_accuracy: 0.6268 - F1Score: 0.7534\n",
      "Epoch 21/200\n",
      "147/147 [==============================] - 5s 34ms/step - loss: 0.6394 - auc: 0.6362 - binary_accuracy: 0.6277 - F1Score: 0.7536\n",
      "Epoch 22/200\n",
      "147/147 [==============================] - 5s 34ms/step - loss: 0.6377 - auc: 0.6410 - binary_accuracy: 0.6307 - F1Score: 0.7533\n",
      "Epoch 23/200\n",
      "147/147 [==============================] - 5s 34ms/step - loss: 0.6351 - auc: 0.6469 - binary_accuracy: 0.6396 - F1Score: 0.7534\n",
      "Epoch 24/200\n",
      "147/147 [==============================] - 5s 34ms/step - loss: 0.6368 - auc: 0.6423 - binary_accuracy: 0.6374 - F1Score: 0.7536\n",
      "Epoch 25/200\n",
      "147/147 [==============================] - 5s 34ms/step - loss: 0.6598 - auc: 0.5810 - binary_accuracy: 0.6123 - F1Score: 0.7537\n",
      "Epoch 26/200\n",
      "147/147 [==============================] - 5s 34ms/step - loss: 0.6522 - auc: 0.6057 - binary_accuracy: 0.6214 - F1Score: 0.7535\n",
      "Epoch 27/200\n",
      "147/147 [==============================] - 5s 34ms/step - loss: 0.6477 - auc: 0.6179 - binary_accuracy: 0.6272 - F1Score: 0.7534\n",
      "Epoch 28/200\n",
      "147/147 [==============================] - 5s 34ms/step - loss: 0.6463 - auc: 0.6194 - binary_accuracy: 0.6256 - F1Score: 0.7529\n",
      "Epoch 29/200\n",
      "147/147 [==============================] - 5s 34ms/step - loss: 0.6397 - auc: 0.6348 - binary_accuracy: 0.6291 - F1Score: 0.7536\n",
      "Epoch 30/200\n",
      "147/147 [==============================] - 5s 34ms/step - loss: 0.6344 - auc: 0.6463 - binary_accuracy: 0.6377 - F1Score: 0.7533\n",
      "Epoch 31/200\n",
      "147/147 [==============================] - 5s 34ms/step - loss: 0.6269 - auc: 0.6635 - binary_accuracy: 0.6408 - F1Score: 0.7542\n",
      "Epoch 32/200\n",
      "147/147 [==============================] - 5s 34ms/step - loss: 0.6196 - auc: 0.6745 - binary_accuracy: 0.6479 - F1Score: 0.7537\n",
      "Epoch 33/200\n",
      "147/147 [==============================] - 5s 34ms/step - loss: 0.6138 - auc: 0.6805 - binary_accuracy: 0.6542 - F1Score: 0.7532\n",
      "Epoch 34/200\n",
      "147/147 [==============================] - 5s 34ms/step - loss: 0.6037 - auc: 0.7014 - binary_accuracy: 0.6634 - F1Score: 0.7535\n",
      "Epoch 35/200\n",
      "147/147 [==============================] - 5s 34ms/step - loss: 0.5972 - auc: 0.7060 - binary_accuracy: 0.6630 - F1Score: 0.7531\n",
      "Epoch 36/200\n",
      "147/147 [==============================] - 5s 34ms/step - loss: 0.5883 - auc: 0.7205 - binary_accuracy: 0.6766 - F1Score: 0.7533\n",
      "Epoch 37/200\n",
      "147/147 [==============================] - 5s 34ms/step - loss: 0.5801 - auc: 0.7284 - binary_accuracy: 0.6766 - F1Score: 0.7534\n",
      "Epoch 38/200\n",
      "147/147 [==============================] - 5s 34ms/step - loss: 0.5692 - auc: 0.7433 - binary_accuracy: 0.6875 - F1Score: 0.7535\n",
      "Epoch 39/200\n",
      "147/147 [==============================] - 5s 34ms/step - loss: 0.5525 - auc: 0.7612 - binary_accuracy: 0.7003 - F1Score: 0.7534\n",
      "Epoch 40/200\n",
      "147/147 [==============================] - 5s 34ms/step - loss: 0.5463 - auc: 0.7677 - binary_accuracy: 0.7001 - F1Score: 0.7536\n",
      "Epoch 41/200\n",
      "147/147 [==============================] - 5s 34ms/step - loss: 0.5254 - auc: 0.7893 - binary_accuracy: 0.7181 - F1Score: 0.7533\n",
      "Epoch 42/200\n",
      "147/147 [==============================] - 5s 34ms/step - loss: 0.5113 - auc: 0.8030 - binary_accuracy: 0.7287 - F1Score: 0.7533\n",
      "Epoch 43/200\n",
      "147/147 [==============================] - 5s 34ms/step - loss: 0.4994 - auc: 0.8151 - binary_accuracy: 0.7403 - F1Score: 0.7536\n",
      "Epoch 44/200\n",
      "147/147 [==============================] - 5s 34ms/step - loss: 0.4829 - auc: 0.8299 - binary_accuracy: 0.7451 - F1Score: 0.7531\n",
      "Epoch 45/200\n",
      "147/147 [==============================] - 5s 34ms/step - loss: 0.4638 - auc: 0.8440 - binary_accuracy: 0.7604 - F1Score: 0.7537\n",
      "Epoch 46/200\n",
      "147/147 [==============================] - 5s 34ms/step - loss: 0.4545 - auc: 0.8517 - binary_accuracy: 0.7678 - F1Score: 0.7534\n",
      "Epoch 47/200\n",
      "147/147 [==============================] - 5s 34ms/step - loss: 0.4423 - auc: 0.8607 - binary_accuracy: 0.7727 - F1Score: 0.7531\n",
      "Epoch 48/200\n",
      "147/147 [==============================] - 5s 34ms/step - loss: 0.4224 - auc: 0.8750 - binary_accuracy: 0.7860 - F1Score: 0.7534\n",
      "Epoch 49/200\n",
      "147/147 [==============================] - 5s 34ms/step - loss: 0.3975 - auc: 0.8898 - binary_accuracy: 0.7983 - F1Score: 0.7533\n",
      "Epoch 50/200\n",
      "147/147 [==============================] - 5s 34ms/step - loss: 0.3957 - auc: 0.8921 - binary_accuracy: 0.8035 - F1Score: 0.7534\n",
      "Epoch 51/200\n",
      "147/147 [==============================] - 5s 34ms/step - loss: 0.3867 - auc: 0.8982 - binary_accuracy: 0.8067 - F1Score: 0.7535\n",
      "Epoch 52/200\n",
      "147/147 [==============================] - 5s 34ms/step - loss: 0.3604 - auc: 0.9111 - binary_accuracy: 0.8223 - F1Score: 0.7533\n",
      "Epoch 53/200\n",
      "147/147 [==============================] - 5s 34ms/step - loss: 0.3457 - auc: 0.9187 - binary_accuracy: 0.8291 - F1Score: 0.7536\n",
      "Epoch 54/200\n",
      "147/147 [==============================] - 5s 34ms/step - loss: 0.3201 - auc: 0.9316 - binary_accuracy: 0.8470 - F1Score: 0.7533\n",
      "Epoch 55/200\n",
      "147/147 [==============================] - 5s 34ms/step - loss: 0.3149 - auc: 0.9337 - binary_accuracy: 0.8502 - F1Score: 0.7529\n",
      "Epoch 56/200\n",
      "147/147 [==============================] - 5s 34ms/step - loss: 0.2989 - auc: 0.9411 - binary_accuracy: 0.8597 - F1Score: 0.7532\n",
      "Epoch 57/200\n",
      "147/147 [==============================] - 5s 34ms/step - loss: 0.2915 - auc: 0.9439 - binary_accuracy: 0.8637 - F1Score: 0.7534\n",
      "Epoch 58/200\n"
     ]
    },
    {
     "name": "stdout",
     "output_type": "stream",
     "text": [
      "147/147 [==============================] - 5s 34ms/step - loss: 0.2738 - auc: 0.9503 - binary_accuracy: 0.8682 - F1Score: 0.7528\n",
      "Epoch 59/200\n",
      "147/147 [==============================] - 5s 34ms/step - loss: 0.2652 - auc: 0.9541 - binary_accuracy: 0.8781 - F1Score: 0.7532\n",
      "Epoch 60/200\n",
      "147/147 [==============================] - 5s 34ms/step - loss: 0.2502 - auc: 0.9595 - binary_accuracy: 0.8913 - F1Score: 0.7531\n",
      "Epoch 61/200\n",
      "147/147 [==============================] - 5s 34ms/step - loss: 0.2473 - auc: 0.9602 - binary_accuracy: 0.8870 - F1Score: 0.7534\n",
      "Epoch 62/200\n",
      "147/147 [==============================] - 5s 34ms/step - loss: 0.2336 - auc: 0.9645 - binary_accuracy: 0.8946 - F1Score: 0.7533\n",
      "Epoch 63/200\n",
      "147/147 [==============================] - 5s 34ms/step - loss: 0.2150 - auc: 0.9703 - binary_accuracy: 0.9039 - F1Score: 0.7533\n",
      "Epoch 64/200\n",
      "147/147 [==============================] - 5s 34ms/step - loss: 0.1986 - auc: 0.9746 - binary_accuracy: 0.9132 - F1Score: 0.7529\n",
      "Epoch 65/200\n",
      "147/147 [==============================] - 5s 34ms/step - loss: 0.2106 - auc: 0.9713 - binary_accuracy: 0.9073 - F1Score: 0.7528\n",
      "Epoch 66/200\n",
      "147/147 [==============================] - 5s 34ms/step - loss: 0.1843 - auc: 0.9783 - binary_accuracy: 0.9203 - F1Score: 0.7533\n",
      "Epoch 67/200\n",
      "147/147 [==============================] - 5s 34ms/step - loss: 0.1725 - auc: 0.9809 - binary_accuracy: 0.9271 - F1Score: 0.7530\n",
      "Epoch 68/200\n",
      "147/147 [==============================] - 5s 34ms/step - loss: 0.1696 - auc: 0.9815 - binary_accuracy: 0.9257 - F1Score: 0.7536\n",
      "Epoch 69/200\n",
      "147/147 [==============================] - 5s 34ms/step - loss: 0.1624 - auc: 0.9831 - binary_accuracy: 0.9326 - F1Score: 0.7538\n",
      "Epoch 70/200\n",
      "147/147 [==============================] - 5s 34ms/step - loss: 0.1545 - auc: 0.9844 - binary_accuracy: 0.9343 - F1Score: 0.7536\n",
      "Epoch 71/200\n",
      "147/147 [==============================] - 5s 34ms/step - loss: 0.1486 - auc: 0.9856 - binary_accuracy: 0.9395 - F1Score: 0.7533\n",
      "Epoch 72/200\n",
      "147/147 [==============================] - 5s 34ms/step - loss: 0.1632 - auc: 0.9827 - binary_accuracy: 0.9338 - F1Score: 0.7535\n",
      "Epoch 73/200\n",
      "147/147 [==============================] - 5s 34ms/step - loss: 0.1389 - auc: 0.9871 - binary_accuracy: 0.9419 - F1Score: 0.7536\n",
      "Epoch 74/200\n",
      "147/147 [==============================] - 5s 34ms/step - loss: 0.1264 - auc: 0.9895 - binary_accuracy: 0.9487 - F1Score: 0.7538\n",
      "Epoch 75/200\n",
      "147/147 [==============================] - 5s 34ms/step - loss: 0.1189 - auc: 0.9905 - binary_accuracy: 0.9519 - F1Score: 0.7536\n",
      "Epoch 76/200\n",
      "147/147 [==============================] - 5s 34ms/step - loss: 0.1132 - auc: 0.9908 - binary_accuracy: 0.9547 - F1Score: 0.7535\n",
      "Epoch 77/200\n",
      "147/147 [==============================] - 5s 34ms/step - loss: 0.1065 - auc: 0.9925 - binary_accuracy: 0.9579 - F1Score: 0.7535\n",
      "Epoch 78/200\n",
      "147/147 [==============================] - 5s 34ms/step - loss: 0.1172 - auc: 0.9902 - binary_accuracy: 0.9550 - F1Score: 0.7534\n",
      "Epoch 79/200\n",
      "147/147 [==============================] - 5s 34ms/step - loss: 0.1220 - auc: 0.9899 - binary_accuracy: 0.9527 - F1Score: 0.7532\n",
      "Epoch 80/200\n",
      "147/147 [==============================] - 5s 34ms/step - loss: 0.1179 - auc: 0.9904 - binary_accuracy: 0.9548 - F1Score: 0.7533\n",
      "Epoch 81/200\n",
      "147/147 [==============================] - 5s 34ms/step - loss: 0.1050 - auc: 0.9928 - binary_accuracy: 0.9599 - F1Score: 0.7532\n"
     ]
    }
   ],
   "source": [
    "train_model = False\n",
    "decay_epochs = 50\n",
    "decay_steps = len(X)  // 16 * decay_epochs\n",
    "lr_decayed_fn = tf.keras.optimizers.schedules.CosineDecay(\n",
    "      config.lr, decay_steps, alpha=1e-3)\n",
    "opt = tf.optimizers.Adam(lr_decayed_fn)\n",
    "\n",
    "if train_model:\n",
    "    model = build_model(None)\n",
    "    tf.keras.backend.clear_session()\n",
    "    early_stopping = tf.keras.callbacks.EarlyStopping(monitor='auc', patience=10, min_delta=1e-2, restore_best_weights=True)\n",
    "    focal_loss  = tf.keras.losses.BinaryFocalCrossentropy(\n",
    "                gamma=5, from_logits=False,  apply_class_balancing=True\n",
    "                )\n",
    "    model.compile(\n",
    "        optimizer=opt,\n",
    "        loss=tf.keras.losses.BinaryCrossentropy(from_logits=False),\n",
    "    #     loss = focal_loss,\n",
    "        metrics=[tf.keras.metrics.AUC(from_logits=False), tf.keras.metrics.BinaryAccuracy(threshold=0.5), F1Score()],\n",
    "        )\n",
    "    history = model.fit(\n",
    "        [X, np.array([counts_aa(xi) for xi in X])] , y,\n",
    "    #         validation_data=([X_test_L, np.array([counts_aa(xi) for xi in X_test_L])] , y_test_L),\n",
    "        epochs=200,\n",
    "        batch_size=64,\n",
    "        callbacks=[early_stopping],\n",
    "        verbose=1,\n",
    "    )\n",
    "    # serialize model to JSON\n",
    "    inference_model_json = model.to_json()\n",
    "    with open(\"../saved_models/sol-rnn/elkan_noto_model.json\", \"w\") as json_file:\n",
    "        json_file.write(inference_model_json)\n",
    "    # serialize weights to HDF5\n",
    "    model.save_weights(\"../saved_models/sol-rnn/elkan_noto_model_weights.h5\")\n",
    "    \n",
    "else:\n",
    "    # Inference model\n",
    "    import keras\n",
    "    # load json and create model\n",
    "    json_file = open('../saved_models/sol-rnn/elkan_noto_model.json', 'r')\n",
    "    loaded_model_json = json_file.read()\n",
    "    json_file.close()\n",
    "    model = keras.models.model_from_json(loaded_model_json)\n",
    "    best_accuracy_threshold = 0.73\n",
    "    model.compile(\n",
    "        optimizer=opt,\n",
    "        loss=tf.keras.losses.BinaryCrossentropy(from_logits=False),\n",
    "    #     loss = focal_loss,\n",
    "        metrics=[tf.keras.metrics.AUC(from_logits=False), tf.keras.metrics.BinaryAccuracy(threshold=best_accuracy_threshold), F1Score()],\n",
    "        )\n",
    "\n",
    "    # load weights into new model\n",
    "    model.load_weights(\"../saved_models/sol-rnn/elkan_noto_model_weights.h5\")"
   ]
  },
  {
   "cell_type": "code",
   "execution_count": 11,
   "id": "2cc75be2",
   "metadata": {},
   "outputs": [
    {
     "name": "stdout",
     "output_type": "stream",
     "text": [
      "20/20 [==============================] - 4s 12ms/step\n",
      "0.6598003\n"
     ]
    }
   ],
   "source": [
    "# 0.9572 \n",
    "c = np.mean(model.predict([X_val_positive, np.array([counts_aa(xi) for xi in X_val_positive])]))\n",
    "print(c)"
   ]
  },
  {
   "cell_type": "code",
   "execution_count": 12,
   "id": "fa9bc636",
   "metadata": {},
   "outputs": [
    {
     "name": "stdout",
     "output_type": "stream",
     "text": [
      "20/20 [==============================] - 0s 11ms/step\n"
     ]
    },
    {
     "data": {
      "text/plain": [
       "0.46849507"
      ]
     },
     "execution_count": 12,
     "metadata": {},
     "output_type": "execute_result"
    }
   ],
   "source": [
    "R_indice = np.random.randint(0, X_val_positive.shape[0], X_val_positive.shape[0]//2)\n",
    "y_hat_val =  model.predict([X_val_positive, np.array([counts_aa(xi) for xi in X_val_positive])])\n",
    "c = np.sum(y_hat_val[R_indice]) / np.sum(y_hat_val)\n",
    "c"
   ]
  },
  {
   "cell_type": "code",
   "execution_count": 13,
   "id": "56499629",
   "metadata": {},
   "outputs": [
    {
     "name": "stdout",
     "output_type": "stream",
     "text": [
      "264/264 [==============================] - 3s 11ms/step\n"
     ]
    }
   ],
   "source": [
    "X_test = np.concatenate([X_test_positive, X_test_negative])\n",
    "y_test = np.concatenate([np.ones(X_test_positive.shape[0]), np.zeros(X_test_negative.shape[0])])\n",
    "yhat_test =  model.predict([X_test, np.array([counts_aa(xi) for xi in X_test])])/c\n",
    "# yhat_test = [0 if y < 0.5 else 1 for y in yhat_test ]"
   ]
  },
  {
   "cell_type": "code",
   "execution_count": 14,
   "id": "e12a0a12",
   "metadata": {},
   "outputs": [
    {
     "data": {
      "text/plain": [
       "<matplotlib.legend.Legend at 0x7f426c3f0970>"
      ]
     },
     "execution_count": 14,
     "metadata": {},
     "output_type": "execute_result"
    },
    {
     "data": {
      "image/png": "[encoded data removed]",
      "text/plain": [
       "<Figure size 252x210 with 1 Axes>"
      ]
     },
     "metadata": {},
     "output_type": "display_data"
    }
   ],
   "source": [
    "plt.hist(yhat_test, label='predicted', alpha=0.5, bins=10)\n",
    "plt.hist(y_test, label='true', alpha=0.5, bins=10)\n",
    "plt.legend()"
   ]
  },
  {
   "cell_type": "code",
   "execution_count": 15,
   "id": "8bf6fff1",
   "metadata": {},
   "outputs": [
    {
     "name": "stdout",
     "output_type": "stream",
     "text": [
      "Best Threshold=1.810128, G-Mean=0.565\n",
      "Accuracy: 0.560\n",
      "F1 Score: 0.439\n",
      "AUC: 0.585\n"
     ]
    },
    {
     "data": {
      "text/plain": [
       "<matplotlib.legend.Legend at 0x7f426c2debe0>"
      ]
     },
     "execution_count": 15,
     "metadata": {},
     "output_type": "execute_result"
    },
    {
     "data": {
      "image/png": "[encoded data removed]",
      "text/plain": [
       "<Figure size 700x583.333 with 1 Axes>"
      ]
     },
     "metadata": {},
     "output_type": "display_data"
    }
   ],
   "source": [
    "from sklearn.metrics import roc_auc_score\n",
    "from sklearn.metrics import roc_curve\n",
    "from sklearn.metrics import accuracy_score\n",
    "from sklearn.metrics import f1_score\n",
    "\n",
    "fpr, tpr, thresholds = roc_curve(y_test, yhat_test, drop_intermediate=False)\n",
    "# calculate the g-mean for each threshold\n",
    "gmeans = np.sqrt(tpr * (1-fpr))\n",
    "# locate the index of the largest g-mean\n",
    "ix = np.argmax(gmeans)\n",
    "best_accuracy_threshold = thresholds[ix]\n",
    "print('Best Threshold=%f, G-Mean=%.3f' % (thresholds[ix], gmeans[ix]))\n",
    "adjusted_y_hat_test = [1 if m>best_accuracy_threshold else 0 for m in yhat_test]\n",
    "acc = accuracy_score(y_test, adjusted_y_hat_test, normalize=True)\n",
    "print(f'Accuracy: {acc:.3f}')\n",
    "f1 = f1_score(y_test, adjusted_y_hat_test, average='macro')\n",
    "print(f'F1 Score: {f1:.3f}')\n",
    "auc = roc_auc_score(y_test, yhat_test, average='macro')\n",
    "print(f'AUC: {auc:.3f}')\n",
    "plt.figure(dpi=200)\n",
    "plt.hist(adjusted_y_hat_test, label='predicted', alpha=0.5, bins=10)\n",
    "plt.hist(y_test, label='true', alpha=0.5, bins=10)\n",
    "plt.legend()"
   ]
  },
  {
   "cell_type": "code",
   "execution_count": 16,
   "id": "594bfb69",
   "metadata": {
    "scrolled": false
   },
   "outputs": [
    {
     "name": "stdout",
     "output_type": "stream",
     "text": [
      "\n",
      "Best ghostml Threshold=%f, 1.63\n",
      "Accuracy: 0.533\n",
      "F1 Score: 0.424\n",
      "AUC: 0.585\n"
     ]
    },
    {
     "data": {
      "text/plain": [
       "<matplotlib.legend.Legend at 0x7f426c0fdaf0>"
      ]
     },
     "execution_count": 16,
     "metadata": {},
     "output_type": "execute_result"
    },
    {
     "data": {
      "image/png": "[encoded data removed]",
      "text/plain": [
       "<Figure size 700x583.333 with 1 Axes>"
      ]
     },
     "metadata": {},
     "output_type": "display_data"
    }
   ],
   "source": [
    "import warnings\n",
    "warnings.filterwarnings('ignore')\n",
    "import ghostml\n",
    "from sklearn.metrics import roc_auc_score\n",
    "from sklearn.metrics import roc_curve\n",
    "from sklearn.metrics import accuracy_score\n",
    "from sklearn.metrics import f1_score\n",
    "\n",
    "# train_probs = model_2.predict([NP, np.array([counts_aa(xi) for xi in NP])])\n",
    "thresholds = np.round(np.arange(0.1,1/c-0.5,0.005),2)\n",
    "threshold1 = ghostml.optimize_threshold_from_predictions(y_test, yhat_test[:,0], thresholds, ThOpt_metrics = 'Kappa')\n",
    "print(f'\\nBest ghostml Threshold=%f, {threshold1}')\n",
    "best_accuracy_threshold = threshold1\n",
    "adjusted_y_hat_test = [1 if m>best_accuracy_threshold else 0 for m in yhat_test]\n",
    "acc = accuracy_score(y_test, adjusted_y_hat_test, normalize=True)\n",
    "print(f'Accuracy: {acc:.3f}')\n",
    "f1 = f1_score(y_test, adjusted_y_hat_test, average='macro')\n",
    "print(f'F1 Score: {f1:.3f}')\n",
    "auc = roc_auc_score(y_test, yhat_test, average='macro')\n",
    "print(f'AUC: {auc:.3f}')\n",
    "\n",
    "plt.figure(dpi=200)\n",
    "plt.hist(adjusted_y_hat_test, label='predicted', alpha=0.5, bins=10)\n",
    "plt.hist(y_test, label='true', alpha=0.5, bins=10)\n",
    "plt.legend()"
   ]
  },
  {
   "cell_type": "code",
   "execution_count": 17,
   "id": "9df73cce",
   "metadata": {},
   "outputs": [
    {
     "data": {
      "image/png": "[encoded data removed]",
      "text/plain": [
       "<Figure size 700x583.333 with 2 Axes>"
      ]
     },
     "metadata": {},
     "output_type": "display_data"
    }
   ],
   "source": [
    "from sklearn.metrics import confusion_matrix\n",
    "cm = confusion_matrix(y_test, adjusted_y_hat_test, normalize='true')\n",
    "# fig = plt.figure(dpi= 200)\n",
    "plt.figure(dpi=200)\n",
    "sns.heatmap(np.round(cm, 2), annot=True, fmt='g', ax=plt.gca(), cmap=\"crest\");  #annot=True to annotate cells, ftm='g' to disable scientific notation\n",
    "\n",
    "# labels, title and ticks\n",
    "ax=plt.gca()\n",
    "ax.set_xlabel('Predicted labels');ax.set_ylabel('True labels'); \n",
    "ax.set_title('Confusion Matrix'); \n"
   ]
  },
  {
   "cell_type": "code",
   "execution_count": null,
   "id": "2ce5f08c",
   "metadata": {},
   "outputs": [],
   "source": []
  }
 ],
 "metadata": {
  "kernelspec": {
   "display_name": "Python 3",
   "language": "python",
   "name": "python3"
  },
  "language_info": {
   "codemirror_mode": {
    "name": "ipython",
    "version": 3
   },
   "file_extension": ".py",
   "mimetype": "text/x-python",
   "name": "python",
   "nbconvert_exporter": "python",
   "pygments_lexer": "ipython3",
   "version": "3.8.13"
  }
 },
 "nbformat": 4,
 "nbformat_minor": 5
}
