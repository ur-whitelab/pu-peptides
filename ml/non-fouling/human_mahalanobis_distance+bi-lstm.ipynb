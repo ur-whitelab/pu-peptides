{
 "cells": [
  {
   "cell_type": "code",
   "execution_count": 1,
   "id": "a95c079e",
   "metadata": {},
   "outputs": [],
   "source": [
    "#@title Runtime\n",
    "use_tpu = False #@param"
   ]
  },
  {
   "cell_type": "code",
   "execution_count": 2,
   "id": "1ba9cf49",
   "metadata": {},
   "outputs": [],
   "source": [
    "import matplotlib.pyplot as plt\n",
    "import matplotlib as mpl\n",
    "import numpy as np\n",
    "import os\n",
    "import tensorflow as tf\n",
    "import urllib\n",
    "from dataclasses import dataclass\n",
    "import tensorflowjs as tfjs\n",
    "# import tensorflow_decision_forests as tfdf\n",
    "import json\n",
    "from tqdm import tqdm\n",
    "import seaborn as sns\n",
    "np.random.seed(0)"
   ]
  },
  {
   "cell_type": "code",
   "execution_count": 3,
   "id": "7d0c69c6",
   "metadata": {},
   "outputs": [],
   "source": [
    "urllib.request.urlretrieve(\n",
    "    \"https://github.com/ur-whitelab/peptide-dashboard/raw/master/ml/data/human-positive.npz\",\n",
    "    \"positive.npz\",\n",
    ")\n",
    "urllib.request.urlretrieve(\n",
    "    \"https://github.com/ur-whitelab/peptide-dashboard/raw/master/ml/data/human-negative.npz\",\n",
    "    \"negative.npz\",\n",
    ")\n",
    "with np.load(\"positive.npz\") as r:\n",
    "    pos_data = r[list(r.keys())[0]]\n",
    "with np.load(\"negative.npz\") as r:\n",
    "    neg_data = r['seqs']\n",
    "    weights = r['weights']\n",
    "\n",
    "# create labels and stich it all into one\n",
    "# tensor\n",
    "# labels = np.concatenate(\n",
    "#     (\n",
    "#         np.ones((pos_data.shape[0], 1), dtype=pos_data.dtype),\n",
    "#         np.zeros((neg_data.shape[0], 1), dtype=pos_data.dtype),\n",
    "#     ),\n",
    "#     axis=0,\n",
    "# )\n",
    "# weights = np.concatenate(\n",
    "#     (np.ones((pos_data.shape[0]), dtype=pos_data.dtype), \n",
    "#      weights)\n",
    "# )\n",
    "# features = np.concatenate((pos_data, neg_data), axis=0)\n",
    "# pos_data_lengths = np.count_nonzero(pos_data, axis=1)\n",
    "# neg_data_lengths = np.count_nonzero(neg_data, axis=1)"
   ]
  },
  {
   "cell_type": "code",
   "execution_count": 6,
   "id": "f0882d3d",
   "metadata": {},
   "outputs": [
    {
     "name": "stderr",
     "output_type": "stream",
     "text": [
      "100%|██████████| 18000/18000 [00:00<00:00, 24777.36it/s]\n"
     ]
    }
   ],
   "source": [
    "def encoder(seq, max_length=200):\n",
    "    alphabet = ['A','R','N','D','C','Q','E','G','H','I', 'L','K','M','F','P','S','T','W','Y','V']\n",
    "    vec = np.zeros(max_length)\n",
    "    for i,l in enumerate(seq):\n",
    "        vec[i] = alphabet.index(l) + 1\n",
    "    return vec\n",
    "# sample unlabeled data\n",
    "def sample_permutations_from_vec(data_lengths, labeled_unlabeled_ratio=0.2, max_sequence_length=200):\n",
    "    alphabet = ['A','R','N','D','C','Q','E','G','H','I', 'L','K','M','F','P','S','T','W','Y','V']\n",
    "    with open(\"../pdb_dist.txt\", 'r') as f:\n",
    "        # the probabilities in this file are sorted based on the alphabet list above\n",
    "        pdb_dist = f.read().split()\n",
    "        pdb_dist = [float(item) for item in pdb_dist]\n",
    "#     unlabeled_seq_lengths = vec_pep_length(positive_data, ohe_vec=False)\n",
    "#     print(unlabeled_seq_lengths)\n",
    "    sampled_lengths = []\n",
    "    for length in data_lengths:\n",
    "        length_sample_batch = np.ones(int(1/labeled_unlabeled_ratio), dtype=int) * length\n",
    "        sampled_lengths.append(length_sample_batch)\n",
    "    sampled_lengths = np.array(sampled_lengths).flatten()\n",
    "    sampled_sequences = []\n",
    "    sampled_vecs = []\n",
    "    for length in tqdm(sampled_lengths):\n",
    "#         print(length)\n",
    "    #         random_alphabet_index = np.random.randint(len(alphabet), size=length)\n",
    "        # sample alphabet index based on weighted amino acid frequencies in pdb\n",
    "        random_alphabet_index = np.random.choice(len(alphabet), size=length, p=pdb_dist)\n",
    "        for _ in range(length):\n",
    "            pep = ''.join([alphabet[m] for m in random_alphabet_index])\n",
    "        vec_pep = encoder(pep)\n",
    "        # pad zeros\n",
    "    #     print(ohe_pep.shape)\n",
    "#         ohe_pep = np.concatenate([ohe_pep, np.zeros((max_sequence_length-ohe_pep.shape[0],20))],axis=0)\n",
    "        sampled_vecs.append(vec_pep)\n",
    "        sampled_sequences.append(pep)\n",
    "#     sampled_vecs = np.array(sampled_vecs)\n",
    "    return sampled_sequences, sampled_vecs\n",
    "# ohe_sequence_list = np.concatenate([ohe_sequence_list, np.zeros((190,10))],axis=1)\n",
    "pos_data_lengths = np.count_nonzero(pos_data, axis=1) + 1\n",
    "neg_data_lengths = np.count_nonzero(neg_data, axis=1) + 1\n",
    "labeled_unlabeled_ratio = 0.2\n",
    "sampled_sequences, sampled_vecs = sample_permutations_from_vec(pos_data_lengths, labeled_unlabeled_ratio=0.2)\n",
    "sampled_vecs = np.array(sampled_vecs)\n",
    "# X_unlabeled = sampled_vecs\n",
    "unlabeled_data_lengths = []\n",
    "for seq in sampled_sequences:\n",
    "    unlabeled_data_lengths.append(len(seq))"
   ]
  },
  {
   "cell_type": "code",
   "execution_count": 7,
   "id": "d24d98e0",
   "metadata": {},
   "outputs": [
    {
     "name": "stdout",
     "output_type": "stream",
     "text": [
      "Positive data: 3600\n",
      "Negative data: 13585\n",
      "Sampled unlabeled data: 18000\n"
     ]
    }
   ],
   "source": [
    "X_positive = pos_data\n",
    "X_negative = neg_data\n",
    "X_unlabeled = sampled_vecs\n",
    "print('Positive data:', pos_data.shape[0])\n",
    "print('Negative data:', neg_data.shape[0])\n",
    "print('Sampled unlabeled data:', len(sampled_sequences))"
   ]
  },
  {
   "cell_type": "code",
   "execution_count": 12,
   "id": "d66551aa",
   "metadata": {},
   "outputs": [
    {
     "data": {
      "text/plain": [
       "<matplotlib.legend.Legend at 0x7fda6820ffd0>"
      ]
     },
     "execution_count": 12,
     "metadata": {},
     "output_type": "execute_result"
    },
    {
     "data": {
      "image/png": "[encoded data removed]",
      "text/plain": [
       "<Figure size 900x600 with 1 Axes>"
      ]
     },
     "metadata": {
      "needs_background": "light"
     },
     "output_type": "display_data"
    }
   ],
   "source": [
    "fig, ax = plt.subplots(dpi=150)\n",
    "sns.kdeplot(pos_data_lengths, ax=ax, label='Positives', color='C0')\n",
    "ax.set_xlabel('Sequence Length')\n",
    "# ax.set_title(f'{peptide_label}')\n",
    "sns.kdeplot(unlabeled_data_lengths, ax=ax, label='Unlabeled', color='C2')\n",
    "sns.kdeplot(neg_data_lengths, ax=ax, label='Negatives', color='C1')\n",
    "plt.legend()"
   ]
  },
  {
   "cell_type": "code",
   "execution_count": 13,
   "id": "c4f243a3",
   "metadata": {},
   "outputs": [],
   "source": [
    "def decoder(seq_vector):\n",
    "  alphabet = ['A','R','N','D','C','Q','E','G','H','I', 'L','K','M','F','P','S','T','W','Y','V']\n",
    "  seq = []\n",
    "  for i, index in enumerate(seq_vector):\n",
    "    if index == 0:\n",
    "      break\n",
    "    seq.append(alphabet[int(index)-1])\n",
    "  seq = ''.join(seq)\n",
    "  return seq\n",
    "# need to decode postive and negative data to get UniRep representations\n",
    "pos_sequences = []\n",
    "for f in pos_data:\n",
    "  pos_sequences.append(decoder(f))\n",
    "\n",
    "neg_sequences = []\n",
    "for f in neg_data:\n",
    "  neg_sequences.append(decoder(f))"
   ]
  },
  {
   "cell_type": "code",
   "execution_count": 14,
   "id": "4b47df3c",
   "metadata": {},
   "outputs": [
    {
     "name": "stderr",
     "output_type": "stream",
     "text": [
      "/home/mgholiza/.conda/envs/covid-19/lib/python3.7/site-packages/jax/experimental/stax.py:30: FutureWarning: jax.experimental.stax is deprecated, import jax.example_libraries.stax instead\n",
      "  FutureWarning)\n",
      "WARNING:absl:No GPU/TPU found, falling back to CPU. (Set TF_CPP_MIN_LOG_LEVEL=0 and rerun for more info.)\n",
      "/home/mgholiza/.conda/envs/covid-19/lib/python3.7/site-packages/jax/experimental/optimizers.py:30: FutureWarning: jax.experimental.optimizers is deprecated, import jax.example_libraries.optimizers instead\n",
      "  FutureWarning)\n"
     ]
    }
   ],
   "source": [
    "# Generating UniRep representations for postives, negatives and unlableled (This cell takes long to run)\n",
    "from jax_unirep import get_reps\n",
    "h_avg, h_final, c_final = get_reps(pos_sequences)\n",
    "pos_UniRep = h_avg\n",
    "\n",
    "h_avg, h_final, c_final = get_reps(neg_sequences)\n",
    "neg_UniRep = h_avg\n",
    "\n",
    "h_avg, h_final, c_final = get_reps(sampled_sequences)\n",
    "unlabeled_UniRep = h_avg"
   ]
  },
  {
   "cell_type": "code",
   "execution_count": 19,
   "id": "1ba57e45",
   "metadata": {},
   "outputs": [],
   "source": [
    "# from sklearn.neighbors import LocalOutlierFactor\n",
    "# from sklearn.model_selection import KFold\n",
    "# from sklearn.metrics import f1_score\n",
    "# from sklearn.metrics import recall_score\n",
    "# kf = KFold(n_splits=5, random_state=None, shuffle=True)\n",
    "# f1_scores = []\n",
    "# recall_scores = []\n",
    "# i = 0\n",
    "\n",
    "# for train_index, test_index in kf.split(pos_UniRep):\n",
    "#     X_train_positive_lof, X_test_positive_lof = pos_UniRep[train_index], pos_UniRep[test_index]\n",
    "# #     s_train_positive_svm = np.ones(X_train_positive_svm.shape[0])\n",
    "# #     s_test_positive_svm = y[train_index], y[test_index]\n",
    "#     s_test_lof = np.ones(X_test_positive_lof.shape[0])\n",
    "#     lof = LocalOutlierFactor(n_neighbors=64, algorithm='auto',\n",
    "#                              metric='cosine', contamination=0.01,\n",
    "#                              novelty=True, n_jobs=20, leaf_size=40)\n",
    "#     lof.fit(X_train_positive_lof)\n",
    "# #     X_validation_svm = np.concatenate([X_positive_test, X_unlabeled_test])\n",
    "\n",
    "#     # Make prediction\n",
    "#     s_pred = lof.predict(X_test_positive_lof)\n",
    "#     f1 = f1_score(s_test_lof, s_pred, average='macro')\n",
    "#     r = recall_score(s_test_lof, s_pred, average='macro')\n",
    "#     print(f'Fold {i+1} - recall : {r:.3f}, f1 score : {f1:.3f}')\n",
    "#     f1_scores.append(f1)\n",
    "#     recall_scores.append(r)\n",
    "#     i += 1\n",
    "# #     break\n",
    "# # lof_f1_score\n",
    "# lof_f1_score = np.mean(f1_scores)\n",
    "# lof_recall_score = np.mean(recall_scores)\n",
    "# print(f'\\nMean 5-Fold\\n f1 score = {lof_f1_score:.3f}\\n recall = {lof_recall_score:.3f}')"
   ]
  },
  {
   "cell_type": "code",
   "execution_count": 25,
   "id": "82b67f18",
   "metadata": {},
   "outputs": [],
   "source": [
    "def mahalanobis_distance(x, data):\n",
    "    data = np.unique(data, axis=0)\n",
    "    x_minus_mu = x - np.mean(data, axis=0, keepdims=True)\n",
    "    cov = np.cov(data.T)\n",
    "    inv_covmat = np.linalg.pinv(cov)\n",
    "    left_term = x_minus_mu @ inv_covmat\n",
    "    mahal = left_term @ x_minus_mu.T\n",
    "    return mahal.diagonal()\n",
    "unlabeled_mahal_d = mahalanobis_distance(unlabeled_UniRep, pos_UniRep)\n",
    "sorted_max_mahal_d_index = np.argsort(unlabeled_mahal_d)[::-1]\n",
    "outlier_index = sorted_max_mahal_d_index[sorted_max_mahal_d_index[:100]]\n",
    "initial_RNs = X_unlabeled[outlier_index]"
   ]
  },
  {
   "cell_type": "code",
   "execution_count": 26,
   "id": "1a5c2508",
   "metadata": {},
   "outputs": [],
   "source": [
    "# Shuffling data\n",
    "shuffled_indices = np.random.permutation(len(pos_data))\n",
    "X_positive = pos_data[shuffled_indices]\n",
    "shuffled_indices = np.random.permutation(len(neg_data))\n",
    "X_negative = neg_data[shuffled_indices]\n",
    "# shuffled_indices = np.random.permutation(len(sampled_vecs))\n",
    "# X_unlabeled = sampled_vecs[shuffled_indices]"
   ]
  },
  {
   "cell_type": "code",
   "execution_count": 27,
   "id": "1e870295",
   "metadata": {},
   "outputs": [],
   "source": [
    "@dataclass\n",
    "class Config:\n",
    "    vocab_size: int\n",
    "    example_number: int\n",
    "    batch_size: int\n",
    "    buffer_size: int\n",
    "    rnn_units: int\n",
    "    hidden_dim: int\n",
    "    embedding_dim: int\n",
    "    reg_strength: float\n",
    "    lr: float\n",
    "    drop_rate: float\n",
    "        \n",
    "config = Config(vocab_size=21, # include gap\n",
    "                example_number=len(X_positive), \n",
    "                batch_size=16, \n",
    "                buffer_size=10000,\n",
    "                rnn_units=64,\n",
    "                hidden_dim=64,\n",
    "                embedding_dim=32,\n",
    "                reg_strength=0,\n",
    "                lr=1e-3,\n",
    "                drop_rate=0.1\n",
    "               )\n",
    "\n",
    "def counts_aa(vec):\n",
    "    counts =  tf.histogram_fixed_width(vec, [0, 20], nbins=21)[1:]\n",
    "    return counts/tf.reduce_sum(counts)\n",
    "\n",
    "def build_model(L):\n",
    "    inputs = tf.keras.Input(shape=(L,))\n",
    "    input_f = tf.keras.Input(shape=(20,))\n",
    "    # make embedding and indicate that 0 should be treated as padding mask\n",
    "    e = tf.keras.layers.Embedding(input_dim=config.vocab_size, \n",
    "                                        output_dim=config.embedding_dim,\n",
    "                                        mask_zero=True)(inputs)\n",
    "\n",
    "    # RNN layer\n",
    "    x = tf.keras.layers.Bidirectional(tf.keras.layers.LSTM(config.rnn_units, return_sequences=True))(e)\n",
    "    x = tf.keras.layers.Bidirectional(tf.keras.layers.LSTM(config.rnn_units))(x)\n",
    "    x = tf.keras.layers.Concatenate()([x, input_f])\n",
    "    x = tf.keras.layers.LayerNormalization()(x)\n",
    "    x = tf.keras.layers.Dropout(config.drop_rate)(x)\n",
    "    # a dense hidden layer\n",
    "    x = tf.keras.layers.Dense(\n",
    "        config.hidden_dim, \n",
    "        activation='relu', \n",
    "        kernel_regularizer=tf.keras.regularizers.l2(config.reg_strength))(x)\n",
    "    x = tf.keras.layers.LayerNormalization()(x)\n",
    "    x = tf.keras.layers.Dropout(config.drop_rate)(x)\n",
    "    x = tf.keras.layers.Dense(\n",
    "        config.hidden_dim // 4, \n",
    "        activation='relu', \n",
    "        kernel_regularizer=tf.keras.regularizers.l2(config.reg_strength))(x)\n",
    "    x = tf.keras.layers.LayerNormalization()(x)\n",
    "    x = tf.keras.layers.Dropout(config.drop_rate)(x)\n",
    "    # predicting prob, so no activation\n",
    "    yhat = tf.keras.layers.Dense(1)(x)\n",
    "\n",
    "    model = tf.keras.Model(inputs=[inputs, input_f], outputs=yhat, name='hemo-rnn')\n",
    "    return model"
   ]
  },
  {
   "cell_type": "code",
   "execution_count": 28,
   "id": "aedcb0fc",
   "metadata": {},
   "outputs": [],
   "source": [
    "from sklearn.model_selection import train_test_split\n",
    "X_train_positive, X_test_positive, y_train_positive, y_test_positive = train_test_split(X_positive, np.ones(X_positive.shape[0]),\n",
    "                                                                                        test_size=0.2, random_state=42)"
   ]
  },
  {
   "cell_type": "code",
   "execution_count": 48,
   "id": "8c2c11f9",
   "metadata": {},
   "outputs": [
    {
     "name": "stderr",
     "output_type": "stream",
     "text": [
      "\r",
      "  0%|          | 0/50 [00:00<?, ?it/s]"
     ]
    },
    {
     "name": "stdout",
     "output_type": "stream",
     "text": [
      "Epoch 1/50\n",
      "187/187 [==============================] - 25s 89ms/step - loss: 0.1663 - auc: 0.4641 - binary_accuracy: 0.9624 - val_loss: 3.0630 - val_auc: 0.8739 - val_binary_accuracy: 0.0503\n",
      "Epoch 2/50\n",
      "187/187 [==============================] - 13s 71ms/step - loss: 0.1259 - auc: 0.7726 - binary_accuracy: 0.9658 - val_loss: 2.8677 - val_auc: 0.6824 - val_binary_accuracy: 0.3497\n",
      "Epoch 3/50\n",
      "187/187 [==============================] - 13s 71ms/step - loss: 0.0975 - auc: 0.8669 - binary_accuracy: 0.9708 - val_loss: 3.5010 - val_auc: 0.8060 - val_binary_accuracy: 0.0619\n",
      "Epoch 4/50\n",
      "187/187 [==============================] - 13s 71ms/step - loss: 0.0827 - auc: 0.9124 - binary_accuracy: 0.9742 - val_loss: 3.1763 - val_auc: 0.7507 - val_binary_accuracy: 0.0656\n",
      "Epoch 5/50\n",
      "187/187 [==============================] - 13s 71ms/step - loss: 0.0727 - auc: 0.9341 - binary_accuracy: 0.9779 - val_loss: 3.4846 - val_auc: 0.8166 - val_binary_accuracy: 0.0638\n",
      "Epoch 6/50\n",
      "187/187 [==============================] - 13s 70ms/step - loss: 0.0777 - auc: 0.9416 - binary_accuracy: 0.9745 - val_loss: 4.3191 - val_auc: 0.7010 - val_binary_accuracy: 0.0541\n",
      "Epoch 7/50\n",
      "187/187 [==============================] - 13s 70ms/step - loss: 0.0738 - auc: 0.9475 - binary_accuracy: 0.9775 - val_loss: 3.1031 - val_auc: 0.7834 - val_binary_accuracy: 0.1108\n",
      "Reliable negative size: 80   Unlabeled size: 18000\n",
      "pos size: 80 RN size: 80\n"
     ]
    },
    {
     "name": "stderr",
     "output_type": "stream",
     "text": [
      "\r",
      "  2%|▏         | 1/50 [02:10<1:46:17, 130.15s/it]"
     ]
    },
    {
     "name": "stdout",
     "output_type": "stream",
     "text": [
      "Epoch 1/50\n",
      "185/185 [==============================] - 23s 81ms/step - loss: 0.0689 - auc: 0.9397 - binary_accuracy: 0.9770 - val_loss: 4.9458 - val_auc: 0.5601 - val_binary_accuracy: 0.1616\n",
      "Epoch 2/50\n",
      "185/185 [==============================] - 13s 68ms/step - loss: 0.0219 - auc: 0.9841 - binary_accuracy: 0.9936 - val_loss: 4.9513 - val_auc: 0.6877 - val_binary_accuracy: 0.0977\n",
      "Epoch 3/50\n",
      "185/185 [==============================] - 13s 68ms/step - loss: 0.0084 - auc: 0.9930 - binary_accuracy: 0.9980 - val_loss: 4.6333 - val_auc: 0.6634 - val_binary_accuracy: 0.2157\n",
      "Epoch 4/50\n",
      "185/185 [==============================] - 13s 68ms/step - loss: 0.0024 - auc: 1.0000 - binary_accuracy: 1.0000 - val_loss: 5.6420 - val_auc: 0.5746 - val_binary_accuracy: 0.1911\n",
      "Epoch 5/50\n",
      "185/185 [==============================] - 12s 68ms/step - loss: 0.0013 - auc: 1.0000 - binary_accuracy: 1.0000 - val_loss: 5.5351 - val_auc: 0.5994 - val_binary_accuracy: 0.2396\n",
      "Epoch 6/50\n",
      "185/185 [==============================] - 12s 67ms/step - loss: 9.3175e-04 - auc: 1.0000 - binary_accuracy: 1.0000 - val_loss: 5.7790 - val_auc: 0.6003 - val_binary_accuracy: 0.2405\n",
      "Reliable negative size: 160   Unlabeled size: 18000\n",
      "pos size: 160 RN size: 160\n"
     ]
    },
    {
     "name": "stderr",
     "output_type": "stream",
     "text": [
      "\r",
      "  4%|▍         | 2/50 [04:01<1:39:32, 124.44s/it]"
     ]
    },
    {
     "name": "stdout",
     "output_type": "stream",
     "text": [
      "Epoch 1/50\n",
      "190/190 [==============================] - 23s 80ms/step - loss: 0.0448 - auc: 0.9962 - binary_accuracy: 0.9862 - val_loss: 4.6279 - val_auc: 0.5902 - val_binary_accuracy: 0.2042\n",
      "Epoch 2/50\n",
      "190/190 [==============================] - 12s 66ms/step - loss: 0.0102 - auc: 0.9996 - binary_accuracy: 0.9984 - val_loss: 1.7613 - val_auc: 0.8688 - val_binary_accuracy: 0.6952\n",
      "Epoch 3/50\n",
      "190/190 [==============================] - 13s 66ms/step - loss: 0.0116 - auc: 0.9996 - binary_accuracy: 0.9964 - val_loss: 3.7326 - val_auc: 0.7386 - val_binary_accuracy: 0.3876\n",
      "Epoch 4/50\n",
      "190/190 [==============================] - 12s 66ms/step - loss: 0.0020 - auc: 1.0000 - binary_accuracy: 0.9997 - val_loss: 5.7822 - val_auc: 0.6228 - val_binary_accuracy: 0.0898\n",
      "Epoch 5/50\n",
      "190/190 [==============================] - 12s 65ms/step - loss: 0.0018 - auc: 1.0000 - binary_accuracy: 0.9997 - val_loss: 4.1241 - val_auc: 0.7286 - val_binary_accuracy: 0.4128\n",
      "Epoch 6/50\n",
      "190/190 [==============================] - 12s 66ms/step - loss: 0.0024 - auc: 1.0000 - binary_accuracy: 0.9993 - val_loss: 7.0011 - val_auc: 0.5531 - val_binary_accuracy: 0.1099\n",
      "Epoch 7/50\n",
      "190/190 [==============================] - 13s 66ms/step - loss: 0.0033 - auc: 1.0000 - binary_accuracy: 0.9990 - val_loss: 6.8266 - val_auc: 0.5683 - val_binary_accuracy: 0.1154\n",
      "Epoch 8/50\n",
      "190/190 [==============================] - 13s 66ms/step - loss: 0.0027 - auc: 0.9998 - binary_accuracy: 0.9997 - val_loss: 4.9298 - val_auc: 0.7000 - val_binary_accuracy: 0.3300\n",
      "Epoch 9/50\n",
      "190/190 [==============================] - 13s 66ms/step - loss: 0.0067 - auc: 0.9966 - binary_accuracy: 0.9987 - val_loss: 2.2948 - val_auc: 0.8607 - val_binary_accuracy: 0.7259\n",
      "Epoch 10/50\n",
      "190/190 [==============================] - 13s 67ms/step - loss: 0.0043 - auc: 0.9998 - binary_accuracy: 0.9990 - val_loss: 7.6344 - val_auc: 0.5330 - val_binary_accuracy: 0.1077\n",
      "Epoch 11/50\n",
      "190/190 [==============================] - 12s 66ms/step - loss: 0.0059 - auc: 0.9997 - binary_accuracy: 0.9990 - val_loss: 2.1093 - val_auc: 0.8688 - val_binary_accuracy: 0.7423\n",
      "Epoch 12/50\n",
      "190/190 [==============================] - 12s 66ms/step - loss: 5.8539e-04 - auc: 1.0000 - binary_accuracy: 1.0000 - val_loss: 2.3220 - val_auc: 0.8629 - val_binary_accuracy: 0.7351\n",
      "Epoch 13/50\n",
      "190/190 [==============================] - 12s 65ms/step - loss: 3.0827e-04 - auc: 1.0000 - binary_accuracy: 1.0000 - val_loss: 2.3699 - val_auc: 0.8632 - val_binary_accuracy: 0.7362\n",
      "Epoch 14/50\n",
      "190/190 [==============================] - 12s 66ms/step - loss: 2.6769e-04 - auc: 1.0000 - binary_accuracy: 1.0000 - val_loss: 2.4253 - val_auc: 0.8628 - val_binary_accuracy: 0.7360\n",
      "Epoch 15/50\n",
      "190/190 [==============================] - 13s 67ms/step - loss: 1.8673e-04 - auc: 1.0000 - binary_accuracy: 1.0000 - val_loss: 2.4692 - val_auc: 0.8627 - val_binary_accuracy: 0.7362\n",
      "Reliable negative size: 240   Unlabeled size: 18000\n",
      "pos size: 240 RN size: 240\n"
     ]
    },
    {
     "name": "stderr",
     "output_type": "stream",
     "text": [
      "\r",
      "  6%|▌         | 3/50 [07:44<2:00:48, 154.23s/it]"
     ]
    },
    {
     "name": "stdout",
     "output_type": "stream",
     "text": [
      "Epoch 1/50\n",
      "195/195 [==============================] - 23s 78ms/step - loss: 0.0500 - auc: 0.9954 - binary_accuracy: 0.9856 - val_loss: 4.7149 - val_auc: 0.5770 - val_binary_accuracy: 0.1955\n",
      "Epoch 2/50\n",
      "195/195 [==============================] - 12s 63ms/step - loss: 0.0082 - auc: 0.9999 - binary_accuracy: 0.9978 - val_loss: 4.2365 - val_auc: 0.6674 - val_binary_accuracy: 0.3511\n",
      "Epoch 3/50\n",
      "195/195 [==============================] - 12s 64ms/step - loss: 0.0067 - auc: 0.9998 - binary_accuracy: 0.9984 - val_loss: 4.3408 - val_auc: 0.6739 - val_binary_accuracy: 0.3819\n",
      "Epoch 4/50\n",
      "195/195 [==============================] - 12s 64ms/step - loss: 0.0052 - auc: 1.0000 - binary_accuracy: 0.9984 - val_loss: 6.1375 - val_auc: 0.5870 - val_binary_accuracy: 0.0614\n",
      "Epoch 5/50\n",
      "195/195 [==============================] - 13s 66ms/step - loss: 0.0011 - auc: 1.0000 - binary_accuracy: 1.0000 - val_loss: 6.5302 - val_auc: 0.5820 - val_binary_accuracy: 0.0535\n",
      "Epoch 6/50\n",
      "195/195 [==============================] - 13s 65ms/step - loss: 0.0034 - auc: 0.9979 - binary_accuracy: 0.9994 - val_loss: 4.6716 - val_auc: 0.6885 - val_binary_accuracy: 0.3978\n",
      "Reliable negative size: 320   Unlabeled size: 18000\n",
      "pos size: 320 RN size: 320\n"
     ]
    },
    {
     "name": "stderr",
     "output_type": "stream",
     "text": [
      "\r",
      "  8%|▊         | 4/50 [09:36<1:48:19, 141.30s/it]"
     ]
    },
    {
     "name": "stdout",
     "output_type": "stream",
     "text": [
      "Epoch 1/50\n",
      "200/200 [==============================] - 22s 76ms/step - loss: 0.0584 - auc: 0.9949 - binary_accuracy: 0.9787 - val_loss: 5.7081 - val_auc: 0.5029 - val_binary_accuracy: 0.0563\n",
      "Epoch 2/50\n",
      "200/200 [==============================] - 12s 63ms/step - loss: 0.0053 - auc: 1.0000 - binary_accuracy: 0.9994 - val_loss: 5.5225 - val_auc: 0.5560 - val_binary_accuracy: 0.1519\n",
      "Epoch 3/50\n",
      "200/200 [==============================] - 13s 64ms/step - loss: 0.0098 - auc: 0.9982 - binary_accuracy: 0.9978 - val_loss: 5.4747 - val_auc: 0.5834 - val_binary_accuracy: 0.2108\n",
      "Epoch 4/50\n",
      "200/200 [==============================] - 13s 64ms/step - loss: 0.0065 - auc: 0.9984 - binary_accuracy: 0.9987 - val_loss: 6.5361 - val_auc: 0.5310 - val_binary_accuracy: 0.0549\n",
      "Epoch 5/50\n",
      "200/200 [==============================] - 12s 62ms/step - loss: 0.0012 - auc: 1.0000 - binary_accuracy: 1.0000 - val_loss: 6.9780 - val_auc: 0.5258 - val_binary_accuracy: 0.0593\n",
      "Epoch 6/50\n",
      "200/200 [==============================] - 13s 64ms/step - loss: 8.2370e-04 - auc: 1.0000 - binary_accuracy: 1.0000 - val_loss: 7.2890 - val_auc: 0.5275 - val_binary_accuracy: 0.0631\n",
      "Reliable negative size: 400   Unlabeled size: 18000\n",
      "pos size: 400 RN size: 400\n"
     ]
    },
    {
     "name": "stderr",
     "output_type": "stream",
     "text": [
      "\r",
      " 10%|█         | 5/50 [11:29<1:39:41, 132.93s/it]"
     ]
    },
    {
     "name": "stdout",
     "output_type": "stream",
     "text": [
      "Epoch 1/50\n",
      "205/205 [==============================] - 23s 77ms/step - loss: 0.0604 - auc: 0.9978 - binary_accuracy: 0.9838 - val_loss: 4.8345 - val_auc: 0.5589 - val_binary_accuracy: 0.0750\n",
      "Epoch 2/50\n",
      "205/205 [==============================] - 13s 62ms/step - loss: 0.0159 - auc: 0.9995 - binary_accuracy: 0.9970 - val_loss: 3.3462 - val_auc: 0.7470 - val_binary_accuracy: 0.3878\n",
      "Epoch 3/50\n",
      "205/205 [==============================] - 13s 62ms/step - loss: 0.0048 - auc: 1.0000 - binary_accuracy: 0.9997 - val_loss: 5.9243 - val_auc: 0.5564 - val_binary_accuracy: 0.0863\n",
      "Epoch 4/50\n",
      "205/205 [==============================] - 13s 63ms/step - loss: 0.0082 - auc: 0.9997 - binary_accuracy: 0.9979 - val_loss: 4.3404 - val_auc: 0.7047 - val_binary_accuracy: 0.3171\n",
      "Epoch 5/50\n",
      "205/205 [==============================] - 13s 62ms/step - loss: 0.0013 - auc: 1.0000 - binary_accuracy: 1.0000 - val_loss: 4.5672 - val_auc: 0.7021 - val_binary_accuracy: 0.3271\n",
      "Epoch 6/50\n",
      "205/205 [==============================] - 13s 63ms/step - loss: 8.1116e-04 - auc: 1.0000 - binary_accuracy: 1.0000 - val_loss: 4.7544 - val_auc: 0.6992 - val_binary_accuracy: 0.3339\n",
      "Reliable negative size: 480   Unlabeled size: 18000\n",
      "pos size: 480 RN size: 480\n"
     ]
    },
    {
     "name": "stderr",
     "output_type": "stream",
     "text": [
      "\r",
      " 12%|█▏        | 6/50 [13:24<1:33:29, 127.48s/it]"
     ]
    },
    {
     "name": "stdout",
     "output_type": "stream",
     "text": [
      "Epoch 1/50\n",
      "210/210 [==============================] - 21s 72ms/step - loss: 0.0837 - auc: 0.9906 - binary_accuracy: 0.9732 - val_loss: 4.3807 - val_auc: 0.5165 - val_binary_accuracy: 0.1721\n",
      "Epoch 2/50\n",
      "210/210 [==============================] - 13s 61ms/step - loss: 0.0306 - auc: 0.9987 - binary_accuracy: 0.9911 - val_loss: 4.8152 - val_auc: 0.5820 - val_binary_accuracy: 0.1865\n",
      "Epoch 3/50\n",
      "210/210 [==============================] - 12s 60ms/step - loss: 0.0261 - auc: 0.9981 - binary_accuracy: 0.9908 - val_loss: 4.4404 - val_auc: 0.7452 - val_binary_accuracy: 0.1055\n",
      "Epoch 4/50\n",
      "210/210 [==============================] - 12s 59ms/step - loss: 0.0188 - auc: 0.9996 - binary_accuracy: 0.9946 - val_loss: 5.1418 - val_auc: 0.6266 - val_binary_accuracy: 0.1056\n",
      "Epoch 5/50\n",
      "210/210 [==============================] - 13s 60ms/step - loss: 0.0221 - auc: 0.9993 - binary_accuracy: 0.9920 - val_loss: 4.6315 - val_auc: 0.6937 - val_binary_accuracy: 0.1898\n",
      "Epoch 6/50\n",
      "210/210 [==============================] - 13s 60ms/step - loss: 0.0185 - auc: 0.9985 - binary_accuracy: 0.9940 - val_loss: 4.5898 - val_auc: 0.6955 - val_binary_accuracy: 0.2110\n",
      "Reliable negative size: 560   Unlabeled size: 18000\n",
      "pos size: 560 RN size: 560\n"
     ]
    },
    {
     "name": "stderr",
     "output_type": "stream",
     "text": [
      "\r",
      " 14%|█▍        | 7/50 [15:17<1:28:11, 123.05s/it]"
     ]
    },
    {
     "name": "stdout",
     "output_type": "stream",
     "text": [
      "Epoch 1/50\n",
      "215/215 [==============================] - 22s 73ms/step - loss: 0.0649 - auc: 0.9958 - binary_accuracy: 0.9773 - val_loss: 5.3735 - val_auc: 0.4991 - val_binary_accuracy: 0.0659\n",
      "Epoch 2/50\n",
      "215/215 [==============================] - 13s 59ms/step - loss: 0.0098 - auc: 1.0000 - binary_accuracy: 0.9977 - val_loss: 6.0827 - val_auc: 0.5022 - val_binary_accuracy: 0.0545\n",
      "Epoch 3/50\n",
      "215/215 [==============================] - 13s 59ms/step - loss: 0.0077 - auc: 0.9997 - binary_accuracy: 0.9985 - val_loss: 6.5564 - val_auc: 0.5008 - val_binary_accuracy: 0.0548\n",
      "Epoch 4/50\n",
      "215/215 [==============================] - 13s 60ms/step - loss: 0.0019 - auc: 1.0000 - binary_accuracy: 1.0000 - val_loss: 6.9710 - val_auc: 0.5031 - val_binary_accuracy: 0.0580\n",
      "Epoch 5/50\n",
      "215/215 [==============================] - 13s 59ms/step - loss: 0.0071 - auc: 0.9999 - binary_accuracy: 0.9985 - val_loss: 6.3622 - val_auc: 0.5063 - val_binary_accuracy: 0.0578\n",
      "Epoch 6/50\n",
      "215/215 [==============================] - 13s 60ms/step - loss: 0.0086 - auc: 0.9988 - binary_accuracy: 0.9985 - val_loss: 7.0713 - val_auc: 0.5081 - val_binary_accuracy: 0.0559\n",
      "Reliable negative size: 640   Unlabeled size: 18000\n",
      "pos size: 640 RN size: 640\n"
     ]
    },
    {
     "name": "stderr",
     "output_type": "stream",
     "text": [
      "\r",
      " 16%|█▌        | 8/50 [17:11<1:24:18, 120.43s/it]"
     ]
    },
    {
     "name": "stdout",
     "output_type": "stream",
     "text": [
      "Epoch 1/50\n",
      "220/220 [==============================] - 21s 69ms/step - loss: 0.0848 - auc: 0.9933 - binary_accuracy: 0.9705 - val_loss: 5.1073 - val_auc: 0.5000 - val_binary_accuracy: 0.0566\n",
      "Epoch 2/50\n",
      "220/220 [==============================] - 13s 57ms/step - loss: 0.0227 - auc: 0.9974 - binary_accuracy: 0.9946 - val_loss: 3.8239 - val_auc: 0.7133 - val_binary_accuracy: 0.2922\n",
      "Epoch 3/50\n",
      "220/220 [==============================] - 13s 58ms/step - loss: 0.0144 - auc: 0.9997 - binary_accuracy: 0.9972 - val_loss: 5.1290 - val_auc: 0.6056 - val_binary_accuracy: 0.1708\n",
      "Epoch 4/50\n",
      "220/220 [==============================] - 13s 59ms/step - loss: 0.0131 - auc: 0.9993 - binary_accuracy: 0.9974 - val_loss: 2.8189 - val_auc: 0.7912 - val_binary_accuracy: 0.5736\n",
      "Epoch 5/50\n",
      "220/220 [==============================] - 13s 58ms/step - loss: 0.0180 - auc: 0.9993 - binary_accuracy: 0.9946 - val_loss: 3.0671 - val_auc: 0.8105 - val_binary_accuracy: 0.4584\n",
      "Epoch 6/50\n",
      "220/220 [==============================] - 13s 57ms/step - loss: 0.0105 - auc: 0.9997 - binary_accuracy: 0.9969 - val_loss: 5.9319 - val_auc: 0.5747 - val_binary_accuracy: 0.1497\n",
      "Reliable negative size: 720   Unlabeled size: 18000\n",
      "pos size: 720 RN size: 720\n"
     ]
    },
    {
     "name": "stderr",
     "output_type": "stream",
     "text": [
      "\r",
      " 18%|█▊        | 9/50 [19:02<1:20:25, 117.69s/it]"
     ]
    },
    {
     "name": "stdout",
     "output_type": "stream",
     "text": [
      "Epoch 1/50\n",
      "225/225 [==============================] - 23s 73ms/step - loss: 0.0649 - auc: 0.9973 - binary_accuracy: 0.9756 - val_loss: 5.5499 - val_auc: 0.5094 - val_binary_accuracy: 0.0717\n",
      "Epoch 2/50\n",
      "225/225 [==============================] - 13s 56ms/step - loss: 0.0198 - auc: 0.9964 - binary_accuracy: 0.9961 - val_loss: 5.9276 - val_auc: 0.5031 - val_binary_accuracy: 0.0534\n",
      "Epoch 3/50\n",
      "225/225 [==============================] - 13s 56ms/step - loss: 0.0052 - auc: 0.9998 - binary_accuracy: 0.9994 - val_loss: 6.4731 - val_auc: 0.5013 - val_binary_accuracy: 0.0532\n",
      "Epoch 4/50\n",
      "225/225 [==============================] - 13s 56ms/step - loss: 0.0074 - auc: 0.9991 - binary_accuracy: 0.9986 - val_loss: 5.8425 - val_auc: 0.5789 - val_binary_accuracy: 0.1467\n",
      "Epoch 5/50\n",
      "225/225 [==============================] - 13s 56ms/step - loss: 0.0030 - auc: 1.0000 - binary_accuracy: 0.9997 - val_loss: 7.2729 - val_auc: 0.5022 - val_binary_accuracy: 0.0527\n",
      "Epoch 6/50\n",
      "225/225 [==============================] - 13s 57ms/step - loss: 0.0098 - auc: 0.9984 - binary_accuracy: 0.9975 - val_loss: 6.4227 - val_auc: 0.5545 - val_binary_accuracy: 0.1443\n",
      "Reliable negative size: 800   Unlabeled size: 18000\n",
      "pos size: 800 RN size: 800\n"
     ]
    },
    {
     "name": "stderr",
     "output_type": "stream",
     "text": [
      "\r",
      " 20%|██        | 10/50 [20:54<1:17:13, 115.85s/it]"
     ]
    },
    {
     "name": "stdout",
     "output_type": "stream",
     "text": [
      "Epoch 1/50\n",
      "230/230 [==============================] - 24s 75ms/step - loss: 0.0679 - auc: 0.9966 - binary_accuracy: 0.9726 - val_loss: 5.7250 - val_auc: 0.4993 - val_binary_accuracy: 0.0527\n",
      "Epoch 2/50\n",
      "230/230 [==============================] - 13s 56ms/step - loss: 0.0057 - auc: 0.9997 - binary_accuracy: 0.9997 - val_loss: 6.2465 - val_auc: 0.4995 - val_binary_accuracy: 0.0552\n",
      "Epoch 3/50\n",
      "230/230 [==============================] - 13s 56ms/step - loss: 0.0070 - auc: 0.9999 - binary_accuracy: 0.9986 - val_loss: 6.5064 - val_auc: 0.5054 - val_binary_accuracy: 0.0682\n",
      "Epoch 4/50\n",
      "230/230 [==============================] - 13s 56ms/step - loss: 0.0112 - auc: 0.9989 - binary_accuracy: 0.9978 - val_loss: 6.8396 - val_auc: 0.5017 - val_binary_accuracy: 0.0548\n",
      "Epoch 5/50\n",
      "230/230 [==============================] - 13s 56ms/step - loss: 0.0044 - auc: 1.0000 - binary_accuracy: 0.9992 - val_loss: 7.1796 - val_auc: 0.5025 - val_binary_accuracy: 0.0566\n",
      "Epoch 6/50\n",
      "230/230 [==============================] - 13s 55ms/step - loss: 0.0035 - auc: 1.0000 - binary_accuracy: 0.9992 - val_loss: 7.2667 - val_auc: 0.5037 - val_binary_accuracy: 0.0605\n",
      "Reliable negative size: 880   Unlabeled size: 18000\n",
      "pos size: 880 RN size: 880\n"
     ]
    },
    {
     "name": "stderr",
     "output_type": "stream",
     "text": [
      "\r",
      " 22%|██▏       | 11/50 [22:48<1:14:58, 115.36s/it]"
     ]
    },
    {
     "name": "stdout",
     "output_type": "stream",
     "text": [
      "Epoch 1/50\n",
      "235/235 [==============================] - 23s 72ms/step - loss: 0.0593 - auc: 0.9980 - binary_accuracy: 0.9782 - val_loss: 5.4765 - val_auc: 0.5008 - val_binary_accuracy: 0.0539\n",
      "Epoch 2/50\n",
      "235/235 [==============================] - 13s 55ms/step - loss: 0.0098 - auc: 1.0000 - binary_accuracy: 0.9981 - val_loss: 6.1147 - val_auc: 0.5020 - val_binary_accuracy: 0.0556\n",
      "Epoch 3/50\n",
      "235/235 [==============================] - 13s 54ms/step - loss: 0.0029 - auc: 1.0000 - binary_accuracy: 1.0000 - val_loss: 6.5481 - val_auc: 0.5096 - val_binary_accuracy: 0.0783\n",
      "Epoch 4/50\n",
      "235/235 [==============================] - 13s 54ms/step - loss: 0.0225 - auc: 0.9978 - binary_accuracy: 0.9957 - val_loss: 6.6241 - val_auc: 0.5016 - val_binary_accuracy: 0.0697\n",
      "Epoch 5/50\n",
      "235/235 [==============================] - 13s 55ms/step - loss: 0.0167 - auc: 0.9984 - binary_accuracy: 0.9965 - val_loss: 6.6999 - val_auc: 0.5069 - val_binary_accuracy: 0.0597\n",
      "Epoch 6/50\n",
      "235/235 [==============================] - 13s 55ms/step - loss: 0.0073 - auc: 0.9994 - binary_accuracy: 0.9984 - val_loss: 7.0792 - val_auc: 0.5048 - val_binary_accuracy: 0.0580\n",
      "Reliable negative size: 960   Unlabeled size: 18000\n",
      "pos size: 960 RN size: 960\n"
     ]
    },
    {
     "name": "stderr",
     "output_type": "stream",
     "text": [
      "\r",
      " 24%|██▍       | 12/50 [24:41<1:12:38, 114.70s/it]"
     ]
    },
    {
     "name": "stdout",
     "output_type": "stream",
     "text": [
      "Epoch 1/50\n",
      "240/240 [==============================] - 23s 72ms/step - loss: 0.0823 - auc: 0.9977 - binary_accuracy: 0.9805 - val_loss: 3.5750 - val_auc: 0.6247 - val_binary_accuracy: 0.0786\n",
      "Epoch 2/50\n",
      "240/240 [==============================] - 13s 54ms/step - loss: 0.0163 - auc: 0.9989 - binary_accuracy: 0.9971 - val_loss: 5.2657 - val_auc: 0.5097 - val_binary_accuracy: 0.0719\n",
      "Epoch 3/50\n",
      "240/240 [==============================] - 13s 53ms/step - loss: 0.0136 - auc: 0.9998 - binary_accuracy: 0.9974 - val_loss: 6.0783 - val_auc: 0.5021 - val_binary_accuracy: 0.0579\n",
      "Epoch 4/50\n",
      "240/240 [==============================] - 13s 54ms/step - loss: 0.0069 - auc: 0.9999 - binary_accuracy: 0.9990 - val_loss: 6.5786 - val_auc: 0.5042 - val_binary_accuracy: 0.0624\n",
      "Epoch 5/50\n",
      "240/240 [==============================] - 13s 54ms/step - loss: 0.0092 - auc: 0.9992 - binary_accuracy: 0.9984 - val_loss: 6.7626 - val_auc: 0.5080 - val_binary_accuracy: 0.0687\n",
      "Epoch 6/50\n",
      "240/240 [==============================] - 13s 54ms/step - loss: 0.0017 - auc: 1.0000 - binary_accuracy: 0.9997 - val_loss: 7.2627 - val_auc: 0.5054 - val_binary_accuracy: 0.0628\n",
      "Epoch 7/50\n",
      "240/240 [==============================] - 13s 54ms/step - loss: 9.0455e-04 - auc: 1.0000 - binary_accuracy: 1.0000 - val_loss: 7.6618 - val_auc: 0.5033 - val_binary_accuracy: 0.0591\n",
      "Reliable negative size: 1040   Unlabeled size: 18000\n",
      "pos size: 1040 RN size: 1040\n"
     ]
    },
    {
     "name": "stderr",
     "output_type": "stream",
     "text": [
      "\r",
      " 26%|██▌       | 13/50 [26:48<1:12:57, 118.30s/it]"
     ]
    },
    {
     "name": "stdout",
     "output_type": "stream",
     "text": [
      "Epoch 1/50\n",
      "245/245 [==============================] - 24s 73ms/step - loss: 0.0650 - auc: 0.9967 - binary_accuracy: 0.9753 - val_loss: 6.0677 - val_auc: 0.5098 - val_binary_accuracy: 0.0558\n",
      "Epoch 2/50\n",
      "245/245 [==============================] - 13s 52ms/step - loss: 0.0110 - auc: 0.9997 - binary_accuracy: 0.9972 - val_loss: 6.2796 - val_auc: 0.5178 - val_binary_accuracy: 0.0786\n",
      "Epoch 3/50\n",
      "245/245 [==============================] - 13s 53ms/step - loss: 0.0096 - auc: 0.9999 - binary_accuracy: 0.9977 - val_loss: 5.6269 - val_auc: 0.5885 - val_binary_accuracy: 0.1744\n",
      "Epoch 4/50\n",
      "245/245 [==============================] - 13s 53ms/step - loss: 0.0140 - auc: 0.9982 - binary_accuracy: 0.9972 - val_loss: 6.6341 - val_auc: 0.5141 - val_binary_accuracy: 0.0781\n",
      "Epoch 5/50\n",
      "245/245 [==============================] - 13s 53ms/step - loss: 0.0104 - auc: 0.9996 - binary_accuracy: 0.9974 - val_loss: 6.1080 - val_auc: 0.5727 - val_binary_accuracy: 0.1828\n",
      "Epoch 6/50\n",
      "245/245 [==============================] - 13s 54ms/step - loss: 0.0090 - auc: 0.9997 - binary_accuracy: 0.9974 - val_loss: 6.5488 - val_auc: 0.5622 - val_binary_accuracy: 0.1163\n",
      "Reliable negative size: 1120   Unlabeled size: 18000\n",
      "pos size: 1120 RN size: 1120\n"
     ]
    },
    {
     "name": "stderr",
     "output_type": "stream",
     "text": [
      "\r",
      " 28%|██▊       | 14/50 [28:43<1:10:24, 117.34s/it]"
     ]
    },
    {
     "name": "stdout",
     "output_type": "stream",
     "text": [
      "Epoch 1/50\n",
      "250/250 [==============================] - 24s 63ms/step - loss: 0.0627 - auc: 0.9971 - binary_accuracy: 0.9785 - val_loss: 4.8691 - val_auc: 0.6438 - val_binary_accuracy: 0.0720\n",
      "Epoch 2/50\n",
      "250/250 [==============================] - 13s 52ms/step - loss: 0.0133 - auc: 0.9998 - binary_accuracy: 0.9967 - val_loss: 3.2553 - val_auc: 0.8533 - val_binary_accuracy: 0.2739\n",
      "Epoch 3/50\n",
      "250/250 [==============================] - 13s 52ms/step - loss: 0.0056 - auc: 1.0000 - binary_accuracy: 0.9990 - val_loss: 6.1226 - val_auc: 0.5329 - val_binary_accuracy: 0.0649\n",
      "Epoch 4/50\n",
      "250/250 [==============================] - 13s 52ms/step - loss: 0.0094 - auc: 0.9995 - binary_accuracy: 0.9975 - val_loss: 4.7191 - val_auc: 0.6488 - val_binary_accuracy: 0.2583\n",
      "Epoch 5/50\n",
      "250/250 [==============================] - 13s 52ms/step - loss: 0.0050 - auc: 1.0000 - binary_accuracy: 0.9987 - val_loss: 6.1826 - val_auc: 0.5423 - val_binary_accuracy: 0.0903\n",
      "Epoch 6/50\n",
      "250/250 [==============================] - 13s 52ms/step - loss: 0.0050 - auc: 1.0000 - binary_accuracy: 0.9985 - val_loss: 6.4891 - val_auc: 0.5246 - val_binary_accuracy: 0.0576\n",
      "Epoch 7/50\n",
      "250/250 [==============================] - 13s 52ms/step - loss: 0.0037 - auc: 1.0000 - binary_accuracy: 0.9992 - val_loss: 3.8188 - val_auc: 0.8299 - val_binary_accuracy: 0.2439\n",
      "Epoch 8/50\n",
      "250/250 [==============================] - 13s 52ms/step - loss: 6.5578e-04 - auc: 1.0000 - binary_accuracy: 1.0000 - val_loss: 5.4304 - val_auc: 0.6805 - val_binary_accuracy: 0.1380\n",
      "Reliable negative size: 1200   Unlabeled size: 18000\n",
      "pos size: 1200 RN size: 1200\n"
     ]
    },
    {
     "name": "stderr",
     "output_type": "stream",
     "text": [
      "\r",
      " 30%|███       | 15/50 [31:04<1:12:34, 124.41s/it]"
     ]
    },
    {
     "name": "stdout",
     "output_type": "stream",
     "text": [
      "Epoch 1/50\n",
      "255/255 [==============================] - 23s 62ms/step - loss: 0.0566 - auc: 0.9983 - binary_accuracy: 0.9833 - val_loss: 5.0092 - val_auc: 0.5512 - val_binary_accuracy: 0.1009\n",
      "Epoch 2/50\n",
      "255/255 [==============================] - 13s 52ms/step - loss: 0.0158 - auc: 0.9991 - binary_accuracy: 0.9968 - val_loss: 6.0163 - val_auc: 0.5070 - val_binary_accuracy: 0.0549\n",
      "Epoch 3/50\n",
      "255/255 [==============================] - 13s 51ms/step - loss: 0.0149 - auc: 0.9994 - binary_accuracy: 0.9966 - val_loss: 3.4087 - val_auc: 0.7823 - val_binary_accuracy: 0.3683\n",
      "Epoch 4/50\n",
      "255/255 [==============================] - 14s 54ms/step - loss: 0.0072 - auc: 1.0000 - binary_accuracy: 0.9983 - val_loss: 5.3659 - val_auc: 0.6644 - val_binary_accuracy: 0.1203\n",
      "Epoch 5/50\n",
      "255/255 [==============================] - 13s 53ms/step - loss: 0.0032 - auc: 0.9998 - binary_accuracy: 0.9998 - val_loss: 5.6454 - val_auc: 0.6208 - val_binary_accuracy: 0.1674\n",
      "Epoch 6/50\n",
      "255/255 [==============================] - 13s 52ms/step - loss: 0.0116 - auc: 0.9992 - binary_accuracy: 0.9973 - val_loss: 3.7807 - val_auc: 0.7584 - val_binary_accuracy: 0.3644\n",
      "Epoch 7/50\n",
      "255/255 [==============================] - 13s 52ms/step - loss: 0.0080 - auc: 0.9997 - binary_accuracy: 0.9980 - val_loss: 4.7858 - val_auc: 0.6974 - val_binary_accuracy: 0.3046\n",
      "Reliable negative size: 1280   Unlabeled size: 18000\n",
      "pos size: 1280 RN size: 1280\n"
     ]
    },
    {
     "name": "stderr",
     "output_type": "stream",
     "text": [
      "\r",
      " 32%|███▏      | 16/50 [33:15<1:11:37, 126.40s/it]"
     ]
    },
    {
     "name": "stdout",
     "output_type": "stream",
     "text": [
      "Epoch 1/50\n",
      "260/260 [==============================] - 24s 62ms/step - loss: 0.0569 - auc: 0.9981 - binary_accuracy: 0.9805 - val_loss: 5.4089 - val_auc: 0.4993 - val_binary_accuracy: 0.0567\n",
      "Epoch 2/50\n",
      "260/260 [==============================] - 13s 52ms/step - loss: 0.0129 - auc: 0.9988 - binary_accuracy: 0.9974 - val_loss: 5.6851 - val_auc: 0.5163 - val_binary_accuracy: 0.0576\n",
      "Epoch 3/50\n",
      "260/260 [==============================] - 13s 52ms/step - loss: 0.0059 - auc: 0.9996 - binary_accuracy: 0.9993 - val_loss: 5.8828 - val_auc: 0.5536 - val_binary_accuracy: 0.1150\n",
      "Epoch 4/50\n",
      "260/260 [==============================] - 14s 52ms/step - loss: 0.0126 - auc: 0.9996 - binary_accuracy: 0.9966 - val_loss: 5.0722 - val_auc: 0.6657 - val_binary_accuracy: 0.1441\n",
      "Epoch 5/50\n",
      "260/260 [==============================] - 14s 53ms/step - loss: 0.0042 - auc: 0.9998 - binary_accuracy: 0.9993 - val_loss: 6.9896 - val_auc: 0.5271 - val_binary_accuracy: 0.0842\n",
      "Epoch 6/50\n",
      "260/260 [==============================] - 14s 53ms/step - loss: 0.0060 - auc: 0.9996 - binary_accuracy: 0.9988 - val_loss: 7.4435 - val_auc: 0.5086 - val_binary_accuracy: 0.0603\n",
      "Reliable negative size: 1360   Unlabeled size: 18000\n",
      "pos size: 1360 RN size: 1360\n"
     ]
    },
    {
     "name": "stderr",
     "output_type": "stream",
     "text": [
      "\r",
      " 34%|███▍      | 17/50 [35:16<1:08:36, 124.75s/it]"
     ]
    },
    {
     "name": "stdout",
     "output_type": "stream",
     "text": [
      "Epoch 1/50\n",
      "265/265 [==============================] - 24s 61ms/step - loss: 0.0412 - auc: 0.9990 - binary_accuracy: 0.9880 - val_loss: 5.7591 - val_auc: 0.5044 - val_binary_accuracy: 0.0610\n",
      "Epoch 2/50\n",
      "265/265 [==============================] - 13s 50ms/step - loss: 0.0121 - auc: 0.9999 - binary_accuracy: 0.9974 - val_loss: 6.3579 - val_auc: 0.5173 - val_binary_accuracy: 0.0618\n",
      "Epoch 3/50\n",
      "265/265 [==============================] - 13s 51ms/step - loss: 0.0049 - auc: 0.9998 - binary_accuracy: 0.9991 - val_loss: 7.0112 - val_auc: 0.5154 - val_binary_accuracy: 0.0675\n",
      "Epoch 4/50\n",
      "265/265 [==============================] - 13s 50ms/step - loss: 0.0128 - auc: 0.9995 - binary_accuracy: 0.9962 - val_loss: 7.1378 - val_auc: 0.5107 - val_binary_accuracy: 0.0668\n",
      "Epoch 5/50\n",
      "265/265 [==============================] - 13s 51ms/step - loss: 0.0071 - auc: 0.9994 - binary_accuracy: 0.9979 - val_loss: 7.3539 - val_auc: 0.5134 - val_binary_accuracy: 0.0710\n",
      "Epoch 6/50\n",
      "265/265 [==============================] - 14s 51ms/step - loss: 9.6527e-04 - auc: 1.0000 - binary_accuracy: 1.0000 - val_loss: 7.8824 - val_auc: 0.5071 - val_binary_accuracy: 0.0639\n",
      "Reliable negative size: 1440   Unlabeled size: 18000\n",
      "pos size: 1440 RN size: 1440\n"
     ]
    },
    {
     "name": "stderr",
     "output_type": "stream",
     "text": [
      "\r",
      " 36%|███▌      | 18/50 [37:16<1:05:46, 123.32s/it]"
     ]
    },
    {
     "name": "stdout",
     "output_type": "stream",
     "text": [
      "Epoch 1/50\n",
      "270/270 [==============================] - 23s 60ms/step - loss: 0.0744 - auc: 0.9968 - binary_accuracy: 0.9729 - val_loss: 4.7521 - val_auc: 0.5501 - val_binary_accuracy: 0.1466\n",
      "Epoch 2/50\n",
      "270/270 [==============================] - 14s 50ms/step - loss: 0.0179 - auc: 0.9993 - binary_accuracy: 0.9961 - val_loss: 5.6738 - val_auc: 0.5277 - val_binary_accuracy: 0.0872\n",
      "Epoch 3/50\n",
      "270/270 [==============================] - 14s 51ms/step - loss: 0.0127 - auc: 0.9994 - binary_accuracy: 0.9968 - val_loss: 4.2563 - val_auc: 0.6732 - val_binary_accuracy: 0.3357\n",
      "Epoch 4/50\n",
      "270/270 [==============================] - 14s 51ms/step - loss: 0.0143 - auc: 0.9993 - binary_accuracy: 0.9963 - val_loss: 4.9351 - val_auc: 0.6340 - val_binary_accuracy: 0.2725\n",
      "Epoch 5/50\n",
      "270/270 [==============================] - 14s 51ms/step - loss: 0.0089 - auc: 0.9998 - binary_accuracy: 0.9972 - val_loss: 4.1200 - val_auc: 0.7062 - val_binary_accuracy: 0.3913\n",
      "Epoch 6/50\n",
      "270/270 [==============================] - 14s 51ms/step - loss: 0.0075 - auc: 0.9996 - binary_accuracy: 0.9984 - val_loss: 5.2541 - val_auc: 0.6488 - val_binary_accuracy: 0.2300\n",
      "Epoch 7/50\n",
      "270/270 [==============================] - 13s 50ms/step - loss: 0.0098 - auc: 0.9997 - binary_accuracy: 0.9975 - val_loss: 5.8257 - val_auc: 0.6242 - val_binary_accuracy: 0.1617\n",
      "Reliable negative size: 1520   Unlabeled size: 18000\n",
      "pos size: 1520 RN size: 1520\n"
     ]
    },
    {
     "name": "stderr",
     "output_type": "stream",
     "text": [
      "\r",
      " 38%|███▊      | 19/50 [39:31<1:05:33, 126.87s/it]"
     ]
    },
    {
     "name": "stdout",
     "output_type": "stream",
     "text": [
      "Epoch 1/50\n",
      "275/275 [==============================] - 22s 59ms/step - loss: 0.0510 - auc: 0.9981 - binary_accuracy: 0.9823 - val_loss: 5.3655 - val_auc: 0.5418 - val_binary_accuracy: 0.0787\n",
      "Epoch 2/50\n",
      "275/275 [==============================] - 13s 49ms/step - loss: 0.0099 - auc: 0.9999 - binary_accuracy: 0.9980 - val_loss: 6.1553 - val_auc: 0.5281 - val_binary_accuracy: 0.0737\n",
      "Epoch 3/50\n",
      "275/275 [==============================] - 14s 50ms/step - loss: 0.0146 - auc: 0.9991 - binary_accuracy: 0.9959 - val_loss: 5.6408 - val_auc: 0.6008 - val_binary_accuracy: 0.1570\n",
      "Epoch 4/50\n",
      "275/275 [==============================] - 14s 50ms/step - loss: 0.0055 - auc: 0.9998 - binary_accuracy: 0.9993 - val_loss: 6.4595 - val_auc: 0.5596 - val_binary_accuracy: 0.1293\n",
      "Epoch 5/50\n",
      "275/275 [==============================] - 13s 49ms/step - loss: 0.0056 - auc: 0.9997 - binary_accuracy: 0.9986 - val_loss: 6.7536 - val_auc: 0.5309 - val_binary_accuracy: 0.0679\n",
      "Epoch 6/50\n",
      "275/275 [==============================] - 14s 50ms/step - loss: 0.0200 - auc: 0.9991 - binary_accuracy: 0.9939 - val_loss: 3.5160 - val_auc: 0.7861 - val_binary_accuracy: 0.3818\n",
      "Epoch 7/50\n",
      "275/275 [==============================] - 14s 50ms/step - loss: 0.0087 - auc: 0.9996 - binary_accuracy: 0.9982 - val_loss: 3.2536 - val_auc: 0.7980 - val_binary_accuracy: 0.5038\n",
      "Reliable negative size: 1600   Unlabeled size: 18000\n",
      "pos size: 1600 RN size: 1600\n"
     ]
    },
    {
     "name": "stderr",
     "output_type": "stream",
     "text": [
      "\r",
      " 40%|████      | 20/50 [41:43<1:04:12, 128.41s/it]"
     ]
    },
    {
     "name": "stdout",
     "output_type": "stream",
     "text": [
      "Epoch 1/50\n",
      "280/280 [==============================] - 23s 58ms/step - loss: 0.0630 - auc: 0.9979 - binary_accuracy: 0.9808 - val_loss: 5.2340 - val_auc: 0.5206 - val_binary_accuracy: 0.0909\n",
      "Epoch 2/50\n",
      "280/280 [==============================] - 14s 49ms/step - loss: 0.0175 - auc: 0.9994 - binary_accuracy: 0.9964 - val_loss: 6.0312 - val_auc: 0.5041 - val_binary_accuracy: 0.0544\n",
      "Epoch 3/50\n",
      "280/280 [==============================] - 14s 49ms/step - loss: 0.0091 - auc: 0.9998 - binary_accuracy: 0.9982 - val_loss: 6.1814 - val_auc: 0.5277 - val_binary_accuracy: 0.0960\n",
      "Epoch 4/50\n",
      "280/280 [==============================] - 14s 48ms/step - loss: 0.0047 - auc: 0.9996 - binary_accuracy: 0.9991 - val_loss: 6.0263 - val_auc: 0.5672 - val_binary_accuracy: 0.1846\n",
      "Epoch 5/50\n",
      "280/280 [==============================] - 14s 49ms/step - loss: 0.0079 - auc: 0.9995 - binary_accuracy: 0.9973 - val_loss: 4.0150 - val_auc: 0.7206 - val_binary_accuracy: 0.4654\n",
      "Epoch 6/50\n",
      "280/280 [==============================] - 14s 48ms/step - loss: 0.0011 - auc: 1.0000 - binary_accuracy: 1.0000 - val_loss: 5.4091 - val_auc: 0.6455 - val_binary_accuracy: 0.3235\n",
      "Epoch 7/50\n",
      "280/280 [==============================] - 14s 49ms/step - loss: 0.0070 - auc: 1.0000 - binary_accuracy: 0.9973 - val_loss: 5.1505 - val_auc: 0.6641 - val_binary_accuracy: 0.2905\n",
      "Reliable negative size: 1680   Unlabeled size: 18000\n",
      "pos size: 1680 RN size: 1680\n"
     ]
    },
    {
     "name": "stderr",
     "output_type": "stream",
     "text": [
      "\r",
      " 42%|████▏     | 21/50 [43:55<1:02:36, 129.55s/it]"
     ]
    },
    {
     "name": "stdout",
     "output_type": "stream",
     "text": [
      "Epoch 1/50\n",
      "285/285 [==============================] - 23s 57ms/step - loss: 0.0670 - auc: 0.9973 - binary_accuracy: 0.9761 - val_loss: 5.4706 - val_auc: 0.5009 - val_binary_accuracy: 0.0546\n",
      "Epoch 2/50\n",
      "285/285 [==============================] - 14s 48ms/step - loss: 0.0141 - auc: 0.9996 - binary_accuracy: 0.9969 - val_loss: 5.9534 - val_auc: 0.5107 - val_binary_accuracy: 0.0757\n",
      "Epoch 3/50\n",
      "285/285 [==============================] - 14s 48ms/step - loss: 0.0072 - auc: 1.0000 - binary_accuracy: 0.9982 - val_loss: 6.4206 - val_auc: 0.5139 - val_binary_accuracy: 0.0765\n",
      "Epoch 4/50\n",
      "285/285 [==============================] - 14s 49ms/step - loss: 0.0128 - auc: 0.9992 - binary_accuracy: 0.9969 - val_loss: 6.6224 - val_auc: 0.5163 - val_binary_accuracy: 0.0746\n",
      "Epoch 5/50\n",
      "285/285 [==============================] - 14s 48ms/step - loss: 0.0047 - auc: 1.0000 - binary_accuracy: 0.9987 - val_loss: 7.1898 - val_auc: 0.5031 - val_binary_accuracy: 0.0547\n",
      "Epoch 6/50\n",
      "285/285 [==============================] - 14s 48ms/step - loss: 0.0051 - auc: 0.9998 - binary_accuracy: 0.9991 - val_loss: 4.3823 - val_auc: 0.7096 - val_binary_accuracy: 0.4359\n",
      "Reliable negative size: 1760   Unlabeled size: 18000\n",
      "pos size: 1760 RN size: 1760\n"
     ]
    },
    {
     "name": "stderr",
     "output_type": "stream",
     "text": [
      "\r",
      " 44%|████▍     | 22/50 [45:53<58:53, 126.21s/it]  "
     ]
    },
    {
     "name": "stdout",
     "output_type": "stream",
     "text": [
      "Epoch 1/50\n",
      "290/290 [==============================] - 24s 57ms/step - loss: 0.0598 - auc: 0.9974 - binary_accuracy: 0.9812 - val_loss: 5.4116 - val_auc: 0.4938 - val_binary_accuracy: 0.0582\n",
      "Epoch 2/50\n",
      "290/290 [==============================] - 14s 47ms/step - loss: 0.0078 - auc: 1.0000 - binary_accuracy: 0.9987 - val_loss: 5.9055 - val_auc: 0.5320 - val_binary_accuracy: 0.1114\n",
      "Epoch 3/50\n",
      "290/290 [==============================] - 14s 47ms/step - loss: 0.0130 - auc: 0.9995 - binary_accuracy: 0.9972 - val_loss: 6.3739 - val_auc: 0.5129 - val_binary_accuracy: 0.0814\n",
      "Epoch 4/50\n",
      "290/290 [==============================] - 14s 47ms/step - loss: 0.0067 - auc: 0.9996 - binary_accuracy: 0.9989 - val_loss: 6.0202 - val_auc: 0.5668 - val_binary_accuracy: 0.1770\n",
      "Epoch 5/50\n",
      "290/290 [==============================] - 13s 46ms/step - loss: 0.0144 - auc: 0.9991 - binary_accuracy: 0.9961 - val_loss: 4.9026 - val_auc: 0.6550 - val_binary_accuracy: 0.2765\n",
      "Epoch 6/50\n",
      "290/290 [==============================] - 14s 47ms/step - loss: 0.0030 - auc: 0.9998 - binary_accuracy: 0.9996 - val_loss: 2.4769 - val_auc: 0.8303 - val_binary_accuracy: 0.6733\n",
      "Reliable negative size: 1840   Unlabeled size: 18000\n",
      "pos size: 1840 RN size: 1840\n"
     ]
    },
    {
     "name": "stderr",
     "output_type": "stream",
     "text": [
      "\r",
      " 46%|████▌     | 23/50 [47:52<55:42, 123.80s/it]"
     ]
    },
    {
     "name": "stdout",
     "output_type": "stream",
     "text": [
      "Epoch 1/50\n",
      "295/295 [==============================] - 23s 55ms/step - loss: 0.0653 - auc: 0.9975 - binary_accuracy: 0.9778 - val_loss: 5.3796 - val_auc: 0.5044 - val_binary_accuracy: 0.0811\n",
      "Epoch 2/50\n",
      "295/295 [==============================] - 13s 46ms/step - loss: 0.0204 - auc: 0.9989 - binary_accuracy: 0.9958 - val_loss: 6.1431 - val_auc: 0.5007 - val_binary_accuracy: 0.0539\n",
      "Epoch 3/50\n",
      "295/295 [==============================] - 13s 46ms/step - loss: 0.0161 - auc: 0.9996 - binary_accuracy: 0.9960 - val_loss: 6.3412 - val_auc: 0.5103 - val_binary_accuracy: 0.0802\n",
      "Epoch 4/50\n",
      "295/295 [==============================] - 13s 45ms/step - loss: 0.0099 - auc: 0.9997 - binary_accuracy: 0.9975 - val_loss: 6.8412 - val_auc: 0.5061 - val_binary_accuracy: 0.0670\n",
      "Epoch 5/50\n",
      "295/295 [==============================] - 13s 46ms/step - loss: 0.0116 - auc: 0.9993 - binary_accuracy: 0.9970 - val_loss: 7.0990 - val_auc: 0.5007 - val_binary_accuracy: 0.0544\n",
      "Epoch 6/50\n",
      "295/295 [==============================] - 13s 46ms/step - loss: 0.0066 - auc: 0.9998 - binary_accuracy: 0.9985 - val_loss: 7.3201 - val_auc: 0.5052 - val_binary_accuracy: 0.0607\n",
      "Reliable negative size: 1920   Unlabeled size: 18000\n",
      "pos size: 1920 RN size: 1920\n"
     ]
    },
    {
     "name": "stderr",
     "output_type": "stream",
     "text": [
      "\r",
      " 48%|████▊     | 24/50 [49:49<52:48, 121.86s/it]"
     ]
    },
    {
     "name": "stdout",
     "output_type": "stream",
     "text": [
      "Epoch 1/50\n",
      "300/300 [==============================] - 23s 54ms/step - loss: 0.0524 - auc: 0.9979 - binary_accuracy: 0.9821 - val_loss: 5.9861 - val_auc: 0.5138 - val_binary_accuracy: 0.0788\n",
      "Epoch 2/50\n",
      "300/300 [==============================] - 14s 45ms/step - loss: 0.0186 - auc: 0.9996 - binary_accuracy: 0.9950 - val_loss: 5.0848 - val_auc: 0.6015 - val_binary_accuracy: 0.2531\n",
      "Epoch 3/50\n",
      "300/300 [==============================] - 14s 46ms/step - loss: 0.0218 - auc: 0.9992 - binary_accuracy: 0.9946 - val_loss: 6.2651 - val_auc: 0.5447 - val_binary_accuracy: 0.1288\n",
      "Epoch 4/50\n",
      "300/300 [==============================] - 14s 45ms/step - loss: 0.0191 - auc: 0.9994 - binary_accuracy: 0.9942 - val_loss: 2.3099 - val_auc: 0.8342 - val_binary_accuracy: 0.6841\n",
      "Epoch 5/50\n",
      "300/300 [==============================] - 14s 45ms/step - loss: 0.0145 - auc: 0.9991 - binary_accuracy: 0.9969 - val_loss: 6.4079 - val_auc: 0.5455 - val_binary_accuracy: 0.1416\n",
      "Epoch 6/50\n",
      "300/300 [==============================] - 13s 45ms/step - loss: 0.0158 - auc: 0.9993 - binary_accuracy: 0.9960 - val_loss: 6.9756 - val_auc: 0.5302 - val_binary_accuracy: 0.1002\n",
      "Reliable negative size: 2000   Unlabeled size: 18000\n",
      "pos size: 2000 RN size: 2000\n"
     ]
    },
    {
     "name": "stderr",
     "output_type": "stream",
     "text": [
      "\r",
      " 50%|█████     | 25/50 [51:47<50:16, 120.67s/it]"
     ]
    },
    {
     "name": "stdout",
     "output_type": "stream",
     "text": [
      "Epoch 1/50\n",
      "305/305 [==============================] - 23s 54ms/step - loss: 0.0426 - auc: 0.9988 - binary_accuracy: 0.9873 - val_loss: 3.9546 - val_auc: 0.7234 - val_binary_accuracy: 0.2108\n",
      "Epoch 2/50\n",
      "305/305 [==============================] - 14s 45ms/step - loss: 0.0204 - auc: 0.9993 - binary_accuracy: 0.9953 - val_loss: 4.2481 - val_auc: 0.7642 - val_binary_accuracy: 0.0966\n",
      "Epoch 3/50\n",
      "305/305 [==============================] - 14s 46ms/step - loss: 0.0077 - auc: 0.9995 - binary_accuracy: 0.9988 - val_loss: 3.9587 - val_auc: 0.7635 - val_binary_accuracy: 0.2477\n",
      "Epoch 4/50\n",
      "305/305 [==============================] - 14s 45ms/step - loss: 0.0088 - auc: 0.9994 - binary_accuracy: 0.9984 - val_loss: 3.7558 - val_auc: 0.7359 - val_binary_accuracy: 0.4559\n",
      "Epoch 5/50\n",
      "305/305 [==============================] - 14s 45ms/step - loss: 0.0070 - auc: 0.9994 - binary_accuracy: 0.9988 - val_loss: 6.4637 - val_auc: 0.5611 - val_binary_accuracy: 0.1386\n",
      "Epoch 6/50\n",
      "305/305 [==============================] - 14s 45ms/step - loss: 0.0120 - auc: 0.9989 - binary_accuracy: 0.9973 - val_loss: 4.6424 - val_auc: 0.6862 - val_binary_accuracy: 0.3452\n",
      "Epoch 7/50\n",
      "305/305 [==============================] - 14s 45ms/step - loss: 0.0089 - auc: 0.9994 - binary_accuracy: 0.9980 - val_loss: 4.1791 - val_auc: 0.7261 - val_binary_accuracy: 0.3895\n",
      "Epoch 8/50\n",
      "305/305 [==============================] - 14s 46ms/step - loss: 0.0051 - auc: 0.9996 - binary_accuracy: 0.9990 - val_loss: 5.6046 - val_auc: 0.6409 - val_binary_accuracy: 0.2143\n",
      "Epoch 9/50\n",
      "305/305 [==============================] - 14s 45ms/step - loss: 0.0035 - auc: 1.0000 - binary_accuracy: 0.9992 - val_loss: 5.1283 - val_auc: 0.6801 - val_binary_accuracy: 0.3013\n",
      "Epoch 10/50\n",
      "305/305 [==============================] - 14s 46ms/step - loss: 0.0060 - auc: 0.9996 - binary_accuracy: 0.9990 - val_loss: 4.9082 - val_auc: 0.7028 - val_binary_accuracy: 0.3567\n",
      "Reliable negative size: 2080   Unlabeled size: 18000\n",
      "pos size: 2080 RN size: 2080\n"
     ]
    },
    {
     "name": "stderr",
     "output_type": "stream",
     "text": [
      "\r",
      " 52%|█████▏    | 26/50 [54:43<54:51, 137.17s/it]"
     ]
    },
    {
     "name": "stdout",
     "output_type": "stream",
     "text": [
      "Epoch 1/50\n",
      "310/310 [==============================] - 22s 53ms/step - loss: 0.0564 - auc: 0.9980 - binary_accuracy: 0.9815 - val_loss: 5.2940 - val_auc: 0.5715 - val_binary_accuracy: 0.1045\n",
      "Epoch 2/50\n",
      "310/310 [==============================] - 14s 44ms/step - loss: 0.0146 - auc: 0.9994 - binary_accuracy: 0.9968 - val_loss: 1.6802 - val_auc: 0.8722 - val_binary_accuracy: 0.7307\n",
      "Epoch 3/50\n",
      "310/310 [==============================] - 13s 43ms/step - loss: 0.0128 - auc: 0.9995 - binary_accuracy: 0.9968 - val_loss: 1.9944 - val_auc: 0.8532 - val_binary_accuracy: 0.7060\n",
      "Epoch 4/50\n",
      "310/310 [==============================] - 13s 43ms/step - loss: 0.0038 - auc: 0.9998 - binary_accuracy: 0.9996 - val_loss: 2.1097 - val_auc: 0.8541 - val_binary_accuracy: 0.7144\n",
      "Epoch 5/50\n",
      "310/310 [==============================] - 13s 44ms/step - loss: 0.0096 - auc: 0.9992 - binary_accuracy: 0.9982 - val_loss: 2.6501 - val_auc: 0.8215 - val_binary_accuracy: 0.6397\n",
      "Epoch 6/50\n",
      "310/310 [==============================] - 13s 43ms/step - loss: 0.0096 - auc: 0.9998 - binary_accuracy: 0.9976 - val_loss: 1.9232 - val_auc: 0.8708 - val_binary_accuracy: 0.7444\n",
      "Reliable negative size: 2160   Unlabeled size: 18000\n",
      "pos size: 2160 RN size: 2160\n"
     ]
    },
    {
     "name": "stderr",
     "output_type": "stream",
     "text": [
      "\r",
      " 54%|█████▍    | 27/50 [56:41<50:25, 131.56s/it]"
     ]
    },
    {
     "name": "stdout",
     "output_type": "stream",
     "text": [
      "Epoch 1/50\n",
      "315/315 [==============================] - 22s 51ms/step - loss: 0.0597 - auc: 0.9979 - binary_accuracy: 0.9796 - val_loss: 4.4078 - val_auc: 0.6525 - val_binary_accuracy: 0.1880\n",
      "Epoch 2/50\n",
      "315/315 [==============================] - 14s 43ms/step - loss: 0.0119 - auc: 0.9997 - binary_accuracy: 0.9970 - val_loss: 4.8121 - val_auc: 0.6149 - val_binary_accuracy: 0.2580\n",
      "Epoch 3/50\n",
      "315/315 [==============================] - 14s 43ms/step - loss: 0.0157 - auc: 0.9988 - binary_accuracy: 0.9968 - val_loss: 5.7505 - val_auc: 0.5727 - val_binary_accuracy: 0.1911\n",
      "Epoch 4/50\n",
      "315/315 [==============================] - 14s 44ms/step - loss: 0.0104 - auc: 0.9993 - binary_accuracy: 0.9980 - val_loss: 6.2868 - val_auc: 0.5563 - val_binary_accuracy: 0.1585\n",
      "Epoch 5/50\n",
      "315/315 [==============================] - 14s 44ms/step - loss: 0.0031 - auc: 0.9998 - binary_accuracy: 0.9996 - val_loss: 5.5563 - val_auc: 0.6301 - val_binary_accuracy: 0.3002\n",
      "Epoch 6/50\n",
      "315/315 [==============================] - 14s 44ms/step - loss: 0.0023 - auc: 0.9998 - binary_accuracy: 0.9998 - val_loss: 5.6335 - val_auc: 0.6402 - val_binary_accuracy: 0.3191\n",
      "Epoch 7/50\n",
      "315/315 [==============================] - 14s 43ms/step - loss: 0.0141 - auc: 0.9988 - binary_accuracy: 0.9978 - val_loss: 3.6237 - val_auc: 0.7537 - val_binary_accuracy: 0.4264\n",
      "Epoch 8/50\n",
      "315/315 [==============================] - 14s 44ms/step - loss: 0.0065 - auc: 0.9998 - binary_accuracy: 0.9986 - val_loss: 5.6731 - val_auc: 0.6248 - val_binary_accuracy: 0.2259\n",
      "Epoch 9/50\n",
      "315/315 [==============================] - 14s 44ms/step - loss: 0.0059 - auc: 0.9996 - binary_accuracy: 0.9986 - val_loss: 4.9802 - val_auc: 0.6844 - val_binary_accuracy: 0.3892\n",
      "Reliable negative size: 2240   Unlabeled size: 18000\n",
      "pos size: 2240 RN size: 2240\n"
     ]
    },
    {
     "name": "stderr",
     "output_type": "stream",
     "text": [
      "\r",
      " 56%|█████▌    | 28/50 [59:22<51:26, 140.30s/it]"
     ]
    },
    {
     "name": "stdout",
     "output_type": "stream",
     "text": [
      "Epoch 1/50\n",
      "320/320 [==============================] - 24s 56ms/step - loss: 0.0581 - auc: 0.9976 - binary_accuracy: 0.9830 - val_loss: 1.5807 - val_auc: 0.8727 - val_binary_accuracy: 0.6941\n",
      "Epoch 2/50\n",
      "320/320 [==============================] - 14s 43ms/step - loss: 0.0086 - auc: 0.9997 - binary_accuracy: 0.9986 - val_loss: 1.6513 - val_auc: 0.8684 - val_binary_accuracy: 0.7485\n",
      "Epoch 3/50\n",
      "320/320 [==============================] - 14s 43ms/step - loss: 0.0079 - auc: 0.9992 - binary_accuracy: 0.9990 - val_loss: 2.0778 - val_auc: 0.8464 - val_binary_accuracy: 0.7090\n",
      "Epoch 4/50\n",
      "320/320 [==============================] - 14s 43ms/step - loss: 0.0147 - auc: 0.9990 - binary_accuracy: 0.9967 - val_loss: 1.7312 - val_auc: 0.8736 - val_binary_accuracy: 0.7598\n",
      "Epoch 5/50\n",
      "320/320 [==============================] - 14s 43ms/step - loss: 0.0131 - auc: 0.9993 - binary_accuracy: 0.9963 - val_loss: 2.4209 - val_auc: 0.8359 - val_binary_accuracy: 0.6591\n",
      "Epoch 6/50\n",
      "320/320 [==============================] - 14s 44ms/step - loss: 0.0042 - auc: 0.9998 - binary_accuracy: 0.9994 - val_loss: 2.1064 - val_auc: 0.8622 - val_binary_accuracy: 0.7337\n",
      "Epoch 7/50\n",
      "320/320 [==============================] - 14s 44ms/step - loss: 0.0043 - auc: 0.9996 - binary_accuracy: 0.9992 - val_loss: 2.2009 - val_auc: 0.8607 - val_binary_accuracy: 0.7311\n",
      "Epoch 8/50\n",
      "320/320 [==============================] - 14s 44ms/step - loss: 0.0020 - auc: 0.9998 - binary_accuracy: 0.9998 - val_loss: 2.3650 - val_auc: 0.8555 - val_binary_accuracy: 0.7216\n",
      "Epoch 9/50\n",
      "320/320 [==============================] - 14s 43ms/step - loss: 0.0050 - auc: 0.9998 - binary_accuracy: 0.9984 - val_loss: 2.5271 - val_auc: 0.8449 - val_binary_accuracy: 0.7060\n",
      "Epoch 10/50\n",
      "320/320 [==============================] - 14s 43ms/step - loss: 0.0089 - auc: 0.9992 - binary_accuracy: 0.9980 - val_loss: 3.0034 - val_auc: 0.8148 - val_binary_accuracy: 0.6018\n",
      "Epoch 11/50\n",
      "320/320 [==============================] - 14s 43ms/step - loss: 0.0046 - auc: 0.9996 - binary_accuracy: 0.9994 - val_loss: 3.7971 - val_auc: 0.7664 - val_binary_accuracy: 0.5348\n",
      "Epoch 12/50\n",
      "320/320 [==============================] - 14s 43ms/step - loss: 0.0038 - auc: 1.0000 - binary_accuracy: 0.9986 - val_loss: 3.4682 - val_auc: 0.7935 - val_binary_accuracy: 0.5775\n",
      "Epoch 13/50\n",
      "320/320 [==============================] - 14s 43ms/step - loss: 8.5146e-04 - auc: 1.0000 - binary_accuracy: 0.9998 - val_loss: 2.2757 - val_auc: 0.8688 - val_binary_accuracy: 0.7481\n",
      "Epoch 14/50\n",
      "320/320 [==============================] - 14s 43ms/step - loss: 0.0086 - auc: 0.9998 - binary_accuracy: 0.9982 - val_loss: 2.2350 - val_auc: 0.8707 - val_binary_accuracy: 0.7506\n",
      "Epoch 15/50\n",
      "320/320 [==============================] - 14s 44ms/step - loss: 0.0031 - auc: 0.9998 - binary_accuracy: 0.9994 - val_loss: 2.3816 - val_auc: 0.8634 - val_binary_accuracy: 0.7418\n",
      "Epoch 16/50\n",
      "320/320 [==============================] - 14s 43ms/step - loss: 0.0030 - auc: 0.9998 - binary_accuracy: 0.9992 - val_loss: 2.3993 - val_auc: 0.8652 - val_binary_accuracy: 0.7420\n",
      "Reliable negative size: 2320   Unlabeled size: 18000\n",
      "pos size: 2320 RN size: 2320\n"
     ]
    },
    {
     "name": "stderr",
     "output_type": "stream",
     "text": [
      "\r",
      " 58%|█████▊    | 29/50 [1:03:41<1:01:35, 175.97s/it]"
     ]
    },
    {
     "name": "stdout",
     "output_type": "stream",
     "text": [
      "Epoch 1/50\n",
      "325/325 [==============================] - 24s 55ms/step - loss: 0.0527 - auc: 0.9976 - binary_accuracy: 0.9838 - val_loss: 5.5181 - val_auc: 0.5431 - val_binary_accuracy: 0.0868\n",
      "Epoch 2/50\n",
      "325/325 [==============================] - 14s 43ms/step - loss: 0.0168 - auc: 0.9996 - binary_accuracy: 0.9956 - val_loss: 4.9105 - val_auc: 0.6158 - val_binary_accuracy: 0.2161\n",
      "Epoch 3/50\n",
      "325/325 [==============================] - 14s 42ms/step - loss: 0.0087 - auc: 0.9995 - binary_accuracy: 0.9985 - val_loss: 5.8525 - val_auc: 0.5856 - val_binary_accuracy: 0.1230\n",
      "Epoch 4/50\n",
      "325/325 [==============================] - 14s 42ms/step - loss: 0.0151 - auc: 0.9991 - binary_accuracy: 0.9971 - val_loss: 5.8429 - val_auc: 0.5877 - val_binary_accuracy: 0.1244\n",
      "Epoch 5/50\n",
      "325/325 [==============================] - 14s 42ms/step - loss: 0.0051 - auc: 0.9998 - binary_accuracy: 0.9994 - val_loss: 5.6780 - val_auc: 0.6122 - val_binary_accuracy: 0.1942\n",
      "Epoch 6/50\n",
      "325/325 [==============================] - 14s 42ms/step - loss: 0.0116 - auc: 0.9992 - binary_accuracy: 0.9979 - val_loss: 2.1736 - val_auc: 0.8511 - val_binary_accuracy: 0.7079\n",
      "Reliable negative size: 2400   Unlabeled size: 18000\n",
      "pos size: 2400 RN size: 2400\n"
     ]
    },
    {
     "name": "stderr",
     "output_type": "stream",
     "text": [
      "\r",
      " 60%|██████    | 30/50 [1:05:41<53:03, 159.17s/it]  "
     ]
    },
    {
     "name": "stdout",
     "output_type": "stream",
     "text": [
      "Epoch 1/50\n",
      "330/330 [==============================] - 24s 50ms/step - loss: 0.0697 - auc: 0.9972 - binary_accuracy: 0.9750 - val_loss: 1.9225 - val_auc: 0.8237 - val_binary_accuracy: 0.6525\n",
      "Epoch 2/50\n",
      "330/330 [==============================] - 14s 42ms/step - loss: 0.0155 - auc: 0.9992 - binary_accuracy: 0.9968 - val_loss: 1.5259 - val_auc: 0.8717 - val_binary_accuracy: 0.7503\n",
      "Epoch 3/50\n",
      "330/330 [==============================] - 14s 41ms/step - loss: 0.0086 - auc: 0.9999 - binary_accuracy: 0.9983 - val_loss: 1.7330 - val_auc: 0.8695 - val_binary_accuracy: 0.7418\n",
      "Epoch 4/50\n",
      "330/330 [==============================] - 14s 41ms/step - loss: 0.0171 - auc: 0.9996 - binary_accuracy: 0.9958 - val_loss: 5.4035 - val_auc: 0.6090 - val_binary_accuracy: 0.2278\n",
      "Epoch 5/50\n",
      "330/330 [==============================] - 14s 42ms/step - loss: 0.0130 - auc: 0.9995 - binary_accuracy: 0.9966 - val_loss: 4.0980 - val_auc: 0.7026 - val_binary_accuracy: 0.4325\n",
      "Epoch 6/50\n",
      "330/330 [==============================] - 14s 41ms/step - loss: 0.0093 - auc: 0.9996 - binary_accuracy: 0.9977 - val_loss: 5.7022 - val_auc: 0.6137 - val_binary_accuracy: 0.2552\n",
      "Epoch 7/50\n",
      "330/330 [==============================] - 14s 42ms/step - loss: 0.0086 - auc: 0.9992 - binary_accuracy: 0.9985 - val_loss: 6.1461 - val_auc: 0.5987 - val_binary_accuracy: 0.2144\n",
      "Epoch 8/50\n",
      "330/330 [==============================] - 14s 42ms/step - loss: 0.0076 - auc: 0.9996 - binary_accuracy: 0.9981 - val_loss: 6.4818 - val_auc: 0.5847 - val_binary_accuracy: 0.1864\n",
      "Epoch 9/50\n",
      "330/330 [==============================] - 14s 42ms/step - loss: 0.0032 - auc: 0.9998 - binary_accuracy: 0.9992 - val_loss: 4.1133 - val_auc: 0.7415 - val_binary_accuracy: 0.5007\n",
      "Epoch 10/50\n",
      "330/330 [==============================] - 14s 42ms/step - loss: 0.0048 - auc: 0.9995 - binary_accuracy: 0.9992 - val_loss: 6.7226 - val_auc: 0.5976 - val_binary_accuracy: 0.2261\n",
      "Epoch 11/50\n",
      "330/330 [==============================] - 14s 42ms/step - loss: 0.0124 - auc: 0.9993 - binary_accuracy: 0.9973 - val_loss: 6.4879 - val_auc: 0.6097 - val_binary_accuracy: 0.2473\n",
      "Epoch 12/50\n",
      "330/330 [==============================] - 14s 42ms/step - loss: 0.0068 - auc: 0.9994 - binary_accuracy: 0.9989 - val_loss: 6.4243 - val_auc: 0.6001 - val_binary_accuracy: 0.2276\n",
      "Epoch 13/50\n",
      "330/330 [==============================] - 14s 42ms/step - loss: 0.0085 - auc: 0.9996 - binary_accuracy: 0.9977 - val_loss: 4.9357 - val_auc: 0.6968 - val_binary_accuracy: 0.4058\n",
      "Reliable negative size: 2480   Unlabeled size: 18000\n",
      "pos size: 2480 RN size: 2480\n"
     ]
    },
    {
     "name": "stderr",
     "output_type": "stream",
     "text": [
      "\r",
      " 62%|██████▏   | 31/50 [1:09:17<55:47, 176.18s/it]"
     ]
    },
    {
     "name": "stdout",
     "output_type": "stream",
     "text": [
      "Epoch 1/50\n",
      "335/335 [==============================] - 24s 49ms/step - loss: 0.0593 - auc: 0.9980 - binary_accuracy: 0.9797 - val_loss: 1.4478 - val_auc: 0.8709 - val_binary_accuracy: 0.7450\n",
      "Epoch 2/50\n",
      "335/335 [==============================] - 14s 41ms/step - loss: 0.0155 - auc: 0.9992 - binary_accuracy: 0.9965 - val_loss: 1.7791 - val_auc: 0.8589 - val_binary_accuracy: 0.7019\n",
      "Epoch 3/50\n",
      "335/335 [==============================] - 14s 41ms/step - loss: 0.0089 - auc: 0.9996 - binary_accuracy: 0.9983 - val_loss: 2.8434 - val_auc: 0.7978 - val_binary_accuracy: 0.5593\n",
      "Epoch 4/50\n",
      "335/335 [==============================] - 14s 41ms/step - loss: 0.0080 - auc: 0.9996 - binary_accuracy: 0.9981 - val_loss: 3.2759 - val_auc: 0.7725 - val_binary_accuracy: 0.5101\n",
      "Epoch 5/50\n",
      "335/335 [==============================] - 14s 42ms/step - loss: 0.0120 - auc: 0.9996 - binary_accuracy: 0.9966 - val_loss: 3.2988 - val_auc: 0.8061 - val_binary_accuracy: 0.3767\n",
      "Epoch 6/50\n",
      "335/335 [==============================] - 14s 42ms/step - loss: 0.0045 - auc: 0.9996 - binary_accuracy: 0.9994 - val_loss: 3.8629 - val_auc: 0.7571 - val_binary_accuracy: 0.4010\n",
      "Epoch 7/50\n",
      "335/335 [==============================] - 14s 41ms/step - loss: 0.0020 - auc: 0.9998 - binary_accuracy: 0.9998 - val_loss: 4.3114 - val_auc: 0.7327 - val_binary_accuracy: 0.3851\n",
      "Epoch 8/50\n",
      "335/335 [==============================] - 14s 41ms/step - loss: 0.0077 - auc: 0.9996 - binary_accuracy: 0.9976 - val_loss: 4.3106 - val_auc: 0.7334 - val_binary_accuracy: 0.3847\n",
      "Epoch 9/50\n",
      "335/335 [==============================] - 14s 42ms/step - loss: 0.0054 - auc: 0.9996 - binary_accuracy: 0.9987 - val_loss: 5.9098 - val_auc: 0.6294 - val_binary_accuracy: 0.1620\n",
      "Epoch 10/50\n",
      "335/335 [==============================] - 14s 42ms/step - loss: 0.0069 - auc: 0.9996 - binary_accuracy: 0.9985 - val_loss: 5.4363 - val_auc: 0.6722 - val_binary_accuracy: 0.2024\n",
      "Epoch 11/50\n",
      "335/335 [==============================] - 14s 41ms/step - loss: 0.0024 - auc: 0.9998 - binary_accuracy: 0.9998 - val_loss: 4.7330 - val_auc: 0.7160 - val_binary_accuracy: 0.3800\n",
      "Epoch 12/50\n",
      "335/335 [==============================] - 14s 42ms/step - loss: 0.0062 - auc: 0.9996 - binary_accuracy: 0.9987 - val_loss: 4.2498 - val_auc: 0.7516 - val_binary_accuracy: 0.3951\n",
      "Epoch 13/50\n",
      "335/335 [==============================] - 14s 41ms/step - loss: 0.0036 - auc: 0.9998 - binary_accuracy: 0.9994 - val_loss: 5.4969 - val_auc: 0.6774 - val_binary_accuracy: 0.2431\n",
      "Epoch 14/50\n",
      "335/335 [==============================] - 14s 41ms/step - loss: 0.0051 - auc: 0.9998 - binary_accuracy: 0.9987 - val_loss: 4.5477 - val_auc: 0.7392 - val_binary_accuracy: 0.3721\n",
      "Reliable negative size: 2560   Unlabeled size: 18000\n",
      "pos size: 2560 RN size: 2560\n"
     ]
    },
    {
     "name": "stderr",
     "output_type": "stream",
     "text": [
      "\r",
      " 64%|██████▍   | 32/50 [1:13:08<57:47, 192.65s/it]"
     ]
    },
    {
     "name": "stdout",
     "output_type": "stream",
     "text": [
      "Epoch 1/50\n",
      "340/340 [==============================] - 25s 49ms/step - loss: 0.0542 - auc: 0.9975 - binary_accuracy: 0.9844 - val_loss: 4.4293 - val_auc: 0.6002 - val_binary_accuracy: 0.2247\n",
      "Epoch 2/50\n",
      "340/340 [==============================] - 14s 41ms/step - loss: 0.0224 - auc: 0.9982 - binary_accuracy: 0.9952 - val_loss: 1.9705 - val_auc: 0.8500 - val_binary_accuracy: 0.6466\n",
      "Epoch 3/50\n",
      "340/340 [==============================] - 14s 42ms/step - loss: 0.0112 - auc: 0.9993 - binary_accuracy: 0.9982 - val_loss: 2.4758 - val_auc: 0.8121 - val_binary_accuracy: 0.6030\n",
      "Epoch 4/50\n",
      "340/340 [==============================] - 14s 41ms/step - loss: 0.0240 - auc: 0.9986 - binary_accuracy: 0.9936 - val_loss: 3.4156 - val_auc: 0.7860 - val_binary_accuracy: 0.3657\n",
      "Epoch 5/50\n",
      "340/340 [==============================] - 14s 41ms/step - loss: 0.0088 - auc: 1.0000 - binary_accuracy: 0.9972 - val_loss: 3.5535 - val_auc: 0.7749 - val_binary_accuracy: 0.3903\n",
      "Epoch 6/50\n",
      "340/340 [==============================] - 14s 42ms/step - loss: 0.0072 - auc: 0.9998 - binary_accuracy: 0.9985 - val_loss: 4.3602 - val_auc: 0.7273 - val_binary_accuracy: 0.2419\n",
      "Reliable negative size: 2640   Unlabeled size: 18000\n",
      "pos size: 2640 RN size: 2640\n"
     ]
    },
    {
     "name": "stderr",
     "output_type": "stream",
     "text": [
      "\r",
      " 66%|██████▌   | 33/50 [1:15:11<48:42, 171.89s/it]"
     ]
    },
    {
     "name": "stdout",
     "output_type": "stream",
     "text": [
      "Epoch 1/50\n",
      "345/345 [==============================] - 23s 50ms/step - loss: 0.0699 - auc: 0.9975 - binary_accuracy: 0.9761 - val_loss: 5.3799 - val_auc: 0.5429 - val_binary_accuracy: 0.1474\n",
      "Epoch 2/50\n",
      "345/345 [==============================] - 14s 41ms/step - loss: 0.0170 - auc: 0.9991 - binary_accuracy: 0.9964 - val_loss: 2.2447 - val_auc: 0.8294 - val_binary_accuracy: 0.6436\n",
      "Epoch 3/50\n",
      "345/345 [==============================] - 15s 42ms/step - loss: 0.0096 - auc: 0.9996 - binary_accuracy: 0.9976 - val_loss: 1.8630 - val_auc: 0.8639 - val_binary_accuracy: 0.7391\n",
      "Epoch 4/50\n",
      "345/345 [==============================] - 14s 42ms/step - loss: 0.0104 - auc: 0.9992 - binary_accuracy: 0.9980 - val_loss: 2.9033 - val_auc: 0.7912 - val_binary_accuracy: 0.5936\n",
      "Epoch 5/50\n",
      "345/345 [==============================] - 14s 41ms/step - loss: 0.0137 - auc: 0.9993 - binary_accuracy: 0.9962 - val_loss: 4.7783 - val_auc: 0.6835 - val_binary_accuracy: 0.3274\n",
      "Epoch 6/50\n",
      "345/345 [==============================] - 14s 41ms/step - loss: 0.0074 - auc: 0.9995 - binary_accuracy: 0.9982 - val_loss: 3.4818 - val_auc: 0.7678 - val_binary_accuracy: 0.5290\n",
      "Reliable negative size: 2720   Unlabeled size: 18000\n",
      "pos size: 2720 RN size: 2720\n"
     ]
    },
    {
     "name": "stderr",
     "output_type": "stream",
     "text": [
      "\r",
      " 68%|██████▊   | 34/50 [1:17:17<42:08, 158.01s/it]"
     ]
    },
    {
     "name": "stdout",
     "output_type": "stream",
     "text": [
      "Epoch 1/50\n",
      "350/350 [==============================] - 23s 48ms/step - loss: 0.0693 - auc: 0.9966 - binary_accuracy: 0.9768 - val_loss: 4.9922 - val_auc: 0.5349 - val_binary_accuracy: 0.0784\n",
      "Epoch 2/50\n",
      "350/350 [==============================] - 14s 40ms/step - loss: 0.0175 - auc: 0.9991 - binary_accuracy: 0.9962 - val_loss: 2.5584 - val_auc: 0.7829 - val_binary_accuracy: 0.5983\n",
      "Epoch 3/50\n",
      "350/350 [==============================] - 14s 40ms/step - loss: 0.0174 - auc: 0.9988 - binary_accuracy: 0.9954 - val_loss: 3.6492 - val_auc: 0.7324 - val_binary_accuracy: 0.4599\n",
      "Epoch 4/50\n",
      "350/350 [==============================] - 14s 40ms/step - loss: 0.0157 - auc: 0.9994 - binary_accuracy: 0.9959 - val_loss: 3.5252 - val_auc: 0.7583 - val_binary_accuracy: 0.4059\n",
      "Epoch 5/50\n",
      "350/350 [==============================] - 14s 41ms/step - loss: 0.0117 - auc: 0.9992 - binary_accuracy: 0.9975 - val_loss: 2.5754 - val_auc: 0.8203 - val_binary_accuracy: 0.6381\n",
      "Epoch 6/50\n",
      "350/350 [==============================] - 14s 40ms/step - loss: 0.0183 - auc: 0.9991 - binary_accuracy: 0.9959 - val_loss: 5.6623 - val_auc: 0.6091 - val_binary_accuracy: 0.2097\n",
      "Reliable negative size: 2800   Unlabeled size: 18000\n",
      "pos size: 2800 RN size: 2800\n"
     ]
    },
    {
     "name": "stderr",
     "output_type": "stream",
     "text": [
      "\r",
      " 70%|███████   | 35/50 [1:19:22<37:02, 148.15s/it]"
     ]
    },
    {
     "name": "stdout",
     "output_type": "stream",
     "text": [
      "Epoch 1/50\n",
      "355/355 [==============================] - 23s 47ms/step - loss: 0.0599 - auc: 0.9968 - binary_accuracy: 0.9806 - val_loss: 2.3085 - val_auc: 0.8149 - val_binary_accuracy: 0.6370\n",
      "Epoch 2/50\n",
      "355/355 [==============================] - 14s 40ms/step - loss: 0.0137 - auc: 0.9993 - binary_accuracy: 0.9968 - val_loss: 4.4821 - val_auc: 0.6648 - val_binary_accuracy: 0.2336\n",
      "Epoch 3/50\n",
      "355/355 [==============================] - 14s 40ms/step - loss: 0.0178 - auc: 0.9988 - binary_accuracy: 0.9956 - val_loss: 2.2987 - val_auc: 0.8341 - val_binary_accuracy: 0.6684\n",
      "Epoch 4/50\n",
      "355/355 [==============================] - 14s 40ms/step - loss: 0.0116 - auc: 0.9993 - binary_accuracy: 0.9975 - val_loss: 2.2414 - val_auc: 0.8446 - val_binary_accuracy: 0.6961\n",
      "Epoch 5/50\n",
      "355/355 [==============================] - 14s 40ms/step - loss: 0.0126 - auc: 0.9990 - binary_accuracy: 0.9970 - val_loss: 4.1708 - val_auc: 0.7154 - val_binary_accuracy: 0.4103\n",
      "Epoch 6/50\n",
      "355/355 [==============================] - 14s 40ms/step - loss: 0.0110 - auc: 0.9992 - binary_accuracy: 0.9975 - val_loss: 3.1234 - val_auc: 0.7973 - val_binary_accuracy: 0.5521\n",
      "Epoch 7/50\n",
      "355/355 [==============================] - 14s 40ms/step - loss: 0.0093 - auc: 0.9996 - binary_accuracy: 0.9974 - val_loss: 4.1805 - val_auc: 0.7270 - val_binary_accuracy: 0.4492\n",
      "Reliable negative size: 2880   Unlabeled size: 18000\n",
      "pos size: 2880 RN size: 2880\n"
     ]
    },
    {
     "name": "stderr",
     "output_type": "stream",
     "text": [
      "\r",
      " 72%|███████▏  | 36/50 [1:21:40<33:49, 144.94s/it]"
     ]
    },
    {
     "name": "stdout",
     "output_type": "stream",
     "text": [
      "Epoch 1/50\n",
      "360/360 [==============================] - 23s 48ms/step - loss: 0.0493 - auc: 0.9980 - binary_accuracy: 0.9854 - val_loss: 5.1454 - val_auc: 0.5249 - val_binary_accuracy: 0.1069\n",
      "Epoch 2/50\n",
      "360/360 [==============================] - 14s 39ms/step - loss: 0.0198 - auc: 0.9989 - binary_accuracy: 0.9957 - val_loss: 5.1705 - val_auc: 0.5724 - val_binary_accuracy: 0.1678\n",
      "Epoch 3/50\n",
      "360/360 [==============================] - 14s 39ms/step - loss: 0.0182 - auc: 0.9989 - binary_accuracy: 0.9957 - val_loss: 6.4022 - val_auc: 0.5140 - val_binary_accuracy: 0.0739\n",
      "Epoch 4/50\n",
      "360/360 [==============================] - 14s 39ms/step - loss: 0.0139 - auc: 0.9993 - binary_accuracy: 0.9965 - val_loss: 6.5303 - val_auc: 0.5368 - val_binary_accuracy: 0.0975\n",
      "Epoch 5/50\n",
      "360/360 [==============================] - 14s 39ms/step - loss: 0.0169 - auc: 0.9994 - binary_accuracy: 0.9958 - val_loss: 6.7128 - val_auc: 0.5214 - val_binary_accuracy: 0.0733\n",
      "Epoch 6/50\n",
      "360/360 [==============================] - 14s 39ms/step - loss: 0.0068 - auc: 0.9998 - binary_accuracy: 0.9986 - val_loss: 7.2720 - val_auc: 0.5066 - val_binary_accuracy: 0.0624\n",
      "Epoch 7/50\n",
      "360/360 [==============================] - 14s 39ms/step - loss: 0.0086 - auc: 0.9994 - binary_accuracy: 0.9983 - val_loss: 6.6794 - val_auc: 0.5574 - val_binary_accuracy: 0.1459\n",
      "Epoch 8/50\n",
      "360/360 [==============================] - 14s 39ms/step - loss: 0.0036 - auc: 0.9998 - binary_accuracy: 0.9995 - val_loss: 7.7948 - val_auc: 0.5179 - val_binary_accuracy: 0.0827\n"
     ]
    },
    {
     "name": "stderr",
     "output_type": "stream",
     "text": [
      "\r",
      " 72%|███████▏  | 36/50 [1:24:05<32:42, 140.15s/it]"
     ]
    },
    {
     "name": "stdout",
     "output_type": "stream",
     "text": [
      "Reliable negative size: 2960   Unlabeled size: 18000\n",
      "RNs size exceeded positives size\n"
     ]
    },
    {
     "name": "stderr",
     "output_type": "stream",
     "text": [
      "\n"
     ]
    }
   ],
   "source": [
    "RNs = initial_RNs\n",
    "down_sampled_X_train = X_train_positive[np.random.choice(X_train_positive.shape[0], size=RNs.shape[0], replace=False)]\n",
    "X_train_with_RN = np.concatenate([X_train_positive, RNs])\n",
    "counts_X_train_with_RN= np.array([counts_aa(xi) for xi in X_train_with_RN])\n",
    "y_train_with_RN = np.concatenate([np.ones(X_train_positive.shape[0]), np.zeros(RNs.shape[0])])\n",
    "shuffler = np.random.permutation(len(X_train_with_RN))\n",
    "X_train_with_RN = X_train_with_RN[shuffler]\n",
    "# counts_X_train_with_RN = counts_X_train_with_RN[shuffler]\n",
    "y_train_with_RN = y_train_with_RN[shuffler]\n",
    "X_test = np.concatenate([X_test_positive, X_negative])\n",
    "y_test = np.concatenate([np.ones(y_test_positive.shape[0]), np.zeros(X_negative.shape[0])])\n",
    "# removing intial RN seeds from unlabeled\n",
    "# RU = np.delete(X_unlabeled, outlier_index[0],axis=0)\n",
    "RU = X_unlabeled\n",
    "reduce_lr = tf.keras.callbacks.ReduceLROnPlateau(monitor='loss', factor=0.9,\n",
    "                                                        patience=5, min_lr=1e-7)\n",
    "early_stopping = tf.keras.callbacks.EarlyStopping(monitor='val_auc', patience=5, min_delta=1e-2, restore_best_weights=True)\n",
    "L = None\n",
    "for i in tqdm(range(50)):\n",
    "    tf.keras.backend.clear_session()\n",
    "    model = build_model(L)\n",
    "    model.compile(\n",
    "            optimizer=tf.optimizers.Adam(1e-3, clipnorm=1.0),\n",
    "            loss=tf.keras.losses.BinaryCrossentropy(from_logits=True),\n",
    "            metrics=[tf.keras.metrics.AUC(from_logits=True), tf.keras.metrics.BinaryAccuracy(threshold=0)],\n",
    "            )\n",
    "    history = model.fit(\n",
    "        [X_train_with_RN, counts_X_train_with_RN] , y_train_with_RN,\n",
    "        validation_data=([X_test, np.array([counts_aa(xi) for xi in X_test])] , y_test), \n",
    "        epochs=50,\n",
    "        batch_size=16,\n",
    "    #     batch_size=64,\n",
    "    #     steps_per_epoch=100,\n",
    "        # early_stopping\n",
    "        callbacks=[reduce_lr, early_stopping],\n",
    "        verbose=1,\n",
    "    #         class_weight=class_weights\n",
    "    )\n",
    "    prob = model.predict([RU, np.array([counts_aa(xi) for xi in RU])])\n",
    "    V = RU[np.argsort(prob[:,0])] \n",
    "#     break\n",
    "#     print(f'Negatives found: {V.shape[0]}')\n",
    "#     if V.shape[0] == 0:\n",
    "#         print('All unlabeled were predicted as positive')\n",
    "#         RNs = outlier_values\n",
    "#         break\n",
    "    # print(V.shape)\n",
    "#     else:\n",
    "        # print(RNs.shape)\n",
    "#         n_downsample = V.shape[0] - X_train_positive_svm.shape[0]\n",
    "#         print(RNs.shape) \n",
    "    if i == 0:\n",
    "        RNs = np.empty(shape=(0, 200))\n",
    "\n",
    "#     RNs = np.concatenate([RNs, V[:20*(i+1)]])\n",
    "    RNs = V[:80*(i+1)]\n",
    "#         RU = RU[:][np.squeeze(prob > 0.001)]\n",
    "#     RU = np.delete(RU, np.argsort(prob[:,0])[:20*(i+1)], axis=0)\n",
    "    print(f'Reliable negative size: {RNs.shape[0]}   Unlabeled size: {RU.shape[0]}')\n",
    "    if RU.shape[0] == 0:\n",
    "        print('All unlabeled were predicted as negative')\n",
    "        break\n",
    "    if RNs.shape[0] > X_train_positive.shape[0]:\n",
    "        print('RNs size exceeded positives size')\n",
    "        break\n",
    "#         RNs = equalizer(X_train_positive_lof, RNs)\n",
    "    down_sampled_X_train = X_train_positive[np.random.choice(X_train_positive.shape[0], size=RNs.shape[0], replace=False)]\n",
    "    print(f'pos size: {down_sampled_X_train.shape[0]} RN size: {RNs.shape[0]}')\n",
    "    X_train_with_RN = np.concatenate([X_train_positive, RNs])\n",
    "    counts_X_train_with_RN = np.array([counts_aa(xi) for xi in X_train_with_RN])\n",
    "    y_train_with_RN = np.concatenate([np.ones(X_train_positive.shape[0]), np.zeros(RNs.shape[0])])\n",
    "    shuffler = np.random.permutation(len(X_train_with_RN))\n",
    "    X_train_with_RN = X_train_with_RN[shuffler]\n",
    "    counts_X_train_with_RN = counts_X_train_with_RN[shuffler]\n",
    "    y_train_with_RN = y_train_with_RN[shuffler]"
   ]
  },
  {
   "cell_type": "markdown",
   "id": "7b5b4392",
   "metadata": {},
   "source": [
    "Now train with found RNs and positives. We do testing and validation based on the known negative data and a small subset of unobserved postives"
   ]
  },
  {
   "cell_type": "code",
   "execution_count": 49,
   "id": "75ce100e",
   "metadata": {},
   "outputs": [],
   "source": [
    "labels = np.concatenate(\n",
    "    (\n",
    "        np.ones(pos_data.shape[0], dtype=pos_data.dtype),\n",
    "        np.zeros(RNs.shape[0], dtype=pos_data.dtype),\n",
    "    ),\n",
    "    axis=0,\n",
    ")\n",
    "features = np.concatenate((pos_data, RNs), axis=0)\n",
    "counts_features = np.array([counts_aa(xi) for xi in features])\n",
    "shuffler = np.random.permutation(len(features))\n",
    "features = features[shuffler]\n",
    "counts_features = counts_features[shuffler]\n",
    "labels = labels[shuffler]\n",
    "from sklearn.model_selection import train_test_split\n",
    "X_train, X_test, y_train, y_test = train_test_split(features, labels, test_size=0.1, random_state=25)\n",
    "X_val, X_test, y_val, y_test = train_test_split(X_test, y_test, test_size=0.2, random_state=25)\n",
    "# add true known negatives to validation and test data\n",
    "split = X_negative.shape[0]//5 *4\n",
    "X_negative_val, X_negative_test = X_negative[:split], X_negative[split:]\n",
    "X_val = np.append(X_val, X_negative_val, axis=0)\n",
    "y_val = np.append(y_val, np.zeros(X_negative_val.shape[0]), axis=0)\n",
    "X_test = np.append(X_test, X_negative_test, axis=0)\n",
    "y_test = np.append(y_test, np.zeros(X_negative_test.shape[0]), axis=0)\n",
    "shuffler = np.random.permutation(len(X_val))\n",
    "X_val = X_val[shuffler]\n",
    "y_val = y_val[shuffler]\n",
    "shuffler = np.random.permutation(len(X_test))\n",
    "X_test = X_test[shuffler]\n",
    "y_test = y_test[shuffler]\n"
   ]
  },
  {
   "cell_type": "code",
   "execution_count": 50,
   "id": "1d53dd5a",
   "metadata": {},
   "outputs": [],
   "source": [
    "tf.keras.backend.clear_session()\n",
    "model = build_model(L)\n",
    "#   L = 190\n",
    "#   model = build_CNN_model(L, reg=0, add_dropout=True)\n",
    "decay_epochs = 50\n",
    "N = len(features)\n",
    "decay_steps = N  // config.batch_size * decay_epochs\n",
    "lr_decayed_fn = tf.keras.optimizers.schedules.CosineDecay(\n",
    "  config.lr, decay_steps, alpha=1e-3)\n",
    "opt = tf.optimizers.Adam(lr_decayed_fn, clipnorm=1.0)\n",
    "model.compile(\n",
    "  opt,\n",
    "  loss=tf.keras.losses.BinaryCrossentropy(from_logits=True),\n",
    "  steps_per_execution = 60 if use_tpu else None,\n",
    "  metrics=[tf.keras.metrics.AUC(from_logits=True), tf.keras.metrics.BinaryAccuracy(threshold=0)])"
   ]
  },
  {
   "cell_type": "code",
   "execution_count": 51,
   "id": "9d512c5a",
   "metadata": {},
   "outputs": [
    {
     "name": "stdout",
     "output_type": "stream",
     "text": [
      "Epoch 1/150\n",
      "lr = 0.001\n",
      "369/369 [==============================] - 22s 39ms/step - loss: 0.0639 - auc: 0.9970 - binary_accuracy: 0.9805 - val_loss: 1.6510 - val_auc: 0.8609 - val_binary_accuracy: 0.6888\n",
      "Epoch 2/150\n",
      "lr = 0.0009992016\n",
      "369/369 [==============================] - 12s 33ms/step - loss: 0.0188 - auc: 0.9992 - binary_accuracy: 0.9958 - val_loss: 1.6596 - val_auc: 0.8753 - val_binary_accuracy: 0.7271\n",
      "Epoch 3/150\n",
      "lr = 0.000996809\n",
      "369/369 [==============================] - 12s 33ms/step - loss: 0.0211 - auc: 0.9987 - binary_accuracy: 0.9951 - val_loss: 2.3070 - val_auc: 0.8390 - val_binary_accuracy: 0.6192\n",
      "Epoch 4/150\n",
      "lr = 0.0009928294\n",
      "369/369 [==============================] - 12s 33ms/step - loss: 0.0158 - auc: 0.9987 - binary_accuracy: 0.9963 - val_loss: 3.3686 - val_auc: 0.7703 - val_binary_accuracy: 0.4914\n",
      "Epoch 5/150\n",
      "lr = 0.0009872762\n",
      "369/369 [==============================] - 12s 33ms/step - loss: 0.0146 - auc: 0.9993 - binary_accuracy: 0.9961 - val_loss: 3.3571 - val_auc: 0.7823 - val_binary_accuracy: 0.5059\n",
      "Epoch 6/150\n",
      "lr = 0.0009801667\n",
      "369/369 [==============================] - 12s 34ms/step - loss: 0.0082 - auc: 0.9993 - binary_accuracy: 0.9978 - val_loss: 3.0780 - val_auc: 0.8109 - val_binary_accuracy: 0.5331\n",
      "Epoch 7/150\n",
      "lr = 0.0009715238\n",
      "369/369 [==============================] - 12s 33ms/step - loss: 0.0103 - auc: 0.9993 - binary_accuracy: 0.9980 - val_loss: 5.2623 - val_auc: 0.6345 - val_binary_accuracy: 0.2138\n",
      "Epoch 8/150\n",
      "lr = 0.00096137513\n",
      "369/369 [==============================] - 12s 33ms/step - loss: 0.0104 - auc: 0.9992 - binary_accuracy: 0.9983 - val_loss: 5.8138 - val_auc: 0.6469 - val_binary_accuracy: 0.1680\n",
      "Epoch 9/150\n",
      "lr = 0.000949753\n",
      "369/369 [==============================] - 12s 33ms/step - loss: 0.0117 - auc: 0.9994 - binary_accuracy: 0.9971 - val_loss: 5.0873 - val_auc: 0.6922 - val_binary_accuracy: 0.2679\n",
      "Epoch 10/150\n",
      "lr = 0.0009366946\n",
      "369/369 [==============================] - 12s 33ms/step - loss: 0.0050 - auc: 1.0000 - binary_accuracy: 0.9985 - val_loss: 4.1510 - val_auc: 0.7607 - val_binary_accuracy: 0.4032\n",
      "Epoch 11/150\n",
      "lr = 0.00092224183\n",
      "369/369 [==============================] - 12s 32ms/step - loss: 0.0045 - auc: 0.9998 - binary_accuracy: 0.9992 - val_loss: 5.5409 - val_auc: 0.6795 - val_binary_accuracy: 0.3020\n",
      "Epoch 12/150\n",
      "lr = 0.0009064407\n",
      "369/369 [==============================] - 12s 34ms/step - loss: 0.0054 - auc: 0.9998 - binary_accuracy: 0.9985 - val_loss: 6.8059 - val_auc: 0.6090 - val_binary_accuracy: 0.1771\n"
     ]
    }
   ],
   "source": [
    "result = model.fit(\n",
    "    [X_train, np.array([counts_aa(xi) for xi in X_train])], y_train, \n",
    "    validation_data=([X_val, np.array([counts_aa(xi) for xi in X_val])] , y_val),\n",
    "    callbacks=[tf.keras.callbacks.LambdaCallback(\n",
    "        on_epoch_begin=lambda epochs,logs: print('lr =',lr_decayed_fn(opt.iterations).numpy())\n",
    "        ),\n",
    "        tf.keras.callbacks.EarlyStopping(monitor='val_auc', mode='max', restore_best_weights=True, patience=10)],\n",
    "    epochs=150, batch_size=16)"
   ]
  },
  {
   "cell_type": "code",
   "execution_count": 52,
   "id": "af0e482d",
   "metadata": {},
   "outputs": [
    {
     "name": "stdout",
     "output_type": "stream",
     "text": [
      "90/90 [==============================] - 4s 14ms/step - loss: 1.6757 - auc: 0.8702 - binary_accuracy: 0.7262\n"
     ]
    },
    {
     "data": {
      "image/png": "[encoded data removed]",
      "text/plain": [
       "<Figure size 432x288 with 1 Axes>"
      ]
     },
     "metadata": {
      "needs_background": "light"
     },
     "output_type": "display_data"
    }
   ],
   "source": [
    "plt.plot(result.history['val_binary_accuracy'])\n",
    "test_result = model.evaluate([X_test, np.array([counts_aa(xi) for xi in X_test])], y_test)\n",
    "plt.show()"
   ]
  },
  {
   "cell_type": "markdown",
   "id": "4366837c",
   "metadata": {},
   "source": [
    "Let's see how the model works with classical positive-negative classification"
   ]
  },
  {
   "cell_type": "code",
   "execution_count": 52,
   "id": "ce3a9131",
   "metadata": {},
   "outputs": [],
   "source": [
    "labels = np.concatenate(\n",
    "    (\n",
    "        np.ones(pos_data.shape[0], dtype=pos_data.dtype),\n",
    "        np.zeros(neg_data.shape[0], dtype=neg_data.dtype),\n",
    "    ),\n",
    "    axis=0,\n",
    ")\n",
    "features = np.concatenate((pos_data, neg_data), axis=0)\n",
    "counts_features = np.array([counts_aa(xi) for xi in features])\n",
    "shuffler = np.random.permutation(len(features))\n",
    "features = features[shuffler]\n",
    "counts_features = counts_features[shuffler]\n",
    "labels = labels[shuffler]\n",
    "from sklearn.model_selection import train_test_split\n",
    "X_train, X_test, y_train, y_test = train_test_split(features, labels, test_size=0.1, random_state=25)\n",
    "X_val, X_test, y_val, y_test = train_test_split(X_test, y_test, test_size=0.2, random_state=25)"
   ]
  },
  {
   "cell_type": "code",
   "execution_count": 53,
   "id": "c8936450",
   "metadata": {},
   "outputs": [],
   "source": [
    "tf.keras.backend.clear_session()\n",
    "model = build_model(L)\n",
    "opt = tf.optimizers.Adam(lr_decayed_fn)\n",
    "model.compile(\n",
    "      opt,\n",
    "      loss=tf.keras.losses.BinaryCrossentropy(from_logits=True),\n",
    "      steps_per_execution = 60 if use_tpu else None,\n",
    "      metrics=[tf.keras.metrics.AUC(from_logits=True), tf.keras.metrics.BinaryAccuracy(threshold=0)])"
   ]
  },
  {
   "cell_type": "code",
   "execution_count": 54,
   "id": "513d6ecf",
   "metadata": {},
   "outputs": [
    {
     "name": "stdout",
     "output_type": "stream",
     "text": [
      "Epoch 1/150\n",
      "lr = 0.001\n",
      "484/484 [==============================] - 26s 38ms/step - loss: 0.2788 - auc: 0.9180 - binary_accuracy: 0.8528 - val_loss: 0.2838 - val_auc: 0.9206 - val_binary_accuracy: 0.8422\n",
      "Epoch 2/150\n",
      "lr = 0.00099864\n",
      "484/484 [==============================] - 16s 32ms/step - loss: 0.2587 - auc: 0.9279 - binary_accuracy: 0.8607 - val_loss: 0.2665 - val_auc: 0.9236 - val_binary_accuracy: 0.8516\n",
      "Epoch 3/150\n",
      "lr = 0.0009945672\n",
      "484/484 [==============================] - 16s 33ms/step - loss: 0.2529 - auc: 0.9311 - binary_accuracy: 0.8663 - val_loss: 0.2663 - val_auc: 0.9236 - val_binary_accuracy: 0.8524\n",
      "Epoch 4/150\n",
      "lr = 0.0009878038\n",
      "484/484 [==============================] - 16s 33ms/step - loss: 0.2526 - auc: 0.9315 - binary_accuracy: 0.8651 - val_loss: 0.2679 - val_auc: 0.9255 - val_binary_accuracy: 0.8604\n",
      "Epoch 5/150\n",
      "lr = 0.0009783866\n",
      "484/484 [==============================] - 16s 33ms/step - loss: 0.2512 - auc: 0.9315 - binary_accuracy: 0.8673 - val_loss: 0.2607 - val_auc: 0.9268 - val_binary_accuracy: 0.8611\n",
      "Epoch 6/150\n",
      "lr = 0.000966367\n",
      "484/484 [==============================] - 16s 33ms/step - loss: 0.2483 - auc: 0.9332 - binary_accuracy: 0.8668 - val_loss: 0.2598 - val_auc: 0.9289 - val_binary_accuracy: 0.8633\n",
      "Epoch 7/150\n",
      "lr = 0.00095181033\n",
      "484/484 [==============================] - 16s 33ms/step - loss: 0.2480 - auc: 0.9336 - binary_accuracy: 0.8681 - val_loss: 0.2615 - val_auc: 0.9279 - val_binary_accuracy: 0.8633\n",
      "Epoch 8/150\n",
      "lr = 0.00093479606\n",
      "484/484 [==============================] - 16s 33ms/step - loss: 0.2465 - auc: 0.9349 - binary_accuracy: 0.8733 - val_loss: 0.2547 - val_auc: 0.9298 - val_binary_accuracy: 0.8582\n",
      "Epoch 9/150\n",
      "lr = 0.00091541663\n",
      "484/484 [==============================] - 16s 33ms/step - loss: 0.2456 - auc: 0.9354 - binary_accuracy: 0.8702 - val_loss: 0.2572 - val_auc: 0.9292 - val_binary_accuracy: 0.8611\n",
      "Epoch 10/150\n",
      "lr = 0.00089377764\n",
      "484/484 [==============================] - 16s 33ms/step - loss: 0.2441 - auc: 0.9366 - binary_accuracy: 0.8724 - val_loss: 0.2536 - val_auc: 0.9316 - val_binary_accuracy: 0.8662\n",
      "Epoch 11/150\n",
      "lr = 0.000869997\n",
      "484/484 [==============================] - 16s 33ms/step - loss: 0.2436 - auc: 0.9367 - binary_accuracy: 0.8739 - val_loss: 0.2521 - val_auc: 0.9317 - val_binary_accuracy: 0.8655\n",
      "Epoch 12/150\n",
      "lr = 0.00084420416\n",
      "484/484 [==============================] - 16s 33ms/step - loss: 0.2418 - auc: 0.9374 - binary_accuracy: 0.8729 - val_loss: 0.2524 - val_auc: 0.9314 - val_binary_accuracy: 0.8640\n",
      "Epoch 13/150\n",
      "lr = 0.0008165396\n",
      "484/484 [==============================] - 16s 33ms/step - loss: 0.2410 - auc: 0.9383 - binary_accuracy: 0.8746 - val_loss: 0.2598 - val_auc: 0.9303 - val_binary_accuracy: 0.8458\n",
      "Epoch 14/150\n",
      "lr = 0.00078715396\n",
      "484/484 [==============================] - 16s 33ms/step - loss: 0.2400 - auc: 0.9388 - binary_accuracy: 0.8746 - val_loss: 0.2540 - val_auc: 0.9317 - val_binary_accuracy: 0.8633\n",
      "Epoch 15/150\n",
      "lr = 0.0007562073\n",
      "484/484 [==============================] - 16s 33ms/step - loss: 0.2392 - auc: 0.9391 - binary_accuracy: 0.8759 - val_loss: 0.2555 - val_auc: 0.9303 - val_binary_accuracy: 0.8647\n",
      "Epoch 16/150\n",
      "lr = 0.00072386797\n",
      "484/484 [==============================] - 16s 33ms/step - loss: 0.2379 - auc: 0.9396 - binary_accuracy: 0.8744 - val_loss: 0.2556 - val_auc: 0.9287 - val_binary_accuracy: 0.8611\n"
     ]
    }
   ],
   "source": [
    "result = model.fit(\n",
    "    [X_train, np.array([counts_aa(xi) for xi in X_train])], y_train, \n",
    "    validation_data=([X_val, np.array([counts_aa(xi) for xi in X_val])] , y_val),\n",
    "    callbacks=[tf.keras.callbacks.LambdaCallback(\n",
    "        on_epoch_begin=lambda epochs,logs: print('lr =',lr_decayed_fn(opt.iterations).numpy())\n",
    "        ),\n",
    "        tf.keras.callbacks.EarlyStopping(monitor='val_auc', mode='max', restore_best_weights=True, patience=5)],\n",
    "    epochs=150)"
   ]
  },
  {
   "cell_type": "code",
   "execution_count": 55,
   "id": "896dd4a5",
   "metadata": {},
   "outputs": [
    {
     "name": "stdout",
     "output_type": "stream",
     "text": [
      "11/11 [==============================] - 0s 14ms/step - loss: 0.2467 - auc: 0.9434 - binary_accuracy: 0.8692\n"
     ]
    },
    {
     "data": {
      "image/png": "[encoded data removed]",
      "text/plain": [
       "<Figure size 432x288 with 1 Axes>"
      ]
     },
     "metadata": {
      "needs_background": "light"
     },
     "output_type": "display_data"
    }
   ],
   "source": [
    "plt.plot(result.history['val_binary_accuracy'])\n",
    "test_result = model.evaluate([X_test, np.array([counts_aa(xi) for xi in X_test])], y_test)\n",
    "plt.show()"
   ]
  },
  {
   "cell_type": "code",
   "execution_count": null,
   "id": "0441ca24",
   "metadata": {},
   "outputs": [],
   "source": []
  }
 ],
 "metadata": {
  "kernelspec": {
   "display_name": "covid-19",
   "language": "python",
   "name": "covid-19"
  },
  "language_info": {
   "codemirror_mode": {
    "name": "ipython",
    "version": 3
   },
   "file_extension": ".py",
   "mimetype": "text/x-python",
   "name": "python",
   "nbconvert_exporter": "python",
   "pygments_lexer": "ipython3",
   "version": "3.7.9"
  }
 },
 "nbformat": 4,
 "nbformat_minor": 5
}
