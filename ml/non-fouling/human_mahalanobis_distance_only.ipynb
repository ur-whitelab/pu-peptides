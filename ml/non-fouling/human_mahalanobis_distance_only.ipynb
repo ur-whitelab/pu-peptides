{
 "cells": [
  {
   "cell_type": "code",
   "execution_count": 1,
   "id": "a95c079e",
   "metadata": {},
   "outputs": [],
   "source": [
    "#@title Runtime\n",
    "use_tpu = False #@param"
   ]
  },
  {
   "cell_type": "code",
   "execution_count": 2,
   "id": "1ba9cf49",
   "metadata": {},
   "outputs": [],
   "source": [
    "import matplotlib.pyplot as plt\n",
    "import matplotlib as mpl\n",
    "import numpy as np\n",
    "import os\n",
    "import tensorflow as tf\n",
    "import urllib\n",
    "from dataclasses import dataclass\n",
    "import tensorflowjs as tfjs\n",
    "# import tensorflow_decision_forests as tfdf\n",
    "import json\n",
    "from tqdm import tqdm\n",
    "import seaborn as sns\n",
    "np.random.seed(0)"
   ]
  },
  {
   "cell_type": "code",
   "execution_count": 3,
   "id": "7d0c69c6",
   "metadata": {},
   "outputs": [],
   "source": [
    "urllib.request.urlretrieve(\n",
    "    \"https://github.com/ur-whitelab/peptide-dashboard/raw/master/ml/data/human-positive.npz\",\n",
    "    \"positive.npz\",\n",
    ")\n",
    "urllib.request.urlretrieve(\n",
    "    \"https://github.com/ur-whitelab/peptide-dashboard/raw/master/ml/data/human-negative.npz\",\n",
    "    \"negative.npz\",\n",
    ")\n",
    "with np.load(\"positive.npz\") as r:\n",
    "    pos_data = r[list(r.keys())[0]]\n",
    "with np.load(\"negative.npz\") as r:\n",
    "    neg_data = r['seqs']\n",
    "    weights = r['weights']\n",
    "\n",
    "# create labels and stich it all into one\n",
    "# tensor\n",
    "# labels = np.concatenate(\n",
    "#     (\n",
    "#         np.ones((pos_data.shape[0], 1), dtype=pos_data.dtype),\n",
    "#         np.zeros((neg_data.shape[0], 1), dtype=pos_data.dtype),\n",
    "#     ),\n",
    "#     axis=0,\n",
    "# )\n",
    "# weights = np.concatenate(\n",
    "#     (np.ones((pos_data.shape[0]), dtype=pos_data.dtype), \n",
    "#      weights)\n",
    "# )\n",
    "# features = np.concatenate((pos_data, neg_data), axis=0)\n",
    "# pos_data_lengths = np.count_nonzero(pos_data, axis=1)\n",
    "# neg_data_lengths = np.count_nonzero(neg_data, axis=1)"
   ]
  },
  {
   "cell_type": "code",
   "execution_count": 4,
   "id": "f0882d3d",
   "metadata": {},
   "outputs": [
    {
     "name": "stderr",
     "output_type": "stream",
     "text": [
      "100%|██████████| 18000/18000 [00:00<00:00, 21875.50it/s]\n"
     ]
    }
   ],
   "source": [
    "def encoder(seq, max_length=200):\n",
    "    alphabet = ['A','R','N','D','C','Q','E','G','H','I', 'L','K','M','F','P','S','T','W','Y','V']\n",
    "    vec = np.zeros(max_length)\n",
    "    for i,l in enumerate(seq):\n",
    "        vec[i] = alphabet.index(l) + 1\n",
    "    return vec\n",
    "# sample unlabeled data\n",
    "def sample_permutations_from_vec(data_lengths, labeled_unlabeled_ratio=0.2, max_sequence_length=200):\n",
    "    alphabet = ['A','R','N','D','C','Q','E','G','H','I', 'L','K','M','F','P','S','T','W','Y','V']\n",
    "    with open(\"../pdb_dist.txt\", 'r') as f:\n",
    "        # the probabilities in this file are sorted based on the alphabet list above\n",
    "        pdb_dist = f.read().split()\n",
    "        pdb_dist = [float(item) for item in pdb_dist]\n",
    "#     unlabeled_seq_lengths = vec_pep_length(positive_data, ohe_vec=False)\n",
    "#     print(unlabeled_seq_lengths)\n",
    "    sampled_lengths = []\n",
    "    for length in data_lengths:\n",
    "        length_sample_batch = np.ones(int(1/labeled_unlabeled_ratio), dtype=int) * length\n",
    "        sampled_lengths.append(length_sample_batch)\n",
    "    sampled_lengths = np.array(sampled_lengths).flatten()\n",
    "    sampled_sequences = []\n",
    "    sampled_vecs = []\n",
    "    for length in tqdm(sampled_lengths):\n",
    "#         print(length)\n",
    "    #         random_alphabet_index = np.random.randint(len(alphabet), size=length)\n",
    "        # sample alphabet index based on weighted amino acid frequencies in pdb\n",
    "        random_alphabet_index = np.random.choice(len(alphabet), size=length, p=pdb_dist)\n",
    "        for _ in range(length):\n",
    "            pep = ''.join([alphabet[m] for m in random_alphabet_index])\n",
    "        vec_pep = encoder(pep)\n",
    "        # pad zeros\n",
    "    #     print(ohe_pep.shape)\n",
    "#         ohe_pep = np.concatenate([ohe_pep, np.zeros((max_sequence_length-ohe_pep.shape[0],20))],axis=0)\n",
    "        sampled_vecs.append(vec_pep)\n",
    "        sampled_sequences.append(pep)\n",
    "#     sampled_vecs = np.array(sampled_vecs)\n",
    "    return sampled_sequences, sampled_vecs\n",
    "# ohe_sequence_list = np.concatenate([ohe_sequence_list, np.zeros((190,10))],axis=1)\n",
    "pos_data_lengths = np.count_nonzero(pos_data, axis=1) + 1\n",
    "neg_data_lengths = np.count_nonzero(neg_data, axis=1) + 1\n",
    "labeled_unlabeled_ratio = 0.2\n",
    "sampled_sequences, sampled_vecs = sample_permutations_from_vec(pos_data_lengths, labeled_unlabeled_ratio=0.2)\n",
    "sampled_vecs = np.array(sampled_vecs)\n",
    "# X_unlabeled = sampled_vecs\n",
    "unlabeled_data_lengths = []\n",
    "for seq in sampled_sequences:\n",
    "    unlabeled_data_lengths.append(len(seq))"
   ]
  },
  {
   "cell_type": "code",
   "execution_count": 5,
   "id": "d24d98e0",
   "metadata": {},
   "outputs": [
    {
     "name": "stdout",
     "output_type": "stream",
     "text": [
      "Positive data: 3600\n",
      "Negative data: 13585\n",
      "Sampled unlabeled data: 18000\n"
     ]
    }
   ],
   "source": [
    "X_positive = pos_data\n",
    "X_negative = neg_data\n",
    "X_unlabeled = sampled_vecs\n",
    "print('Positive data:', pos_data.shape[0])\n",
    "print('Negative data:', neg_data.shape[0])\n",
    "print('Sampled unlabeled data:', len(sampled_sequences))"
   ]
  },
  {
   "cell_type": "code",
   "execution_count": 6,
   "id": "d66551aa",
   "metadata": {},
   "outputs": [
    {
     "data": {
      "text/plain": [
       "<matplotlib.legend.Legend at 0x7f2162636750>"
      ]
     },
     "execution_count": 6,
     "metadata": {},
     "output_type": "execute_result"
    },
    {
     "data": {
      "image/png": "[encoded data removed]",
      "text/plain": [
       "<Figure size 900x600 with 1 Axes>"
      ]
     },
     "metadata": {
      "needs_background": "light"
     },
     "output_type": "display_data"
    }
   ],
   "source": [
    "fig, ax = plt.subplots(dpi=150)\n",
    "sns.kdeplot(pos_data_lengths, ax=ax, label='Positives', color='C0')\n",
    "ax.set_xlabel('Sequence Length')\n",
    "# ax.set_title(f'{peptide_label}')\n",
    "sns.kdeplot(unlabeled_data_lengths, ax=ax, label='Unlabeled', color='C2')\n",
    "sns.kdeplot(neg_data_lengths, ax=ax, label='Negatives', color='C1')\n",
    "plt.legend()"
   ]
  },
  {
   "cell_type": "code",
   "execution_count": 7,
   "id": "c4f243a3",
   "metadata": {},
   "outputs": [],
   "source": [
    "def decoder(seq_vector):\n",
    "  alphabet = ['A','R','N','D','C','Q','E','G','H','I', 'L','K','M','F','P','S','T','W','Y','V']\n",
    "  seq = []\n",
    "  for i, index in enumerate(seq_vector):\n",
    "    if index == 0:\n",
    "      break\n",
    "    seq.append(alphabet[int(index)-1])\n",
    "  seq = ''.join(seq)\n",
    "  return seq\n",
    "# need to decode postive and negative data to get UniRep representations\n",
    "pos_sequences = []\n",
    "for f in pos_data:\n",
    "  pos_sequences.append(decoder(f))\n",
    "\n",
    "neg_sequences = []\n",
    "for f in neg_data:\n",
    "  neg_sequences.append(decoder(f))"
   ]
  },
  {
   "cell_type": "code",
   "execution_count": 8,
   "id": "4b47df3c",
   "metadata": {},
   "outputs": [
    {
     "name": "stderr",
     "output_type": "stream",
     "text": [
      "/home/mgholiza/.conda/envs/covid-19/lib/python3.7/site-packages/jax/experimental/stax.py:30: FutureWarning: jax.experimental.stax is deprecated, import jax.example_libraries.stax instead\n",
      "  FutureWarning)\n",
      "WARNING:absl:No GPU/TPU found, falling back to CPU. (Set TF_CPP_MIN_LOG_LEVEL=0 and rerun for more info.)\n",
      "/home/mgholiza/.conda/envs/covid-19/lib/python3.7/site-packages/jax/experimental/optimizers.py:30: FutureWarning: jax.experimental.optimizers is deprecated, import jax.example_libraries.optimizers instead\n",
      "  FutureWarning)\n"
     ]
    }
   ],
   "source": [
    "# Generating UniRep representations for postives, negatives and unlableled (This cell takes long to run)\n",
    "from jax_unirep import get_reps\n",
    "h_avg, h_final, c_final = get_reps(pos_sequences)\n",
    "pos_UniRep = h_avg\n",
    "\n",
    "h_avg, h_final, c_final = get_reps(neg_sequences)\n",
    "neg_UniRep = h_avg\n",
    "\n",
    "h_avg, h_final, c_final = get_reps(sampled_sequences)\n",
    "unlabeled_UniRep = h_avg"
   ]
  },
  {
   "cell_type": "code",
   "execution_count": 19,
   "id": "1ba57e45",
   "metadata": {},
   "outputs": [],
   "source": [
    "# from sklearn.neighbors import LocalOutlierFactor\n",
    "# from sklearn.model_selection import KFold\n",
    "# from sklearn.metrics import f1_score\n",
    "# from sklearn.metrics import recall_score\n",
    "# kf = KFold(n_splits=5, random_state=None, shuffle=True)\n",
    "# f1_scores = []\n",
    "# recall_scores = []\n",
    "# i = 0\n",
    "\n",
    "# for train_index, test_index in kf.split(pos_UniRep):\n",
    "#     X_train_positive_lof, X_test_positive_lof = pos_UniRep[train_index], pos_UniRep[test_index]\n",
    "# #     s_train_positive_svm = np.ones(X_train_positive_svm.shape[0])\n",
    "# #     s_test_positive_svm = y[train_index], y[test_index]\n",
    "#     s_test_lof = np.ones(X_test_positive_lof.shape[0])\n",
    "#     lof = LocalOutlierFactor(n_neighbors=64, algorithm='auto',\n",
    "#                              metric='cosine', contamination=0.01,\n",
    "#                              novelty=True, n_jobs=20, leaf_size=40)\n",
    "#     lof.fit(X_train_positive_lof)\n",
    "# #     X_validation_svm = np.concatenate([X_positive_test, X_unlabeled_test])\n",
    "\n",
    "#     # Make prediction\n",
    "#     s_pred = lof.predict(X_test_positive_lof)\n",
    "#     f1 = f1_score(s_test_lof, s_pred, average='macro')\n",
    "#     r = recall_score(s_test_lof, s_pred, average='macro')\n",
    "#     print(f'Fold {i+1} - recall : {r:.3f}, f1 score : {f1:.3f}')\n",
    "#     f1_scores.append(f1)\n",
    "#     recall_scores.append(r)\n",
    "#     i += 1\n",
    "# #     break\n",
    "# # lof_f1_score\n",
    "# lof_f1_score = np.mean(f1_scores)\n",
    "# lof_recall_score = np.mean(recall_scores)\n",
    "# print(f'\\nMean 5-Fold\\n f1 score = {lof_f1_score:.3f}\\n recall = {lof_recall_score:.3f}')"
   ]
  },
  {
   "cell_type": "code",
   "execution_count": 29,
   "id": "82b67f18",
   "metadata": {},
   "outputs": [],
   "source": [
    "def mahalanobis_distance(x, data):\n",
    "    data = np.unique(data, axis=0)\n",
    "    x_minus_mu = x - np.mean(data, axis=0, keepdims=True)\n",
    "    cov = np.cov(data.T)\n",
    "    inv_covmat = np.linalg.pinv(cov)\n",
    "    left_term = x_minus_mu @ inv_covmat\n",
    "    mahal = left_term @ x_minus_mu.T\n",
    "    return mahal.diagonal()\n",
    "unlabeled_mahal_d = mahalanobis_distance(unlabeled_UniRep, pos_UniRep)\n",
    "sorted_max_mahal_d_index = np.argsort(unlabeled_mahal_d)[::-1]\n",
    "outlier_index = sorted_max_mahal_d_index[sorted_max_mahal_d_index[:pos_data.shape[0]]]\n",
    "initial_RNs = X_unlabeled[outlier_index]"
   ]
  },
  {
   "cell_type": "code",
   "execution_count": 30,
   "id": "1a5c2508",
   "metadata": {},
   "outputs": [],
   "source": [
    "# Shuffling data\n",
    "shuffled_indices = np.random.permutation(len(pos_data))\n",
    "X_positive = pos_data[shuffled_indices]\n",
    "shuffled_indices = np.random.permutation(len(neg_data))\n",
    "X_negative = neg_data[shuffled_indices]\n",
    "# shuffled_indices = np.random.permutation(len(sampled_vecs))\n",
    "# X_unlabeled = sampled_vecs[shuffled_indices]"
   ]
  },
  {
   "cell_type": "code",
   "execution_count": 31,
   "id": "1e870295",
   "metadata": {},
   "outputs": [],
   "source": [
    "@dataclass\n",
    "class Config:\n",
    "    vocab_size: int\n",
    "    example_number: int\n",
    "    batch_size: int\n",
    "    buffer_size: int\n",
    "    rnn_units: int\n",
    "    hidden_dim: int\n",
    "    embedding_dim: int\n",
    "    reg_strength: float\n",
    "    lr: float\n",
    "    drop_rate: float\n",
    "        \n",
    "config = Config(vocab_size=21, # include gap\n",
    "                example_number=len(X_positive), \n",
    "                batch_size=16, \n",
    "                buffer_size=10000,\n",
    "                rnn_units=64,\n",
    "                hidden_dim=64,\n",
    "                embedding_dim=32,\n",
    "                reg_strength=0,\n",
    "                lr=1e-3,\n",
    "                drop_rate=0.1\n",
    "               )\n",
    "\n",
    "def counts_aa(vec):\n",
    "    counts =  tf.histogram_fixed_width(vec, [0, 20], nbins=21)[1:]\n",
    "    return counts/tf.reduce_sum(counts)\n",
    "\n",
    "def build_model(L):\n",
    "    inputs = tf.keras.Input(shape=(L,))\n",
    "    input_f = tf.keras.Input(shape=(20,))\n",
    "    # make embedding and indicate that 0 should be treated as padding mask\n",
    "    e = tf.keras.layers.Embedding(input_dim=config.vocab_size, \n",
    "                                        output_dim=config.embedding_dim,\n",
    "                                        mask_zero=True)(inputs)\n",
    "\n",
    "    # RNN layer\n",
    "    x = tf.keras.layers.Bidirectional(tf.keras.layers.LSTM(config.rnn_units, return_sequences=True))(e)\n",
    "    x = tf.keras.layers.Bidirectional(tf.keras.layers.LSTM(config.rnn_units))(x)\n",
    "    x = tf.keras.layers.Concatenate()([x, input_f])\n",
    "    x = tf.keras.layers.LayerNormalization()(x)\n",
    "    x = tf.keras.layers.Dropout(config.drop_rate)(x)\n",
    "    # a dense hidden layer\n",
    "    x = tf.keras.layers.Dense(\n",
    "        config.hidden_dim, \n",
    "        activation='relu', \n",
    "        kernel_regularizer=tf.keras.regularizers.l2(config.reg_strength))(x)\n",
    "    x = tf.keras.layers.LayerNormalization()(x)\n",
    "    x = tf.keras.layers.Dropout(config.drop_rate)(x)\n",
    "    x = tf.keras.layers.Dense(\n",
    "        config.hidden_dim // 4, \n",
    "        activation='relu', \n",
    "        kernel_regularizer=tf.keras.regularizers.l2(config.reg_strength))(x)\n",
    "    x = tf.keras.layers.LayerNormalization()(x)\n",
    "    x = tf.keras.layers.Dropout(config.drop_rate)(x)\n",
    "    # predicting prob, so no activation\n",
    "    yhat = tf.keras.layers.Dense(1)(x)\n",
    "\n",
    "    model = tf.keras.Model(inputs=[inputs, input_f], outputs=yhat, name='hemo-rnn')\n",
    "    return model"
   ]
  },
  {
   "cell_type": "markdown",
   "id": "7b5b4392",
   "metadata": {},
   "source": [
    "Now train with found RNs and positives. We do testing and validation based on the known negative data and a small subset of unobserved positives"
   ]
  },
  {
   "cell_type": "code",
   "execution_count": 32,
   "id": "2ec1c304",
   "metadata": {},
   "outputs": [],
   "source": [
    "RNs = initial_RNs\n",
    "labels = np.concatenate(\n",
    "    (\n",
    "        np.ones(pos_data.shape[0], dtype=pos_data.dtype),\n",
    "        np.zeros(RNs.shape[0], dtype=RNs.dtype),\n",
    "    ),\n",
    "    axis=0,\n",
    ")\n",
    "features = np.concatenate((pos_data, RNs), axis=0)\n",
    "shuffler = np.random.permutation(len(features))\n",
    "features = features[shuffler]\n",
    "labels = labels[shuffler]\n",
    "from sklearn.model_selection import train_test_split\n",
    "X_train, X_test, y_train, y_test = train_test_split(features, labels, test_size=0.1, random_state=25)\n",
    "X_val, X_test, y_val, y_test = train_test_split(X_test, y_test, test_size=0.2, random_state=25)\n",
    "# add true known negatives to validation and test data\n",
    "split = X_negative.shape[0]//5 *4\n",
    "X_negative_val, X_negative_test = X_negative[:split], X_negative[split:]\n",
    "X_val = np.append(X_val, X_negative_val, axis=0)\n",
    "y_val = np.append(y_val, np.zeros(X_negative_val.shape[0]), axis=0)\n",
    "X_test = np.append(X_test, X_negative_test, axis=0)\n",
    "y_test = np.append(y_test, np.zeros(X_negative_test.shape[0]), axis=0)\n",
    "shuffler = np.random.permutation(len(X_val))\n",
    "X_val = X_val[shuffler]\n",
    "y_val = y_val[shuffler]\n",
    "shuffler = np.random.permutation(len(X_test))\n",
    "X_test = X_test[shuffler]\n",
    "y_test = y_test[shuffler]"
   ]
  },
  {
   "cell_type": "code",
   "execution_count": 33,
   "id": "8c2c11f9",
   "metadata": {},
   "outputs": [],
   "source": [
    "reduce_lr = tf.keras.callbacks.ReduceLROnPlateau(monitor='loss', factor=0.9,\n",
    "                                                        patience=5, min_lr=1e-7)\n",
    "early_stopping = tf.keras.callbacks.EarlyStopping(monitor='val_auc', patience=5, min_delta=1e-2, restore_best_weights=True)\n",
    "L = None\n",
    "tf.keras.backend.clear_session()\n",
    "model = build_model(L)\n",
    "#   L = 190\n",
    "#   model = build_CNN_model(L, reg=0, add_dropout=True)\n",
    "decay_epochs = 50\n",
    "N = len(features)\n",
    "decay_steps = N  // config.batch_size * decay_epochs\n",
    "lr_decayed_fn = tf.keras.optimizers.schedules.CosineDecay(\n",
    "  config.lr, decay_steps, alpha=1e-3)\n",
    "opt = tf.optimizers.Adam(lr_decayed_fn, clipnorm=1.0)\n",
    "model.compile(\n",
    "  opt,\n",
    "  loss=tf.keras.losses.BinaryCrossentropy(from_logits=True),\n",
    "  steps_per_execution = 60 if use_tpu else None,\n",
    "  metrics=[tf.keras.metrics.AUC(from_logits=True), tf.keras.metrics.BinaryAccuracy(threshold=0)])\n"
   ]
  },
  {
   "cell_type": "code",
   "execution_count": 34,
   "id": "5afcd4c3",
   "metadata": {},
   "outputs": [
    {
     "name": "stdout",
     "output_type": "stream",
     "text": [
      "Epoch 1/150\n",
      "lr = 0.001\n",
      "405/405 [==============================] - 26s 40ms/step - loss: 0.3797 - auc: 0.9106 - binary_accuracy: 0.8358 - val_loss: 0.3617 - val_auc: 0.9011 - val_binary_accuracy: 0.8402\n",
      "Epoch 2/150\n",
      "lr = 0.0009992016\n",
      "405/405 [==============================] - 13s 31ms/step - loss: 0.3330 - auc: 0.9318 - binary_accuracy: 0.8573 - val_loss: 0.7687 - val_auc: 0.8854 - val_binary_accuracy: 0.6311\n",
      "Epoch 3/150\n",
      "lr = 0.000996809\n",
      "405/405 [==============================] - 13s 32ms/step - loss: 0.3211 - auc: 0.9365 - binary_accuracy: 0.8660 - val_loss: 1.4147 - val_auc: 0.8026 - val_binary_accuracy: 0.4214\n",
      "Epoch 4/150\n",
      "lr = 0.0009928294\n",
      "405/405 [==============================] - 13s 32ms/step - loss: 0.3086 - auc: 0.9411 - binary_accuracy: 0.8750 - val_loss: 1.4988 - val_auc: 0.7134 - val_binary_accuracy: 0.3571\n",
      "Epoch 5/150\n",
      "lr = 0.0009872762\n",
      "405/405 [==============================] - 13s 32ms/step - loss: 0.2626 - auc: 0.9575 - binary_accuracy: 0.8944 - val_loss: 1.7992 - val_auc: 0.7008 - val_binary_accuracy: 0.3808\n",
      "Epoch 6/150\n",
      "lr = 0.0009801667\n",
      "405/405 [==============================] - 13s 32ms/step - loss: 0.2547 - auc: 0.9594 - binary_accuracy: 0.8975 - val_loss: 2.0507 - val_auc: 0.6435 - val_binary_accuracy: 0.3629\n",
      "Epoch 7/150\n",
      "lr = 0.0009715238\n",
      "405/405 [==============================] - 13s 32ms/step - loss: 0.2478 - auc: 0.9617 - binary_accuracy: 0.8985 - val_loss: 1.6847 - val_auc: 0.7683 - val_binary_accuracy: 0.4942\n",
      "Epoch 8/150\n",
      "lr = 0.00096137513\n",
      "405/405 [==============================] - 13s 31ms/step - loss: 0.2447 - auc: 0.9631 - binary_accuracy: 0.8966 - val_loss: 1.8980 - val_auc: 0.7437 - val_binary_accuracy: 0.4145\n",
      "Epoch 9/150\n",
      "lr = 0.000949753\n",
      "405/405 [==============================] - 13s 31ms/step - loss: 0.2423 - auc: 0.9635 - binary_accuracy: 0.8994 - val_loss: 2.9162 - val_auc: 0.6615 - val_binary_accuracy: 0.2609\n",
      "Epoch 10/150\n",
      "lr = 0.0009366946\n",
      "405/405 [==============================] - 13s 32ms/step - loss: 0.2389 - auc: 0.9646 - binary_accuracy: 0.8997 - val_loss: 1.4513 - val_auc: 0.7942 - val_binary_accuracy: 0.5441\n",
      "Epoch 11/150\n",
      "lr = 0.00092224183\n",
      "405/405 [==============================] - 13s 32ms/step - loss: 0.2367 - auc: 0.9655 - binary_accuracy: 0.8994 - val_loss: 2.1846 - val_auc: 0.7054 - val_binary_accuracy: 0.2990\n"
     ]
    }
   ],
   "source": [
    "result = model.fit(\n",
    "    [X_train, np.array([counts_aa(xi) for xi in X_train])], y_train, \n",
    "    validation_data=([X_val, np.array([counts_aa(xi) for xi in X_val])] , y_val),\n",
    "    callbacks=[tf.keras.callbacks.LambdaCallback(\n",
    "        on_epoch_begin=lambda epochs,logs: print('lr =',lr_decayed_fn(opt.iterations).numpy())\n",
    "        ),\n",
    "        tf.keras.callbacks.EarlyStopping(monitor='val_auc', mode='max', restore_best_weights=True, patience=10)],\n",
    "    epochs=150, batch_size=16)"
   ]
  },
  {
   "cell_type": "code",
   "execution_count": 38,
   "id": "831e1230",
   "metadata": {},
   "outputs": [
    {
     "name": "stdout",
     "output_type": "stream",
     "text": [
      "90/90 [==============================] - 1s 14ms/step - loss: 0.3533 - auc: 0.9111 - binary_accuracy: 0.8382\n"
     ]
    },
    {
     "data": {
      "image/png": "[encoded data removed]",
      "text/plain": [
       "<Figure size 432x288 with 1 Axes>"
      ]
     },
     "metadata": {
      "needs_background": "light"
     },
     "output_type": "display_data"
    }
   ],
   "source": [
    "plt.plot(result.history['val_binary_accuracy'])\n",
    "test_result = model.evaluate([X_test, np.array([counts_aa(xi) for xi in X_test])], y_test)\n",
    "plt.show()"
   ]
  },
  {
   "cell_type": "markdown",
   "id": "4366837c",
   "metadata": {},
   "source": [
    "Let's see how the model works with classical positive-negative classification"
   ]
  },
  {
   "cell_type": "code",
   "execution_count": 52,
   "id": "ce3a9131",
   "metadata": {},
   "outputs": [],
   "source": [
    "labels = np.concatenate(\n",
    "    (\n",
    "        np.ones(pos_data.shape[0], dtype=pos_data.dtype),\n",
    "        np.zeros(neg_data.shape[0], dtype=neg_data.dtype),\n",
    "    ),\n",
    "    axis=0,\n",
    ")\n",
    "features = np.concatenate((pos_data, neg_data), axis=0)\n",
    "counts_features = np.array([counts_aa(xi) for xi in features])\n",
    "shuffler = np.random.permutation(len(features))\n",
    "features = features[shuffler]\n",
    "counts_features = counts_features[shuffler]\n",
    "labels = labels[shuffler]\n",
    "from sklearn.model_selection import train_test_split\n",
    "X_train, X_test, y_train, y_test = train_test_split(features, labels, test_size=0.1, random_state=25)\n",
    "X_val, X_test, y_val, y_test = train_test_split(X_test, y_test, test_size=0.2, random_state=25)"
   ]
  },
  {
   "cell_type": "code",
   "execution_count": 53,
   "id": "c8936450",
   "metadata": {},
   "outputs": [],
   "source": [
    "tf.keras.backend.clear_session()\n",
    "model = build_model(L)\n",
    "opt = tf.optimizers.Adam(lr_decayed_fn)\n",
    "model.compile(\n",
    "      opt,\n",
    "      loss=tf.keras.losses.BinaryCrossentropy(from_logits=True),\n",
    "      steps_per_execution = 60 if use_tpu else None,\n",
    "      metrics=[tf.keras.metrics.AUC(from_logits=True), tf.keras.metrics.BinaryAccuracy(threshold=0)])"
   ]
  },
  {
   "cell_type": "code",
   "execution_count": 54,
   "id": "513d6ecf",
   "metadata": {},
   "outputs": [
    {
     "name": "stdout",
     "output_type": "stream",
     "text": [
      "Epoch 1/150\n",
      "lr = 0.001\n",
      "484/484 [==============================] - 26s 38ms/step - loss: 0.2788 - auc: 0.9180 - binary_accuracy: 0.8528 - val_loss: 0.2838 - val_auc: 0.9206 - val_binary_accuracy: 0.8422\n",
      "Epoch 2/150\n",
      "lr = 0.00099864\n",
      "484/484 [==============================] - 16s 32ms/step - loss: 0.2587 - auc: 0.9279 - binary_accuracy: 0.8607 - val_loss: 0.2665 - val_auc: 0.9236 - val_binary_accuracy: 0.8516\n",
      "Epoch 3/150\n",
      "lr = 0.0009945672\n",
      "484/484 [==============================] - 16s 33ms/step - loss: 0.2529 - auc: 0.9311 - binary_accuracy: 0.8663 - val_loss: 0.2663 - val_auc: 0.9236 - val_binary_accuracy: 0.8524\n",
      "Epoch 4/150\n",
      "lr = 0.0009878038\n",
      "484/484 [==============================] - 16s 33ms/step - loss: 0.2526 - auc: 0.9315 - binary_accuracy: 0.8651 - val_loss: 0.2679 - val_auc: 0.9255 - val_binary_accuracy: 0.8604\n",
      "Epoch 5/150\n",
      "lr = 0.0009783866\n",
      "484/484 [==============================] - 16s 33ms/step - loss: 0.2512 - auc: 0.9315 - binary_accuracy: 0.8673 - val_loss: 0.2607 - val_auc: 0.9268 - val_binary_accuracy: 0.8611\n",
      "Epoch 6/150\n",
      "lr = 0.000966367\n",
      "484/484 [==============================] - 16s 33ms/step - loss: 0.2483 - auc: 0.9332 - binary_accuracy: 0.8668 - val_loss: 0.2598 - val_auc: 0.9289 - val_binary_accuracy: 0.8633\n",
      "Epoch 7/150\n",
      "lr = 0.00095181033\n",
      "484/484 [==============================] - 16s 33ms/step - loss: 0.2480 - auc: 0.9336 - binary_accuracy: 0.8681 - val_loss: 0.2615 - val_auc: 0.9279 - val_binary_accuracy: 0.8633\n",
      "Epoch 8/150\n",
      "lr = 0.00093479606\n",
      "484/484 [==============================] - 16s 33ms/step - loss: 0.2465 - auc: 0.9349 - binary_accuracy: 0.8733 - val_loss: 0.2547 - val_auc: 0.9298 - val_binary_accuracy: 0.8582\n",
      "Epoch 9/150\n",
      "lr = 0.00091541663\n",
      "484/484 [==============================] - 16s 33ms/step - loss: 0.2456 - auc: 0.9354 - binary_accuracy: 0.8702 - val_loss: 0.2572 - val_auc: 0.9292 - val_binary_accuracy: 0.8611\n",
      "Epoch 10/150\n",
      "lr = 0.00089377764\n",
      "484/484 [==============================] - 16s 33ms/step - loss: 0.2441 - auc: 0.9366 - binary_accuracy: 0.8724 - val_loss: 0.2536 - val_auc: 0.9316 - val_binary_accuracy: 0.8662\n",
      "Epoch 11/150\n",
      "lr = 0.000869997\n",
      "484/484 [==============================] - 16s 33ms/step - loss: 0.2436 - auc: 0.9367 - binary_accuracy: 0.8739 - val_loss: 0.2521 - val_auc: 0.9317 - val_binary_accuracy: 0.8655\n",
      "Epoch 12/150\n",
      "lr = 0.00084420416\n",
      "484/484 [==============================] - 16s 33ms/step - loss: 0.2418 - auc: 0.9374 - binary_accuracy: 0.8729 - val_loss: 0.2524 - val_auc: 0.9314 - val_binary_accuracy: 0.8640\n",
      "Epoch 13/150\n",
      "lr = 0.0008165396\n",
      "484/484 [==============================] - 16s 33ms/step - loss: 0.2410 - auc: 0.9383 - binary_accuracy: 0.8746 - val_loss: 0.2598 - val_auc: 0.9303 - val_binary_accuracy: 0.8458\n",
      "Epoch 14/150\n",
      "lr = 0.00078715396\n",
      "484/484 [==============================] - 16s 33ms/step - loss: 0.2400 - auc: 0.9388 - binary_accuracy: 0.8746 - val_loss: 0.2540 - val_auc: 0.9317 - val_binary_accuracy: 0.8633\n",
      "Epoch 15/150\n",
      "lr = 0.0007562073\n",
      "484/484 [==============================] - 16s 33ms/step - loss: 0.2392 - auc: 0.9391 - binary_accuracy: 0.8759 - val_loss: 0.2555 - val_auc: 0.9303 - val_binary_accuracy: 0.8647\n",
      "Epoch 16/150\n",
      "lr = 0.00072386797\n",
      "484/484 [==============================] - 16s 33ms/step - loss: 0.2379 - auc: 0.9396 - binary_accuracy: 0.8744 - val_loss: 0.2556 - val_auc: 0.9287 - val_binary_accuracy: 0.8611\n"
     ]
    }
   ],
   "source": [
    "result = model.fit(\n",
    "    [X_train, np.array([counts_aa(xi) for xi in X_train])], y_train, \n",
    "    validation_data=([X_val, np.array([counts_aa(xi) for xi in X_val])] , y_val),\n",
    "    callbacks=[tf.keras.callbacks.LambdaCallback(\n",
    "        on_epoch_begin=lambda epochs,logs: print('lr =',lr_decayed_fn(opt.iterations).numpy())\n",
    "        ),\n",
    "        tf.keras.callbacks.EarlyStopping(monitor='val_auc', mode='max', restore_best_weights=True, patience=5)],\n",
    "    epochs=150)"
   ]
  },
  {
   "cell_type": "code",
   "execution_count": 55,
   "id": "896dd4a5",
   "metadata": {},
   "outputs": [
    {
     "name": "stdout",
     "output_type": "stream",
     "text": [
      "11/11 [==============================] - 0s 14ms/step - loss: 0.2467 - auc: 0.9434 - binary_accuracy: 0.8692\n"
     ]
    },
    {
     "data": {
      "image/png": "[encoded data removed]",
      "text/plain": [
       "<Figure size 432x288 with 1 Axes>"
      ]
     },
     "metadata": {
      "needs_background": "light"
     },
     "output_type": "display_data"
    }
   ],
   "source": [
    "plt.plot(result.history['val_binary_accuracy'])\n",
    "test_result = model.evaluate([X_test, np.array([counts_aa(xi) for xi in X_test])], y_test)\n",
    "plt.show()"
   ]
  },
  {
   "cell_type": "code",
   "execution_count": null,
   "id": "0441ca24",
   "metadata": {},
   "outputs": [],
   "source": []
  }
 ],
 "metadata": {
  "kernelspec": {
   "display_name": "covid-19",
   "language": "python",
   "name": "covid-19"
  },
  "language_info": {
   "codemirror_mode": {
    "name": "ipython",
    "version": 3
   },
   "file_extension": ".py",
   "mimetype": "text/x-python",
   "name": "python",
   "nbconvert_exporter": "python",
   "pygments_lexer": "ipython3",
   "version": "3.7.9"
  }
 },
 "nbformat": 4,
 "nbformat_minor": 5
}
