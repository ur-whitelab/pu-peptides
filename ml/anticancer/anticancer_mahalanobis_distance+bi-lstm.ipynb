{
 "cells": [
  {
   "cell_type": "code",
   "execution_count": 1,
   "id": "a95c079e",
   "metadata": {
    "execution": {
     "iopub.execute_input": "2022-05-10T17:34:35.489532Z",
     "iopub.status.busy": "2022-05-10T17:34:35.489373Z",
     "iopub.status.idle": "2022-05-10T17:34:35.492184Z",
     "shell.execute_reply": "2022-05-10T17:34:35.491828Z"
    },
    "papermill": {
     "duration": 0.010349,
     "end_time": "2022-05-10T17:34:35.493343",
     "exception": false,
     "start_time": "2022-05-10T17:34:35.482994",
     "status": "completed"
    },
    "tags": []
   },
   "outputs": [],
   "source": [
    "#@title Runtime\n",
    "use_tpu = False #@param"
   ]
  },
  {
   "cell_type": "code",
   "execution_count": 2,
   "id": "1ba9cf49",
   "metadata": {
    "execution": {
     "iopub.execute_input": "2022-05-10T17:34:35.500709Z",
     "iopub.status.busy": "2022-05-10T17:34:35.500574Z",
     "iopub.status.idle": "2022-05-10T17:34:58.524777Z",
     "shell.execute_reply": "2022-05-10T17:34:58.524184Z"
    },
    "papermill": {
     "duration": 23.029594,
     "end_time": "2022-05-10T17:34:58.526394",
     "exception": false,
     "start_time": "2022-05-10T17:34:35.496800",
     "status": "completed"
    },
    "tags": []
   },
   "outputs": [],
   "source": [
    "import matplotlib.pyplot as plt\n",
    "import matplotlib as mpl\n",
    "import numpy as np\n",
    "import os\n",
    "import tensorflow as tf\n",
    "import urllib\n",
    "from dataclasses import dataclass\n",
    "import tensorflowjs as tfjs\n",
    "# import tensorflow_decision_forests as tfdf\n",
    "import json\n",
    "from tqdm import tqdm\n",
    "import seaborn as sns\n",
    "np.random.seed(0)"
   ]
  },
  {
   "cell_type": "code",
   "execution_count": 3,
   "id": "7d0c69c6",
   "metadata": {
    "execution": {
     "iopub.execute_input": "2022-05-10T17:34:58.536097Z",
     "iopub.status.busy": "2022-05-10T17:34:58.535929Z",
     "iopub.status.idle": "2022-05-10T17:34:59.092569Z",
     "shell.execute_reply": "2022-05-10T17:34:59.092171Z"
    },
    "papermill": {
     "duration": 0.562409,
     "end_time": "2022-05-10T17:34:59.093881",
     "exception": false,
     "start_time": "2022-05-10T17:34:58.531472",
     "status": "completed"
    },
    "tags": []
   },
   "outputs": [],
   "source": [
    "# urllib.request.urlretrieve(\n",
    "#     \"https://github.com/ur-whitelab/peptide-ai/tree/master/scripts/active_learning_data/anticancer-sequence-vectors.npy\",\n",
    "#     \"positive.npy\",\n",
    "# )\n",
    "# urllib.request.urlretrieve(\n",
    "#     \"https://github.com/ur-whitelab/peptide-dashboard/raw/master/ml/data/hemo-negative.npz\",\n",
    "#     \"negative.npz\",\n",
    "# )\n",
    "# with np.load(\"positive.npz\") as r:\n",
    "#     pos_data = r[list(r.keys())[0]]\n",
    "pos_ohe_data = np.load(\"anticancer-sequence-vectors.npy\",  allow_pickle=True)\n",
    "neg_ohe_data = np.load(\"anticancer-fake-sequence-vectors.npy\",  allow_pickle=True)\n",
    "ALPHABET = ['A','R','N','D','C','Q','E','G','H','I', 'L','K','M','F','P','S','T','W','Y','V']\n",
    "def ohe_to_seq(ohe_pep):\n",
    "    seq = ''\n",
    "    # expect a 2D numpy array (pep_length x 20), give the string it represents\n",
    "    for letter in ohe_pep[:int(np.sum(ohe_pep))]:\n",
    "        idx = np.argmax(letter)\n",
    "        if letter[idx] == 0:\n",
    "            break\n",
    "        seq += ALPHABET[idx]\n",
    "    return(seq)\n",
    "\n",
    "def encoder(seq, max_length=190):\n",
    "    alphabet = ['A','R','N','D','C','Q','E','G','H','I', 'L','K','M','F','P','S','T','W','Y','V']\n",
    "    vec = np.zeros(max_length)\n",
    "    for i,l in enumerate(seq):\n",
    "        vec[i] = alphabet.index(l) + 1\n",
    "    return vec\n",
    "pos_seqs = [ohe_to_seq(d) for d in pos_ohe_data]\n",
    "pos_data = np.array([encoder(s) for s in pos_seqs])\n",
    "neg_seqs = [ohe_to_seq(d) for d in neg_ohe_data]\n",
    "neg_data = np.array([encoder(s) for s in neg_seqs])\n",
    "# with np.load(\"negative.npz\") as r:\n",
    "#     neg_data = r[list(r.keys())[0]]\n",
    "\n",
    "# create labels and stich it all into one\n",
    "# tensor\n",
    "# labels = np.concatenate(\n",
    "#     (\n",
    "#         np.ones((pos_data.shape[0], 1), dtype=pos_data.dtype),\n",
    "#         np.zeros((neg_data.shape[0], 1), dtype=pos_data.dtype),\n",
    "#     ),\n",
    "#     axis=0,\n",
    "# )\n",
    "# weights = np.concatenate(\n",
    "#     (np.ones((pos_data.shape[0]), dtype=pos_data.dtype), \n",
    "#      weights)\n",
    "# )\n",
    "# features = np.concatenate((pos_data, neg_data), axis=0)\n",
    "# pos_data_lengths = np.count_nonzero(pos_data, axis=1)\n",
    "# neg_data_lengths = np.count_nonzero(neg_data, axis=1)"
   ]
  },
  {
   "cell_type": "code",
   "execution_count": 4,
   "id": "f0882d3d",
   "metadata": {
    "execution": {
     "iopub.execute_input": "2022-05-10T17:34:59.119107Z",
     "iopub.status.busy": "2022-05-10T17:34:59.118961Z",
     "iopub.status.idle": "2022-05-10T17:35:00.167550Z",
     "shell.execute_reply": "2022-05-10T17:35:00.167078Z"
    },
    "papermill": {
     "duration": 1.054039,
     "end_time": "2022-05-10T17:35:00.168746",
     "exception": false,
     "start_time": "2022-05-10T17:34:59.114707",
     "status": "completed"
    },
    "tags": []
   },
   "outputs": [
    {
     "name": "stderr",
     "output_type": "stream",
     "text": [
      "100%|██████████| 1145/1145 [00:00<00:00, 6785.97it/s]\n"
     ]
    }
   ],
   "source": [
    "max_length = pos_data.shape[1]\n",
    "def encoder(seq, max_length=200):\n",
    "    alphabet = ['A','R','N','D','C','Q','E','G','H','I', 'L','K','M','F','P','S','T','W','Y','V']\n",
    "    vec = np.zeros(max_length)\n",
    "    for i,l in enumerate(seq):\n",
    "        vec[i] = alphabet.index(l) + 1\n",
    "    return vec\n",
    "# sample unlabeled data\n",
    "def sample_permutations_from_vec(data_lengths, labeled_unlabeled_ratio=0.2, max_sequence_length=200):\n",
    "    alphabet = ['A','R','N','D','C','Q','E','G','H','I', 'L','K','M','F','P','S','T','W','Y','V']\n",
    "    with open(\"../pdb_dist.txt\", 'r') as f:\n",
    "        # the probabilities in this file are sorted based on the alphabet list above\n",
    "        pdb_dist = f.read().split()\n",
    "        pdb_dist = [float(item) for item in pdb_dist]\n",
    "#     unlabeled_seq_lengths = vec_pep_length(positive_data, ohe_vec=False)\n",
    "#     print(unlabeled_seq_lengths)\n",
    "    sampled_lengths = []\n",
    "    for length in data_lengths:\n",
    "        length_sample_batch = np.ones(int(1/labeled_unlabeled_ratio), dtype=int) * length\n",
    "        sampled_lengths.append(length_sample_batch)\n",
    "    sampled_lengths = np.array(sampled_lengths).flatten()\n",
    "    sampled_sequences = []\n",
    "    sampled_vecs = []\n",
    "    for length in tqdm(sampled_lengths):\n",
    "#         print(length)\n",
    "    #         random_alphabet_index = np.random.randint(len(alphabet), size=length)\n",
    "        # sample alphabet index based on weighted amino acid frequencies in pdb\n",
    "        random_alphabet_index = np.random.choice(len(alphabet), size=length, p=pdb_dist)\n",
    "        for _ in range(length):\n",
    "            pep = ''.join([alphabet[m] for m in random_alphabet_index])\n",
    "        vec_pep = encoder(pep, max_length=max_length)\n",
    "        # pad zeros\n",
    "    #     print(ohe_pep.shape)\n",
    "#         ohe_pep = np.concatenate([ohe_pep, np.zeros((max_sequence_length-ohe_pep.shape[0],20))],axis=0)\n",
    "        sampled_vecs.append(vec_pep)\n",
    "        sampled_sequences.append(pep)\n",
    "#     sampled_vecs = np.array(sampled_vecs)\n",
    "    return sampled_sequences, sampled_vecs\n",
    "# ohe_sequence_list = np.concatenate([ohe_sequence_list, np.zeros((190,10))],axis=1)\n",
    "pos_data_lengths = np.count_nonzero(pos_data, axis=1) + 1\n",
    "neg_data_lengths = np.count_nonzero(neg_data, axis=1) + 1\n",
    "labeled_unlabeled_ratio = 0.2\n",
    "sampled_sequences, sampled_vecs = sample_permutations_from_vec(pos_data_lengths,\n",
    "                                                               labeled_unlabeled_ratio=0.2, max_sequence_length=max_length)\n",
    "sampled_vecs = np.array(sampled_vecs)\n",
    "# X_unlabeled = sampled_vecs\n",
    "unlabeled_data_lengths = []\n",
    "for seq in sampled_sequences:\n",
    "    unlabeled_data_lengths.append(len(seq))"
   ]
  },
  {
   "cell_type": "code",
   "execution_count": 5,
   "id": "d24d98e0",
   "metadata": {
    "execution": {
     "iopub.execute_input": "2022-05-10T17:35:00.177607Z",
     "iopub.status.busy": "2022-05-10T17:35:00.177453Z",
     "iopub.status.idle": "2022-05-10T17:35:00.182145Z",
     "shell.execute_reply": "2022-05-10T17:35:00.181759Z"
    },
    "papermill": {
     "duration": 0.010476,
     "end_time": "2022-05-10T17:35:00.183318",
     "exception": false,
     "start_time": "2022-05-10T17:35:00.172842",
     "status": "completed"
    },
    "tags": []
   },
   "outputs": [
    {
     "name": "stdout",
     "output_type": "stream",
     "text": [
      "Positive data: 229\n",
      "Negative data: 229\n",
      "Sampled unlabeled data: 1145\n"
     ]
    }
   ],
   "source": [
    "X_positive = pos_data\n",
    "X_negative = neg_data\n",
    "X_unlabeled = sampled_vecs\n",
    "print('Positive data:', pos_data.shape[0])\n",
    "print('Negative data:', neg_data.shape[0])\n",
    "print('Sampled unlabeled data:', len(sampled_sequences))"
   ]
  },
  {
   "cell_type": "code",
   "execution_count": 6,
   "id": "d66551aa",
   "metadata": {
    "execution": {
     "iopub.execute_input": "2022-05-10T17:35:00.192179Z",
     "iopub.status.busy": "2022-05-10T17:35:00.192031Z",
     "iopub.status.idle": "2022-05-10T17:35:00.511885Z",
     "shell.execute_reply": "2022-05-10T17:35:00.511527Z"
    },
    "papermill": {
     "duration": 0.325853,
     "end_time": "2022-05-10T17:35:00.513003",
     "exception": false,
     "start_time": "2022-05-10T17:35:00.187150",
     "status": "completed"
    },
    "tags": []
   },
   "outputs": [
    {
     "data": {
      "text/plain": [
       "<matplotlib.legend.Legend at 0x7f38be450b50>"
      ]
     },
     "execution_count": 6,
     "metadata": {},
     "output_type": "execute_result"
    },
    {
     "data": {
      "image/png": "[encoded data removed]",
      "text/plain": [
       "<Figure size 900x600 with 1 Axes>"
      ]
     },
     "metadata": {
      "needs_background": "light"
     },
     "output_type": "display_data"
    }
   ],
   "source": [
    "fig, ax = plt.subplots(dpi=150)\n",
    "sns.kdeplot(pos_data_lengths, ax=ax, label='Positives', color='C0')\n",
    "ax.set_xlabel('Sequence Length')\n",
    "# ax.set_title(f'{peptide_label}')\n",
    "sns.kdeplot(unlabeled_data_lengths, ax=ax, label='Unlabeled', color='C2')\n",
    "sns.kdeplot(neg_data_lengths, ax=ax, label='Negatives', color='C1')\n",
    "plt.legend()"
   ]
  },
  {
   "cell_type": "code",
   "execution_count": 7,
   "id": "4b47df3c",
   "metadata": {
    "execution": {
     "iopub.execute_input": "2022-05-10T17:35:00.618093Z",
     "iopub.status.busy": "2022-05-10T17:35:00.617951Z",
     "iopub.status.idle": "2022-05-10T17:39:11.077697Z",
     "shell.execute_reply": "2022-05-10T17:39:11.076988Z"
    },
    "papermill": {
     "duration": 250.466597,
     "end_time": "2022-05-10T17:39:11.079318",
     "exception": false,
     "start_time": "2022-05-10T17:35:00.612721",
     "status": "completed"
    },
    "tags": []
   },
   "outputs": [
    {
     "name": "stderr",
     "output_type": "stream",
     "text": [
      "/home/mgholiza/.conda/envs/covid-19/lib/python3.7/site-packages/jax/experimental/stax.py:30: FutureWarning: jax.experimental.stax is deprecated, import jax.example_libraries.stax instead\n",
      "  FutureWarning)\n",
      "WARNING:absl:No GPU/TPU found, falling back to CPU. (Set TF_CPP_MIN_LOG_LEVEL=0 and rerun for more info.)\n",
      "/home/mgholiza/.conda/envs/covid-19/lib/python3.7/site-packages/jax/experimental/optimizers.py:30: FutureWarning: jax.experimental.optimizers is deprecated, import jax.example_libraries.optimizers instead\n",
      "  FutureWarning)\n"
     ]
    }
   ],
   "source": [
    "# Generating UniRep representations for postives, negatives and unlableled (This cell takes long to run)\n",
    "from jax_unirep import get_reps\n",
    "h_avg, h_final, c_final = get_reps(pos_seqs)\n",
    "pos_UniRep = h_avg\n",
    "\n",
    "h_avg, h_final, c_final = get_reps(neg_seqs)\n",
    "neg_UniRep = h_avg\n",
    "\n",
    "h_avg, h_final, c_final = get_reps(sampled_sequences)\n",
    "unlabeled_UniRep = h_avg"
   ]
  },
  {
   "cell_type": "code",
   "execution_count": 8,
   "id": "1ba57e45",
   "metadata": {
    "execution": {
     "iopub.execute_input": "2022-05-10T17:39:11.092406Z",
     "iopub.status.busy": "2022-05-10T17:39:11.092219Z",
     "iopub.status.idle": "2022-05-10T17:39:11.096018Z",
     "shell.execute_reply": "2022-05-10T17:39:11.095625Z"
    },
    "papermill": {
     "duration": 0.010745,
     "end_time": "2022-05-10T17:39:11.097185",
     "exception": false,
     "start_time": "2022-05-10T17:39:11.086440",
     "status": "completed"
    },
    "tags": []
   },
   "outputs": [],
   "source": [
    "# from sklearn.neighbors import LocalOutlierFactor\n",
    "# from sklearn.model_selection import KFold\n",
    "# from sklearn.metrics import f1_score\n",
    "# from sklearn.metrics import recall_score\n",
    "# kf = KFold(n_splits=5, random_state=None, shuffle=True)\n",
    "# f1_scores = []\n",
    "# recall_scores = []\n",
    "# i = 0\n",
    "\n",
    "# for train_index, test_index in kf.split(pos_UniRep):\n",
    "#     X_train_positive_lof, X_test_positive_lof = pos_UniRep[train_index], pos_UniRep[test_index]\n",
    "# #     s_train_positive_svm = np.ones(X_train_positive_svm.shape[0])\n",
    "# #     s_test_positive_svm = y[train_index], y[test_index]\n",
    "#     s_test_lof = np.ones(X_test_positive_lof.shape[0])\n",
    "#     lof = LocalOutlierFactor(n_neighbors=64, algorithm='auto',\n",
    "#                              metric='cosine', contamination=0.01,\n",
    "#                              novelty=True, n_jobs=20, leaf_size=40)\n",
    "#     lof.fit(X_train_positive_lof)\n",
    "# #     X_validation_svm = np.concatenate([X_positive_test, X_unlabeled_test])\n",
    "\n",
    "#     # Make prediction\n",
    "#     s_pred = lof.predict(X_test_positive_lof)\n",
    "#     f1 = f1_score(s_test_lof, s_pred, average='macro')\n",
    "#     r = recall_score(s_test_lof, s_pred, average='macro')\n",
    "#     print(f'Fold {i+1} - recall : {r:.3f}, f1 score : {f1:.3f}')\n",
    "#     f1_scores.append(f1)\n",
    "#     recall_scores.append(r)\n",
    "#     i += 1\n",
    "# #     break\n",
    "# # lof_f1_score\n",
    "# lof_f1_score = np.mean(f1_scores)\n",
    "# lof_recall_score = np.mean(recall_scores)\n",
    "# print(f'\\nMean 5-Fold\\n f1 score = {lof_f1_score:.3f}\\n recall = {lof_recall_score:.3f}')"
   ]
  },
  {
   "cell_type": "code",
   "execution_count": 9,
   "id": "82b67f18",
   "metadata": {
    "execution": {
     "iopub.execute_input": "2022-05-10T17:39:11.107296Z",
     "iopub.status.busy": "2022-05-10T17:39:11.107151Z",
     "iopub.status.idle": "2022-05-10T17:39:17.831697Z",
     "shell.execute_reply": "2022-05-10T17:39:17.831163Z"
    },
    "papermill": {
     "duration": 6.731413,
     "end_time": "2022-05-10T17:39:17.833124",
     "exception": false,
     "start_time": "2022-05-10T17:39:11.101711",
     "status": "completed"
    },
    "tags": []
   },
   "outputs": [],
   "source": [
    "def mahalanobis_distance(x, data):\n",
    "    data = np.unique(data, axis=0)\n",
    "    x_minus_mu = x - np.mean(data, axis=0, keepdims=True)\n",
    "    cov = np.cov(data.T)\n",
    "    inv_covmat = np.linalg.pinv(cov)\n",
    "    left_term = x_minus_mu @ inv_covmat\n",
    "    mahal = left_term @ x_minus_mu.T\n",
    "    return mahal.diagonal()\n",
    "unlabeled_mahal_d = mahalanobis_distance(unlabeled_UniRep, pos_UniRep)\n",
    "sorted_max_mahal_d_index = np.argsort(unlabeled_mahal_d)[::-1]\n",
    "outlier_index = sorted_max_mahal_d_index[sorted_max_mahal_d_index[:50]]\n",
    "initial_RNs = X_unlabeled[outlier_index]"
   ]
  },
  {
   "cell_type": "code",
   "execution_count": 10,
   "id": "1a5c2508",
   "metadata": {
    "execution": {
     "iopub.execute_input": "2022-05-10T17:39:17.845120Z",
     "iopub.status.busy": "2022-05-10T17:39:17.844931Z",
     "iopub.status.idle": "2022-05-10T17:39:17.853416Z",
     "shell.execute_reply": "2022-05-10T17:39:17.853028Z"
    },
    "papermill": {
     "duration": 0.015158,
     "end_time": "2022-05-10T17:39:17.854538",
     "exception": false,
     "start_time": "2022-05-10T17:39:17.839380",
     "status": "completed"
    },
    "tags": []
   },
   "outputs": [],
   "source": [
    "# Shuffling data\n",
    "shuffled_indices = np.random.permutation(len(pos_data))\n",
    "X_positive = pos_data[shuffled_indices]\n",
    "shuffled_indices = np.random.permutation(len(neg_data))\n",
    "X_negative = neg_data[shuffled_indices]\n",
    "# shuffled_indices = np.random.permutation(len(sampled_vecs))\n",
    "# X_unlabeled = sampled_vecs[shuffled_indices]"
   ]
  },
  {
   "cell_type": "code",
   "execution_count": 11,
   "id": "1e870295",
   "metadata": {
    "execution": {
     "iopub.execute_input": "2022-05-10T17:39:17.864650Z",
     "iopub.status.busy": "2022-05-10T17:39:17.864498Z",
     "iopub.status.idle": "2022-05-10T17:39:17.916256Z",
     "shell.execute_reply": "2022-05-10T17:39:17.915877Z"
    },
    "papermill": {
     "duration": 0.058505,
     "end_time": "2022-05-10T17:39:17.917567",
     "exception": false,
     "start_time": "2022-05-10T17:39:17.859062",
     "status": "completed"
    },
    "tags": []
   },
   "outputs": [],
   "source": [
    "@dataclass\n",
    "class Config:\n",
    "    vocab_size: int\n",
    "    example_number: int\n",
    "    batch_size: int\n",
    "    buffer_size: int\n",
    "    rnn_units: int\n",
    "    hidden_dim: int\n",
    "    embedding_dim: int\n",
    "    reg_strength: float\n",
    "    lr: float\n",
    "    drop_rate: float\n",
    "        \n",
    "config = Config(vocab_size=21, # include gap\n",
    "                example_number=len(X_positive), \n",
    "                batch_size=16, \n",
    "                buffer_size=10000,\n",
    "                rnn_units=64,\n",
    "                hidden_dim=64,\n",
    "                embedding_dim=32,\n",
    "                reg_strength=0,\n",
    "                lr=1e-3,\n",
    "                drop_rate=0.1\n",
    "               )\n",
    "\n",
    "def counts_aa(vec):\n",
    "    counts =  tf.histogram_fixed_width(vec, [0, 20], nbins=21)[1:]\n",
    "    return counts/tf.reduce_sum(counts)\n",
    "\n",
    "def build_model(L):\n",
    "    inputs = tf.keras.Input(shape=(L,))\n",
    "    input_f = tf.keras.Input(shape=(20,))\n",
    "    # make embedding and indicate that 0 should be treated as padding mask\n",
    "    e = tf.keras.layers.Embedding(input_dim=config.vocab_size, \n",
    "                                        output_dim=config.embedding_dim,\n",
    "                                        mask_zero=True)(inputs)\n",
    "\n",
    "    # RNN layer\n",
    "    x = tf.keras.layers.Bidirectional(tf.keras.layers.LSTM(config.rnn_units, return_sequences=True))(e)\n",
    "    x = tf.keras.layers.Bidirectional(tf.keras.layers.LSTM(config.rnn_units))(x)\n",
    "    x = tf.keras.layers.Concatenate()([x, input_f])\n",
    "    x = tf.keras.layers.LayerNormalization()(x)\n",
    "    x = tf.keras.layers.Dropout(config.drop_rate)(x)\n",
    "    # a dense hidden layer\n",
    "    x = tf.keras.layers.Dense(\n",
    "        config.hidden_dim, \n",
    "        activation='relu', \n",
    "        kernel_regularizer=tf.keras.regularizers.l2(config.reg_strength))(x)\n",
    "    x = tf.keras.layers.LayerNormalization()(x)\n",
    "    x = tf.keras.layers.Dropout(config.drop_rate)(x)\n",
    "    x = tf.keras.layers.Dense(\n",
    "        config.hidden_dim // 4, \n",
    "        activation='relu', \n",
    "        kernel_regularizer=tf.keras.regularizers.l2(config.reg_strength))(x)\n",
    "    x = tf.keras.layers.LayerNormalization()(x)\n",
    "    x = tf.keras.layers.Dropout(config.drop_rate)(x)\n",
    "    # predicting prob, so no activation\n",
    "    yhat = tf.keras.layers.Dense(1)(x)\n",
    "\n",
    "    model = tf.keras.Model(inputs=[inputs, input_f], outputs=yhat, name='hemo-rnn')\n",
    "    return model"
   ]
  },
  {
   "cell_type": "code",
   "execution_count": 12,
   "id": "aedcb0fc",
   "metadata": {
    "execution": {
     "iopub.execute_input": "2022-05-10T17:39:17.927582Z",
     "iopub.status.busy": "2022-05-10T17:39:17.927432Z",
     "iopub.status.idle": "2022-05-10T17:39:17.935381Z",
     "shell.execute_reply": "2022-05-10T17:39:17.934725Z"
    },
    "papermill": {
     "duration": 0.014433,
     "end_time": "2022-05-10T17:39:17.936447",
     "exception": false,
     "start_time": "2022-05-10T17:39:17.922014",
     "status": "completed"
    },
    "tags": []
   },
   "outputs": [],
   "source": [
    "from sklearn.model_selection import train_test_split\n",
    "X_train_positive, X_test_positive, y_train_positive, y_test_positive = train_test_split(X_positive, np.ones(X_positive.shape[0]),\n",
    "                                                                                        test_size=0.2, random_state=42)"
   ]
  },
  {
   "cell_type": "code",
   "execution_count": 13,
   "id": "8c2c11f9",
   "metadata": {
    "execution": {
     "iopub.execute_input": "2022-05-10T17:39:17.946399Z",
     "iopub.status.busy": "2022-05-10T17:39:17.946246Z",
     "iopub.status.idle": "2022-05-10T20:11:35.800087Z",
     "shell.execute_reply": "2022-05-10T20:11:35.799533Z"
    },
    "papermill": {
     "duration": 9137.860452,
     "end_time": "2022-05-10T20:11:35.801386",
     "exception": false,
     "start_time": "2022-05-10T17:39:17.940934",
     "status": "completed"
    },
    "tags": []
   },
   "outputs": [
    {
     "name": "stderr",
     "output_type": "stream",
     "text": [
      "\r",
      "  0%|          | 0/50 [00:00<?, ?it/s]"
     ]
    },
    {
     "name": "stdout",
     "output_type": "stream",
     "text": [
      "Epoch 1/50\n",
      "15/15 [==============================] - 12s 202ms/step - loss: 0.6158 - auc: 0.5269 - binary_accuracy: 0.7296 - val_loss: 1.5003 - val_auc: 0.5600 - val_binary_accuracy: 0.1673\n",
      "Epoch 2/50\n",
      "15/15 [==============================] - 0s 22ms/step - loss: 0.4122 - auc: 0.8175 - binary_accuracy: 0.8155 - val_loss: 2.4585 - val_auc: 0.7204 - val_binary_accuracy: 0.1709\n",
      "Epoch 3/50\n",
      "15/15 [==============================] - 0s 22ms/step - loss: 0.1588 - auc: 0.9781 - binary_accuracy: 0.9442 - val_loss: 2.7015 - val_auc: 0.5968 - val_binary_accuracy: 0.3418\n",
      "Epoch 4/50\n",
      "15/15 [==============================] - 0s 25ms/step - loss: 0.1280 - auc: 0.9844 - binary_accuracy: 0.9571 - val_loss: 3.2133 - val_auc: 0.6377 - val_binary_accuracy: 0.2836\n",
      "Epoch 5/50\n",
      "15/15 [==============================] - 0s 24ms/step - loss: 0.0994 - auc: 0.9914 - binary_accuracy: 0.9657 - val_loss: 3.2689 - val_auc: 0.6811 - val_binary_accuracy: 0.2764\n",
      "Epoch 6/50\n",
      "15/15 [==============================] - 0s 24ms/step - loss: 0.0899 - auc: 0.9938 - binary_accuracy: 0.9614 - val_loss: 3.0295 - val_auc: 0.7428 - val_binary_accuracy: 0.3018\n"
     ]
    },
    {
     "name": "stderr",
     "output_type": "stream",
     "text": [
      "\r",
      "  2%|▏         | 1/50 [00:19<15:49, 19.37s/it]"
     ]
    },
    {
     "name": "stdout",
     "output_type": "stream",
     "text": [
      "Reliable negative size: 80   Unlabeled size: 1145\n",
      "pos size: 80 RN size: 80\n",
      "Epoch 1/50\n",
      "17/17 [==============================] - 12s 251ms/step - loss: 0.3455 - auc: 0.9145 - binary_accuracy: 0.8517 - val_loss: 3.1754 - val_auc: 0.6620 - val_binary_accuracy: 0.1891\n",
      "Epoch 2/50\n",
      "17/17 [==============================] - 0s 23ms/step - loss: 0.1160 - auc: 0.9915 - binary_accuracy: 0.9582 - val_loss: 3.5683 - val_auc: 0.5051 - val_binary_accuracy: 0.1855\n",
      "Epoch 3/50\n",
      "17/17 [==============================] - 0s 22ms/step - loss: 0.0649 - auc: 0.9988 - binary_accuracy: 0.9848 - val_loss: 2.7171 - val_auc: 0.6782 - val_binary_accuracy: 0.3455\n",
      "Epoch 4/50\n",
      "17/17 [==============================] - 0s 23ms/step - loss: 0.0597 - auc: 0.9984 - binary_accuracy: 0.9924 - val_loss: 2.5477 - val_auc: 0.7624 - val_binary_accuracy: 0.3673\n",
      "Epoch 5/50\n",
      "17/17 [==============================] - 0s 22ms/step - loss: 0.0446 - auc: 0.9995 - binary_accuracy: 0.9886 - val_loss: 3.4439 - val_auc: 0.6433 - val_binary_accuracy: 0.2327\n",
      "Epoch 6/50\n",
      "17/17 [==============================] - 0s 22ms/step - loss: 0.0256 - auc: 1.0000 - binary_accuracy: 1.0000 - val_loss: 3.1735 - val_auc: 0.6551 - val_binary_accuracy: 0.3018\n",
      "Epoch 7/50\n",
      "17/17 [==============================] - 0s 22ms/step - loss: 0.0507 - auc: 0.9976 - binary_accuracy: 0.9848 - val_loss: 3.2332 - val_auc: 0.6392 - val_binary_accuracy: 0.3164\n",
      "Reliable negative size: 160   Unlabeled size: 1145\n",
      "pos size: 160 RN size: 160\n"
     ]
    },
    {
     "name": "stderr",
     "output_type": "stream",
     "text": [
      "\r",
      "  4%|▍         | 2/50 [00:39<15:46, 19.73s/it]"
     ]
    },
    {
     "name": "stdout",
     "output_type": "stream",
     "text": [
      "Epoch 1/50\n",
      "22/22 [==============================] - 13s 142ms/step - loss: 0.1923 - auc: 0.9795 - binary_accuracy: 0.9242 - val_loss: 2.6134 - val_auc: 0.6585 - val_binary_accuracy: 0.2800\n",
      "Epoch 2/50\n",
      "22/22 [==============================] - 0s 20ms/step - loss: 0.0428 - auc: 0.9998 - binary_accuracy: 0.9913 - val_loss: 3.1728 - val_auc: 0.5823 - val_binary_accuracy: 0.2255\n",
      "Epoch 3/50\n",
      "22/22 [==============================] - 0s 20ms/step - loss: 0.0227 - auc: 1.0000 - binary_accuracy: 1.0000 - val_loss: 3.2682 - val_auc: 0.6592 - val_binary_accuracy: 0.2655\n",
      "Epoch 4/50\n",
      "22/22 [==============================] - 0s 21ms/step - loss: 0.0129 - auc: 1.0000 - binary_accuracy: 1.0000 - val_loss: 3.4586 - val_auc: 0.5987 - val_binary_accuracy: 0.2764\n",
      "Epoch 5/50\n",
      "22/22 [==============================] - 0s 21ms/step - loss: 0.0088 - auc: 1.0000 - binary_accuracy: 1.0000 - val_loss: 4.0073 - val_auc: 0.6637 - val_binary_accuracy: 0.2145\n",
      "Epoch 6/50\n",
      "22/22 [==============================] - 0s 22ms/step - loss: 0.0075 - auc: 1.0000 - binary_accuracy: 1.0000 - val_loss: 4.1741 - val_auc: 0.6136 - val_binary_accuracy: 0.2145\n",
      "Epoch 7/50\n",
      "22/22 [==============================] - 0s 22ms/step - loss: 0.0065 - auc: 1.0000 - binary_accuracy: 1.0000 - val_loss: 4.2429 - val_auc: 0.5935 - val_binary_accuracy: 0.2145\n"
     ]
    },
    {
     "name": "stderr",
     "output_type": "stream",
     "text": [
      "\r",
      "  4%|▍         | 2/50 [01:00<24:16, 30.35s/it]"
     ]
    },
    {
     "name": "stdout",
     "output_type": "stream",
     "text": [
      "Reliable negative size: 240   Unlabeled size: 1145\n",
      "RNs size exceeded positives size\n"
     ]
    },
    {
     "name": "stderr",
     "output_type": "stream",
     "text": [
      "\n"
     ]
    }
   ],
   "source": [
    "RNs = initial_RNs\n",
    "down_sampled_X_train = X_train_positive[np.random.choice(X_train_positive.shape[0], size=RNs.shape[0], replace=False)]\n",
    "X_train_with_RN = np.concatenate([X_train_positive, RNs])\n",
    "counts_X_train_with_RN= np.array([counts_aa(xi) for xi in X_train_with_RN])\n",
    "y_train_with_RN = np.concatenate([np.ones(X_train_positive.shape[0]), np.zeros(RNs.shape[0])])\n",
    "shuffler = np.random.permutation(len(X_train_with_RN))\n",
    "X_train_with_RN = X_train_with_RN[shuffler]\n",
    "# counts_X_train_with_RN = counts_X_train_with_RN[shuffler]\n",
    "y_train_with_RN = y_train_with_RN[shuffler]\n",
    "# down_sampled_X_negative = X_negative[np.random.choice(X_negative.shape[0], size=RNs.shape[0], replace=False)]\n",
    "X_test = np.concatenate([X_test_positive, X_negative])\n",
    "y_test = np.concatenate([np.ones(y_test_positive.shape[0]), np.zeros(X_negative.shape[0])])\n",
    "# removing intial RN seeds from unlabeled\n",
    "# RU = np.delete(X_unlabeled, outlier_index[0],axis=0)\n",
    "RU = X_unlabeled\n",
    "reduce_lr = tf.keras.callbacks.ReduceLROnPlateau(monitor='loss', factor=0.9,\n",
    "                                                        patience=5, min_lr=1e-7)\n",
    "early_stopping = tf.keras.callbacks.EarlyStopping(monitor='val_auc', patience=5, min_delta=1e-2, restore_best_weights=True)\n",
    "L = None\n",
    "decay_epochs = 50\n",
    "N = len(X_train_with_RN)\n",
    "decay_steps = N  // config.batch_size * decay_epochs\n",
    "lr_decayed_fn = tf.keras.optimizers.schedules.CosineDecay(\n",
    "  config.lr, decay_steps, alpha=1e-3)\n",
    "for i in tqdm(range(50)):\n",
    "    tf.keras.backend.clear_session()\n",
    "    model = build_model(L)\n",
    "    model.compile(\n",
    "            optimizer=tf.optimizers.Adam(lr_decayed_fn),\n",
    "            loss=tf.keras.losses.BinaryCrossentropy(from_logits=True),\n",
    "            metrics=[tf.keras.metrics.AUC(from_logits=True), tf.keras.metrics.BinaryAccuracy(threshold=0)],\n",
    "            )\n",
    "    history = model.fit(\n",
    "        [X_train_with_RN, counts_X_train_with_RN] , y_train_with_RN,\n",
    "        validation_data=([X_test, np.array([counts_aa(xi) for xi in X_test])] , y_test), \n",
    "        epochs=50,\n",
    "        batch_size=16,\n",
    "    #     batch_size=64,\n",
    "    #     steps_per_epoch=100,\n",
    "        # early_stopping\n",
    "        callbacks=[reduce_lr, early_stopping],\n",
    "        verbose=1,\n",
    "    #         class_weight=class_weights\n",
    "    )\n",
    "    prob = model.predict([RU, np.array([counts_aa(xi) for xi in RU])])\n",
    "    V = RU[np.argsort(prob[:,0])] \n",
    "#     break\n",
    "#     print(f'Negatives found: {V.shape[0]}')\n",
    "#     if V.shape[0] == 0:\n",
    "#         print('All unlabeled were predicted as positive')\n",
    "#         RNs = outlier_values\n",
    "#         break\n",
    "    # print(V.shape)\n",
    "#     else:\n",
    "        # print(RNs.shape)\n",
    "#         n_downsample = V.shape[0] - X_train_positive_svm.shape[0]\n",
    "#         print(RNs.shape) \n",
    "    if i == 0:\n",
    "        RNs = np.empty(shape=(0, 200))\n",
    "\n",
    "#     RNs = np.concatenate([RNs, V[:20*(i+1)]])\n",
    "    RNs = V[:80*(i+1)]\n",
    "#         RU = RU[:][np.squeeze(prob > 0.001)]\n",
    "#     RU = np.delete(RU, np.argsort(prob[:,0])[:20*(i+1)], axis=0)\n",
    "    print(f'Reliable negative size: {RNs.shape[0]}   Unlabeled size: {RU.shape[0]}')\n",
    "    if RU.shape[0] == 0:\n",
    "        print('All unlabeled were predicted as negative')\n",
    "        break\n",
    "    if RNs.shape[0] > X_train_positive.shape[0]:\n",
    "        print('RNs size exceeded positives size')\n",
    "        break\n",
    "#         RNs = equalizer(X_train_positive_lof, RNs)\n",
    "    down_sampled_X_train = X_train_positive[np.random.choice(X_train_positive.shape[0], size=RNs.shape[0], replace=False)]\n",
    "    print(f'pos size: {down_sampled_X_train.shape[0]} RN size: {RNs.shape[0]}')\n",
    "    X_train_with_RN = np.concatenate([X_train_positive, RNs])\n",
    "    counts_X_train_with_RN = np.array([counts_aa(xi) for xi in X_train_with_RN])\n",
    "    y_train_with_RN = np.concatenate([np.ones(X_train_positive.shape[0]), np.zeros(RNs.shape[0])])\n",
    "    shuffler = np.random.permutation(len(X_train_with_RN))\n",
    "    X_train_with_RN = X_train_with_RN[shuffler]\n",
    "    counts_X_train_with_RN = counts_X_train_with_RN[shuffler]\n",
    "    y_train_with_RN = y_train_with_RN[shuffler]"
   ]
  },
  {
   "cell_type": "markdown",
   "id": "7b5b4392",
   "metadata": {
    "papermill": {
     "duration": 0.53074,
     "end_time": "2022-05-10T20:11:36.823469",
     "exception": false,
     "start_time": "2022-05-10T20:11:36.292729",
     "status": "completed"
    },
    "tags": []
   },
   "source": [
    "Now train with found RNs and positives. We do testing and validation based on the known negative data and a small subset of unobserved postives"
   ]
  },
  {
   "cell_type": "code",
   "execution_count": 14,
   "id": "7040d16b",
   "metadata": {},
   "outputs": [],
   "source": [
    "# from sklearn.model_selection import train_test_split\n",
    "# X_train_positive, X_test_positive, y_train_positive, y_test_positive = train_test_split(pos_data,\n",
    "#                                                                                np.ones(pos_data.shape[0]),\n",
    "#                                                                                test_size=0.1, random_state=25)\n",
    "# X_val_positive, X_test_positive, y_val_positive, y_test_positive = train_test_split(X_test_positive,\n",
    "#                                                                                     y_test_positive,\n",
    "#                                                                                     test_size=0.2, random_state=25)\n",
    "# X_train = np.concatenate([X_train_positive, RNs])\n",
    "# y_train = np.concatenate([y_train_positive, np.zeros(RNs.shape[0])])\n",
    "# neg_val_indices = np.random.choice(X_negative.shape[0], size=X_val_positive.shape[0], replace=False)\n",
    "# X_negative_dummy = np.delete(X_negative, neg_val_indices, axis=0)\n",
    "# neg_test_indices = np.random.choice(X_negative_dummy.shape[0], size=X_test_positive.shape[0], replace=False)\n",
    "# X_val = np.append(X_val_positive, X_negative[neg_val_indices], axis=0)\n",
    "# y_val = np.append(y_val_positive, np.zeros(y_val_positive.shape[0]), axis=0)\n",
    "# X_test = np.append(X_test_positive, X_negative[neg_test_indices], axis=0)\n",
    "# y_test = np.append(y_test_positive, np.zeros(y_test_positive.shape[0]), axis=0)\n",
    "# shuffler = np.random.permutation(len(X_train))\n",
    "# X_train = X_train[shuffler]\n",
    "# y_train = y_train[shuffler]\n",
    "# shuffler = np.random.permutation(len(X_val))\n",
    "# X_val = X_val[shuffler]\n",
    "# y_val = y_val[shuffler]\n",
    "# shuffler = np.random.permutation(len(X_test))\n",
    "# X_test = X_test[shuffler]\n",
    "# y_test = y_test[shuffler]\n",
    "\n"
   ]
  },
  {
   "cell_type": "code",
   "execution_count": 15,
   "id": "75ce100e",
   "metadata": {
    "execution": {
     "iopub.execute_input": "2022-05-10T20:11:37.838541Z",
     "iopub.status.busy": "2022-05-10T20:11:37.838311Z",
     "iopub.status.idle": "2022-05-10T20:11:38.972995Z",
     "shell.execute_reply": "2022-05-10T20:11:38.972551Z"
    },
    "papermill": {
     "duration": 1.661571,
     "end_time": "2022-05-10T20:11:38.974375",
     "exception": false,
     "start_time": "2022-05-10T20:11:37.312804",
     "status": "completed"
    },
    "tags": []
   },
   "outputs": [],
   "source": [
    "labels = np.concatenate(\n",
    "    (\n",
    "        np.ones(pos_data.shape[0], dtype=pos_data.dtype),\n",
    "        np.zeros(RNs.shape[0], dtype=pos_data.dtype),\n",
    "    ),\n",
    "    axis=0,\n",
    ")\n",
    "features = np.concatenate((pos_data, RNs), axis=0)\n",
    "counts_features = np.array([counts_aa(xi) for xi in features])\n",
    "shuffler = np.random.permutation(len(features))\n",
    "features = features[shuffler]\n",
    "counts_features = counts_features[shuffler]\n",
    "labels = labels[shuffler]\n",
    "from sklearn.model_selection import train_test_split\n",
    "X_train, X_test, y_train, y_test = train_test_split(features, labels, test_size=0.1, random_state=25)\n",
    "X_val, X_test, y_val, y_test = train_test_split(X_test, y_test, test_size=0.2, random_state=25)\n",
    "# add true known negatives to validation and test data\n",
    "split = X_negative.shape[0]//5 *4\n",
    "X_negative_val, X_negative_test = X_negative[:split], X_negative[split:]\n",
    "X_val = np.append(X_val, X_negative_val, axis=0)\n",
    "y_val = np.append(y_val, np.zeros(X_negative_val.shape[0]), axis=0)\n",
    "X_test = np.append(X_test, X_negative_test, axis=0)\n",
    "y_test = np.append(y_test, np.zeros(X_negative_test.shape[0]), axis=0)\n",
    "shuffler = np.random.permutation(len(X_val))\n",
    "X_val = X_val[shuffler]\n",
    "y_val = y_val[shuffler]\n",
    "shuffler = np.random.permutation(len(X_test))\n",
    "X_test = X_test[shuffler]\n",
    "y_test = y_test[shuffler]\n"
   ]
  },
  {
   "cell_type": "code",
   "execution_count": 16,
   "id": "3068bfc4",
   "metadata": {},
   "outputs": [
    {
     "data": {
      "text/plain": [
       "(array([55.,  0.,  0.,  0.,  0.,  0.,  0.,  0.,  0.,  4.]),\n",
       " array([0. , 0.1, 0.2, 0.3, 0.4, 0.5, 0.6, 0.7, 0.8, 0.9, 1. ]),\n",
       " <BarContainer object of 10 artists>)"
      ]
     },
     "execution_count": 16,
     "metadata": {},
     "output_type": "execute_result"
    },
    {
     "data": {
      "image/png": "[encoded data removed]",
      "text/plain": [
       "<Figure size 432x288 with 1 Axes>"
      ]
     },
     "metadata": {
      "needs_background": "light"
     },
     "output_type": "display_data"
    }
   ],
   "source": [
    "plt.hist(y_test)"
   ]
  },
  {
   "cell_type": "code",
   "execution_count": 17,
   "id": "1d53dd5a",
   "metadata": {
    "execution": {
     "iopub.execute_input": "2022-05-10T20:11:40.033939Z",
     "iopub.status.busy": "2022-05-10T20:11:40.033736Z",
     "iopub.status.idle": "2022-05-10T20:11:42.402784Z",
     "shell.execute_reply": "2022-05-10T20:11:42.402370Z"
    },
    "papermill": {
     "duration": 2.900195,
     "end_time": "2022-05-10T20:11:42.404189",
     "exception": false,
     "start_time": "2022-05-10T20:11:39.503994",
     "status": "completed"
    },
    "tags": []
   },
   "outputs": [],
   "source": [
    "tf.keras.backend.clear_session()\n",
    "model = build_model(L)\n",
    "#   L = 190\n",
    "#   model = build_CNN_model(L, reg=0, add_dropout=True)\n",
    "decay_epochs = 50\n",
    "N = len(features)\n",
    "decay_steps = N  // config.batch_size * decay_epochs\n",
    "lr_decayed_fn = tf.keras.optimizers.schedules.CosineDecay(\n",
    "  config.lr, decay_steps, alpha=1e-3)\n",
    "opt = tf.optimizers.Adam(lr_decayed_fn)\n",
    "model.compile(\n",
    "  opt,\n",
    "  loss=tf.keras.losses.BinaryCrossentropy(from_logits=True),\n",
    "  steps_per_execution = 60 if use_tpu else None,\n",
    "  metrics=[tf.keras.metrics.AUC(from_logits=True), tf.keras.metrics.BinaryAccuracy(threshold=0)])"
   ]
  },
  {
   "cell_type": "code",
   "execution_count": 18,
   "id": "9d512c5a",
   "metadata": {
    "execution": {
     "iopub.execute_input": "2022-05-10T20:11:43.422500Z",
     "iopub.status.busy": "2022-05-10T20:11:43.422285Z",
     "iopub.status.idle": "2022-05-10T20:36:12.811016Z",
     "shell.execute_reply": "2022-05-10T20:36:12.810426Z"
    },
    "papermill": {
     "duration": 1470.543337,
     "end_time": "2022-05-10T20:36:13.436980",
     "exception": false,
     "start_time": "2022-05-10T20:11:42.893643",
     "status": "completed"
    },
    "tags": []
   },
   "outputs": [
    {
     "name": "stdout",
     "output_type": "stream",
     "text": [
      "Epoch 1/150\n",
      "lr = 0.001\n",
      "27/27 [==============================] - 12s 116ms/step - loss: 0.2545 - auc: 0.9700 - binary_accuracy: 0.8886 - val_loss: 1.8053 - val_auc: 0.8307 - val_binary_accuracy: 0.3502\n",
      "Epoch 2/150\n",
      "lr = 0.0009991456\n",
      "27/27 [==============================] - 1s 21ms/step - loss: 0.0373 - auc: 0.9975 - binary_accuracy: 0.9976 - val_loss: 2.9133 - val_auc: 0.6525 - val_binary_accuracy: 0.2212\n",
      "Epoch 3/150\n",
      "lr = 0.0009965852\n",
      "27/27 [==============================] - 1s 20ms/step - loss: 0.0167 - auc: 1.0000 - binary_accuracy: 1.0000 - val_loss: 3.1844 - val_auc: 0.6100 - val_binary_accuracy: 0.2258\n",
      "Epoch 4/150\n",
      "lr = 0.0009923278\n",
      "27/27 [==============================] - 1s 20ms/step - loss: 0.0143 - auc: 1.0000 - binary_accuracy: 1.0000 - val_loss: 3.4106 - val_auc: 0.6075 - val_binary_accuracy: 0.1935\n",
      "Epoch 5/150\n",
      "lr = 0.0009863877\n",
      "27/27 [==============================] - 1s 20ms/step - loss: 0.0115 - auc: 1.0000 - binary_accuracy: 1.0000 - val_loss: 3.6054 - val_auc: 0.5976 - val_binary_accuracy: 0.1935\n",
      "Epoch 6/150\n",
      "lr = 0.0009787852\n",
      "27/27 [==============================] - 1s 20ms/step - loss: 0.0085 - auc: 1.0000 - binary_accuracy: 1.0000 - val_loss: 4.1674 - val_auc: 0.6831 - val_binary_accuracy: 0.1935\n"
     ]
    }
   ],
   "source": [
    "result = model.fit(\n",
    "    [X_train, np.array([counts_aa(xi) for xi in X_train])], y_train, \n",
    "    validation_data=([X_val, np.array([counts_aa(xi) for xi in X_val])] , y_val),\n",
    "    callbacks=[tf.keras.callbacks.LambdaCallback(\n",
    "        on_epoch_begin=lambda epochs,logs: print('lr =',lr_decayed_fn(opt.iterations).numpy())\n",
    "        ),\n",
    "        tf.keras.callbacks.EarlyStopping(monitor='val_auc', mode='max', restore_best_weights=True, patience=5)],\n",
    "    epochs=150, batch_size=16)"
   ]
  },
  {
   "cell_type": "code",
   "execution_count": 19,
   "id": "af0e482d",
   "metadata": {
    "execution": {
     "iopub.execute_input": "2022-05-10T20:36:14.737383Z",
     "iopub.status.busy": "2022-05-10T20:36:14.737167Z",
     "iopub.status.idle": "2022-05-10T20:36:18.816212Z",
     "shell.execute_reply": "2022-05-10T20:36:18.815819Z"
    },
    "papermill": {
     "duration": 4.732819,
     "end_time": "2022-05-10T20:36:18.817406",
     "exception": false,
     "start_time": "2022-05-10T20:36:14.084587",
     "status": "completed"
    },
    "tags": []
   },
   "outputs": [
    {
     "name": "stdout",
     "output_type": "stream",
     "text": [
      "2/2 [==============================] - 0s 6ms/step - loss: 1.6084 - auc: 0.9159 - binary_accuracy: 0.4068\n"
     ]
    },
    {
     "data": {
      "image/png": "[encoded data removed]",
      "text/plain": [
       "<Figure size 432x288 with 1 Axes>"
      ]
     },
     "metadata": {
      "needs_background": "light"
     },
     "output_type": "display_data"
    }
   ],
   "source": [
    "plt.plot(result.history['val_binary_accuracy'])\n",
    "PU_test_result = model.evaluate([X_test, np.array([counts_aa(xi) for xi in X_test])], y_test)\n",
    "plt.show()"
   ]
  },
  {
   "cell_type": "code",
   "execution_count": 20,
   "id": "f5c7386e",
   "metadata": {},
   "outputs": [
    {
     "data": {
      "text/plain": [
       "(array([ 9.,  2.,  1.,  1.,  3.,  4.,  4.,  0.,  7., 28.]),\n",
       " array([-4.810681  , -4.0143714 , -3.2180624 , -2.421753  , -1.6254437 ,\n",
       "        -0.82913446, -0.03282518,  0.7634841 ,  1.5597934 ,  2.3561027 ,\n",
       "         3.152412  ], dtype=float32),\n",
       " <BarContainer object of 10 artists>)"
      ]
     },
     "execution_count": 20,
     "metadata": {},
     "output_type": "execute_result"
    },
    {
     "data": {
      "image/png": "[encoded data removed]",
      "text/plain": [
       "<Figure size 432x288 with 1 Axes>"
      ]
     },
     "metadata": {
      "needs_background": "light"
     },
     "output_type": "display_data"
    }
   ],
   "source": [
    "plt.hist(model.predict([X_test, np.array([counts_aa(xi) for xi in X_test])]))"
   ]
  },
  {
   "cell_type": "markdown",
   "id": "4366837c",
   "metadata": {
    "papermill": {
     "duration": 0.6489,
     "end_time": "2022-05-10T20:36:20.099674",
     "exception": false,
     "start_time": "2022-05-10T20:36:19.450774",
     "status": "completed"
    },
    "tags": []
   },
   "source": [
    "Let's see how the model works with classical positive-negative classification"
   ]
  },
  {
   "cell_type": "code",
   "execution_count": 21,
   "id": "ce3a9131",
   "metadata": {
    "execution": {
     "iopub.execute_input": "2022-05-10T20:36:21.426885Z",
     "iopub.status.busy": "2022-05-10T20:36:21.426673Z",
     "iopub.status.idle": "2022-05-10T20:36:24.532734Z",
     "shell.execute_reply": "2022-05-10T20:36:24.532256Z"
    },
    "papermill": {
     "duration": 3.774819,
     "end_time": "2022-05-10T20:36:24.534223",
     "exception": false,
     "start_time": "2022-05-10T20:36:20.759404",
     "status": "completed"
    },
    "tags": []
   },
   "outputs": [],
   "source": [
    "labels = np.concatenate(\n",
    "    (\n",
    "        np.ones(pos_data.shape[0], dtype=pos_data.dtype),\n",
    "        np.zeros(neg_data.shape[0], dtype=neg_data.dtype),\n",
    "    ),\n",
    "    axis=0,\n",
    ")\n",
    "features = np.concatenate((pos_data, neg_data), axis=0)\n",
    "counts_features = np.array([counts_aa(xi) for xi in features])\n",
    "shuffler = np.random.permutation(len(features))\n",
    "features = features[shuffler]\n",
    "counts_features = counts_features[shuffler]\n",
    "labels = labels[shuffler]\n",
    "from sklearn.model_selection import train_test_split\n",
    "X_train, X_test, y_train, y_test = train_test_split(features, labels, test_size=0.1, random_state=25)\n",
    "X_val, X_test, y_val, y_test = train_test_split(X_test, y_test, test_size=0.2, random_state=25)"
   ]
  },
  {
   "cell_type": "code",
   "execution_count": 22,
   "id": "c8936450",
   "metadata": {
    "execution": {
     "iopub.execute_input": "2022-05-10T20:36:25.845256Z",
     "iopub.status.busy": "2022-05-10T20:36:25.845055Z",
     "iopub.status.idle": "2022-05-10T20:36:28.211683Z",
     "shell.execute_reply": "2022-05-10T20:36:28.211091Z"
    },
    "papermill": {
     "duration": 3.022183,
     "end_time": "2022-05-10T20:36:28.213086",
     "exception": false,
     "start_time": "2022-05-10T20:36:25.190903",
     "status": "completed"
    },
    "tags": []
   },
   "outputs": [],
   "source": [
    "tf.keras.backend.clear_session()\n",
    "model = build_model(L)\n",
    "opt = tf.optimizers.Adam(lr_decayed_fn)\n",
    "model.compile(\n",
    "      opt,\n",
    "      loss=tf.keras.losses.BinaryCrossentropy(from_logits=True),\n",
    "      steps_per_execution = 60 if use_tpu else None,\n",
    "      metrics=[tf.keras.metrics.AUC(from_logits=True), tf.keras.metrics.BinaryAccuracy(threshold=0)])"
   ]
  },
  {
   "cell_type": "code",
   "execution_count": 23,
   "id": "513d6ecf",
   "metadata": {
    "execution": {
     "iopub.execute_input": "2022-05-10T20:36:29.467877Z",
     "iopub.status.busy": "2022-05-10T20:36:29.467674Z",
     "iopub.status.idle": "2022-05-10T21:18:51.578807Z",
     "shell.execute_reply": "2022-05-10T21:18:51.578309Z"
    },
    "papermill": {
     "duration": 2542.758778,
     "end_time": "2022-05-10T21:18:51.580309",
     "exception": false,
     "start_time": "2022-05-10T20:36:28.821531",
     "status": "completed"
    },
    "tags": []
   },
   "outputs": [
    {
     "name": "stdout",
     "output_type": "stream",
     "text": [
      "Epoch 1/150\n",
      "lr = 0.001\n",
      "13/13 [==============================] - 12s 317ms/step - loss: 0.6081 - auc: 0.7333 - binary_accuracy: 0.6650 - val_loss: 0.5041 - val_auc: 0.8438 - val_binary_accuracy: 0.8056\n",
      "Epoch 2/150\n",
      "lr = 0.0009998019\n",
      "13/13 [==============================] - 0s 23ms/step - loss: 0.4022 - auc: 0.9027 - binary_accuracy: 0.8325 - val_loss: 0.3906 - val_auc: 0.8891 - val_binary_accuracy: 0.8889\n",
      "Epoch 3/150\n",
      "lr = 0.0009992077\n",
      "13/13 [==============================] - 0s 22ms/step - loss: 0.3117 - auc: 0.9324 - binary_accuracy: 0.8956 - val_loss: 0.3691 - val_auc: 0.8953 - val_binary_accuracy: 0.8889\n",
      "Epoch 4/150\n",
      "lr = 0.000998218\n",
      "13/13 [==============================] - 0s 22ms/step - loss: 0.3146 - auc: 0.9313 - binary_accuracy: 0.8883 - val_loss: 0.4821 - val_auc: 0.9047 - val_binary_accuracy: 0.7778\n",
      "Epoch 5/150\n",
      "lr = 0.0009968332\n",
      "13/13 [==============================] - 0s 21ms/step - loss: 0.3277 - auc: 0.9244 - binary_accuracy: 0.8835 - val_loss: 0.4243 - val_auc: 0.8906 - val_binary_accuracy: 0.8333\n",
      "Epoch 6/150\n",
      "lr = 0.000995055\n",
      "13/13 [==============================] - 0s 22ms/step - loss: 0.2734 - auc: 0.9462 - binary_accuracy: 0.9078 - val_loss: 0.3639 - val_auc: 0.9063 - val_binary_accuracy: 0.8611\n",
      "Epoch 7/150\n",
      "lr = 0.0009928843\n",
      "13/13 [==============================] - 0s 20ms/step - loss: 0.2411 - auc: 0.9617 - binary_accuracy: 0.9150 - val_loss: 0.4037 - val_auc: 0.8969 - val_binary_accuracy: 0.8611\n",
      "Epoch 8/150\n",
      "lr = 0.000990323\n",
      "13/13 [==============================] - 0s 21ms/step - loss: 0.2351 - auc: 0.9608 - binary_accuracy: 0.9199 - val_loss: 0.3877 - val_auc: 0.9094 - val_binary_accuracy: 0.8611\n",
      "Epoch 9/150\n",
      "lr = 0.0009873732\n",
      "13/13 [==============================] - 0s 22ms/step - loss: 0.2118 - auc: 0.9739 - binary_accuracy: 0.9272 - val_loss: 0.4478 - val_auc: 0.9016 - val_binary_accuracy: 0.8333\n",
      "Epoch 10/150\n",
      "lr = 0.0009840371\n",
      "13/13 [==============================] - 0s 22ms/step - loss: 0.2183 - auc: 0.9705 - binary_accuracy: 0.9223 - val_loss: 0.3756 - val_auc: 0.9047 - val_binary_accuracy: 0.8611\n",
      "Epoch 11/150\n",
      "lr = 0.0009803175\n",
      "13/13 [==============================] - 0s 22ms/step - loss: 0.2011 - auc: 0.9741 - binary_accuracy: 0.9345 - val_loss: 0.4157 - val_auc: 0.9031 - val_binary_accuracy: 0.8333\n",
      "Epoch 12/150\n",
      "lr = 0.00097621715\n",
      "13/13 [==============================] - 0s 22ms/step - loss: 0.1919 - auc: 0.9772 - binary_accuracy: 0.9369 - val_loss: 0.3968 - val_auc: 0.9172 - val_binary_accuracy: 0.8611\n",
      "Epoch 13/150\n",
      "lr = 0.00097173953\n",
      "13/13 [==============================] - 0s 22ms/step - loss: 0.1682 - auc: 0.9808 - binary_accuracy: 0.9442 - val_loss: 0.4120 - val_auc: 0.9094 - val_binary_accuracy: 0.8611\n",
      "Epoch 14/150\n",
      "lr = 0.00096688804\n",
      "13/13 [==============================] - 0s 22ms/step - loss: 0.1539 - auc: 0.9846 - binary_accuracy: 0.9660 - val_loss: 0.4265 - val_auc: 0.9047 - val_binary_accuracy: 0.8333\n",
      "Epoch 15/150\n",
      "lr = 0.00096166664\n",
      "13/13 [==============================] - 0s 22ms/step - loss: 0.1626 - auc: 0.9816 - binary_accuracy: 0.9442 - val_loss: 0.4569 - val_auc: 0.8859 - val_binary_accuracy: 0.8333\n",
      "Epoch 16/150\n",
      "lr = 0.0009560794\n",
      "13/13 [==============================] - 0s 22ms/step - loss: 0.1644 - auc: 0.9856 - binary_accuracy: 0.9417 - val_loss: 0.3684 - val_auc: 0.9047 - val_binary_accuracy: 0.8611\n",
      "Epoch 17/150\n",
      "lr = 0.0009501307\n",
      "13/13 [==============================] - 0s 22ms/step - loss: 0.1221 - auc: 0.9907 - binary_accuracy: 0.9709 - val_loss: 0.3936 - val_auc: 0.9047 - val_binary_accuracy: 0.8611\n"
     ]
    }
   ],
   "source": [
    "result = model.fit(\n",
    "    [X_train, np.array([counts_aa(xi) for xi in X_train])], y_train, \n",
    "    validation_data=([X_val, np.array([counts_aa(xi) for xi in X_val])] , y_val),\n",
    "    callbacks=[tf.keras.callbacks.LambdaCallback(\n",
    "        on_epoch_begin=lambda epochs,logs: print('lr =',lr_decayed_fn(opt.iterations).numpy())\n",
    "        ),\n",
    "        tf.keras.callbacks.EarlyStopping(monitor='val_auc', mode='max', restore_best_weights=True, patience=5)],\n",
    "    epochs=150)"
   ]
  },
  {
   "cell_type": "code",
   "execution_count": 24,
   "id": "896dd4a5",
   "metadata": {
    "execution": {
     "iopub.execute_input": "2022-05-10T21:18:53.366717Z",
     "iopub.status.busy": "2022-05-10T21:18:53.366494Z",
     "iopub.status.idle": "2022-05-10T21:18:54.004183Z",
     "shell.execute_reply": "2022-05-10T21:18:54.003778Z"
    },
    "papermill": {
     "duration": 1.571205,
     "end_time": "2022-05-10T21:18:54.005420",
     "exception": false,
     "start_time": "2022-05-10T21:18:52.434215",
     "status": "completed"
    },
    "tags": []
   },
   "outputs": [
    {
     "name": "stdout",
     "output_type": "stream",
     "text": [
      "1/1 [==============================] - 0s 23ms/step - loss: 0.0402 - auc: 1.0000 - binary_accuracy: 1.0000\n"
     ]
    },
    {
     "data": {
      "image/png": "[encoded data removed]",
      "text/plain": [
       "<Figure size 432x288 with 1 Axes>"
      ]
     },
     "metadata": {
      "needs_background": "light"
     },
     "output_type": "display_data"
    }
   ],
   "source": [
    "plt.plot(result.history['val_binary_accuracy'])\n",
    "PN_test_result = model.evaluate([X_test, np.array([counts_aa(xi) for xi in X_test])], y_test)\n",
    "plt.show()"
   ]
  },
  {
   "cell_type": "code",
   "execution_count": 25,
   "id": "3cfa8170",
   "metadata": {},
   "outputs": [
    {
     "data": {
      "text/html": [
       "<div>\n",
       "<style scoped>\n",
       "    .dataframe tbody tr th:only-of-type {\n",
       "        vertical-align: middle;\n",
       "    }\n",
       "\n",
       "    .dataframe tbody tr th {\n",
       "        vertical-align: top;\n",
       "    }\n",
       "\n",
       "    .dataframe thead th {\n",
       "        text-align: right;\n",
       "    }\n",
       "</style>\n",
       "<table border=\"1\" class=\"dataframe\">\n",
       "  <thead>\n",
       "    <tr style=\"text-align: right;\">\n",
       "      <th></th>\n",
       "      <th>Task</th>\n",
       "      <th>n positives</th>\n",
       "      <th>n negatives</th>\n",
       "      <th>n unlabeled</th>\n",
       "      <th>n RNs</th>\n",
       "      <th>Outlier detector</th>\n",
       "      <th>Outlier recall score</th>\n",
       "      <th>DNN model</th>\n",
       "      <th>PN auc</th>\n",
       "      <th>PN accuracy</th>\n",
       "      <th>PU auc</th>\n",
       "      <th>PU accuracy</th>\n",
       "    </tr>\n",
       "  </thead>\n",
       "  <tbody>\n",
       "    <tr>\n",
       "      <th>0</th>\n",
       "      <td>Anticancer</td>\n",
       "      <td>229</td>\n",
       "      <td>229</td>\n",
       "      <td>1145</td>\n",
       "      <td>240</td>\n",
       "      <td>Mahalanobis Distance</td>\n",
       "      <td>-</td>\n",
       "      <td>Bi-LSTM</td>\n",
       "      <td>1.0</td>\n",
       "      <td>1.0</td>\n",
       "      <td>0.915909</td>\n",
       "      <td>0.40678</td>\n",
       "    </tr>\n",
       "  </tbody>\n",
       "</table>\n",
       "</div>"
      ],
      "text/plain": [
       "         Task  n positives  n negatives  n unlabeled  n RNs  \\\n",
       "0  Anticancer          229          229         1145    240   \n",
       "\n",
       "       Outlier detector Outlier recall score DNN model  PN auc  PN accuracy  \\\n",
       "0  Mahalanobis Distance                    -   Bi-LSTM     1.0          1.0   \n",
       "\n",
       "     PU auc  PU accuracy  \n",
       "0  0.915909      0.40678  "
      ]
     },
     "execution_count": 25,
     "metadata": {},
     "output_type": "execute_result"
    }
   ],
   "source": [
    "import pandas as pd\n",
    "od = 'Mahalanobis Distance'\n",
    "task = 'Anticancer'\n",
    "DNN_type = 'Bi-LSTM'\n",
    "if od == 'Mahalanobis Distance':\n",
    "    mean_od_recall_score = '-'\n",
    "PN_auc = PN_test_result[1]\n",
    "PN_acc = PN_test_result[2]\n",
    "    \n",
    "df = pd.DataFrame({'Task': [task],\n",
    "                   'n positives': [X_positive.shape[0]],\n",
    "                   'n negatives': [X_negative.shape[0]],\n",
    "                   'n unlabeled': [X_unlabeled.shape[0]],\n",
    "                   'n RNs': [RNs.shape[0]],\n",
    "                   'Outlier detector': [od],\n",
    "                   'Outlier recall score': [mean_od_recall_score],\n",
    "                   'DNN model': [DNN_type],\n",
    "                   'PN auc': [PN_test_result[1]],\n",
    "                   'PN accuracy': [PN_test_result[2]],\n",
    "                   'PU auc': [PU_test_result[1]],\n",
    "                   'PU accuracy': [PU_test_result[2]],\n",
    "                  })\n",
    "\n",
    "df\n",
    "# df.to_csv(f'pu_workflow/results/T=0.01/{dat}_{od}_{DNN_type}.csv', index=False, sep='\\t')"
   ]
  },
  {
   "cell_type": "code",
   "execution_count": null,
   "id": "acaeb36c",
   "metadata": {},
   "outputs": [],
   "source": []
  }
 ],
 "metadata": {
  "kernelspec": {
   "display_name": "covid-19",
   "language": "python",
   "name": "covid-19"
  },
  "language_info": {
   "codemirror_mode": {
    "name": "ipython",
    "version": 3
   },
   "file_extension": ".py",
   "mimetype": "text/x-python",
   "name": "python",
   "nbconvert_exporter": "python",
   "pygments_lexer": "ipython3",
   "version": "3.7.9"
  },
  "papermill": {
   "default_parameters": {},
   "duration": 13468.268048,
   "end_time": "2022-05-10T21:18:59.409888",
   "environment_variables": {},
   "exception": null,
   "input_path": "hemo_mahalanobis_distance+bi-lstm.ipynb",
   "output_path": "hemo_mahalanobis_distance+bi-lstm.ipynb",
   "parameters": {},
   "start_time": "2022-05-10T17:34:31.141840",
   "version": "2.3.4"
  }
 },
 "nbformat": 4,
 "nbformat_minor": 5
}
